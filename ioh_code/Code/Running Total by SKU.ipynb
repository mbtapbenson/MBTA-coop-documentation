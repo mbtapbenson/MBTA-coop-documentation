{
 "cells": [
  {
   "cell_type": "code",
   "execution_count": 251,
   "id": "fa6f2345",
   "metadata": {},
   "outputs": [],
   "source": [
    "import pandas\n",
    "import numpy as np\n",
    "import datetime\n",
    "import os\n",
    "import matplotlib.pyplot as plt\n",
    "\n",
    "pandas.options.display.float_format = '{:.2f}'.format\n",
    "\n",
    "os.chdir(\"/Users/pbenson/Documents/IOH project/\")\n",
    "\n",
    "txn_dirPath = 'Data/'\n",
    "\n",
    "\n",
    "txn_converter = {'TXN - Transaction Type': str,\n",
    "                 'TXN - Transaction Date': str,\n",
    "                 'TXN - Item ID': str,\n",
    "                 'TXN - Qty': float,\n",
    "                 'TXN - Total Cost': float}\n",
    "\n",
    "transaction_col = ['TXN - Transaction Type', 'TXN - Transaction Date',\n",
    "                   'TXN - Item ID', 'TXN - Qty', 'TXN - Total Cost', 'TXN - Adjust Type']\n",
    "\n",
    "out_types = ('051', '054', '030', '031')\n",
    "positive_types = ('041', '022', '024', '050', '010', '020')\n",
    "drop_types = ('060', '053', '052', '012', '001', '042')\n",
    "\n",
    "#date = '2021-12-31 23:59:59'\n",
    "\n",
    "def get_lof_csv(directory):\n",
    "    lof = []\n",
    "    for file in os.listdir(directory):\n",
    "        if file.endswith('.csv'):\n",
    "            lof.append(directory + file)\n",
    "            print(\"Read file {}\".format(file))\n",
    "    return lof\n",
    "\n",
    "def read_csv_to_df(lof, converter):\n",
    "    print(\"Converting to pandas dataframe\")\n",
    "\n",
    "    dataframe = pandas.DataFrame()\n",
    "\n",
    "    # More efficient way to do this: pd.concat\n",
    "    next_txns = []\n",
    "    for f in lof:\n",
    "        next_txn = pandas.read_csv(f, converters=converter, encoding= 'unicode_escape')\n",
    "        next_txns.append(next_txn)\n",
    "        #dataframe = dataframe.append(next_txn, ignore_index=True)\n",
    "        print(f + ' is appened')\n",
    "    dataframe = pandas.concat(next_txns, ignore_index=True)\n",
    "    return dataframe\n",
    "\n",
    "def handle_I_D(txn_df):\n",
    "    txn_df['TXN - Qty'] = np.where(txn_df['TXN - Adjust Type'] == 'D', 0 - abs(txn_df['TXN - Qty']),\n",
    "                                   txn_df['TXN - Qty'])\n",
    "    txn_df['TXN - Qty'] = np.where(txn_df['TXN - Adjust Type'] == 'M', 0 - abs(txn_df['TXN - Qty']),\n",
    "                                   txn_df['TXN - Qty'])\n",
    "    txn_df['TXN - Total Cost'] = np.where(txn_df['TXN - Adjust Type'] == 'D', 0 - abs(txn_df['TXN - Total Cost']),\n",
    "                                          txn_df['TXN - Total Cost'])\n",
    "    txn_df['TXN - Total Cost'] = np.where(txn_df['TXN - Adjust Type'] == 'M', 0 - abs(txn_df['TXN - Total Cost']),\n",
    "                                          txn_df['TXN - Total Cost'])\n",
    "    \n",
    "    \n",
    "    for t_type in out_types: \n",
    "        txn_df.loc[txn_df['TXN - Transaction Type'] == t_type, 'TXN - Qty'] = 0 - abs(txn_df['TXN - Qty'])\n",
    "        txn_df.loc[txn_df['TXN - Transaction Type'] == t_type, 'TXN - Total Cost'] = 0 - abs(txn_df['TXN - Total Cost'])\n",
    "    \n",
    "    # Trust Anni's Code – it has already been validated.\n",
    "\n",
    "    # We don't want to drop columns.\n",
    "    #txn_df = txn_df.drop(columns=['TXN - Transaction Type', 'TXN - Adjust Type'])\n",
    "    return txn_df\n",
    "\n",
    "def drop_unused(txn_df):\n",
    "    for t_type in drop_types:\n",
    "        txn_df.loc[txn_df['TXN - Transaction Type'] == t_type, 'TXN - Qty'] = 0 \n",
    "        txn_df.loc[txn_df['TXN - Transaction Type'] == t_type, 'TXN - Total Cost'] = 0\n",
    "    \n",
    "    return txn_df\n",
    "\n",
    "def read_txn_by_date(txn_df, date):\n",
    "    txn_df = txn_df.loc[txn_df['TXN - Transaction Date'] < date]\n",
    "    #txn_df = txn_df.drop(columns=['TXN - Transaction Date'])\n",
    "    # We don't want to drop the Transaction Date column.\n",
    "    return txn_df\n",
    "\n",
    "def sum_by_date(txn_df, date):\n",
    "    txn_df = txn_df.loc[txn_df['TXN - Transaction Date'] < date]\n",
    "    #txn_df = txn_df.drop(columns=['TXN - Transaction Date'])\n",
    "    # We don't want to drop the Transaction Date column.\n",
    "    return txn_df[\"TXN - Total Cost\"].sum()\n",
    "\n",
    "def sku_running_total(txn_df: pandas.DataFrame, item_sku: str) -> float:\n",
    "    return txn_df.loc[txn_df['TXN - Item ID'] == item_sku, ('TXN - Qty', 'TXN - Transaction Type')]\n",
    "\n",
    "def thousand_places(number):\n",
    "    # Simple function for formatting large number outputs\n",
    "    return \"{:,}\".format(number)"
   ]
  },
  {
   "cell_type": "code",
   "execution_count": 252,
   "id": "c2267e2e",
   "metadata": {
    "scrolled": true
   },
   "outputs": [
    {
     "name": "stdout",
     "output_type": "stream",
     "text": [
      "Read file PL_INVENTORY_TRANSACTIONS_2009_Q4x.csv\n",
      "Read file PL_INVENTORY_TRANSACTIONS_2019_Q4x.csv\n",
      "Read file PL_INVENTORY_TRANSACTIONS_2020_Q1x.csv\n",
      "Read file PL_INVENTORY_TRANSACTIONS_2006_Q1x.csv\n",
      "Read file PL_INVENTORY_TRANSACTIONS_2016_Q1x.csv\n",
      "Read file PL_INVENTORY_TRANSACTIONS_2012_Q3x.csv\n",
      "Read file PL_INVENTORY_TRANSACTIONS_2013_Q2x.csv\n",
      "Read file PL_INVENTORY_TRANSACTIONS_2010_Q4x.csv\n",
      "Read file PL_INVENTORY_TRANSACTIONS_2017_Q1x.csv\n",
      "Read file PL_INVENTORY_TRANSACTIONS_2007_Q1x.csv\n",
      "Read file PL_INVENTORY_TRANSACTIONS_2013_Q3x.csv\n",
      "Read file PL_INVENTORY_TRANSACTIONS_2012_Q2x.csv\n",
      "Read file PL_INVENTORY_TRANSACTIONS_2011_Q4x.csv\n",
      "Read file PL_INVENTORY_TRANSACTIONS_2018_Q4x.csv\n",
      "Read file PL_INVENTORY_TRANSACTIONS_2008_Q4x.csv\n",
      "Read file PL_INVENTORY_TRANSACTIONS_2011_Q3x.csv\n",
      "Read file PL_INVENTORY_TRANSACTIONS_2005_Q1x.csv\n",
      "Read file PL_INVENTORY_TRANSACTIONS_2015_Q1x.csv\n",
      "Read file PL_INVENTORY_TRANSACTIONS_2013_Q4x.csv\n",
      "Read file PL_INVENTORY_TRANSACTIONS_2010_Q2x.csv\n",
      "Read file PL_INVENTORY_TRANSACTIONS_2021_Q1.csv\n",
      "Read file PL_INVENTORY_TRANSACTIONS_2021_Q3.csv\n",
      "Read file PL_INVENTORY_TRANSACTIONS_2008_Q3x.csv\n",
      "Read file PL_INVENTORY_TRANSACTIONS_2018_Q3x.csv\n",
      "Read file PL_INVENTORY_TRANSACTIONS_2019_Q2x.csv\n",
      "Read file PL_INVENTORY_TRANSACTIONS_2009_Q2x.csv\n",
      "Read file PL_INVENTORY_TRANSACTIONS_2021_Q2.csv\n",
      "Read file PL_INVENTORY_TRANSACTIONS_2019_Q3x.csv\n",
      "Read file PL_INVENTORY_TRANSACTIONS_2009_Q3x.csv\n",
      "Read file PL_INVENTORY_TRANSACTIONS_2008_Q2x.csv\n",
      "Read file PL_INVENTORY_TRANSACTIONS_2018_Q2x.csv\n",
      "Read file PL_INVENTORY_TRANSACTIONS_2010_Q3x.csv\n",
      "Read file PL_INVENTORY_TRANSACTIONS_2014_Q1x.csv\n",
      "Read file PL_INVENTORY_TRANSACTIONS_2012_Q4x.csv\n",
      "Read file PL_INVENTORY_TRANSACTIONS_2021_Q4.csv\n",
      "Read file PL_INVENTORY_TRANSACTIONS_2011_Q2x.csv\n",
      "Read file PL_INVENTORY_TRANSACTIONS_2017_Q4x.csv\n",
      "Read file PL_INVENTORY_TRANSACTIONS_2007_Q4x.csv\n",
      "Read file PL_INVENTORY_TRANSACTIONS_2014_Q2x.csv\n",
      "Read file PL_INVENTORY_TRANSACTIONS_2004_1Hx.csv\n",
      "Read file PL_INVENTORY_TRANSACTIONS_2015_Q3x.csv\n",
      "Read file PL_INVENTORY_TRANSACTIONS_2005_Q3x.csv\n",
      "Read file PL_INVENTORY_TRANSACTIONS_2011_Q1x.csv\n",
      "Read file PL_INVENTORY_TRANSACTIONS_2018_Q1x.csv\n",
      "Read file PL_INVENTORY_TRANSACTIONS_2008_Q1x.csv\n",
      "Read file PL_INVENTORY_TRANSACTIONS_2009_Q1x.csv\n",
      "Read file PL_INVENTORY_TRANSACTIONS_2019_Q1x.csv\n",
      "Read file PL_INVENTORY_TRANSACTIONS_2020_Q4x.csv\n",
      "Read file PL_INVENTORY_TRANSACTIONS_2006_Q4x.csv\n",
      "Read file PL_INVENTORY_TRANSACTIONS_2016_Q4x.csv\n",
      "Read file PL_INVENTORY_TRANSACTIONS_2015_Q2x.csv\n",
      "Read file PL_INVENTORY_TRANSACTIONS_2005_Q2x.csv\n",
      "Read file PL_INVENTORY_TRANSACTIONS_2004_Q3x.csv\n",
      "Read file PL_INVENTORY_TRANSACTIONS_2014_Q3x.csv\n",
      "Read file PL_INVENTORY_TRANSACTIONS_2010_Q1x.csv\n",
      "Read file PL_INVENTORY_TRANSACTIONS_2020_Q3x.csv\n",
      "Read file PL_INVENTORY_TRANSACTIONS_2007_Q2x.csv\n",
      "Read file PL_INVENTORY_TRANSACTIONS_2017_Q2x.csv\n",
      "Read file 2021_Q1.csv\n",
      "Read file PL_INVENTORY_TRANSACTIONS_2014_Q4x.csv\n",
      "Read file PL_INVENTORY_TRANSACTIONS_2004_Q4x.csv\n",
      "Read file PL_INVENTORY_TRANSACTIONS_2012_Q1x.csv\n",
      "Read file PL_INVENTORY_TRANSACTIONS_2016_Q3x.csv\n",
      "Read file PL_INVENTORY_TRANSACTIONS_2006_Q3x.csv\n",
      "Read file ANNI_INVENTORY_TRANSACTIONS.csv\n",
      "Read file PL_INVENTORY_TRANSACTIONS_2016_Q2x.csv\n",
      "Read file PL_INVENTORY_TRANSACTIONS_2006_Q2x.csv\n",
      "Read file PL_INVENTORY_TRANSACTIONS_2005_Q4x.csv\n",
      "Read file PL_INVENTORY_TRANSACTIONS_2015_Q4x.csv\n",
      "Read file PL_INVENTORY_TRANSACTIONS_2013_Q1x.csv\n",
      "Read file PL_INVENTORY_TRANSACTIONS_2007_Q3x.csv\n",
      "Read file PL_INVENTORY_TRANSACTIONS_2017_Q3x.csv\n",
      "Read file PL_INVENTORY_TRANSACTIONS_2020_Q2x.csv\n",
      "Converting to pandas dataframe\n"
     ]
    },
    {
     "name": "stderr",
     "output_type": "stream",
     "text": [
      "/var/folders/73/z_zg2ww102j_zl0j1rp57xxcwgxbxw/T/ipykernel_34844/177600870.py:1: DtypeWarning: Columns (33,40,50,54,59) have mixed types.Specify dtype option on import or set low_memory=False.\n",
      "  txn_df = read_csv_to_df(get_lof_csv(txn_dirPath + \"CSV_Files/\"), txn_converter)\n"
     ]
    },
    {
     "name": "stdout",
     "output_type": "stream",
     "text": [
      "Data/CSV_Files/PL_INVENTORY_TRANSACTIONS_2009_Q4x.csv is appened\n"
     ]
    },
    {
     "name": "stderr",
     "output_type": "stream",
     "text": [
      "/var/folders/73/z_zg2ww102j_zl0j1rp57xxcwgxbxw/T/ipykernel_34844/177600870.py:1: DtypeWarning: Columns (19,33,36,40,59) have mixed types.Specify dtype option on import or set low_memory=False.\n",
      "  txn_df = read_csv_to_df(get_lof_csv(txn_dirPath + \"CSV_Files/\"), txn_converter)\n"
     ]
    },
    {
     "name": "stdout",
     "output_type": "stream",
     "text": [
      "Data/CSV_Files/PL_INVENTORY_TRANSACTIONS_2019_Q4x.csv is appened\n"
     ]
    },
    {
     "name": "stderr",
     "output_type": "stream",
     "text": [
      "/var/folders/73/z_zg2ww102j_zl0j1rp57xxcwgxbxw/T/ipykernel_34844/177600870.py:1: DtypeWarning: Columns (19,33,36,40,54,59) have mixed types.Specify dtype option on import or set low_memory=False.\n",
      "  txn_df = read_csv_to_df(get_lof_csv(txn_dirPath + \"CSV_Files/\"), txn_converter)\n"
     ]
    },
    {
     "name": "stdout",
     "output_type": "stream",
     "text": [
      "Data/CSV_Files/PL_INVENTORY_TRANSACTIONS_2020_Q1x.csv is appened\n"
     ]
    },
    {
     "name": "stderr",
     "output_type": "stream",
     "text": [
      "/var/folders/73/z_zg2ww102j_zl0j1rp57xxcwgxbxw/T/ipykernel_34844/177600870.py:1: DtypeWarning: Columns (44,50) have mixed types.Specify dtype option on import or set low_memory=False.\n",
      "  txn_df = read_csv_to_df(get_lof_csv(txn_dirPath + \"CSV_Files/\"), txn_converter)\n"
     ]
    },
    {
     "name": "stdout",
     "output_type": "stream",
     "text": [
      "Data/CSV_Files/PL_INVENTORY_TRANSACTIONS_2006_Q1x.csv is appened\n"
     ]
    },
    {
     "name": "stderr",
     "output_type": "stream",
     "text": [
      "/var/folders/73/z_zg2ww102j_zl0j1rp57xxcwgxbxw/T/ipykernel_34844/177600870.py:1: DtypeWarning: Columns (3,6,19,20,33,56,57,58,67,69,70) have mixed types.Specify dtype option on import or set low_memory=False.\n",
      "  txn_df = read_csv_to_df(get_lof_csv(txn_dirPath + \"CSV_Files/\"), txn_converter)\n"
     ]
    },
    {
     "name": "stdout",
     "output_type": "stream",
     "text": [
      "Data/CSV_Files/PL_INVENTORY_TRANSACTIONS_2016_Q1x.csv is appened\n"
     ]
    },
    {
     "name": "stderr",
     "output_type": "stream",
     "text": [
      "/var/folders/73/z_zg2ww102j_zl0j1rp57xxcwgxbxw/T/ipykernel_34844/177600870.py:1: DtypeWarning: Columns (19,44) have mixed types.Specify dtype option on import or set low_memory=False.\n",
      "  txn_df = read_csv_to_df(get_lof_csv(txn_dirPath + \"CSV_Files/\"), txn_converter)\n"
     ]
    },
    {
     "name": "stdout",
     "output_type": "stream",
     "text": [
      "Data/CSV_Files/PL_INVENTORY_TRANSACTIONS_2012_Q3x.csv is appened\n",
      "Data/CSV_Files/PL_INVENTORY_TRANSACTIONS_2013_Q2x.csv is appened\n"
     ]
    },
    {
     "name": "stderr",
     "output_type": "stream",
     "text": [
      "/var/folders/73/z_zg2ww102j_zl0j1rp57xxcwgxbxw/T/ipykernel_34844/177600870.py:1: DtypeWarning: Columns (40,44,59) have mixed types.Specify dtype option on import or set low_memory=False.\n",
      "  txn_df = read_csv_to_df(get_lof_csv(txn_dirPath + \"CSV_Files/\"), txn_converter)\n"
     ]
    },
    {
     "name": "stdout",
     "output_type": "stream",
     "text": [
      "Data/CSV_Files/PL_INVENTORY_TRANSACTIONS_2010_Q4x.csv is appened\n"
     ]
    },
    {
     "name": "stderr",
     "output_type": "stream",
     "text": [
      "/var/folders/73/z_zg2ww102j_zl0j1rp57xxcwgxbxw/T/ipykernel_34844/177600870.py:1: DtypeWarning: Columns (44) have mixed types.Specify dtype option on import or set low_memory=False.\n",
      "  txn_df = read_csv_to_df(get_lof_csv(txn_dirPath + \"CSV_Files/\"), txn_converter)\n"
     ]
    },
    {
     "name": "stdout",
     "output_type": "stream",
     "text": [
      "Data/CSV_Files/PL_INVENTORY_TRANSACTIONS_2017_Q1x.csv is appened\n"
     ]
    },
    {
     "name": "stderr",
     "output_type": "stream",
     "text": [
      "/var/folders/73/z_zg2ww102j_zl0j1rp57xxcwgxbxw/T/ipykernel_34844/177600870.py:1: DtypeWarning: Columns (3,17,18,19,33,40,44,47,48,50,58,59,67,70,71,73,75) have mixed types.Specify dtype option on import or set low_memory=False.\n",
      "  txn_df = read_csv_to_df(get_lof_csv(txn_dirPath + \"CSV_Files/\"), txn_converter)\n"
     ]
    },
    {
     "name": "stdout",
     "output_type": "stream",
     "text": [
      "Data/CSV_Files/PL_INVENTORY_TRANSACTIONS_2007_Q1x.csv is appened\n",
      "Data/CSV_Files/PL_INVENTORY_TRANSACTIONS_2013_Q3x.csv is appened\n"
     ]
    },
    {
     "name": "stderr",
     "output_type": "stream",
     "text": [
      "/var/folders/73/z_zg2ww102j_zl0j1rp57xxcwgxbxw/T/ipykernel_34844/177600870.py:1: DtypeWarning: Columns (19,44,50) have mixed types.Specify dtype option on import or set low_memory=False.\n",
      "  txn_df = read_csv_to_df(get_lof_csv(txn_dirPath + \"CSV_Files/\"), txn_converter)\n"
     ]
    },
    {
     "name": "stdout",
     "output_type": "stream",
     "text": [
      "Data/CSV_Files/PL_INVENTORY_TRANSACTIONS_2012_Q2x.csv is appened\n",
      "Data/CSV_Files/PL_INVENTORY_TRANSACTIONS_2011_Q4x.csv is appened\n",
      "Data/CSV_Files/PL_INVENTORY_TRANSACTIONS_2018_Q4x.csv is appened\n",
      "Data/CSV_Files/PL_INVENTORY_TRANSACTIONS_2008_Q4x.csv is appened\n",
      "Data/CSV_Files/PL_INVENTORY_TRANSACTIONS_2011_Q3x.csv is appened\n",
      "Data/CSV_Files/PL_INVENTORY_TRANSACTIONS_2005_Q1x.csv is appened\n",
      "Data/CSV_Files/PL_INVENTORY_TRANSACTIONS_2015_Q1x.csv is appened\n",
      "Data/CSV_Files/PL_INVENTORY_TRANSACTIONS_2013_Q4x.csv is appened\n"
     ]
    },
    {
     "name": "stderr",
     "output_type": "stream",
     "text": [
      "/var/folders/73/z_zg2ww102j_zl0j1rp57xxcwgxbxw/T/ipykernel_34844/177600870.py:1: DtypeWarning: Columns (33,50,54) have mixed types.Specify dtype option on import or set low_memory=False.\n",
      "  txn_df = read_csv_to_df(get_lof_csv(txn_dirPath + \"CSV_Files/\"), txn_converter)\n"
     ]
    },
    {
     "name": "stdout",
     "output_type": "stream",
     "text": [
      "Data/CSV_Files/PL_INVENTORY_TRANSACTIONS_2010_Q2x.csv is appened\n"
     ]
    },
    {
     "name": "stderr",
     "output_type": "stream",
     "text": [
      "/var/folders/73/z_zg2ww102j_zl0j1rp57xxcwgxbxw/T/ipykernel_34844/177600870.py:1: DtypeWarning: Columns (19,33,40,59) have mixed types.Specify dtype option on import or set low_memory=False.\n",
      "  txn_df = read_csv_to_df(get_lof_csv(txn_dirPath + \"CSV_Files/\"), txn_converter)\n"
     ]
    },
    {
     "name": "stdout",
     "output_type": "stream",
     "text": [
      "Data/CSV_Files/PL_INVENTORY_TRANSACTIONS_2021_Q1.csv is appened\n"
     ]
    },
    {
     "name": "stderr",
     "output_type": "stream",
     "text": [
      "/var/folders/73/z_zg2ww102j_zl0j1rp57xxcwgxbxw/T/ipykernel_34844/177600870.py:1: DtypeWarning: Columns (19,36,40,59) have mixed types.Specify dtype option on import or set low_memory=False.\n",
      "  txn_df = read_csv_to_df(get_lof_csv(txn_dirPath + \"CSV_Files/\"), txn_converter)\n"
     ]
    },
    {
     "name": "stdout",
     "output_type": "stream",
     "text": [
      "Data/CSV_Files/PL_INVENTORY_TRANSACTIONS_2021_Q3.csv is appened\n",
      "Data/CSV_Files/PL_INVENTORY_TRANSACTIONS_2008_Q3x.csv is appened\n",
      "Data/CSV_Files/PL_INVENTORY_TRANSACTIONS_2018_Q3x.csv is appened\n",
      "Data/CSV_Files/PL_INVENTORY_TRANSACTIONS_2019_Q2x.csv is appened\n"
     ]
    },
    {
     "name": "stderr",
     "output_type": "stream",
     "text": [
      "/var/folders/73/z_zg2ww102j_zl0j1rp57xxcwgxbxw/T/ipykernel_34844/177600870.py:1: DtypeWarning: Columns (33,44,54) have mixed types.Specify dtype option on import or set low_memory=False.\n",
      "  txn_df = read_csv_to_df(get_lof_csv(txn_dirPath + \"CSV_Files/\"), txn_converter)\n"
     ]
    },
    {
     "name": "stdout",
     "output_type": "stream",
     "text": [
      "Data/CSV_Files/PL_INVENTORY_TRANSACTIONS_2009_Q2x.csv is appened\n",
      "Data/CSV_Files/PL_INVENTORY_TRANSACTIONS_2021_Q2.csv is appened\n",
      "Data/CSV_Files/PL_INVENTORY_TRANSACTIONS_2019_Q3x.csv is appened\n"
     ]
    },
    {
     "name": "stderr",
     "output_type": "stream",
     "text": [
      "/var/folders/73/z_zg2ww102j_zl0j1rp57xxcwgxbxw/T/ipykernel_34844/177600870.py:1: DtypeWarning: Columns (33,40,54,59) have mixed types.Specify dtype option on import or set low_memory=False.\n",
      "  txn_df = read_csv_to_df(get_lof_csv(txn_dirPath + \"CSV_Files/\"), txn_converter)\n"
     ]
    },
    {
     "name": "stdout",
     "output_type": "stream",
     "text": [
      "Data/CSV_Files/PL_INVENTORY_TRANSACTIONS_2009_Q3x.csv is appened\n"
     ]
    },
    {
     "name": "stderr",
     "output_type": "stream",
     "text": [
      "/var/folders/73/z_zg2ww102j_zl0j1rp57xxcwgxbxw/T/ipykernel_34844/177600870.py:1: DtypeWarning: Columns (66) have mixed types.Specify dtype option on import or set low_memory=False.\n",
      "  txn_df = read_csv_to_df(get_lof_csv(txn_dirPath + \"CSV_Files/\"), txn_converter)\n"
     ]
    },
    {
     "name": "stdout",
     "output_type": "stream",
     "text": [
      "Data/CSV_Files/PL_INVENTORY_TRANSACTIONS_2008_Q2x.csv is appened\n"
     ]
    },
    {
     "name": "stderr",
     "output_type": "stream",
     "text": [
      "/var/folders/73/z_zg2ww102j_zl0j1rp57xxcwgxbxw/T/ipykernel_34844/177600870.py:1: DtypeWarning: Columns (3,6,19,20,36,40,44,47,48,54,56,57,58,59,66,67,69,70) have mixed types.Specify dtype option on import or set low_memory=False.\n",
      "  txn_df = read_csv_to_df(get_lof_csv(txn_dirPath + \"CSV_Files/\"), txn_converter)\n"
     ]
    },
    {
     "name": "stdout",
     "output_type": "stream",
     "text": [
      "Data/CSV_Files/PL_INVENTORY_TRANSACTIONS_2018_Q2x.csv is appened\n"
     ]
    },
    {
     "name": "stderr",
     "output_type": "stream",
     "text": [
      "/var/folders/73/z_zg2ww102j_zl0j1rp57xxcwgxbxw/T/ipykernel_34844/177600870.py:1: DtypeWarning: Columns (3,19,33,44,54,58,67) have mixed types.Specify dtype option on import or set low_memory=False.\n",
      "  txn_df = read_csv_to_df(get_lof_csv(txn_dirPath + \"CSV_Files/\"), txn_converter)\n"
     ]
    },
    {
     "name": "stdout",
     "output_type": "stream",
     "text": [
      "Data/CSV_Files/PL_INVENTORY_TRANSACTIONS_2010_Q3x.csv is appened\n"
     ]
    },
    {
     "name": "stderr",
     "output_type": "stream",
     "text": [
      "/var/folders/73/z_zg2ww102j_zl0j1rp57xxcwgxbxw/T/ipykernel_34844/177600870.py:1: DtypeWarning: Columns (19,40,44,50,59) have mixed types.Specify dtype option on import or set low_memory=False.\n",
      "  txn_df = read_csv_to_df(get_lof_csv(txn_dirPath + \"CSV_Files/\"), txn_converter)\n"
     ]
    },
    {
     "name": "stdout",
     "output_type": "stream",
     "text": [
      "Data/CSV_Files/PL_INVENTORY_TRANSACTIONS_2014_Q1x.csv is appened\n",
      "Data/CSV_Files/PL_INVENTORY_TRANSACTIONS_2012_Q4x.csv is appened\n",
      "Data/CSV_Files/PL_INVENTORY_TRANSACTIONS_2021_Q4.csv is appened\n"
     ]
    },
    {
     "name": "stderr",
     "output_type": "stream",
     "text": [
      "/var/folders/73/z_zg2ww102j_zl0j1rp57xxcwgxbxw/T/ipykernel_34844/177600870.py:1: DtypeWarning: Columns (33,44) have mixed types.Specify dtype option on import or set low_memory=False.\n",
      "  txn_df = read_csv_to_df(get_lof_csv(txn_dirPath + \"CSV_Files/\"), txn_converter)\n"
     ]
    },
    {
     "name": "stdout",
     "output_type": "stream",
     "text": [
      "Data/CSV_Files/PL_INVENTORY_TRANSACTIONS_2011_Q2x.csv is appened\n"
     ]
    },
    {
     "name": "stderr",
     "output_type": "stream",
     "text": [
      "/var/folders/73/z_zg2ww102j_zl0j1rp57xxcwgxbxw/T/ipykernel_34844/177600870.py:1: DtypeWarning: Columns (19,40,44,59,66) have mixed types.Specify dtype option on import or set low_memory=False.\n",
      "  txn_df = read_csv_to_df(get_lof_csv(txn_dirPath + \"CSV_Files/\"), txn_converter)\n"
     ]
    },
    {
     "name": "stdout",
     "output_type": "stream",
     "text": [
      "Data/CSV_Files/PL_INVENTORY_TRANSACTIONS_2017_Q4x.csv is appened\n"
     ]
    },
    {
     "name": "stderr",
     "output_type": "stream",
     "text": [
      "/var/folders/73/z_zg2ww102j_zl0j1rp57xxcwgxbxw/T/ipykernel_34844/177600870.py:1: DtypeWarning: Columns (40,44,50,59,66) have mixed types.Specify dtype option on import or set low_memory=False.\n",
      "  txn_df = read_csv_to_df(get_lof_csv(txn_dirPath + \"CSV_Files/\"), txn_converter)\n"
     ]
    },
    {
     "name": "stdout",
     "output_type": "stream",
     "text": [
      "Data/CSV_Files/PL_INVENTORY_TRANSACTIONS_2007_Q4x.csv is appened\n",
      "Data/CSV_Files/PL_INVENTORY_TRANSACTIONS_2014_Q2x.csv is appened\n"
     ]
    },
    {
     "name": "stderr",
     "output_type": "stream",
     "text": [
      "/var/folders/73/z_zg2ww102j_zl0j1rp57xxcwgxbxw/T/ipykernel_34844/177600870.py:1: DtypeWarning: Columns (3,6,17,18,19,20,27,33,40,44,47,48,56,57,58,59,67,69,70,73,75) have mixed types.Specify dtype option on import or set low_memory=False.\n",
      "  txn_df = read_csv_to_df(get_lof_csv(txn_dirPath + \"CSV_Files/\"), txn_converter)\n"
     ]
    },
    {
     "name": "stdout",
     "output_type": "stream",
     "text": [
      "Data/CSV_Files/PL_INVENTORY_TRANSACTIONS_2004_1Hx.csv is appened\n"
     ]
    },
    {
     "name": "stderr",
     "output_type": "stream",
     "text": [
      "/var/folders/73/z_zg2ww102j_zl0j1rp57xxcwgxbxw/T/ipykernel_34844/177600870.py:1: DtypeWarning: Columns (19,33,44,54) have mixed types.Specify dtype option on import or set low_memory=False.\n",
      "  txn_df = read_csv_to_df(get_lof_csv(txn_dirPath + \"CSV_Files/\"), txn_converter)\n"
     ]
    },
    {
     "name": "stdout",
     "output_type": "stream",
     "text": [
      "Data/CSV_Files/PL_INVENTORY_TRANSACTIONS_2015_Q3x.csv is appened\n"
     ]
    },
    {
     "name": "stderr",
     "output_type": "stream",
     "text": [
      "/var/folders/73/z_zg2ww102j_zl0j1rp57xxcwgxbxw/T/ipykernel_34844/177600870.py:1: DtypeWarning: Columns (40,44,50,59) have mixed types.Specify dtype option on import or set low_memory=False.\n",
      "  txn_df = read_csv_to_df(get_lof_csv(txn_dirPath + \"CSV_Files/\"), txn_converter)\n"
     ]
    },
    {
     "name": "stdout",
     "output_type": "stream",
     "text": [
      "Data/CSV_Files/PL_INVENTORY_TRANSACTIONS_2005_Q3x.csv is appened\n",
      "Data/CSV_Files/PL_INVENTORY_TRANSACTIONS_2011_Q1x.csv is appened\n"
     ]
    },
    {
     "name": "stderr",
     "output_type": "stream",
     "text": [
      "/var/folders/73/z_zg2ww102j_zl0j1rp57xxcwgxbxw/T/ipykernel_34844/177600870.py:1: DtypeWarning: Columns (19,33,36,40,59,66) have mixed types.Specify dtype option on import or set low_memory=False.\n",
      "  txn_df = read_csv_to_df(get_lof_csv(txn_dirPath + \"CSV_Files/\"), txn_converter)\n"
     ]
    },
    {
     "name": "stdout",
     "output_type": "stream",
     "text": [
      "Data/CSV_Files/PL_INVENTORY_TRANSACTIONS_2018_Q1x.csv is appened\n",
      "Data/CSV_Files/PL_INVENTORY_TRANSACTIONS_2008_Q1x.csv is appened\n",
      "Data/CSV_Files/PL_INVENTORY_TRANSACTIONS_2009_Q1x.csv is appened\n",
      "Data/CSV_Files/PL_INVENTORY_TRANSACTIONS_2019_Q1x.csv is appened\n",
      "Data/CSV_Files/PL_INVENTORY_TRANSACTIONS_2020_Q4x.csv is appened\n"
     ]
    },
    {
     "name": "stderr",
     "output_type": "stream",
     "text": [
      "/var/folders/73/z_zg2ww102j_zl0j1rp57xxcwgxbxw/T/ipykernel_34844/177600870.py:1: DtypeWarning: Columns (3,6,19,20,27,33,40,44,47,48,50,56,57,58,59,67,69,70,71,73,75) have mixed types.Specify dtype option on import or set low_memory=False.\n",
      "  txn_df = read_csv_to_df(get_lof_csv(txn_dirPath + \"CSV_Files/\"), txn_converter)\n"
     ]
    },
    {
     "name": "stdout",
     "output_type": "stream",
     "text": [
      "Data/CSV_Files/PL_INVENTORY_TRANSACTIONS_2006_Q4x.csv is appened\n"
     ]
    },
    {
     "name": "stderr",
     "output_type": "stream",
     "text": [
      "/var/folders/73/z_zg2ww102j_zl0j1rp57xxcwgxbxw/T/ipykernel_34844/177600870.py:1: DtypeWarning: Columns (19,40,44,59) have mixed types.Specify dtype option on import or set low_memory=False.\n",
      "  txn_df = read_csv_to_df(get_lof_csv(txn_dirPath + \"CSV_Files/\"), txn_converter)\n"
     ]
    },
    {
     "name": "stdout",
     "output_type": "stream",
     "text": [
      "Data/CSV_Files/PL_INVENTORY_TRANSACTIONS_2016_Q4x.csv is appened\n",
      "Data/CSV_Files/PL_INVENTORY_TRANSACTIONS_2015_Q2x.csv is appened\n",
      "Data/CSV_Files/PL_INVENTORY_TRANSACTIONS_2005_Q2x.csv is appened\n"
     ]
    },
    {
     "name": "stderr",
     "output_type": "stream",
     "text": [
      "/var/folders/73/z_zg2ww102j_zl0j1rp57xxcwgxbxw/T/ipykernel_34844/177600870.py:1: DtypeWarning: Columns (3,6,19,20,33,40,44,56,57,58,59,67,69,70) have mixed types.Specify dtype option on import or set low_memory=False.\n",
      "  txn_df = read_csv_to_df(get_lof_csv(txn_dirPath + \"CSV_Files/\"), txn_converter)\n"
     ]
    },
    {
     "name": "stdout",
     "output_type": "stream",
     "text": [
      "Data/CSV_Files/PL_INVENTORY_TRANSACTIONS_2004_Q3x.csv is appened\n",
      "Data/CSV_Files/PL_INVENTORY_TRANSACTIONS_2014_Q3x.csv is appened\n"
     ]
    },
    {
     "name": "stderr",
     "output_type": "stream",
     "text": [
      "/var/folders/73/z_zg2ww102j_zl0j1rp57xxcwgxbxw/T/ipykernel_34844/177600870.py:1: DtypeWarning: Columns (33,44,50,54) have mixed types.Specify dtype option on import or set low_memory=False.\n",
      "  txn_df = read_csv_to_df(get_lof_csv(txn_dirPath + \"CSV_Files/\"), txn_converter)\n"
     ]
    },
    {
     "name": "stdout",
     "output_type": "stream",
     "text": [
      "Data/CSV_Files/PL_INVENTORY_TRANSACTIONS_2010_Q1x.csv is appened\n"
     ]
    },
    {
     "name": "stderr",
     "output_type": "stream",
     "text": [
      "/var/folders/73/z_zg2ww102j_zl0j1rp57xxcwgxbxw/T/ipykernel_34844/177600870.py:1: DtypeWarning: Columns (19,33,36,40,50,59) have mixed types.Specify dtype option on import or set low_memory=False.\n",
      "  txn_df = read_csv_to_df(get_lof_csv(txn_dirPath + \"CSV_Files/\"), txn_converter)\n"
     ]
    },
    {
     "name": "stdout",
     "output_type": "stream",
     "text": [
      "Data/CSV_Files/PL_INVENTORY_TRANSACTIONS_2020_Q3x.csv is appened\n"
     ]
    },
    {
     "name": "stderr",
     "output_type": "stream",
     "text": [
      "/var/folders/73/z_zg2ww102j_zl0j1rp57xxcwgxbxw/T/ipykernel_34844/177600870.py:1: DtypeWarning: Columns (19,40,44,50,59,66) have mixed types.Specify dtype option on import or set low_memory=False.\n",
      "  txn_df = read_csv_to_df(get_lof_csv(txn_dirPath + \"CSV_Files/\"), txn_converter)\n"
     ]
    },
    {
     "name": "stdout",
     "output_type": "stream",
     "text": [
      "Data/CSV_Files/PL_INVENTORY_TRANSACTIONS_2007_Q2x.csv is appened\n",
      "Data/CSV_Files/PL_INVENTORY_TRANSACTIONS_2017_Q2x.csv is appened\n",
      "Data/CSV_Files/2021_Q1.csv is appened\n",
      "Data/CSV_Files/PL_INVENTORY_TRANSACTIONS_2014_Q4x.csv is appened\n",
      "Data/CSV_Files/PL_INVENTORY_TRANSACTIONS_2004_Q4x.csv is appened\n",
      "Data/CSV_Files/PL_INVENTORY_TRANSACTIONS_2012_Q1x.csv is appened\n",
      "Data/CSV_Files/PL_INVENTORY_TRANSACTIONS_2016_Q3x.csv is appened\n"
     ]
    },
    {
     "name": "stderr",
     "output_type": "stream",
     "text": [
      "/var/folders/73/z_zg2ww102j_zl0j1rp57xxcwgxbxw/T/ipykernel_34844/177600870.py:1: DtypeWarning: Columns (36,44,50,66) have mixed types.Specify dtype option on import or set low_memory=False.\n",
      "  txn_df = read_csv_to_df(get_lof_csv(txn_dirPath + \"CSV_Files/\"), txn_converter)\n"
     ]
    },
    {
     "name": "stdout",
     "output_type": "stream",
     "text": [
      "Data/CSV_Files/PL_INVENTORY_TRANSACTIONS_2006_Q3x.csv is appened\n",
      "Data/CSV_Files/ANNI_INVENTORY_TRANSACTIONS.csv is appened\n"
     ]
    },
    {
     "name": "stderr",
     "output_type": "stream",
     "text": [
      "/var/folders/73/z_zg2ww102j_zl0j1rp57xxcwgxbxw/T/ipykernel_34844/177600870.py:1: DtypeWarning: Columns (19,40,59) have mixed types.Specify dtype option on import or set low_memory=False.\n",
      "  txn_df = read_csv_to_df(get_lof_csv(txn_dirPath + \"CSV_Files/\"), txn_converter)\n"
     ]
    },
    {
     "name": "stdout",
     "output_type": "stream",
     "text": [
      "Data/CSV_Files/PL_INVENTORY_TRANSACTIONS_2016_Q2x.csv is appened\n"
     ]
    },
    {
     "name": "stderr",
     "output_type": "stream",
     "text": [
      "/var/folders/73/z_zg2ww102j_zl0j1rp57xxcwgxbxw/T/ipykernel_34844/177600870.py:1: DtypeWarning: Columns (19,44,50,66) have mixed types.Specify dtype option on import or set low_memory=False.\n",
      "  txn_df = read_csv_to_df(get_lof_csv(txn_dirPath + \"CSV_Files/\"), txn_converter)\n"
     ]
    },
    {
     "name": "stdout",
     "output_type": "stream",
     "text": [
      "Data/CSV_Files/PL_INVENTORY_TRANSACTIONS_2006_Q2x.csv is appened\n"
     ]
    },
    {
     "name": "stderr",
     "output_type": "stream",
     "text": [
      "/var/folders/73/z_zg2ww102j_zl0j1rp57xxcwgxbxw/T/ipykernel_34844/177600870.py:1: DtypeWarning: Columns (19,40,50,59) have mixed types.Specify dtype option on import or set low_memory=False.\n",
      "  txn_df = read_csv_to_df(get_lof_csv(txn_dirPath + \"CSV_Files/\"), txn_converter)\n"
     ]
    },
    {
     "name": "stdout",
     "output_type": "stream",
     "text": [
      "Data/CSV_Files/PL_INVENTORY_TRANSACTIONS_2005_Q4x.csv is appened\n",
      "Data/CSV_Files/PL_INVENTORY_TRANSACTIONS_2015_Q4x.csv is appened\n"
     ]
    },
    {
     "name": "stderr",
     "output_type": "stream",
     "text": [
      "/var/folders/73/z_zg2ww102j_zl0j1rp57xxcwgxbxw/T/ipykernel_34844/177600870.py:1: DtypeWarning: Columns (3,17,19,21,33,44,47,48,50,58,67) have mixed types.Specify dtype option on import or set low_memory=False.\n",
      "  txn_df = read_csv_to_df(get_lof_csv(txn_dirPath + \"CSV_Files/\"), txn_converter)\n"
     ]
    },
    {
     "name": "stdout",
     "output_type": "stream",
     "text": [
      "Data/CSV_Files/PL_INVENTORY_TRANSACTIONS_2013_Q1x.csv is appened\n",
      "Data/CSV_Files/PL_INVENTORY_TRANSACTIONS_2007_Q3x.csv is appened\n"
     ]
    },
    {
     "name": "stderr",
     "output_type": "stream",
     "text": [
      "/var/folders/73/z_zg2ww102j_zl0j1rp57xxcwgxbxw/T/ipykernel_34844/177600870.py:1: DtypeWarning: Columns (19,36,40,44,59,66) have mixed types.Specify dtype option on import or set low_memory=False.\n",
      "  txn_df = read_csv_to_df(get_lof_csv(txn_dirPath + \"CSV_Files/\"), txn_converter)\n"
     ]
    },
    {
     "name": "stdout",
     "output_type": "stream",
     "text": [
      "Data/CSV_Files/PL_INVENTORY_TRANSACTIONS_2017_Q3x.csv is appened\n"
     ]
    },
    {
     "name": "stderr",
     "output_type": "stream",
     "text": [
      "/var/folders/73/z_zg2ww102j_zl0j1rp57xxcwgxbxw/T/ipykernel_34844/177600870.py:1: DtypeWarning: Columns (19,33,36,40,44,59) have mixed types.Specify dtype option on import or set low_memory=False.\n",
      "  txn_df = read_csv_to_df(get_lof_csv(txn_dirPath + \"CSV_Files/\"), txn_converter)\n"
     ]
    },
    {
     "name": "stdout",
     "output_type": "stream",
     "text": [
      "Data/CSV_Files/PL_INVENTORY_TRANSACTIONS_2020_Q2x.csv is appened\n"
     ]
    }
   ],
   "source": [
    "txn_df = read_csv_to_df(get_lof_csv(txn_dirPath + \"CSV_Files/\"), txn_converter)"
   ]
  },
  {
   "cell_type": "code",
   "execution_count": 253,
   "id": "06910749",
   "metadata": {},
   "outputs": [
    {
     "data": {
      "text/html": [
       "<div>\n",
       "<style scoped>\n",
       "    .dataframe tbody tr th:only-of-type {\n",
       "        vertical-align: middle;\n",
       "    }\n",
       "\n",
       "    .dataframe tbody tr th {\n",
       "        vertical-align: top;\n",
       "    }\n",
       "\n",
       "    .dataframe thead th {\n",
       "        text-align: right;\n",
       "    }\n",
       "</style>\n",
       "<table border=\"1\" class=\"dataframe\">\n",
       "  <thead>\n",
       "    <tr style=\"text-align: right;\">\n",
       "      <th></th>\n",
       "      <th>TXN - Sequence Nbr</th>\n",
       "      <th>TXN - Transaction Type</th>\n",
       "      <th>TXN - Unit</th>\n",
       "      <th>TXN - Destination Unit</th>\n",
       "      <th>TXN - Transaction Date</th>\n",
       "      <th>TXN - Time Stamp</th>\n",
       "      <th>TXN - Order No</th>\n",
       "      <th>TXN - Item ID</th>\n",
       "      <th>TXN - Item Description</th>\n",
       "      <th>TXN - Qty</th>\n",
       "      <th>...</th>\n",
       "      <th>TXN - Recpt Type</th>\n",
       "      <th>TXN - Cost Element</th>\n",
       "      <th>TXN - Last Adj</th>\n",
       "      <th>TXN - Last Order</th>\n",
       "      <th>TXN - Last Date</th>\n",
       "      <th>TXN - Last Ptwy</th>\n",
       "      <th>TXN - Qty Avail</th>\n",
       "      <th>TXN - Qty Reserved</th>\n",
       "      <th>TXN - Qty Owned</th>\n",
       "      <th>TXN - Qty On Hand</th>\n",
       "    </tr>\n",
       "  </thead>\n",
       "  <tbody>\n",
       "    <tr>\n",
       "      <th>0</th>\n",
       "      <td>1</td>\n",
       "      <td>041</td>\n",
       "      <td>BS011</td>\n",
       "      <td>NaN</td>\n",
       "      <td>2009/10/01</td>\n",
       "      <td>2009/10/01 15:45:28</td>\n",
       "      <td>NaN</td>\n",
       "      <td>05021408</td>\n",
       "      <td>FITTING, 3/8 AIR BRAKE NYLON</td>\n",
       "      <td>-7.00</td>\n",
       "      <td>...</td>\n",
       "      <td>NaN</td>\n",
       "      <td>100</td>\n",
       "      <td>NaN</td>\n",
       "      <td>NaN</td>\n",
       "      <td>NaN</td>\n",
       "      <td>NaN</td>\n",
       "      <td>NaN</td>\n",
       "      <td>NaN</td>\n",
       "      <td>NaN</td>\n",
       "      <td>NaN</td>\n",
       "    </tr>\n",
       "    <tr>\n",
       "      <th>1</th>\n",
       "      <td>1</td>\n",
       "      <td>041</td>\n",
       "      <td>BS014</td>\n",
       "      <td>NaN</td>\n",
       "      <td>2009/10/01</td>\n",
       "      <td>2009/10/01 15:31:02</td>\n",
       "      <td>NaN</td>\n",
       "      <td>02545876</td>\n",
       "      <td>USE 02592077 LAMP-HEAD, LOW BE</td>\n",
       "      <td>-16.00</td>\n",
       "      <td>...</td>\n",
       "      <td>NaN</td>\n",
       "      <td>100</td>\n",
       "      <td>NaN</td>\n",
       "      <td>NaN</td>\n",
       "      <td>NaN</td>\n",
       "      <td>NaN</td>\n",
       "      <td>NaN</td>\n",
       "      <td>NaN</td>\n",
       "      <td>NaN</td>\n",
       "      <td>NaN</td>\n",
       "    </tr>\n",
       "    <tr>\n",
       "      <th>2</th>\n",
       "      <td>1</td>\n",
       "      <td>041</td>\n",
       "      <td>BS011</td>\n",
       "      <td>NaN</td>\n",
       "      <td>2009/10/01</td>\n",
       "      <td>2009/10/01 15:44:30</td>\n",
       "      <td>NaN</td>\n",
       "      <td>00250066</td>\n",
       "      <td>CABLE-16 GAUGE BLACK AUTOMOTIV</td>\n",
       "      <td>-300.00</td>\n",
       "      <td>...</td>\n",
       "      <td>NaN</td>\n",
       "      <td>100</td>\n",
       "      <td>NaN</td>\n",
       "      <td>NaN</td>\n",
       "      <td>NaN</td>\n",
       "      <td>NaN</td>\n",
       "      <td>NaN</td>\n",
       "      <td>NaN</td>\n",
       "      <td>NaN</td>\n",
       "      <td>NaN</td>\n",
       "    </tr>\n",
       "    <tr>\n",
       "      <th>3</th>\n",
       "      <td>1</td>\n",
       "      <td>041</td>\n",
       "      <td>BS018</td>\n",
       "      <td>NaN</td>\n",
       "      <td>2009/10/01</td>\n",
       "      <td>2009/10/01 15:23:34</td>\n",
       "      <td>NaN</td>\n",
       "      <td>02063020</td>\n",
       "      <td>NUTS-NO 10-24 N.C.CO LD FORGED</td>\n",
       "      <td>-12.00</td>\n",
       "      <td>...</td>\n",
       "      <td>NaN</td>\n",
       "      <td>100</td>\n",
       "      <td>NaN</td>\n",
       "      <td>NaN</td>\n",
       "      <td>NaN</td>\n",
       "      <td>NaN</td>\n",
       "      <td>NaN</td>\n",
       "      <td>NaN</td>\n",
       "      <td>NaN</td>\n",
       "      <td>NaN</td>\n",
       "    </tr>\n",
       "    <tr>\n",
       "      <th>4</th>\n",
       "      <td>11</td>\n",
       "      <td>020</td>\n",
       "      <td>CS001</td>\n",
       "      <td>NaN</td>\n",
       "      <td>2009/10/01</td>\n",
       "      <td>2009/10/01 11:31:51</td>\n",
       "      <td>NaN</td>\n",
       "      <td>04390100</td>\n",
       "      <td>ADAPTER HOSE - HYDR PUMP</td>\n",
       "      <td>15.00</td>\n",
       "      <td>...</td>\n",
       "      <td>NaN</td>\n",
       "      <td>100</td>\n",
       "      <td>NaN</td>\n",
       "      <td>NaN</td>\n",
       "      <td>NaN</td>\n",
       "      <td>NaN</td>\n",
       "      <td>NaN</td>\n",
       "      <td>NaN</td>\n",
       "      <td>NaN</td>\n",
       "      <td>NaN</td>\n",
       "    </tr>\n",
       "    <tr>\n",
       "      <th>...</th>\n",
       "      <td>...</td>\n",
       "      <td>...</td>\n",
       "      <td>...</td>\n",
       "      <td>...</td>\n",
       "      <td>...</td>\n",
       "      <td>...</td>\n",
       "      <td>...</td>\n",
       "      <td>...</td>\n",
       "      <td>...</td>\n",
       "      <td>...</td>\n",
       "      <td>...</td>\n",
       "      <td>...</td>\n",
       "      <td>...</td>\n",
       "      <td>...</td>\n",
       "      <td>...</td>\n",
       "      <td>...</td>\n",
       "      <td>...</td>\n",
       "      <td>...</td>\n",
       "      <td>...</td>\n",
       "      <td>...</td>\n",
       "      <td>...</td>\n",
       "    </tr>\n",
       "    <tr>\n",
       "      <th>7266099</th>\n",
       "      <td>38</td>\n",
       "      <td>022</td>\n",
       "      <td>BS027</td>\n",
       "      <td>NaN</td>\n",
       "      <td>2020/06/30</td>\n",
       "      <td>2020/06/30 06:10:55</td>\n",
       "      <td>NaN</td>\n",
       "      <td>02440210</td>\n",
       "      <td>Oil and Water absorbent Pad, P</td>\n",
       "      <td>4200.00</td>\n",
       "      <td>...</td>\n",
       "      <td>IUT</td>\n",
       "      <td>100</td>\n",
       "      <td>NaN</td>\n",
       "      <td>NaN</td>\n",
       "      <td>NaN</td>\n",
       "      <td>NaN</td>\n",
       "      <td>NaN</td>\n",
       "      <td>NaN</td>\n",
       "      <td>NaN</td>\n",
       "      <td>NaN</td>\n",
       "    </tr>\n",
       "    <tr>\n",
       "      <th>7266100</th>\n",
       "      <td>41</td>\n",
       "      <td>022</td>\n",
       "      <td>BS027</td>\n",
       "      <td>NaN</td>\n",
       "      <td>2020/06/30</td>\n",
       "      <td>2020/06/30 06:10:55</td>\n",
       "      <td>NaN</td>\n",
       "      <td>02607063</td>\n",
       "      <td>BOTTLE - WASHER,WINDSHIELD  5G</td>\n",
       "      <td>5.00</td>\n",
       "      <td>...</td>\n",
       "      <td>IUT</td>\n",
       "      <td>100</td>\n",
       "      <td>NaN</td>\n",
       "      <td>NaN</td>\n",
       "      <td>NaN</td>\n",
       "      <td>NaN</td>\n",
       "      <td>NaN</td>\n",
       "      <td>NaN</td>\n",
       "      <td>NaN</td>\n",
       "      <td>NaN</td>\n",
       "    </tr>\n",
       "    <tr>\n",
       "      <th>7266101</th>\n",
       "      <td>4</td>\n",
       "      <td>022</td>\n",
       "      <td>BS017</td>\n",
       "      <td>NaN</td>\n",
       "      <td>2020/06/30</td>\n",
       "      <td>2020/06/30 06:20:58</td>\n",
       "      <td>NaN</td>\n",
       "      <td>02795068</td>\n",
       "      <td>WEBBING LOOP, BLUE, LENGTH 14-</td>\n",
       "      <td>37.00</td>\n",
       "      <td>...</td>\n",
       "      <td>IUT</td>\n",
       "      <td>100</td>\n",
       "      <td>NaN</td>\n",
       "      <td>NaN</td>\n",
       "      <td>NaN</td>\n",
       "      <td>NaN</td>\n",
       "      <td>NaN</td>\n",
       "      <td>NaN</td>\n",
       "      <td>NaN</td>\n",
       "      <td>NaN</td>\n",
       "    </tr>\n",
       "    <tr>\n",
       "      <th>7266102</th>\n",
       "      <td>11</td>\n",
       "      <td>022</td>\n",
       "      <td>BS016</td>\n",
       "      <td>NaN</td>\n",
       "      <td>2020/06/30</td>\n",
       "      <td>2020/06/30 06:30:18</td>\n",
       "      <td>NaN</td>\n",
       "      <td>03220638</td>\n",
       "      <td>TEE-1/4 GALV MALL IRON</td>\n",
       "      <td>10.00</td>\n",
       "      <td>...</td>\n",
       "      <td>IUT</td>\n",
       "      <td>100</td>\n",
       "      <td>NaN</td>\n",
       "      <td>NaN</td>\n",
       "      <td>NaN</td>\n",
       "      <td>NaN</td>\n",
       "      <td>NaN</td>\n",
       "      <td>NaN</td>\n",
       "      <td>NaN</td>\n",
       "      <td>NaN</td>\n",
       "    </tr>\n",
       "    <tr>\n",
       "      <th>7266103</th>\n",
       "      <td>23</td>\n",
       "      <td>022</td>\n",
       "      <td>BS019</td>\n",
       "      <td>NaN</td>\n",
       "      <td>2020/06/30</td>\n",
       "      <td>2020/06/30 06:10:54</td>\n",
       "      <td>NaN</td>\n",
       "      <td>04295174</td>\n",
       "      <td>BREATHER ELEMENT</td>\n",
       "      <td>30.00</td>\n",
       "      <td>...</td>\n",
       "      <td>IUT</td>\n",
       "      <td>100</td>\n",
       "      <td>NaN</td>\n",
       "      <td>NaN</td>\n",
       "      <td>NaN</td>\n",
       "      <td>NaN</td>\n",
       "      <td>NaN</td>\n",
       "      <td>NaN</td>\n",
       "      <td>NaN</td>\n",
       "      <td>NaN</td>\n",
       "    </tr>\n",
       "  </tbody>\n",
       "</table>\n",
       "<p>7113040 rows × 85 columns</p>\n",
       "</div>"
      ],
      "text/plain": [
       "         TXN - Sequence Nbr TXN - Transaction Type TXN - Unit  \\\n",
       "0                         1                    041      BS011   \n",
       "1                         1                    041      BS014   \n",
       "2                         1                    041      BS011   \n",
       "3                         1                    041      BS018   \n",
       "4                        11                    020      CS001   \n",
       "...                     ...                    ...        ...   \n",
       "7266099                  38                    022      BS027   \n",
       "7266100                  41                    022      BS027   \n",
       "7266101                   4                    022      BS017   \n",
       "7266102                  11                    022      BS016   \n",
       "7266103                  23                    022      BS019   \n",
       "\n",
       "        TXN - Destination Unit TXN - Transaction Date     TXN - Time Stamp  \\\n",
       "0                          NaN             2009/10/01  2009/10/01 15:45:28   \n",
       "1                          NaN             2009/10/01  2009/10/01 15:31:02   \n",
       "2                          NaN             2009/10/01  2009/10/01 15:44:30   \n",
       "3                          NaN             2009/10/01  2009/10/01 15:23:34   \n",
       "4                          NaN             2009/10/01  2009/10/01 11:31:51   \n",
       "...                        ...                    ...                  ...   \n",
       "7266099                    NaN             2020/06/30  2020/06/30 06:10:55   \n",
       "7266100                    NaN             2020/06/30  2020/06/30 06:10:55   \n",
       "7266101                    NaN             2020/06/30  2020/06/30 06:20:58   \n",
       "7266102                    NaN             2020/06/30  2020/06/30 06:30:18   \n",
       "7266103                    NaN             2020/06/30  2020/06/30 06:10:54   \n",
       "\n",
       "        TXN - Order No TXN - Item ID          TXN - Item Description  \\\n",
       "0                  NaN      05021408    FITTING, 3/8 AIR BRAKE NYLON   \n",
       "1                  NaN      02545876  USE 02592077 LAMP-HEAD, LOW BE   \n",
       "2                  NaN      00250066  CABLE-16 GAUGE BLACK AUTOMOTIV   \n",
       "3                  NaN      02063020  NUTS-NO 10-24 N.C.CO LD FORGED   \n",
       "4                  NaN      04390100        ADAPTER HOSE - HYDR PUMP   \n",
       "...                ...           ...                             ...   \n",
       "7266099            NaN      02440210  Oil and Water absorbent Pad, P   \n",
       "7266100            NaN      02607063  BOTTLE - WASHER,WINDSHIELD  5G   \n",
       "7266101            NaN      02795068  WEBBING LOOP, BLUE, LENGTH 14-   \n",
       "7266102            NaN      03220638          TEE-1/4 GALV MALL IRON   \n",
       "7266103            NaN      04295174                BREATHER ELEMENT   \n",
       "\n",
       "         TXN - Qty  ...  TXN - Recpt Type  TXN - Cost Element TXN - Last Adj  \\\n",
       "0            -7.00  ...               NaN                 100            NaN   \n",
       "1           -16.00  ...               NaN                 100            NaN   \n",
       "2          -300.00  ...               NaN                 100            NaN   \n",
       "3           -12.00  ...               NaN                 100            NaN   \n",
       "4            15.00  ...               NaN                 100            NaN   \n",
       "...            ...  ...               ...                 ...            ...   \n",
       "7266099    4200.00  ...               IUT                 100            NaN   \n",
       "7266100       5.00  ...               IUT                 100            NaN   \n",
       "7266101      37.00  ...               IUT                 100            NaN   \n",
       "7266102      10.00  ...               IUT                 100            NaN   \n",
       "7266103      30.00  ...               IUT                 100            NaN   \n",
       "\n",
       "        TXN - Last Order TXN - Last Date TXN - Last Ptwy TXN - Qty Avail  \\\n",
       "0                    NaN             NaN             NaN             NaN   \n",
       "1                    NaN             NaN             NaN             NaN   \n",
       "2                    NaN             NaN             NaN             NaN   \n",
       "3                    NaN             NaN             NaN             NaN   \n",
       "4                    NaN             NaN             NaN             NaN   \n",
       "...                  ...             ...             ...             ...   \n",
       "7266099              NaN             NaN             NaN             NaN   \n",
       "7266100              NaN             NaN             NaN             NaN   \n",
       "7266101              NaN             NaN             NaN             NaN   \n",
       "7266102              NaN             NaN             NaN             NaN   \n",
       "7266103              NaN             NaN             NaN             NaN   \n",
       "\n",
       "        TXN - Qty Reserved TXN - Qty Owned TXN - Qty On Hand  \n",
       "0                      NaN             NaN               NaN  \n",
       "1                      NaN             NaN               NaN  \n",
       "2                      NaN             NaN               NaN  \n",
       "3                      NaN             NaN               NaN  \n",
       "4                      NaN             NaN               NaN  \n",
       "...                    ...             ...               ...  \n",
       "7266099                NaN             NaN               NaN  \n",
       "7266100                NaN             NaN               NaN  \n",
       "7266101                NaN             NaN               NaN  \n",
       "7266102                NaN             NaN               NaN  \n",
       "7266103                NaN             NaN               NaN  \n",
       "\n",
       "[7113040 rows x 85 columns]"
      ]
     },
     "execution_count": 253,
     "metadata": {},
     "output_type": "execute_result"
    }
   ],
   "source": [
    "dataframe = txn_df.copy(deep = True)\n",
    "# # drop duplication\n",
    "dataframe = dataframe.drop_duplicates()\n",
    "# # filter dataframe\n",
    "#dataframe = dataframe.loc[dataframe['TXN - Transaction Type'].isin(['010', '020', '022', '024', '030', '031', '041', '050', '051', '054'])]\n",
    "dataframe"
   ]
  },
  {
   "cell_type": "code",
   "execution_count": 254,
   "id": "24a0f82d",
   "metadata": {},
   "outputs": [
    {
     "name": "stdout",
     "output_type": "stream",
     "text": [
      "['041' '020' '022' '060' '050' '030' '031' '024' '010' '042' '012' '051'\n",
      " '001' '054' '053' '052']\n"
     ]
    }
   ],
   "source": [
    "print(dataframe['TXN - Transaction Type'].unique())"
   ]
  },
  {
   "cell_type": "code",
   "execution_count": 255,
   "id": "fca48c9d",
   "metadata": {},
   "outputs": [
    {
     "name": "stdout",
     "output_type": "stream",
     "text": [
      "Reading Dataframe\n",
      "Filtering by date\n",
      "554         1.00\n",
      "555         5.00\n",
      "556        12.00\n",
      "806       300.00\n",
      "924       144.00\n",
      "           ...  \n",
      "7265774     7.00\n",
      "7265775    28.00\n",
      "7265776    16.00\n",
      "7265782     4.00\n",
      "7265806    15.00\n",
      "Name: TXN - Qty, Length: 961595, dtype: float64\n",
      "Handling ID\n",
      "554         -1.00\n",
      "555         -5.00\n",
      "556        -12.00\n",
      "806       -300.00\n",
      "924       -144.00\n",
      "            ...  \n",
      "7265774     -7.00\n",
      "7265775    -28.00\n",
      "7265776    -16.00\n",
      "7265782     -4.00\n",
      "7265806    -15.00\n",
      "Name: TXN - Qty, Length: 961595, dtype: float64\n"
     ]
    }
   ],
   "source": [
    "#full_dataframe_path = \"../Data/full_dataframe.tsv\"\n",
    "\n",
    "# Tab-separated is a better bet than csv.\n",
    "print(\"Reading Dataframe\")\n",
    "#dataframe = pandas.read_csv(full_dataframe_path, sep=\"\\t\")\n",
    "\n",
    "print(\"Filtering by date\")\n",
    "#dataframe = read_txn_by_date(dataframe,date)\n",
    "print(dataframe.loc[dataframe['TXN - Transaction Type'] == '031', 'TXN - Qty'])\n",
    "print(\"Handling ID\")\n",
    "\n",
    "dataframe = handle_I_D(dataframe)\n",
    "dataframe = drop_unused(dataframe)\n",
    "print(dataframe.loc[dataframe['TXN - Transaction Type'] == '031', 'TXN - Qty'])\n",
    "#dataframe.loc[dataframe['TXN - Transaction Type'] == '031', 'TXN - Qty'] = 0 - abs(dataframe['TXN - Qty'])\n",
    "#print(dataframe.loc[dataframe['TXN - Transaction Type'] == '031', 'TXN - Qty'])"
   ]
  },
  {
   "cell_type": "code",
   "execution_count": 256,
   "id": "01deb3a5",
   "metadata": {},
   "outputs": [
    {
     "name": "stdout",
     "output_type": "stream",
     "text": [
      "Balance for 00250052:\n",
      "Sum: 2630.0\n"
     ]
    }
   ],
   "source": [
    "print(\"Balance for 00250052:\")\n",
    "print(\"Sum:\", sku_running_total(dataframe, \"00250052\")['TXN - Qty'].sum())"
   ]
  },
  {
   "cell_type": "code",
   "execution_count": 257,
   "id": "f721bf14",
   "metadata": {},
   "outputs": [
    {
     "name": "stdout",
     "output_type": "stream",
     "text": [
      "Balance for 42082077: 71.0\n"
     ]
    }
   ],
   "source": [
    "print(\"Balance for 42082077:\", sku_running_total(dataframe, \"42082077\")['TXN - Qty'].sum())"
   ]
  },
  {
   "cell_type": "code",
   "execution_count": 258,
   "id": "e951f8ee",
   "metadata": {},
   "outputs": [
    {
     "name": "stdout",
     "output_type": "stream",
     "text": [
      "Balance for 00250066: 2146.0\n"
     ]
    }
   ],
   "source": [
    "print(\"Balance for 00250066:\", sku_running_total(dataframe, \"00250066\")['TXN - Qty'].sum())"
   ]
  },
  {
   "cell_type": "markdown",
   "id": "0c69819b",
   "metadata": {},
   "source": [
    "Process: \n",
    "- load all csv's \n",
    "- Deep copy/drop duplicates\n",
    "- Run new handle_I_D function, don't filter by date\n",
    "- Run sku_running_total\\['TXN-Qty'\\].sum()"
   ]
  },
  {
   "cell_type": "markdown",
   "id": "192635be",
   "metadata": {},
   "source": [
    "## Function for validating SKU's"
   ]
  },
  {
   "cell_type": "code",
   "execution_count": 190,
   "id": "13a587ed",
   "metadata": {},
   "outputs": [],
   "source": [
    "def validate_skus(txn_df):\n",
    "    # Process txn_df into sku_sum dataframe\n",
    "    sku_sums = txn_df.groupby(['TXN - Item ID'])['TXN - Qty'].sum()\n",
    "    \n",
    "    # Read in and process valid SKU's\n",
    "    valid_sku_sums_df = pandas.read_csv('Data/Valid_End_Quantities.csv')\n",
    "    \n",
    "    valid_sku_sums_df.columns = valid_sku_sums_df.iloc[0] \n",
    "    valid_sku_sums_df = valid_sku_sums_df[1:]\n",
    "    \n",
    "    valid_sku_sums_df[\"IOH - Qty On Hand\"] = pandas.to_numeric(valid_sku_sums_df[\"IOH - Qty On Hand\"])\n",
    "    valid_sku_sums_df.rename(columns={'IOH - Item ID':'TXN - Item ID'}, inplace=True)\n",
    "    \n",
    "    valid_sku_sums = valid_sku_sums_df.groupby(['TXN - Item ID'])['IOH - Qty On Hand'].sum().to_frame()\n",
    "    \n",
    "    \n",
    "    # Merge SKU sums dataframes\n",
    "    merged_sku_sums = valid_sku_sums.join(other=sku_sums, on='TXN - Item ID')\n",
    "    merged_sku_sums.reset_index(inplace=True)\n",
    "    merged_sku_sums.rename(columns={'index':'TXN - Item ID'}, inplace=True)\n",
    "    \n",
    "    merged_sku_sums['TXN - Qty'].fillna(0, inplace=True)\n",
    "    \n",
    "    # Calculate difference\n",
    "    merged_sku_sums['Qty Difference'] = merged_sku_sums['IOH - Qty On Hand'] - merged_sku_sums['TXN - Qty']\n",
    "    \n",
    "    return merged_sku_sums"
   ]
  },
  {
   "cell_type": "code",
   "execution_count": 181,
   "id": "7910cf04",
   "metadata": {},
   "outputs": [],
   "source": [
    "def get_valid_percent(merged_skus):\n",
    "    return (len(merged_skus) - len(merged_skus.loc[merged_skus['Qty Difference'] != 0])) / len(merged_skus)"
   ]
  },
  {
   "cell_type": "code",
   "execution_count": 191,
   "id": "107c9cbe",
   "metadata": {},
   "outputs": [
    {
     "data": {
      "text/plain": [
       "Index(['TXN - Item ID', 'IOH - Qty On Hand', 'TXN - Qty', 'Qty Difference'], dtype='object')"
      ]
     },
     "execution_count": 191,
     "metadata": {},
     "output_type": "execute_result"
    }
   ],
   "source": [
    "merged_sku_sums_2 = validate_skus(dataframe)\n",
    "merged_sku_sums_2.columns"
   ]
  },
  {
   "cell_type": "code",
   "execution_count": 197,
   "id": "d74574f6",
   "metadata": {},
   "outputs": [
    {
     "data": {
      "text/plain": [
       "0.0"
      ]
     },
     "execution_count": 197,
     "metadata": {},
     "output_type": "execute_result"
    }
   ],
   "source": [
    "merged_sku_sums_2.loc[merged_sku_sums_2['TXN - Item ID'].isin(different_skus)]['Qty Difference'].mean()"
   ]
  },
  {
   "cell_type": "markdown",
   "id": "adf4ce25",
   "metadata": {},
   "source": [
    "KEY FINDING: All SKU's that aren't in the big dataframe have an ending quantity of 0. We don't have to worry about that as a confounder for the validation."
   ]
  },
  {
   "cell_type": "markdown",
   "id": "a10080f3",
   "metadata": {},
   "source": [
    "There are three types of errors. Either the valid qty is 0, the calculated qty is 0, or neither are 0. Lots of calculated 0's, or neither being 0, would indicate that dropping columns is resulting in an inaccurate count. "
   ]
  },
  {
   "cell_type": "code",
   "execution_count": 207,
   "id": "2e445ec8",
   "metadata": {},
   "outputs": [
    {
     "name": "stdout",
     "output_type": "stream",
     "text": [
      "Neither 0:       TXN - Item ID  IOH - Qty On Hand  TXN - Qty  Qty Difference\n",
      "1147       02051217            1158.00    1157.00            1.00\n",
      "1283       02061007             877.00     906.00          -29.00\n",
      "1761       02101826              13.00      38.00          -25.00\n",
      "1819       02106130            4138.00    4158.00          -20.00\n",
      "2228       02156013             188.00     195.00           -7.00\n",
      "...             ...                ...        ...             ...\n",
      "46642      42507006              46.00     105.00          -59.00\n",
      "46688      42508061              11.00      15.00           -4.00\n",
      "48341      43210058               2.00    -619.00          621.00\n",
      "48372      43220039               2.00     -25.00           27.00\n",
      "48789      45050038              39.00      40.00           -1.00\n",
      "\n",
      "[324 rows x 4 columns]\n",
      "Valid is 0:       TXN - Item ID  IOH - Qty On Hand  TXN - Qty  Qty Difference\n",
      "1          00118003               0.00      13.00          -13.00\n",
      "1258       02060002               0.00    -340.00          340.00\n",
      "1474       02074001               0.00      -0.00            0.00\n",
      "1614       02096011               0.00    -335.00          335.00\n",
      "2401       02175130               0.00     -12.00           12.00\n",
      "...             ...                ...        ...             ...\n",
      "48155      43096030               0.00      -9.00            9.00\n",
      "48156      43096031               0.00     -11.00           11.00\n",
      "48157      43096032               0.00      -2.00            2.00\n",
      "48235      43096233               0.00     -25.00           25.00\n",
      "48283      43101080               0.00      -2.00            2.00\n",
      "\n",
      "[293 rows x 4 columns]\n",
      "Calculated is 0:       TXN - Item ID  IOH - Qty On Hand  TXN - Qty  Qty Difference\n",
      "13366      02667363               2.00       0.00            2.00\n",
      "17993      02718504              18.00       0.00           18.00\n",
      "26813      03507193               4.00       0.00            4.00\n",
      "37100      04592211               4.00       0.00            4.00\n",
      "47322      42583003               4.00       0.00            4.00\n",
      "47751      42631004               1.00       0.00            1.00\n",
      "48841      45050148               4.00       0.00            4.00\n"
     ]
    }
   ],
   "source": [
    "different_sums = merged_sku_sums_2.loc[merged_sku_sums_2['Qty Difference'] != 0]\n",
    "print('Neither 0:', different_sums[(different_sums['TXN - Qty'] != 0) & (different_sums['IOH - Qty On Hand'] != 0)])\n",
    "print('Valid is 0:', different_sums[(different_sums['TXN - Qty'] != 0) & (different_sums['IOH - Qty On Hand'] == 0)])\n",
    "print('Calculated is 0:', different_sums[(different_sums['TXN - Qty'] == 0) & (different_sums['IOH - Qty On Hand'] != 0)])"
   ]
  },
  {
   "cell_type": "code",
   "execution_count": 209,
   "id": "e12e399d",
   "metadata": {},
   "outputs": [
    {
     "name": "stdout",
     "output_type": "stream",
     "text": [
      "Sum of Qty Difference -61035.25\n",
      "Sum of Valid Qty 134669.0\n",
      "Sum of Calculated Qty 195704.25\n"
     ]
    }
   ],
   "source": [
    "print('Sum of Qty Difference', sum(different_sums['Qty Difference']))\n",
    "# This is -61,035 indicates that the calculated Quantity is an overestimate. \n",
    "print('Sum of Valid Qty', sum(different_sums['IOH - Qty On Hand']))\n",
    "print('Sum of Calculated Qty', sum(different_sums['TXN - Qty']))"
   ]
  },
  {
   "cell_type": "markdown",
   "id": "663a1938",
   "metadata": {},
   "source": [
    "Next step: check magnitude of dropped columns."
   ]
  },
  {
   "cell_type": "code",
   "execution_count": 219,
   "id": "7f648956",
   "metadata": {},
   "outputs": [],
   "source": [
    "dataframe_2 = txn_df.copy(deep = True)\n",
    "dataframe_2 = dataframe_2.drop_duplicates()\n",
    "\n",
    "dataframe_2 = handle_I_D(dataframe_2)"
   ]
  },
  {
   "cell_type": "code",
   "execution_count": 221,
   "id": "86d2e4a9",
   "metadata": {
    "scrolled": true
   },
   "outputs": [
    {
     "data": {
      "text/html": [
       "<div>\n",
       "<style scoped>\n",
       "    .dataframe tbody tr th:only-of-type {\n",
       "        vertical-align: middle;\n",
       "    }\n",
       "\n",
       "    .dataframe tbody tr th {\n",
       "        vertical-align: top;\n",
       "    }\n",
       "\n",
       "    .dataframe thead th {\n",
       "        text-align: right;\n",
       "    }\n",
       "</style>\n",
       "<table border=\"1\" class=\"dataframe\">\n",
       "  <thead>\n",
       "    <tr style=\"text-align: right;\">\n",
       "      <th></th>\n",
       "      <th>TXN - Sequence Nbr</th>\n",
       "      <th>TXN - Transaction Type</th>\n",
       "      <th>TXN - Unit</th>\n",
       "      <th>TXN - Destination Unit</th>\n",
       "      <th>TXN - Transaction Date</th>\n",
       "      <th>TXN - Time Stamp</th>\n",
       "      <th>TXN - Order No</th>\n",
       "      <th>TXN - Item ID</th>\n",
       "      <th>TXN - Item Description</th>\n",
       "      <th>TXN - Qty</th>\n",
       "      <th>...</th>\n",
       "      <th>TXN - Recpt Type</th>\n",
       "      <th>TXN - Cost Element</th>\n",
       "      <th>TXN - Last Adj</th>\n",
       "      <th>TXN - Last Order</th>\n",
       "      <th>TXN - Last Date</th>\n",
       "      <th>TXN - Last Ptwy</th>\n",
       "      <th>TXN - Qty Avail</th>\n",
       "      <th>TXN - Qty Reserved</th>\n",
       "      <th>TXN - Qty Owned</th>\n",
       "      <th>TXN - Qty On Hand</th>\n",
       "    </tr>\n",
       "  </thead>\n",
       "  <tbody>\n",
       "    <tr>\n",
       "      <th>19</th>\n",
       "      <td>14</td>\n",
       "      <td>022</td>\n",
       "      <td>BS011</td>\n",
       "      <td>NaN</td>\n",
       "      <td>2009/10/01</td>\n",
       "      <td>2009/10/01 08:36:06</td>\n",
       "      <td>NaN</td>\n",
       "      <td>31191310</td>\n",
       "      <td>CLEANER/DEGREASER ELECTRONIC N</td>\n",
       "      <td>24.00</td>\n",
       "      <td>...</td>\n",
       "      <td>IUT</td>\n",
       "      <td>100</td>\n",
       "      <td>NaN</td>\n",
       "      <td>NaN</td>\n",
       "      <td>NaN</td>\n",
       "      <td>NaN</td>\n",
       "      <td>NaN</td>\n",
       "      <td>NaN</td>\n",
       "      <td>NaN</td>\n",
       "      <td>NaN</td>\n",
       "    </tr>\n",
       "    <tr>\n",
       "      <th>24</th>\n",
       "      <td>1</td>\n",
       "      <td>041</td>\n",
       "      <td>BS015</td>\n",
       "      <td>NaN</td>\n",
       "      <td>2009/10/01</td>\n",
       "      <td>2009/10/01 15:24:43</td>\n",
       "      <td>NaN</td>\n",
       "      <td>02648234</td>\n",
       "      <td>FLASHER ASSY EMERGEN CY 5303 (</td>\n",
       "      <td>0.00</td>\n",
       "      <td>...</td>\n",
       "      <td>NaN</td>\n",
       "      <td>100</td>\n",
       "      <td>NaN</td>\n",
       "      <td>NaN</td>\n",
       "      <td>NaN</td>\n",
       "      <td>NaN</td>\n",
       "      <td>NaN</td>\n",
       "      <td>NaN</td>\n",
       "      <td>NaN</td>\n",
       "      <td>NaN</td>\n",
       "    </tr>\n",
       "    <tr>\n",
       "      <th>58</th>\n",
       "      <td>1</td>\n",
       "      <td>041</td>\n",
       "      <td>BS019</td>\n",
       "      <td>NaN</td>\n",
       "      <td>2009/10/01</td>\n",
       "      <td>2009/10/01 15:21:01</td>\n",
       "      <td>NaN</td>\n",
       "      <td>02667230</td>\n",
       "      <td>SEAL ASSY-(WEATHER,R EAR)WHEEL</td>\n",
       "      <td>0.00</td>\n",
       "      <td>...</td>\n",
       "      <td>NaN</td>\n",
       "      <td>100</td>\n",
       "      <td>NaN</td>\n",
       "      <td>NaN</td>\n",
       "      <td>NaN</td>\n",
       "      <td>NaN</td>\n",
       "      <td>NaN</td>\n",
       "      <td>NaN</td>\n",
       "      <td>NaN</td>\n",
       "      <td>NaN</td>\n",
       "    </tr>\n",
       "    <tr>\n",
       "      <th>82</th>\n",
       "      <td>1</td>\n",
       "      <td>041</td>\n",
       "      <td>BS014</td>\n",
       "      <td>NaN</td>\n",
       "      <td>2009/10/01</td>\n",
       "      <td>2009/10/01 15:27:54</td>\n",
       "      <td>NaN</td>\n",
       "      <td>04360400</td>\n",
       "      <td>BOLT-HX CAP Z/PLT G# 5 1/4-20</td>\n",
       "      <td>-500.00</td>\n",
       "      <td>...</td>\n",
       "      <td>NaN</td>\n",
       "      <td>100</td>\n",
       "      <td>NaN</td>\n",
       "      <td>NaN</td>\n",
       "      <td>NaN</td>\n",
       "      <td>NaN</td>\n",
       "      <td>NaN</td>\n",
       "      <td>NaN</td>\n",
       "      <td>NaN</td>\n",
       "      <td>NaN</td>\n",
       "    </tr>\n",
       "    <tr>\n",
       "      <th>101</th>\n",
       "      <td>1</td>\n",
       "      <td>041</td>\n",
       "      <td>BS015</td>\n",
       "      <td>NaN</td>\n",
       "      <td>2009/10/01</td>\n",
       "      <td>2009/10/01 15:24:44</td>\n",
       "      <td>NaN</td>\n",
       "      <td>02663011</td>\n",
       "      <td>PANEL-L/R WHEEL HOUS ING</td>\n",
       "      <td>0.00</td>\n",
       "      <td>...</td>\n",
       "      <td>NaN</td>\n",
       "      <td>100</td>\n",
       "      <td>NaN</td>\n",
       "      <td>NaN</td>\n",
       "      <td>NaN</td>\n",
       "      <td>NaN</td>\n",
       "      <td>NaN</td>\n",
       "      <td>NaN</td>\n",
       "      <td>NaN</td>\n",
       "      <td>NaN</td>\n",
       "    </tr>\n",
       "    <tr>\n",
       "      <th>...</th>\n",
       "      <td>...</td>\n",
       "      <td>...</td>\n",
       "      <td>...</td>\n",
       "      <td>...</td>\n",
       "      <td>...</td>\n",
       "      <td>...</td>\n",
       "      <td>...</td>\n",
       "      <td>...</td>\n",
       "      <td>...</td>\n",
       "      <td>...</td>\n",
       "      <td>...</td>\n",
       "      <td>...</td>\n",
       "      <td>...</td>\n",
       "      <td>...</td>\n",
       "      <td>...</td>\n",
       "      <td>...</td>\n",
       "      <td>...</td>\n",
       "      <td>...</td>\n",
       "      <td>...</td>\n",
       "      <td>...</td>\n",
       "      <td>...</td>\n",
       "    </tr>\n",
       "    <tr>\n",
       "      <th>7265971</th>\n",
       "      <td>131083400000046</td>\n",
       "      <td>030</td>\n",
       "      <td>BS024</td>\n",
       "      <td>NaN</td>\n",
       "      <td>2020/06/30</td>\n",
       "      <td>2020/06/30 12:21:03</td>\n",
       "      <td>MSR2528987</td>\n",
       "      <td>02596001</td>\n",
       "      <td>PADDLE, THIRD RAIL COLLECTOR S</td>\n",
       "      <td>-2.00</td>\n",
       "      <td>...</td>\n",
       "      <td>NaN</td>\n",
       "      <td>100</td>\n",
       "      <td>NaN</td>\n",
       "      <td>NaN</td>\n",
       "      <td>NaN</td>\n",
       "      <td>NaN</td>\n",
       "      <td>NaN</td>\n",
       "      <td>NaN</td>\n",
       "      <td>NaN</td>\n",
       "      <td>NaN</td>\n",
       "    </tr>\n",
       "    <tr>\n",
       "      <th>7266002</th>\n",
       "      <td>2</td>\n",
       "      <td>022</td>\n",
       "      <td>BS011</td>\n",
       "      <td>NaN</td>\n",
       "      <td>2020/06/30</td>\n",
       "      <td>2020/06/30 07:20:07</td>\n",
       "      <td>NaN</td>\n",
       "      <td>04595020</td>\n",
       "      <td>LUG NUT, FRONT &amp; REAR M22 X 1.</td>\n",
       "      <td>750.00</td>\n",
       "      <td>...</td>\n",
       "      <td>IUT</td>\n",
       "      <td>100</td>\n",
       "      <td>NaN</td>\n",
       "      <td>NaN</td>\n",
       "      <td>NaN</td>\n",
       "      <td>NaN</td>\n",
       "      <td>NaN</td>\n",
       "      <td>NaN</td>\n",
       "      <td>NaN</td>\n",
       "      <td>NaN</td>\n",
       "    </tr>\n",
       "    <tr>\n",
       "      <th>7266044</th>\n",
       "      <td>9</td>\n",
       "      <td>022</td>\n",
       "      <td>BS015</td>\n",
       "      <td>NaN</td>\n",
       "      <td>2020/06/30</td>\n",
       "      <td>2020/06/30 06:10:54</td>\n",
       "      <td>NaN</td>\n",
       "      <td>04561359</td>\n",
       "      <td>SOCKET, DRAG LINK N/F DIESEL</td>\n",
       "      <td>2.00</td>\n",
       "      <td>...</td>\n",
       "      <td>IUT</td>\n",
       "      <td>100</td>\n",
       "      <td>NaN</td>\n",
       "      <td>NaN</td>\n",
       "      <td>NaN</td>\n",
       "      <td>NaN</td>\n",
       "      <td>NaN</td>\n",
       "      <td>NaN</td>\n",
       "      <td>NaN</td>\n",
       "      <td>NaN</td>\n",
       "    </tr>\n",
       "    <tr>\n",
       "      <th>7266067</th>\n",
       "      <td>9</td>\n",
       "      <td>022</td>\n",
       "      <td>BS017</td>\n",
       "      <td>NaN</td>\n",
       "      <td>2020/06/30</td>\n",
       "      <td>2020/06/30 06:20:58</td>\n",
       "      <td>NaN</td>\n",
       "      <td>04596032</td>\n",
       "      <td>KIT, BRAKE PAD FRONT &amp; REAR DI</td>\n",
       "      <td>12.00</td>\n",
       "      <td>...</td>\n",
       "      <td>IUT</td>\n",
       "      <td>100</td>\n",
       "      <td>NaN</td>\n",
       "      <td>NaN</td>\n",
       "      <td>NaN</td>\n",
       "      <td>NaN</td>\n",
       "      <td>NaN</td>\n",
       "      <td>NaN</td>\n",
       "      <td>NaN</td>\n",
       "      <td>NaN</td>\n",
       "    </tr>\n",
       "    <tr>\n",
       "      <th>7266089</th>\n",
       "      <td>10</td>\n",
       "      <td>022</td>\n",
       "      <td>BS015</td>\n",
       "      <td>NaN</td>\n",
       "      <td>2020/06/30</td>\n",
       "      <td>2020/06/30 06:10:54</td>\n",
       "      <td>NaN</td>\n",
       "      <td>05295006</td>\n",
       "      <td>FILTER, AIR, CENTER HEATER ( M</td>\n",
       "      <td>31.00</td>\n",
       "      <td>...</td>\n",
       "      <td>IUT</td>\n",
       "      <td>100</td>\n",
       "      <td>NaN</td>\n",
       "      <td>NaN</td>\n",
       "      <td>NaN</td>\n",
       "      <td>NaN</td>\n",
       "      <td>NaN</td>\n",
       "      <td>NaN</td>\n",
       "      <td>NaN</td>\n",
       "      <td>NaN</td>\n",
       "    </tr>\n",
       "  </tbody>\n",
       "</table>\n",
       "<p>620206 rows × 85 columns</p>\n",
       "</div>"
      ],
      "text/plain": [
       "         TXN - Sequence Nbr TXN - Transaction Type TXN - Unit  \\\n",
       "19                       14                    022      BS011   \n",
       "24                        1                    041      BS015   \n",
       "58                        1                    041      BS019   \n",
       "82                        1                    041      BS014   \n",
       "101                       1                    041      BS015   \n",
       "...                     ...                    ...        ...   \n",
       "7265971     131083400000046                    030      BS024   \n",
       "7266002                   2                    022      BS011   \n",
       "7266044                   9                    022      BS015   \n",
       "7266067                   9                    022      BS017   \n",
       "7266089                  10                    022      BS015   \n",
       "\n",
       "        TXN - Destination Unit TXN - Transaction Date     TXN - Time Stamp  \\\n",
       "19                         NaN             2009/10/01  2009/10/01 08:36:06   \n",
       "24                         NaN             2009/10/01  2009/10/01 15:24:43   \n",
       "58                         NaN             2009/10/01  2009/10/01 15:21:01   \n",
       "82                         NaN             2009/10/01  2009/10/01 15:27:54   \n",
       "101                        NaN             2009/10/01  2009/10/01 15:24:44   \n",
       "...                        ...                    ...                  ...   \n",
       "7265971                    NaN             2020/06/30  2020/06/30 12:21:03   \n",
       "7266002                    NaN             2020/06/30  2020/06/30 07:20:07   \n",
       "7266044                    NaN             2020/06/30  2020/06/30 06:10:54   \n",
       "7266067                    NaN             2020/06/30  2020/06/30 06:20:58   \n",
       "7266089                    NaN             2020/06/30  2020/06/30 06:10:54   \n",
       "\n",
       "        TXN - Order No TXN - Item ID          TXN - Item Description  \\\n",
       "19                 NaN      31191310  CLEANER/DEGREASER ELECTRONIC N   \n",
       "24                 NaN      02648234  FLASHER ASSY EMERGEN CY 5303 (   \n",
       "58                 NaN      02667230  SEAL ASSY-(WEATHER,R EAR)WHEEL   \n",
       "82                 NaN      04360400   BOLT-HX CAP Z/PLT G# 5 1/4-20   \n",
       "101                NaN      02663011        PANEL-L/R WHEEL HOUS ING   \n",
       "...                ...           ...                             ...   \n",
       "7265971     MSR2528987      02596001  PADDLE, THIRD RAIL COLLECTOR S   \n",
       "7266002            NaN      04595020  LUG NUT, FRONT & REAR M22 X 1.   \n",
       "7266044            NaN      04561359    SOCKET, DRAG LINK N/F DIESEL   \n",
       "7266067            NaN      04596032  KIT, BRAKE PAD FRONT & REAR DI   \n",
       "7266089            NaN      05295006  FILTER, AIR, CENTER HEATER ( M   \n",
       "\n",
       "         TXN - Qty  ...  TXN - Recpt Type  TXN - Cost Element TXN - Last Adj  \\\n",
       "19           24.00  ...               IUT                 100            NaN   \n",
       "24            0.00  ...               NaN                 100            NaN   \n",
       "58            0.00  ...               NaN                 100            NaN   \n",
       "82         -500.00  ...               NaN                 100            NaN   \n",
       "101           0.00  ...               NaN                 100            NaN   \n",
       "...            ...  ...               ...                 ...            ...   \n",
       "7265971      -2.00  ...               NaN                 100            NaN   \n",
       "7266002     750.00  ...               IUT                 100            NaN   \n",
       "7266044       2.00  ...               IUT                 100            NaN   \n",
       "7266067      12.00  ...               IUT                 100            NaN   \n",
       "7266089      31.00  ...               IUT                 100            NaN   \n",
       "\n",
       "        TXN - Last Order TXN - Last Date TXN - Last Ptwy TXN - Qty Avail  \\\n",
       "19                   NaN             NaN             NaN             NaN   \n",
       "24                   NaN             NaN             NaN             NaN   \n",
       "58                   NaN             NaN             NaN             NaN   \n",
       "82                   NaN             NaN             NaN             NaN   \n",
       "101                  NaN             NaN             NaN             NaN   \n",
       "...                  ...             ...             ...             ...   \n",
       "7265971              NaN             NaN             NaN             NaN   \n",
       "7266002              NaN             NaN             NaN             NaN   \n",
       "7266044              NaN             NaN             NaN             NaN   \n",
       "7266067              NaN             NaN             NaN             NaN   \n",
       "7266089              NaN             NaN             NaN             NaN   \n",
       "\n",
       "        TXN - Qty Reserved TXN - Qty Owned TXN - Qty On Hand  \n",
       "19                     NaN             NaN               NaN  \n",
       "24                     NaN             NaN               NaN  \n",
       "58                     NaN             NaN               NaN  \n",
       "82                     NaN             NaN               NaN  \n",
       "101                    NaN             NaN               NaN  \n",
       "...                    ...             ...               ...  \n",
       "7265971                NaN             NaN               NaN  \n",
       "7266002                NaN             NaN               NaN  \n",
       "7266044                NaN             NaN               NaN  \n",
       "7266067                NaN             NaN               NaN  \n",
       "7266089                NaN             NaN               NaN  \n",
       "\n",
       "[620206 rows x 85 columns]"
      ]
     },
     "execution_count": 221,
     "metadata": {},
     "output_type": "execute_result"
    }
   ],
   "source": [
    "# Get SKU's with a non-zero difference\n",
    "nonzero_skus = list(different_sums['TXN - Item ID'])\n",
    "\n",
    "non_dropped_dataframe_nonzero_skus = dataframe_2.loc[dataframe_2['TXN - Item ID'].isin(nonzero_skus)]\n",
    "non_dropped_dataframe_nonzero_skus"
   ]
  },
  {
   "cell_type": "code",
   "execution_count": 224,
   "id": "15dd6502",
   "metadata": {
    "collapsed": true
   },
   "outputs": [
    {
     "data": {
      "text/plain": [
       "array(['31191310', '02648234', '02667230', '04360400', '02663011',\n",
       "       '02663010', '05180128', '04854034', '02663007', '02441013',\n",
       "       '05149019', '05194010', '04590395', '04594019', '04590325',\n",
       "       '02440993', '02767040', '02592077', '02409853', '02432258',\n",
       "       '04367064', '04563065', '02663005', '04590461', '05258001',\n",
       "       '04594378', '04294001', '02692532', '02590564', '02590570',\n",
       "       '02750030', '04990010', '02585081', '04295152', '05295006',\n",
       "       '04295154', '02590449', '04290151', '05149013', '04461007',\n",
       "       '02676101', '03590002', '03580001', '02676100', '02596001',\n",
       "       '02693001', '03585067', '03501105', '02596003', '02504233',\n",
       "       '03211251', '04295003', '03208203', '02530880', '02695023',\n",
       "       '02396002', '04295001', '04590034', '02412065', '04590666',\n",
       "       '04394020', '04294070', '04290233', '03496374', '03496586',\n",
       "       '04294005', '02767020', '04590526', '02060002', '04390065',\n",
       "       '02606877', '05295005', '02688157', '03507192', '04595020',\n",
       "       '04595096', '03211197', '04394081', '03296019', '03472153',\n",
       "       '04595212', '02695029', '04395097', '02432718', '03085030',\n",
       "       '04590404', '02440064', '04561001', '02686681', '02170317',\n",
       "       '02430027', '02409851', '04563070', '04290152', '04590702',\n",
       "       '04290118', '02201058', '02667970', '04385007', '04595231',\n",
       "       '02592035', '31402015', '02667944', '04494009', '04561359',\n",
       "       '03496941', '04394108', '02596455', '04567515', '04595041',\n",
       "       '02696213', '04595024', '04567045', '02767016', '02667475',\n",
       "       '02507510', '02687259', '04593108', '02590943', '02695003',\n",
       "       '04590510', '02693163', '04287011', '02790105', '02061007',\n",
       "       '02176105', '03211297', '30902002', '02106130', '04590620',\n",
       "       '05290705', '05295064', '04563114', '02572003', '02530861',\n",
       "       '02175661', '04590513', '02767078', '02688373', '02412809',\n",
       "       '03267008', '02424661', '04767002', '04394042', '02561220',\n",
       "       '02561091', '04567062', '04590534', '04595131', '02508021',\n",
       "       '02667171', '04494502', '03207321', '04492018', '04590371',\n",
       "       '04467001', '04294132', '04994022', '04494417', '04367002',\n",
       "       '04569131', '04590655', '05295084', '02590046', '31471075',\n",
       "       '02530862', '04591016', '04567235', '02767043', '04595311',\n",
       "       '02440009', '02667326', '03208216', '02607052', '03401198',\n",
       "       '03496077', '04561339', '02692534', '04592515', '03280256',\n",
       "       '02156013', '31155715', '02594563', '04592182', '02710063',\n",
       "       '02687387', '03207086', '04392158', '02690405', '02576261',\n",
       "       '02587096', '02201802', '04594016', '04490016', '03207299',\n",
       "       '02796068', '05095012', '04595262', '03207036', '03496036',\n",
       "       '04590400', '02418006', '04595299', '04595031', '02508063',\n",
       "       '03276151', '04492034', '04590629', '02694091', '04590656',\n",
       "       '02595105', '05095013', '04595006', '04367100', '02761061',\n",
       "       '31412020', '04290192', '02667008', '02767042', '02164011',\n",
       "       '02595030', '04567065', '04300019', '02590025', '02593069',\n",
       "       '02767097', '02051217', '04962008', '02663004', '04558307',\n",
       "       '02367018', '02762003', '02767087', '31780013', '02667296',\n",
       "       '04590017', '02567564', '04595272', '02795013', '04595066',\n",
       "       '02503015', '04561343', '04367017', '02662005', '04595002',\n",
       "       '04395096', '04395060', '05092017', '04567429', '03574043',\n",
       "       '03496545', '02767034', '02767007', '04567204', '04261520',\n",
       "       '04058040', '02587140', '02561008', '03074005', '04294179',\n",
       "       '02692202', '02667415', '04267111', '02667160', '03230110',\n",
       "       '03211211', '04588065', '04488016', '02767149', '30720003',\n",
       "       '04595011', '04260620', '04567201', '02595110', '04494037',\n",
       "       '02596147', '03211232', '04287005', '04361022', '02661012',\n",
       "       '02690097', '02534435', '02661014', '02667012', '03267006',\n",
       "       '04365852', '02767153', '02667186', '02767106', '02592022',\n",
       "       '04300006', '02593079', '04296046', '04596032', '03696018',\n",
       "       '02184527', '04545013', '04283005', '04282087', '04296052',\n",
       "       '04596008', '05296003', '04295521', '04296003', '05295101',\n",
       "       '05281001', '05296047', '04245037', '04296004', '02669574',\n",
       "       '04296001', '02695116', '03276200', '04582008', '45050038',\n",
       "       '02576439', '02681140', '02792049', '02558357', '02695266',\n",
       "       '02761012', '03084550', '02567117', '43210058', '03696047',\n",
       "       '04595205', '04281004', '04561222', '02667084', '02412036',\n",
       "       '02795014', '03074118', '02740036', '03094418', '02561012',\n",
       "       '04494373', '05294036', '02896021', '03496174', '02996024',\n",
       "       '04545035', '04295388', '05294016', '42508061', '04467165',\n",
       "       '02688136', '45050148', '02681003', '02581032', '04282113',\n",
       "       '03401226', '02695082', '04594110', '04395104', '03074008',\n",
       "       '03485031', '31471668', '31471665', '04282006', '04595027',\n",
       "       '03658008', '03074001', '02593042', '04592223', '04296026',\n",
       "       '30718005', '04595244', '04596009', '02696733', '02170329',\n",
       "       '31454024', '04595376', '03501351', '04290310', '02590572',\n",
       "       '20722095', '04267158', '02687252', '03074111', '03496435',\n",
       "       '02576412', '04295406', '02667539', '02696005', '03084612',\n",
       "       '02508062', '02403015', '04394117', '05258040', '04461001',\n",
       "       '02574091', '03476001', '02794064', '04592211', '04295333',\n",
       "       '04361010', '42583003', '04595082', '02592023', '02569315',\n",
       "       '03279003', '04390064', '03279007', '02645207', '42631004',\n",
       "       '02574504', '02576438', '02761026', '02595471', '02695317',\n",
       "       '02896081', '04367045', '02615041', '03263004', '02687266',\n",
       "       '02694167', '04290307', '04361081', '03258102', '04290308',\n",
       "       '02101826', '02767015', '02590571', '02767148', '02696136',\n",
       "       '02555003', '04567175', '02588006', '03208240', '04563334',\n",
       "       '02569006', '04604012', '03496579', '02507144', '02590900',\n",
       "       '04990022', '02530292', '02596833', '02558441', '04787005',\n",
       "       '02201773', '03280411', '02718504', '03507172', '03064004',\n",
       "       '02588028', '02593044', '02593145', '04787035', '03507193',\n",
       "       '02669193', '03084551', '02201525', '02409837', '02409653',\n",
       "       '02184258', '05190022', '02667363', '04590412', '04567211',\n",
       "       '02707070', '02794008', '02667002', '02561011', '43220039',\n",
       "       '31448003', '04390003', '04494170', '02667711', '04567351',\n",
       "       '04489134', '04261017', '02967002', '02567578', '02696508',\n",
       "       '03480307', '04966165', '31780016', '02534426', '02201183',\n",
       "       '02412021', '02534427', '04787036', '02412053', '02687209',\n",
       "       '04592302', '04590316', '02667281', '02667024', '02663027',\n",
       "       '02591625', '03501340', '03220294', '42610013', '03501714',\n",
       "       '02534505', '03501630', '30602013', '02606039', '00118003',\n",
       "       '30607081', '02409830', '30603001', '03276007', '03496547',\n",
       "       '43096030', '02201533', '03280453', '03530046', '02074001',\n",
       "       '04601267', '02202011', '02693300', '03220132', '30610206',\n",
       "       '02201140', '02175130', '02669227', '02567003', '03374012',\n",
       "       '02592132', '02561085', '04561388', '04590373', '04390279',\n",
       "       '43101080', '42583010', '42063017', '02790052', '03007038',\n",
       "       '42552066', '02667710', '02667936', '02663009', '02201197',\n",
       "       '43096031', '02534421', '04361039', '02361015', '05192034',\n",
       "       '02686973', '03288005', '02158005', '05282061', '02658414',\n",
       "       '03279017', '05279001', '42507006', '02667235', '04259654',\n",
       "       '02412022', '03296022', '05092014', '02592233', '04592282',\n",
       "       '04592276', '04592277', '31780111', '31432003', '02792051',\n",
       "       '04292028', '03201633', '42082079', '02667438', '02667423',\n",
       "       '02667107', '04160022', '03470031', '05020065', '43096233',\n",
       "       '03507124', '02718836', '31726017', '42565004', '42090061',\n",
       "       '04560867', '03507125', '02096011', '02740358', '03507016',\n",
       "       '42693107', '03507017', '02201166', '03204129', '03507002',\n",
       "       '42519289', '03507009', '31780133', '31780079', '03507015',\n",
       "       '02507097', '42066131', '31780112', '31780075', '02567046',\n",
       "       '31780084', '42590012', '02596112', '02707067', '31780088',\n",
       "       '31780096', '31780123', '02440625', '05021290', '03507019',\n",
       "       '03207059', '03211092', '02220081', '02534434', '04563066',\n",
       "       '02707071', '42556078', '02667075', '03507170', '03507003',\n",
       "       '02610820', '42036011', '04367063', '05092021', '03240177',\n",
       "       '43096032', '42583009', '04587044', '31432010'], dtype=object)"
      ]
     },
     "execution_count": 224,
     "metadata": {},
     "output_type": "execute_result"
    }
   ],
   "source": [
    "non_dropped_dataframe_nonzero_skus['TXN - Item ID'].unique()"
   ]
  },
  {
   "cell_type": "markdown",
   "id": "ffbd6ad2",
   "metadata": {},
   "source": [
    "Filter non dropped dataframe to just dropped transaction types"
   ]
  },
  {
   "cell_type": "code",
   "execution_count": 227,
   "id": "9e3bfa88",
   "metadata": {},
   "outputs": [
    {
     "data": {
      "text/html": [
       "<div>\n",
       "<style scoped>\n",
       "    .dataframe tbody tr th:only-of-type {\n",
       "        vertical-align: middle;\n",
       "    }\n",
       "\n",
       "    .dataframe tbody tr th {\n",
       "        vertical-align: top;\n",
       "    }\n",
       "\n",
       "    .dataframe thead th {\n",
       "        text-align: right;\n",
       "    }\n",
       "</style>\n",
       "<table border=\"1\" class=\"dataframe\">\n",
       "  <thead>\n",
       "    <tr style=\"text-align: right;\">\n",
       "      <th></th>\n",
       "      <th>TXN - Sequence Nbr</th>\n",
       "      <th>TXN - Transaction Type</th>\n",
       "      <th>TXN - Unit</th>\n",
       "      <th>TXN - Destination Unit</th>\n",
       "      <th>TXN - Transaction Date</th>\n",
       "      <th>TXN - Time Stamp</th>\n",
       "      <th>TXN - Order No</th>\n",
       "      <th>TXN - Item ID</th>\n",
       "      <th>TXN - Item Description</th>\n",
       "      <th>TXN - Qty</th>\n",
       "      <th>...</th>\n",
       "      <th>TXN - Recpt Type</th>\n",
       "      <th>TXN - Cost Element</th>\n",
       "      <th>TXN - Last Adj</th>\n",
       "      <th>TXN - Last Order</th>\n",
       "      <th>TXN - Last Date</th>\n",
       "      <th>TXN - Last Ptwy</th>\n",
       "      <th>TXN - Qty Avail</th>\n",
       "      <th>TXN - Qty Reserved</th>\n",
       "      <th>TXN - Qty Owned</th>\n",
       "      <th>TXN - Qty On Hand</th>\n",
       "    </tr>\n",
       "  </thead>\n",
       "  <tbody>\n",
       "    <tr>\n",
       "      <th>2570</th>\n",
       "      <td>1</td>\n",
       "      <td>060</td>\n",
       "      <td>BS015</td>\n",
       "      <td>NaN</td>\n",
       "      <td>2009/10/05</td>\n",
       "      <td>2009/10/05 13:58:54</td>\n",
       "      <td>NaN</td>\n",
       "      <td>04395097</td>\n",
       "      <td>DEFROSTER FLEX HOSE BULKHEAD T</td>\n",
       "      <td>6.00</td>\n",
       "      <td>...</td>\n",
       "      <td>NaN</td>\n",
       "      <td>100</td>\n",
       "      <td>NaN</td>\n",
       "      <td>NaN</td>\n",
       "      <td>NaN</td>\n",
       "      <td>NaN</td>\n",
       "      <td>NaN</td>\n",
       "      <td>NaN</td>\n",
       "      <td>NaN</td>\n",
       "      <td>NaN</td>\n",
       "    </tr>\n",
       "    <tr>\n",
       "      <th>6294</th>\n",
       "      <td>1</td>\n",
       "      <td>060</td>\n",
       "      <td>CS001</td>\n",
       "      <td>NaN</td>\n",
       "      <td>2009/10/09</td>\n",
       "      <td>2009/10/09 07:09:07</td>\n",
       "      <td>NaN</td>\n",
       "      <td>31402015</td>\n",
       "      <td>BATTERY-9V ALKALINE NEDA TYPE</td>\n",
       "      <td>432.00</td>\n",
       "      <td>...</td>\n",
       "      <td>NaN</td>\n",
       "      <td>100</td>\n",
       "      <td>NaN</td>\n",
       "      <td>NaN</td>\n",
       "      <td>NaN</td>\n",
       "      <td>NaN</td>\n",
       "      <td>NaN</td>\n",
       "      <td>NaN</td>\n",
       "      <td>NaN</td>\n",
       "      <td>NaN</td>\n",
       "    </tr>\n",
       "    <tr>\n",
       "      <th>9572</th>\n",
       "      <td>1</td>\n",
       "      <td>060</td>\n",
       "      <td>BS015</td>\n",
       "      <td>NaN</td>\n",
       "      <td>2009/10/15</td>\n",
       "      <td>2009/10/15 12:49:23</td>\n",
       "      <td>NaN</td>\n",
       "      <td>02688373</td>\n",
       "      <td>VALVE, TRANS   AIR</td>\n",
       "      <td>4.00</td>\n",
       "      <td>...</td>\n",
       "      <td>NaN</td>\n",
       "      <td>100</td>\n",
       "      <td>NaN</td>\n",
       "      <td>NaN</td>\n",
       "      <td>NaN</td>\n",
       "      <td>NaN</td>\n",
       "      <td>NaN</td>\n",
       "      <td>NaN</td>\n",
       "      <td>NaN</td>\n",
       "      <td>NaN</td>\n",
       "    </tr>\n",
       "    <tr>\n",
       "      <th>9714</th>\n",
       "      <td>1</td>\n",
       "      <td>060</td>\n",
       "      <td>BS015</td>\n",
       "      <td>NaN</td>\n",
       "      <td>2009/10/15</td>\n",
       "      <td>2009/10/15 13:45:09</td>\n",
       "      <td>NaN</td>\n",
       "      <td>02170317</td>\n",
       "      <td>NIPPLE-INDUS. 1/4\" M ALE NPT,T</td>\n",
       "      <td>50.00</td>\n",
       "      <td>...</td>\n",
       "      <td>NaN</td>\n",
       "      <td>100</td>\n",
       "      <td>NaN</td>\n",
       "      <td>NaN</td>\n",
       "      <td>NaN</td>\n",
       "      <td>NaN</td>\n",
       "      <td>NaN</td>\n",
       "      <td>NaN</td>\n",
       "      <td>NaN</td>\n",
       "      <td>NaN</td>\n",
       "    </tr>\n",
       "    <tr>\n",
       "      <th>16487</th>\n",
       "      <td>1</td>\n",
       "      <td>060</td>\n",
       "      <td>CS001</td>\n",
       "      <td>NaN</td>\n",
       "      <td>2009/10/23</td>\n",
       "      <td>2009/10/23 06:49:56</td>\n",
       "      <td>NaN</td>\n",
       "      <td>03207086</td>\n",
       "      <td>ROD-PUSH W/BUSHING LREE-9802 R</td>\n",
       "      <td>120.00</td>\n",
       "      <td>...</td>\n",
       "      <td>NaN</td>\n",
       "      <td>100</td>\n",
       "      <td>NaN</td>\n",
       "      <td>NaN</td>\n",
       "      <td>NaN</td>\n",
       "      <td>NaN</td>\n",
       "      <td>NaN</td>\n",
       "      <td>NaN</td>\n",
       "      <td>NaN</td>\n",
       "      <td>NaN</td>\n",
       "    </tr>\n",
       "    <tr>\n",
       "      <th>...</th>\n",
       "      <td>...</td>\n",
       "      <td>...</td>\n",
       "      <td>...</td>\n",
       "      <td>...</td>\n",
       "      <td>...</td>\n",
       "      <td>...</td>\n",
       "      <td>...</td>\n",
       "      <td>...</td>\n",
       "      <td>...</td>\n",
       "      <td>...</td>\n",
       "      <td>...</td>\n",
       "      <td>...</td>\n",
       "      <td>...</td>\n",
       "      <td>...</td>\n",
       "      <td>...</td>\n",
       "      <td>...</td>\n",
       "      <td>...</td>\n",
       "      <td>...</td>\n",
       "      <td>...</td>\n",
       "      <td>...</td>\n",
       "      <td>...</td>\n",
       "    </tr>\n",
       "    <tr>\n",
       "      <th>7262066</th>\n",
       "      <td>1</td>\n",
       "      <td>060</td>\n",
       "      <td>BS010</td>\n",
       "      <td>NaN</td>\n",
       "      <td>2020/06/26</td>\n",
       "      <td>2020/06/26 12:02:03</td>\n",
       "      <td>NaN</td>\n",
       "      <td>02184527</td>\n",
       "      <td>THERMOMETER, INFRARED (RAYTEK</td>\n",
       "      <td>1.00</td>\n",
       "      <td>...</td>\n",
       "      <td>NaN</td>\n",
       "      <td>100</td>\n",
       "      <td>NaN</td>\n",
       "      <td>NaN</td>\n",
       "      <td>NaN</td>\n",
       "      <td>NaN</td>\n",
       "      <td>NaN</td>\n",
       "      <td>NaN</td>\n",
       "      <td>NaN</td>\n",
       "      <td>NaN</td>\n",
       "    </tr>\n",
       "    <tr>\n",
       "      <th>7263502</th>\n",
       "      <td>1</td>\n",
       "      <td>060</td>\n",
       "      <td>CS004</td>\n",
       "      <td>NaN</td>\n",
       "      <td>2020/06/26</td>\n",
       "      <td>2020/06/26 12:07:17</td>\n",
       "      <td>NaN</td>\n",
       "      <td>02676100</td>\n",
       "      <td>FILTER-A/C 12\"X 24\"X 2\"</td>\n",
       "      <td>2365.00</td>\n",
       "      <td>...</td>\n",
       "      <td>NaN</td>\n",
       "      <td>100</td>\n",
       "      <td>NaN</td>\n",
       "      <td>NaN</td>\n",
       "      <td>NaN</td>\n",
       "      <td>NaN</td>\n",
       "      <td>NaN</td>\n",
       "      <td>NaN</td>\n",
       "      <td>NaN</td>\n",
       "      <td>NaN</td>\n",
       "    </tr>\n",
       "    <tr>\n",
       "      <th>7264734</th>\n",
       "      <td>1</td>\n",
       "      <td>060</td>\n",
       "      <td>BS012</td>\n",
       "      <td>NaN</td>\n",
       "      <td>2020/06/29</td>\n",
       "      <td>2020/06/29 13:39:51</td>\n",
       "      <td>NaN</td>\n",
       "      <td>04595031</td>\n",
       "      <td>CAMSHAFT, REAR C/S N/F DIESEL</td>\n",
       "      <td>4.00</td>\n",
       "      <td>...</td>\n",
       "      <td>NaN</td>\n",
       "      <td>100</td>\n",
       "      <td>NaN</td>\n",
       "      <td>NaN</td>\n",
       "      <td>NaN</td>\n",
       "      <td>NaN</td>\n",
       "      <td>NaN</td>\n",
       "      <td>NaN</td>\n",
       "      <td>NaN</td>\n",
       "      <td>NaN</td>\n",
       "    </tr>\n",
       "    <tr>\n",
       "      <th>7264817</th>\n",
       "      <td>1</td>\n",
       "      <td>060</td>\n",
       "      <td>CS004</td>\n",
       "      <td>NaN</td>\n",
       "      <td>2020/06/29</td>\n",
       "      <td>2020/06/29 13:16:08</td>\n",
       "      <td>NaN</td>\n",
       "      <td>04567062</td>\n",
       "      <td>VALVE, AIR BRAKE VALVES, CAB &amp;</td>\n",
       "      <td>1.00</td>\n",
       "      <td>...</td>\n",
       "      <td>NaN</td>\n",
       "      <td>100</td>\n",
       "      <td>NaN</td>\n",
       "      <td>NaN</td>\n",
       "      <td>NaN</td>\n",
       "      <td>NaN</td>\n",
       "      <td>NaN</td>\n",
       "      <td>NaN</td>\n",
       "      <td>NaN</td>\n",
       "      <td>NaN</td>\n",
       "    </tr>\n",
       "    <tr>\n",
       "      <th>7264819</th>\n",
       "      <td>1</td>\n",
       "      <td>060</td>\n",
       "      <td>BS012</td>\n",
       "      <td>NaN</td>\n",
       "      <td>2020/06/29</td>\n",
       "      <td>2020/06/29 13:43:33</td>\n",
       "      <td>NaN</td>\n",
       "      <td>04595096</td>\n",
       "      <td>ROLLER, FRONT BRAKE N/F DIESEL</td>\n",
       "      <td>8.00</td>\n",
       "      <td>...</td>\n",
       "      <td>NaN</td>\n",
       "      <td>100</td>\n",
       "      <td>NaN</td>\n",
       "      <td>NaN</td>\n",
       "      <td>NaN</td>\n",
       "      <td>NaN</td>\n",
       "      <td>NaN</td>\n",
       "      <td>NaN</td>\n",
       "      <td>NaN</td>\n",
       "      <td>NaN</td>\n",
       "    </tr>\n",
       "  </tbody>\n",
       "</table>\n",
       "<p>6504 rows × 85 columns</p>\n",
       "</div>"
      ],
      "text/plain": [
       "         TXN - Sequence Nbr TXN - Transaction Type TXN - Unit  \\\n",
       "2570                      1                    060      BS015   \n",
       "6294                      1                    060      CS001   \n",
       "9572                      1                    060      BS015   \n",
       "9714                      1                    060      BS015   \n",
       "16487                     1                    060      CS001   \n",
       "...                     ...                    ...        ...   \n",
       "7262066                   1                    060      BS010   \n",
       "7263502                   1                    060      CS004   \n",
       "7264734                   1                    060      BS012   \n",
       "7264817                   1                    060      CS004   \n",
       "7264819                   1                    060      BS012   \n",
       "\n",
       "        TXN - Destination Unit TXN - Transaction Date     TXN - Time Stamp  \\\n",
       "2570                       NaN             2009/10/05  2009/10/05 13:58:54   \n",
       "6294                       NaN             2009/10/09  2009/10/09 07:09:07   \n",
       "9572                       NaN             2009/10/15  2009/10/15 12:49:23   \n",
       "9714                       NaN             2009/10/15  2009/10/15 13:45:09   \n",
       "16487                      NaN             2009/10/23  2009/10/23 06:49:56   \n",
       "...                        ...                    ...                  ...   \n",
       "7262066                    NaN             2020/06/26  2020/06/26 12:02:03   \n",
       "7263502                    NaN             2020/06/26  2020/06/26 12:07:17   \n",
       "7264734                    NaN             2020/06/29  2020/06/29 13:39:51   \n",
       "7264817                    NaN             2020/06/29  2020/06/29 13:16:08   \n",
       "7264819                    NaN             2020/06/29  2020/06/29 13:43:33   \n",
       "\n",
       "        TXN - Order No TXN - Item ID          TXN - Item Description  \\\n",
       "2570               NaN      04395097  DEFROSTER FLEX HOSE BULKHEAD T   \n",
       "6294               NaN      31402015   BATTERY-9V ALKALINE NEDA TYPE   \n",
       "9572               NaN      02688373              VALVE, TRANS   AIR   \n",
       "9714               NaN      02170317  NIPPLE-INDUS. 1/4\" M ALE NPT,T   \n",
       "16487              NaN      03207086  ROD-PUSH W/BUSHING LREE-9802 R   \n",
       "...                ...           ...                             ...   \n",
       "7262066            NaN      02184527   THERMOMETER, INFRARED (RAYTEK   \n",
       "7263502            NaN      02676100         FILTER-A/C 12\"X 24\"X 2\"   \n",
       "7264734            NaN      04595031   CAMSHAFT, REAR C/S N/F DIESEL   \n",
       "7264817            NaN      04567062  VALVE, AIR BRAKE VALVES, CAB &   \n",
       "7264819            NaN      04595096  ROLLER, FRONT BRAKE N/F DIESEL   \n",
       "\n",
       "         TXN - Qty  ...  TXN - Recpt Type  TXN - Cost Element TXN - Last Adj  \\\n",
       "2570          6.00  ...               NaN                 100            NaN   \n",
       "6294        432.00  ...               NaN                 100            NaN   \n",
       "9572          4.00  ...               NaN                 100            NaN   \n",
       "9714         50.00  ...               NaN                 100            NaN   \n",
       "16487       120.00  ...               NaN                 100            NaN   \n",
       "...            ...  ...               ...                 ...            ...   \n",
       "7262066       1.00  ...               NaN                 100            NaN   \n",
       "7263502    2365.00  ...               NaN                 100            NaN   \n",
       "7264734       4.00  ...               NaN                 100            NaN   \n",
       "7264817       1.00  ...               NaN                 100            NaN   \n",
       "7264819       8.00  ...               NaN                 100            NaN   \n",
       "\n",
       "        TXN - Last Order TXN - Last Date TXN - Last Ptwy TXN - Qty Avail  \\\n",
       "2570                 NaN             NaN             NaN             NaN   \n",
       "6294                 NaN             NaN             NaN             NaN   \n",
       "9572                 NaN             NaN             NaN             NaN   \n",
       "9714                 NaN             NaN             NaN             NaN   \n",
       "16487                NaN             NaN             NaN             NaN   \n",
       "...                  ...             ...             ...             ...   \n",
       "7262066              NaN             NaN             NaN             NaN   \n",
       "7263502              NaN             NaN             NaN             NaN   \n",
       "7264734              NaN             NaN             NaN             NaN   \n",
       "7264817              NaN             NaN             NaN             NaN   \n",
       "7264819              NaN             NaN             NaN             NaN   \n",
       "\n",
       "        TXN - Qty Reserved TXN - Qty Owned TXN - Qty On Hand  \n",
       "2570                   NaN             NaN               NaN  \n",
       "6294                   NaN             NaN               NaN  \n",
       "9572                   NaN             NaN               NaN  \n",
       "9714                   NaN             NaN               NaN  \n",
       "16487                  NaN             NaN               NaN  \n",
       "...                    ...             ...               ...  \n",
       "7262066                NaN             NaN               NaN  \n",
       "7263502                NaN             NaN               NaN  \n",
       "7264734                NaN             NaN               NaN  \n",
       "7264817                NaN             NaN               NaN  \n",
       "7264819                NaN             NaN               NaN  \n",
       "\n",
       "[6504 rows x 85 columns]"
      ]
     },
     "execution_count": 227,
     "metadata": {},
     "output_type": "execute_result"
    }
   ],
   "source": [
    "dropped_txn_types = non_dropped_dataframe_nonzero_skus.loc[non_dropped_dataframe_nonzero_skus['TXN - Transaction Type'].isin(drop_types)]\n",
    "dropped_txn_types"
   ]
  },
  {
   "cell_type": "code",
   "execution_count": 233,
   "id": "7bb0f2a4",
   "metadata": {},
   "outputs": [
    {
     "name": "stdout",
     "output_type": "stream",
     "text": [
      "060 5992\n",
      "053 141\n",
      "052 1\n",
      "012 299\n",
      "001 1\n",
      "042 70\n"
     ]
    }
   ],
   "source": [
    "for t_type in drop_types:\n",
    "    print(t_type, len(dropped_txn_types.loc[dropped_txn_types['TXN - Transaction Type'] == t_type]))"
   ]
  },
  {
   "cell_type": "code",
   "execution_count": 231,
   "id": "c2d14aee",
   "metadata": {},
   "outputs": [
    {
     "data": {
      "text/plain": [
       "2076624.0"
      ]
     },
     "execution_count": 231,
     "metadata": {},
     "output_type": "execute_result"
    }
   ],
   "source": [
    "dropped_txn_types.groupby('TXN - Item ID').sum()['TXN - Qty'].sum()"
   ]
  },
  {
   "cell_type": "code",
   "execution_count": 236,
   "id": "71c7e89d",
   "metadata": {
    "scrolled": true
   },
   "outputs": [
    {
     "data": {
      "text/plain": [
       "547240.0"
      ]
     },
     "execution_count": 236,
     "metadata": {},
     "output_type": "execute_result"
    }
   ],
   "source": [
    "dropped_txn_types.loc[dropped_txn_types['TXN - Transaction Type'] != '060'].groupby('TXN - Item ID').sum()['TXN - Qty'].sum()"
   ]
  },
  {
   "cell_type": "code",
   "execution_count": 250,
   "id": "af8ad621",
   "metadata": {},
   "outputs": [
    {
     "data": {
      "text/plain": [
       "(0.0, 100.0)"
      ]
     },
     "execution_count": 250,
     "metadata": {},
     "output_type": "execute_result"
    },
    {
     "data": {
      "image/png": "[encoded data removed]",
      "text/plain": [
       "<Figure size 432x288 with 1 Axes>"
      ]
     },
     "metadata": {
      "needs_background": "light"
     },
     "output_type": "display_data"
    }
   ],
   "source": [
    "plt.hist(abs(different_sums['Qty Difference']), density = True, bins=1000)\n",
    "plt.xlim([0, 100])"
   ]
  },
  {
   "cell_type": "code",
   "execution_count": 243,
   "id": "f41674ab",
   "metadata": {},
   "outputs": [
    {
     "data": {
      "text/plain": [
       "0   -1.00\n",
       "dtype: float64"
      ]
     },
     "execution_count": 243,
     "metadata": {},
     "output_type": "execute_result"
    }
   ],
   "source": [
    "different_sums['Qty Difference'].mode()"
   ]
  },
  {
   "cell_type": "markdown",
   "id": "a50f3fe5",
   "metadata": {},
   "source": [
    "# Validating Unique Skus"
   ]
  },
  {
   "cell_type": "code",
   "execution_count": 116,
   "id": "56a2fe1d",
   "metadata": {},
   "outputs": [],
   "source": [
    "all_skus = list(dataframe['TXN - Item ID'])"
   ]
  },
  {
   "cell_type": "code",
   "execution_count": 117,
   "id": "930ace04",
   "metadata": {},
   "outputs": [],
   "source": [
    "unique_skus_2 = list(set(all_skus))"
   ]
  },
  {
   "cell_type": "code",
   "execution_count": 118,
   "id": "9ae99c73",
   "metadata": {},
   "outputs": [
    {
     "name": "stdout",
     "output_type": "stream",
     "text": [
      "45296\n"
     ]
    }
   ],
   "source": [
    "print(len(unique_skus_2))"
   ]
  },
  {
   "cell_type": "code",
   "execution_count": 119,
   "id": "846fa4c4",
   "metadata": {},
   "outputs": [],
   "source": [
    "# This is a list\n",
    "unique_skus = dataframe['TXN - Item ID'].unique()"
   ]
  },
  {
   "cell_type": "code",
   "execution_count": 120,
   "id": "c05b77e7",
   "metadata": {},
   "outputs": [
    {
     "name": "stdout",
     "output_type": "stream",
     "text": [
      "['05021408' '02545876' '00250066' ... '896804' 'Q513716201' '03079010']\n",
      "45296\n"
     ]
    }
   ],
   "source": [
    "print(unique_skus)\n",
    "print(len(unique_skus))"
   ]
  },
  {
   "cell_type": "code",
   "execution_count": 96,
   "id": "27191eaf",
   "metadata": {},
   "outputs": [],
   "source": [
    "valid_unique_skus = pandas.read_csv(txn_dirPath + \"Valid_unique_skus.csv\")"
   ]
  },
  {
   "cell_type": "code",
   "execution_count": 97,
   "id": "3cc425c9",
   "metadata": {},
   "outputs": [
    {
     "data": {
      "text/html": [
       "<div>\n",
       "<style scoped>\n",
       "    .dataframe tbody tr th:only-of-type {\n",
       "        vertical-align: middle;\n",
       "    }\n",
       "\n",
       "    .dataframe tbody tr th {\n",
       "        vertical-align: top;\n",
       "    }\n",
       "\n",
       "    .dataframe thead th {\n",
       "        text-align: right;\n",
       "    }\n",
       "</style>\n",
       "<table border=\"1\" class=\"dataframe\">\n",
       "  <thead>\n",
       "    <tr style=\"text-align: right;\">\n",
       "      <th></th>\n",
       "      <th>IOH - Item ID</th>\n",
       "    </tr>\n",
       "  </thead>\n",
       "  <tbody>\n",
       "    <tr>\n",
       "      <th>0</th>\n",
       "      <td>00250052</td>\n",
       "    </tr>\n",
       "    <tr>\n",
       "      <th>1</th>\n",
       "      <td>00250053</td>\n",
       "    </tr>\n",
       "    <tr>\n",
       "      <th>2</th>\n",
       "      <td>00250056</td>\n",
       "    </tr>\n",
       "    <tr>\n",
       "      <th>3</th>\n",
       "      <td>00250113</td>\n",
       "    </tr>\n",
       "    <tr>\n",
       "      <th>4</th>\n",
       "      <td>00250118</td>\n",
       "    </tr>\n",
       "    <tr>\n",
       "      <th>...</th>\n",
       "      <td>...</td>\n",
       "    </tr>\n",
       "    <tr>\n",
       "      <th>52164</th>\n",
       "      <td>42508094</td>\n",
       "    </tr>\n",
       "    <tr>\n",
       "      <th>52165</th>\n",
       "      <td>42508095</td>\n",
       "    </tr>\n",
       "    <tr>\n",
       "      <th>52166</th>\n",
       "      <td>42508096</td>\n",
       "    </tr>\n",
       "    <tr>\n",
       "      <th>52167</th>\n",
       "      <td>42508097</td>\n",
       "    </tr>\n",
       "    <tr>\n",
       "      <th>52168</th>\n",
       "      <td>D30109-01</td>\n",
       "    </tr>\n",
       "  </tbody>\n",
       "</table>\n",
       "<p>52169 rows × 1 columns</p>\n",
       "</div>"
      ],
      "text/plain": [
       "      IOH - Item ID\n",
       "0          00250052\n",
       "1          00250053\n",
       "2          00250056\n",
       "3          00250113\n",
       "4          00250118\n",
       "...             ...\n",
       "52164      42508094\n",
       "52165      42508095\n",
       "52166      42508096\n",
       "52167      42508097\n",
       "52168     D30109-01\n",
       "\n",
       "[52169 rows x 1 columns]"
      ]
     },
     "execution_count": 97,
     "metadata": {},
     "output_type": "execute_result"
    }
   ],
   "source": [
    "valid_unique_skus"
   ]
  },
  {
   "cell_type": "code",
   "execution_count": 102,
   "id": "33a6e98b",
   "metadata": {},
   "outputs": [],
   "source": [
    "different_skus = list(set(list(valid_unique_skus['IOH - Item ID'])) - set(unique_skus))"
   ]
  },
  {
   "cell_type": "code",
   "execution_count": 103,
   "id": "760348fe",
   "metadata": {
    "collapsed": true
   },
   "outputs": [
    {
     "name": "stdout",
     "output_type": "stream",
     "text": [
      "['02561039', '31052032', '02696747', '02669203', '31479029', '31462026', '5009986', '04467120', '02409873', '02575140', '42440019', '03206863', '06208131', '58179037', '15750021', '02792117', '02606909', '50289934', 'R126919429', 'R12.30.700/680A085', '42694120', '02787035', '04393082', '04360108', 'No Part #', '30910018', '04492094', '02001145', '02606866', '02545864', '02787071', '5010634', '02049031', '02594289', '42035002', '04467125', '580827', '02696782', '04494314', '02579144', '04592210', '02579152', '02614590', '02606359', '31760440', '02592128', '02825003', '31780033', 'R126936299', '42508083', '02796285', '02594140', '42729020', '04293072', '02606883', '04492142', '02594331', '02574718', '04294120', '42552281', '30604030', '500-1689-009', '02674067', '30821002', '02508026', '02101076', '416.04.3804.900', '02569085', '31420012', '02788214', '42590601', '31027060', '02594467', '02612506', '03574262', '31750001', '02933002', 'D30109-01', '02501376', 'D000038701', '02594144', '32614002', '44908065', '04594405', 'H12L441007', '03207426', '04294049', '58179376', '04295587', '02594056', 'OQ0730002-001', '02424339', '02691168', '00266080', '02594191', '04489224', '02661084', '02311202', '02794024', '31052019', '02181009', '58179313', '02792139', '02794239', '04594399', '03481125', '5D79290G01', '31350001', '02794092', '04494299', '04567300', '42552271', '20201031', '44908057', '02220085', '04282123', '02645190', '03501532', '31760433', '59660427', '03230004', '58179285', '03296213', '04569277', '02580854', '02769055', '04532027', '02796094', '33102010', '04293018', '04396036', '02184262', '02718251', '30607011', '02692233', '42406020', '31468034', '31027041', '03379011', '04467121', '32609002', '02792118', '04393026', '20201060', '31471601', '02794224', '02580701', '02579157', '02896008', '02625052', '32825145', '02591204', '02594233', '44908008', '02594125', '02585617', '02825044', '00250083', 'R126943429', '03211075', '03085020', '04287002', '02440800', '04489018', '31420011', '42591134', '02594081', '02409838', '02533075', '43395063', '02569205', '02440922', '03210230', '02533080', '02594105', '02594492', '42519283', '31012222', '43008028', '44908055', '04594475', '025943333', '02694014', '02794115', '31765047', 'Q517800196', 'QN2501001', '31442004', '43270213', '31012060', '31501262', '04767037', '31760053', '04294050', '02401001', '44908066', '02594090', '04594306', '02210075', '02594313', '03207439', '02672165', '04393028', '04594487', '04593041', '612161', '02681145', '04294105', '04295558', '44908059', '02394119', '02051266', '02394099', '31232026', '04593039', '02825038', '04569145', '02596133', '02794240', '31321074', '00250094', '31731055', '02416768', '02047063', '04367190', '02594 632', '32614011', '02793021', '02594075', '31061008', '02424718', '20510030', '04489287', '43008013', '02533008', '02691100', '42648003', '02594111', '04592015', '02594327', '02696965', '02507361', '03481157', '02594356', '31747017', '02694025', '03501295', '00901012', '02596203', '04560496', '31760158', '42051056', '02441026', 'QJ1502051', '04392040', '02718257', '1C42654105', '00170076', '42519277', '31471725', '31728011', '42090074', '00250044', '04293017', '31761034', '58179013', '02825037', '04092003', '04567079', '43280151', '02394136', '32825142', '02594065', '20525003', '6900827', '02594202', '04269017', '04561205', '15750005', '31760403', '31760416', '5587B66H01', '31780063', '02579151', '31064012', '02594458', '02534418', '31765255', '02912019', '02012001', '04295589', '02569041', '20305011', '02825118', '31052007', '04292057', '42610576', 'QM1505057', '02047184', '02594333', '31734255', '44908050', 'R02690031', '04494310', '02672153', '02645142', '644355', '02533079', '02614071', '43270227', '02545822', '31734292', '02507366', '02416775', '03576027', '02021042', '20501014', '04283058', '03207401', '03508025', '42590645', '04295590', '02806006', '02374003', '31004005', '31471503', '02394072', '42590726', '31715022', '05025212', '02117617', '02607274', '31155730', '03084602', '03207242', '31765066', '04494019', '15750029', '31297258', '32825156', '30603021', '31734189', '31747105', '32528029', '31760412', '42552250', '31297146', '04601049', '00266081', '02692502', '31044005', '31723011', '03210284', '31035002', '1C42654H06', '31501035', '565686', '31058047', 'OJ1201034', '43395075', '02594222', '03296173', 'Q516400198', '42610229', '43395021', '02215171', '31765241', '31406008', 'QJ0904100-052', '02171925', '02415070', '04594386', '04492191', '03280510', '31770005', '02594354', '02507260', '42070047', '31479001', '04567499', '03565204', '02606858', '02672158', '02606898', '30607084', '02696905', '02067003', '04269022', '02825105', '03496141', '03496150', '02220082', '02001317', '31765328', '31734045', 'CJ1806001', '02534325', 'Q517106102', '02769051', '43220037', '03496137', '30606050', '02394074', '02662041', '30604052', '31055014', '03481172', 'MTA972256914', '04490036', '02567222', '06208130', '02825019', '02594161', '02825159', '02608005', '02594298', '02594315', '04594389', '02691040', '630512', '31471613', '31039030', '58179329', '02696885', '02394142', '02440019', '0429236', '02594466', '31052025', '02594015', '00296005', '20203023', '20202005', '15317023', '42519048', '31015013', '02676057', '02594324', '31423002', '31155423', '31191535', '02788295', '02645141', '03545010', '05192020', '03370643', '43008027', '42708086', '02394033', '00296002', '31479021', '04558452', '02825090', '02574120', '02582321', '30924023', '630643', '04261011', '04561059', '31479024', '02613152', '02558108', '20504024', '02201204', '02440970', 'D000039801', '02613153', '03296315', '02672160', '1C42390G40', '02594163', '05292133', '02001243', '02681142', '03296306', '5013911', '31297657', '02394021', '109387-001', '02180533', '31477021', '03496146', '02594248', '04094020', 'QN1513146', 'R126943449', '02101501', '31239010', '02781009', '02825046', '04590675', '02402011', '42555025', '02049079', '42520011', '02607271', '43208023', '45050169', '04293124', '04885019', '02579134', '04294167', '20722026', '04494423', '02825063', '02536494', '03255437', '31471600', '43096034', '03281427', '04567301', '02594209', 'R124.94.807', '31479011', '04591010', '02667148', '02594078', '31201008', '03496140', '31169025', '31471177', '02593160', '31765109', '02691172', '03501241', '02718821', '31765055', '00170095', '04593038', '03335337', '31747065', '43395064', '02796027', '02820161', '04361014', '31191062', '15636041', '43270042', '43270006', '02180428', '31707002', '04492232', '58.11', '31027031', '31747011', '31765067', '02534410', '1C42654H34', '02693171', '02793035', '04567376', '30836019', '42082011', '02594153', '04293090', '31416002', 'QM1713025', '02440739', '42202007', '02690558', '31765026', '04492362', '02683021', '02674066', '04489167', '02692598', '31705014', '05192025', '02075008', '04558641', '04594063', '04282036', '03207378', '044940011', '44908020', '02691150', '02691224', '04294121', '04290054', '02394102', '04494408', '43235001', '43262007', '500-1689-011', '6900824/5032341.01', '02596132', '02656141', '04780013', '31705017', '00253012', '02718220', '03576019', '02825129', '02585147', '404P55H48', '02392027', '02594212', '42027060', '02647165', '32825168', '02403014', '42026011', '31765252', '02049405', 'Q517106107', '04293062', '04292073', '43262008', '02579169', '42720007', '1C40895G01', '00266046', '02692281', '02762169', '03283607', '02696415', '31760423', '02067100', 'Q513700196', '31471462', '04489124', '31152045', '00144008', '02692268', '04603845', '42007002', '6900920', '43008014', '02781010', '20203021', '20203007', '31012036', '02691124', '02440205', '598207.03', '31734048', '02811200', '42685019', '02608006', '02394127', '03207421', '02811225', '02691199', '02750024', '04494325', '31022036', '5033540', '02667181', '03207355', '31055004', '02796277', '02424728', '04492336', '02590713', '31051013', '42070057', '04267129', '04390087', '15763002', '03207368', '04489223', '30607091', '32520010', 'Q518300400', 'R02695001', '6900919', '02581037', '044940010', '44908016', '04567524', '02594182', '31747024', '02500035', '03096273', '31471452', '42590051', '03206104', '02674069', '02696663', '04281153', '31470640', '00170053', '43262019', '02693068', '31760436', '31012058', '31430201', '31054036', '02794126', '32514037', '02536243', '02051201', '02681044', '31734202', '02596241', '02903003', '03481140', '02105433', '42556053', '05192004', '31765242', '02594189', '02594265', '03450023', '04367250', '03440117', '31501161', '04593144', 'QL0601001', '03207385', '02696158', '666000', '32115013', '58179320', '31765081', '03208344', '43008032', '31479014', '04492364', '02594348', '20719003', '03470325', '03560116', 'QJ0904100', '02594468', '15754009', '04361049', '43208018', '02687213', '02825101', '03296098', '04494023', '31734315', '02585100', '04563060', '31734035', '02769053', '5004990', '42590081', '02594183', '02596033', '04263702', '04583076', '04757009', '02047140', '31459002', '04365152', '04293130', '15621002', '43395009', 'QM1709019', '02594076', '02606901', '02912016', '42729063', '02530893', '33101007', '31297207', '31749016', '02508089', '03576029', '31155138', '02767039', '59660428', '04590023', '02608007', '04494445', '02607061', '20525019', '04294008', '31471716', '04282117', '31760444', '15823006', '31175083', '04492246', '43270073', '04562591', '02590274', '31765316', '31287012', '42051029', '58179350', '5023962', '04494404', '30733007', '04260919', '02181033', '02027059', '58179327', '42590688', '42591210', '31761050', '20722040', '31765358', 'R126919369', '04394143', '31734139', '31770009', '58212001', '02769073', '31765101', '15770087', '31001003', '03210670', '31152024', '02594070', '04492451', '03286001', '02394097', '43208011', '04567217', '30610208', '03401579', '05245020', '02594478', '02021044', '03208179', '02440662', '31727005', '04594498', '02596841', '02412845', 'Q517106109', '15731004', '02540516', '02825042', '03301005', '04489278', '04294131', '02451064', '02594064', '02606814', '31471488', '31155227', '31471720', '02576469', '32614009', '02394120', '42590677', '02692229', '31732001', '03280364', '02696738', '02590227', '03207367', '30924097', '04564278', '05021090', '04370223', '31015011', '31765103', '04567081', '02507343', '02825076', '02606946', '04261200', '00228003', '03206868', '02794125', '31765111', '02049323', '02767080', '31734043', '03207411', '04294169', '20511005', '02705647', '31780146', '02794133', '42552142', '42519199', '43270220', '03296196', '02594323', '03220137', '02080044', '03276425', '02496152', '32203030', '04594391', '55.09', '42590073', '02694020', '30924040', '31734003', '02694110', '02614027', '43096001', '42068001', '32614006', 'QM0201002', '04367134', '02662016', '02594260', '31201007', '15749032', '02825088', '31760063', '02594303', '31724001', '5029504', '30827001', '02569043', '04287004', 'MTA97260901', '20204017', '31321070', '04567304', '58179280', '02691017', 'OQ0301001-001', '02567553', '04282030', '05192027', '03401824', '5026153', '356696', '03080803', '04294127', '02594524', '580551', '02596806', '03201635', '15861002', '43208026', '31734047', '02606867', '02825084', '03080389', '02606932', '31204001', '15308024', '20525020', '58179218', '42067051', '42590716', '02676054', '02794226', '30733012', '42590058', '02667458', '5019375', '43208032', '1C42654H13', '00901009', '02696944', '31761044', '04494277', '02592229', 'OJ2601000-049', '02569009', '04594393', '02796075', '03207375', '5001044', '31761010', '04802003', '02674549', '02691161', '03507418', '02594280', '02184114', 'QQ1502036', '02435065', '02591406', '02047103', '31454004', '31780158', '31291007', '02590680', '02152030', '03280804', '42520065', '31761026', '02608706', '02663084', '03283530', '05281085', '04594444', '04361012', '02394067', '02825097', '04294022', '31206021', '02394150', '30607103', '04294118', '32614015', '612173', '03206006', '02047038', '02506026', 'Q517106103', '02409860', '42591646', '02794207', '31239041', '02549003', '04293096', '43095001', '02669200', '30911014', '58179216', '15713001', '31765403', '31297770', '02569268', '02681146', '02674062', '02669239', '04594437', '02788391', '86690', '04494296', '04494397', '02694005', '20519019', '470714', '02825091', '31051005', '02903006', '31501066', '04560688', '04094018', '04494317', '02594079', '04294114', '023690371', '42066025', '02794188', '5D73293G01', '02794053', 'R12936249', '02923038', '31177156', '02648428', '02047161', '02424762', '02794290', '05295089', '02310033', 'QM1709018', '15714007', '05258108', 'MJ20000100', '02450563', '31012069', '31471090', '04360129', '15749019', '31471021', '02723027', '02796284', '15321004', '02825108', '02606948', '58179267', '02696490', '04980161', '32614013', '31454010', '02564014', '31012219', '42440117', '31227046', '43270039', '03696073', '02696043', '20506014', '03207415', '31169024', '31297772', '02424767', '02594254', '43096138', '02594326', '15946001', '30607052', '02794196', '33102023', '43208031', '5024632', '31765156', '42580074', '03270539', '02919008', 'R124.94.811', '03207376', '02688316', '02409675', '03207211', '31760422', '02594133', '20525013', '02047159', '02558494', '02441029', '612154-1982', '31760101', '02409081', '32509131', '5018193', '04267148', '02580203', '03262138', '03206948', '02507346', '43008023', '02825013', '03507202', '51777', '42066072', '42063124', '05021001', '02614041', '02569177', '31765240', '02594008', '02796262', '31734295', '31012140', '31474009', '04294195', '02596720', 'Q514825200', '04601138', '02394086', '02648224', '31471724', '02594488', '02594288', '02681042', '5580B53G01', '42708082', '31731003', '04294158', '03401694', '03211227', '02081103', '31054005', '03220134', '5018117.05', '03450182', '42590066', '02394045', '44908023', '02825124', '02794227', '02567541', '02685160', '02692260', '1C42654H19', '43395043', '02596755', '04587007', '31760415', '02579147', '42175755', '02825040', '04358494', '31747029', '04594005', '04494294', '04494400', '15617001', '02825074', '04292067', '31027015', '31722008', '03574211', 'Q513700399', '31471205', '623226', '42068051', '03450014', '03064003', '02607269', '31760208', '31022027', '02594224', '02530210', '1B38037G01', '04294029', '02594480', '03481088', '30924111', '634124', '02594335', '58179185', '15661007', '02606873', 'OS2601000-008', '31780099', '31016009', '02825016', '02105428', '05021304', '31501270', '31437009', '02184402', 'X790025202', '04283040', '31734311', '02596019', '02580716', '31471102', '03207357', '58170020', '42082001', '03206870', '02594092', '42610006', '02674061', '03574008', '31734275', '02767038', '31469137', '436.02.7445.939', '02606930', '58179143', '02667159', '02175680', '31453022', '02825070', '42590062', 'Q517848601', '03207393', '170460', '44908010', '02674122', '02666519', '31765374', '31765236', '02912028', '02794194', '04293038', '02416055', '02596594', '02796042', '5006294', '02394122', '42608011', '31452007', '02674121', '31760410', '31501224', '02794288', '31424167', '02507347', '02592115', '30610105', '624437', '44908012', '43208038', '31760424', '31012062', '03207431', '5025227', '04281022', '31705008', '04267078', '04567308', '03208176', '03496395', '04282120', '04532033', '42591625', '02918005', '02683095', '02681149', '00979001', '02441030', '03081802', '02047073', '02667552', '03481137', '04259640', '04489046', '02574536', '02418224', '03470314', '02606827', '02440928', 'R126919409', '02522336', '04094017', '04269013', '43395055', '02409875', '43270102', '02788384', '31761052', 'D000038708', '02794067', '03485014', '15102013', '02606943', '820835', '02394167', '31471168', '04294222', 'Q517106001', '02591569', '31731051', '05180062', '04593116', 'D000070301', 'MTA97260175', '04567421', 'QL1805005', '04293105', '02607210', '02796011', '02594497', 'JL1101002', '03560154', '02394163', '623166', '04293101', '03201486', '04365869', '42037115', '15611017', '02796095', '02440689', '02047167', '02588001', '643122', '02594481', '31423037', '15708002', '02594440', '02594476', '42442141', '04269016', '42590692', '2681F46G01', '31760147', '1C42654H32', 'Q517848201', '43208036', '04569142', 'QM1805001', '02594245', '31760448', 'QM1709355', '02825014', '15194012', '02594451', '02594165', '03211269', '644089', '04294153', '02440818', '02707107', '02594220', '15750028', '03207422', '42582040', '04602006', '02594290', '04560453', '04767035', '55.05', '04258941', '32203035', '32825170', '20307006', '42051060', '1C43319G01', '02594240', '03507266', '02440968', '31502100', '02601166', '03576028', '03374009', '02607199', '04393035', '04593104', '05245033', '30607032', '31452004', '00257015', '02594114', '02794234', '04293085', '31453019', '03481158', '00266076', '04696001', '810780', '43008018', '02081106', '31468024', '02663069', '31321075', '02592112', '31760417', '42708088', '02692262', '03545054', '04560524', '20202004', '620524', '02614072', '02792115', '20204018', '42008050', '02507340', '31727010', '31429009', '31292048', '02594300', '43395077', '04492261', '02101009', '02692562', '02796059', '02794116', '02616151', '31004004', '5013945', '02794089', '30607063', '500-1689-069', '02416770', '02794287', '02692227', '03501184', '02794197', 'QS1704201400059S', '05180144', '03080481', '02545845', '04594526', '31460009', '03296150', '04294033', '02596308', '32825144', '03401629', '04761001', '00250116', '20507005', '42082071', '04281152', '03576020', '02825079', '30722014', '02585650', '43208016', '02594179', '31734144', '02718825', '04488006', '04360124', '04294027', '31747093', '31178007', '03476022', '31765341', '04489279', '02794148', '02796065', '02424323', '02667463', '100.8703.001B', '42741106', '02794260', '02540504', '03496597', '04592352', '02394109', '500-1689-008', '02794276', '02394139', '567482', '04492206', '32825167', '04360073', '109-390-002', '630144', '42037102', '02052076', '31479019', 'QL0904100-005', '6900239', '05160198', '02663038', '02687293', '645142', '02606896', '02540557', 'QL0130010', '500-1689-129', '02594208', '02576237', '04360762', '02503022', '04295524', '02608645', '04294349', '02695151', '0250814', '02693003', '30801005', '31058001', '1C43409G01', '31453028', '02691162', '02508041', '04489132', '02535868', '02692236', '02435076', '02794280', '02101440', '31292012', '02594055', '02796251', '6900864', '31478016', '6900913', '31471014', '02691177', '02585096', '04294111', '04492445', '04094019', '43008038', '31469154', '02811171', '02815034', '02507348', '02175667', '31249010', '02394145', '03565211', '02717827', '482407', '02667479', '31058026', '02394088', '03370703', '02607273', '02180264', '15656002', '03207428', '02625065', '03576033', '02408023', '31479005', '04269008', '04294420', '31423003', 'Q517105701', '04294159', '02670231', '04567188', '30911004', '02666076', '05151046', '042941223', '15652002', '42686050', '03208341', '02594230', '05258095', '20514079', '03216065', '03207377', '31760061', '02594314', '5006374', '31204003', '02676051', '31765364', '02594177', '31204010', '04582194', '43208027', '31470560', '02101072', '31501102', '02594086', '02594118', '02594291', '42556006', '15750007', '04667025', '026-92-215', '04494015', '02412653', '02794176', '04293009', '31453024', '02187696', '31291002', '04492354', '5D73363G01', '02825094', '04569244', '1C41793H01', '03379013', '31297267', '5D73309G02', '31734303', '02450201', '31479016', '02625044', '42670001', '02592130', '610222', '02594211', 'N840-7700-001', '03204062', '03379017', '04395139', '02580602', '04250099', 'R126935619', 'QL0800001-019', '42590052', '675153CS', '20722028', '5011808', '42590053', '03296189', '02594232', '04587028', '02440024', '647318', '02596439', '02606928', '58179233', '42424828', '04567384', '02691107', '02667335', '04601020', '02694021', '05167004', '45050166', '31765021', 'R02690116', '04595401', '03379003', '02051223', '31760414', '31469145', '03901022', '02796043', '5029344', '6408306', '02825058', '31725001', '02394101', 'NM0110134', '31474011', '44908049', '42508002', '42590694', '04594388', '1C42390G39', '31502032', '02049034', '42730001', '00250084', '03480216', '03207400', '31015014', '45050152', '31468013', '02440982', '02594310', '58179238', '42519240', '03576025', '31761033', '05192014', '04489202', '02811240', '31731045', '55.04', '03496134', '02695312', '02569155', '00250092', '02440022', '02691139', '02796319', '03296145', '58.09', '03270010', '31765331', '02580758', '02787105', '02047147', 'QM2513005', '02794161', '31760401', '31734177', '03307001', '31728026', '58.14', '31760123', '33103022', '00170049', '32204002', '03550070', '15750025', '025940338', '31760211', '02692266', '02593129', '689823', '04492356', '02579168', '04560692', '04294031', '31429008', '643109', '02412841', '31734322', '31731041', '03207391', '32601001', '43270214', '02424634', '02576067', '109-390-007', '02567103', '03211281', '31747109', '02440985', '03207418', '500-1646-002', '44908053', '02592120', '31731006', '02594312', '31760065', '02912026', '03207360', '20722081', '02508018', '02615134', '04281149', '31027043', '02679001', '02606879', '42610195', '31429007', '03207359', '5572C64H01', '02590372', '02440966', '31058029', '31155728', '02692230', '02694544', '42694052', '02440963', '02692223', '31054014', '42625002', 'Q517610101', '31145092', '42708080', '03501349', '02164012', '31055024', '20201009', '02692253', '31760427', '04293058', '02596124', '02049314', '04569210', '03208115', '02569279', '42508100', '32110012', '6900855', '02606859', '04594039', '02409855', '02794167', '02409155', '02825041', '02201734', '03201639', '04494291', '32825087', '02825069', '02614038', '00170061', '31153006', '31471124', '02594307', '02394118', '31760454', '03274004', '515622', '43096214', '02455070', '42708081', '43270244', '03207201', '02576891', '31734132', '03370745', '42737015', '45050013', '03481016', '03262139', '02594115', '31254007', '02820158', '31207026', '8588C74H31', '02769070', '31731026', '04569175', '1B37782H01', '02581012', '31297769', '02207001', '31452003', '03501436', '43395042', '02567618', '43208015', '42694044', '15750016', '04567512', '00879002', '31760122', '31750003', '31761008', '02435025', '03301018', '02825020', '02527270', '02667177', '43280078', '1C42390G01', '02394169', '03550058', '31202002', '03280496', '1C42654H25', '02170337', '02005004', '02590665', '02788254', '02787147', '2681F4G01', '02101073', '02501314', '31052024', '04295534', 'R142.94.816', '31747016', '02535174', '03252607', '02769069', '20722077', '03283597', '31760204', '30601132', '15750026', '02596208', '02047146', '04592250', 'Q517106110', '43096012', '04961003', '43008026', '58179318', '02679006', '05258106', '02596126', '31239013', '02167622', '03370705', '03094301', '03481019', '43252003', '6900880', '43208020', '31760430', '6900857', '02769057', '02781030', '03480011', '04594165', '02574046', '31760426', '02686936', '42409859', '30812002', '42610199', '42737002', 'QM0116035', '03910006', '42591647', '02825112', '04494290', '31723012', '42519259', '31420002', '31704001', '04567075', '15770138', '31760132', '5017904', '04592522', '02694015', '43008033', '02587093', '02567042', '02409835', '02825059', '3A63266G01', '03255483', '31350002', '03296179', '02664005', '598207-04', '31047038', '02594420', '04602651', '02767129', '03207624', '02794154', '04494315', '03401378', '04980323', '20705012', '15733004', '31412026', '02594234', '31761022', 'QL1409001', '02796275', '02540561', '31760452', '02610800', '03481037', '02416759', '03564272', '04567329', '02663033', '02105436', '04532032', '04594432', '31749005', '15750002', '00276707', '31765034', '02606920', 'QM0800001', '04561397', 'OJ2101001', '43280184', '02688076', '42590628', '02667056', '614727', '31047048', '02667092', '02594122', '02056010', '04590531', '02667555', '30607093', '02781003', '58179277', 'Q517848101', '1C42944H01', '43208028', '02571453', '31760216', '612170', '31027003', '42565025', '03565208', '04494169', '5007464', '31705024', '31471467', '5028080', '15644007', '31760209', '58.01', '675154', '43280025', '02667382', '02056005', '03210070', 'Q517800193', '31760432', '31731036', '31770011', '02606054', '03496142', '02718202', '02594047', '20722036', 'R125861249', 'QM0705001', '03507174', '05292223', '15401001', '655995', '02687263', '04583080', '02794094', '31761055', '02694004', '31720016', '31761029', '32528025', '236C1470G4', '02666089', '02107119', '02594433', '02594349', '04569274', '20705007', '31780038', '5021992', '02047160', '05292192', '02618207', '32101033', '02594328', '31479015', '03208320', '02606953', '02607275', '03207022', '02569296', '02591556', '42590087', '04587005', '30603003', '03575134', '43280066', '02794123', '02130018', 'R4295150', '15194039', '03495900', '02825045', '02825012', '43208039', '02718952', '04395045', '02716503', '15770180', '04367035', '03496853', '03481174', '04390157', '03280164', '02788339', '31010030', '31760131', '02120528', '02606834', '02794069', '31167049', '31239014', '15924005', '1C42654H37', '03207379', '02751057', '02686005', '04492363', '02561082', '43208014', '04395149', '04494405', '04494292', '04294130', '20705017', '02656146', '02407028', '30604053', '03507422', '31055006', '03496887', '42721002', '04360337', '31761009', '02796276', '02394105', '02692278', '730781', '02594218', '04994027', '04489117', '02745030', '42066001', 'QM1502039', '31050031', '31467001', 'Q517106101', '05040083', '02767010', '02825048', '31501147', '02392031', '20513006', '04580048', '00170063', '02688031', '02594536', '15660003', '31760151', '31765269', '15603015', '824436', '42590063', '02533071', '03508021', '31232040', '31468030', '04282027', '05283029', '02594264', '02691200', '04596093', '02184509', '58179012', '04494016', '31747103', '43270224', '04595321', '02691159', '02441027', '02594223', '03495901', '31765165', '02825005', '30727001', '02825017', '30607026', '31474018', '03333502', '31052033', '03220415', '44908015', '02507103', '04594400', '02435092', '02201582', '02667037', '20314001', '43208035', '42630030', '3A63173G01', '02607276', '04567071', 'QM1713026', '617345', '04966005', '615782', '02682029', '02694092', '02594084', '02416112', '30838005', '5033301', '31760215', '04542180', '04294032', '03201485', '02787012', '04489300', '04495018', '03235026', 'Q513700397', '31155323', '02606865', '02403012', '31423034', '02787031', '02825011', '02556033', '03481064', '05245032', '02825106', '04494500', '5013248', '30818008', '02682024', '30607082', '04293075', '00133018', '85928', '31351004', '31501127', '32825153', '02667236', '5586B7406', '31415006', '42644011', '42705002', '31006008', '02450729', '05192026', '02691137', '02692264', '02825043', '04367044', '02567906', '02596579', '02667219', '02101462', '02794242', '02606835', '02440627', '02667583', '31501013', '58.15', '42090002', '31761011', 'Q517106104', '409P190H92', '04260582', '31471721', '04293066', '20504020', '02125105', '02686823', '31731013', '122998007', '42705003', '03279008', '31760148', '02606940', '02594188', '02507100', '02450205', '31055034', '02912032', '02534508', '30910021', '5586B7H15', '03296118', '02594477', '02825021', '31715013', '02667167', '02440232', '02201585', '02696155', '03096233', '31155731', '03201632', '43262010', '02412952', '31055017', '1656E35G01', '02606851', '02794151', '02683037', '45050001', '6407674', '00170031', '20702005', '04294200', '31765046', '02201391', '02394137', '03560104', '02610798', '31432002', '04192015', '20510040', '04596012', '03080604', '04567147', '31734070', '03208106', '1C426554H24', '02594001', '44601049', '630807', '43096035', '31038016', '04569133', '02825071', '33101003', '02534402', '42418007', '03481151', '43280004', '42630009', 'N8405300-001', '2681F58G01', '02408015', '02394020', '03495278', '31191684', '31765070', '03283050', '20201033', '02533070', '31718002', '33101044', '42036055', '02051154', '30607092', '04594440', '02692265', '02767949', '04492253', '02567119', '02412782', '03496633', '02667588', '31467008', '58179317', '644350', '02594068', '02682028', '02666535', '31765334', '31727011', '31760144', 'JL2601000-011', '03206871', '03296319', '02569388', '04560469', '00250061', '00879001', '30603020', '02688132', '02424305', '03208097', '02175673', 'Q513700396', '31478014', '02435001', '02594319', '42590662', '20525002', '02576040', '04567276', '15605016', '04293111', '02825066', '31007002', '04489240', '43270219', '02667243', '31471714', '02047105', '04294163', '31058011', '02569024', '32825172', '02594523', '02504237', '31423073', '31760149', '31760054', '03079011', '42580042', '02606850', '03211246', '04292259', '31434023', 'D000025602', '05296060', '42508084', '02794124', '30923026', 'OQ0301001-015', '31012014', '04562668', '02440959', '02794143', '42694187', '42590603', '31010013', '02794203', '31044003', '04560956', '500-1689-072', '02001103', '02792078', '03576030', '1032-38-019', '31287004', '31761036', '03476118', '02416056', '02686004', '04294143', '02588014', '43208024', '00235035', '02606885', '03207387', '02530246', '03296412', '31012057', '31765027', '02825030', '1B37215H01', '404P891H45', '03210916', '31765247', '02201155', '5D79025H01', '04593103', '04593101', '42657002', '31055013', '04365890', '02569302', '00228002', '02184117', '02535195', '31501009', '03496391', '02594131', '02825093', '42608001', '5D73180G02', '02667995', '02606869', '02696947', '599216', '03208121', '43270209', '31760411', '31726027', '04489120', '30604015', '00257034', '644514', '500-1754-002', '04885007', '6900858', '109-390-003', '31232004', '31479022', '5D81513H01', '03508014', '02394123', '02570561', '500-1689-004', '31501010', '31747106', '02594029', '58179076', '04594394', '02450553', '15194008', '02796044', '02184119', '31770010', '730782', '31012063', '02606905', '31761007', '02811251', '31232024', 'LC1802001', '15324001', '31012089', '03296146', '04293005', '43262013', '31725024', 'Q517840201', '04467144', '5966941.01', 'QM2301014', '00250060', '42427010', '02594448', '04592247', '31058010', '31715020', '33103109', '31016022', '02606897', '04293086', '02793025', '5018194', '02606813', '31734161', '31501015', '04462001', 'R124958739', '02794078', '02394156', '03260058', 'Q517848501', '30603008', '02663090', '03379016', '03501367', '02592122', '02590751', 'J362553009M', '00144013', '630641', '02424604', '43280002', '44908002', '02672151', '58.16', '42545013', '02594435', '43096232', '02570069', '00250111', '04607004', '02696940', '02594157', '31232021', '31422002', '03379015', 'R126919419', '31760141', '02825054', '02690118', '04532028', '02811193', '02594124', '42082012', '02788253', '42741063', '02594018', '02696979', '15624001', '02904006', '02201002', '02667411', '42708083', '02508025', '02435066', '31502119', '31765502', '59660941-01', '31244002', '31734231', '02606528', '02047101', '02594164', '5D73284G01', '02594351', '03545063', '04569147', '02394098', '45050042', '02606956', 'Q5187212001079', '02825120', '31501019', '02767126', '02667285', '02074375', '30924020', '03296174', '30921003', '02040072', '04594459', '02441028', '02394085', '02688007', '02825128', '02592222', '02569197', '02394064', '31703012', '04292099', '02567033', '02667945', '6469497', '20203066', '31471024', '31297077', '31765243', '03418150', '31297177', '02592126', '15660002', '31760463', '31058027', '02594166', '02020022', '02561078', '31045014', '33101022', '03084102', '31152060', '02440973', '03280284', '31479028', '02409080', '5D79231G01', '00262051', '02540572', '02418004', '02394112', '42685038', '03333123', '31287009', '02825008', '31765064', '02760022', '02732003', '500-1689-056', '32204001', '03575054', '02409163', '03490049', '31012129', '04592003', '31471602', '32528030', 'AV000011', '31722007', '02594057', '04494368', 'QM0904100-050', '31045037', '42591132', '04292227', '02794097', '02105437', '04287018', '31012135', '3A63166G05', '04494021', '02111079', '04560485', '02691141', '30832002', '02613052', '02533010', '02658121', '02690144', 'QM1513115', '02630112', '30910013', '04290060', '02047137', '02606824', '02825130', '02590727', '31155765', '03575042', '31289004', '02674063', '04293097', '03496096', '03481173', '02394047', '02450959', '31479030', '31191155', '31747006', '31765108', '04282032', '30496210', '02670204', '42693006', '40801002', '42520026', '04563122', '31047014', '02696808', '04498191', '31761015', '02594355', '31761013', '02101253', '31471022', '02507235', '04583025', '43101057', '02825032', '04293119', '04569146', '31291006', '31765038', '15405005', '31725013', '03535009', '04269003', '6448408', '04292031', '31155740', '02412256', '31423036', '02558421', '02047185', '30607013', '02583024', '02530825', '31747044', '02540210', '02686003', '02691152', '02594130', '04250153', '20205005', '42552074', '31012105', '04583026', '02596407', '33102016', '31747015', '03210067', '20307005', 'R12634004', '02409672', '31724002', '30723015', '02519008', '03283325', '02614151', '02820156', '04567603', '31227035', '03220348', '03401396', '31765256', '31765327', '6900828', '31297237', '02579158', '02695260', '32528032', '43220002', 'QC1101001', '04281059', '42590636', '04494351', '03084552', '20204019', '04532031', 'M010210001B', '43270248', '02394095', '04494300', '02685225', '02718203', '02569086', '31297310', '02594415', '31012020', '02794144', '02606862', '02615139', '15770068', '42552068', '02811235', '03481006', '02592107', '32825164', '31760434', 'MTA97260188', '44908006', '02172002', '31249001', 'MTA97272564', '04281154', '03910005', '31746008', '31471562', '630463', '02579149', '02408021', '02794025', '02718237', '611890', '04287792', '02311259', '31734164', '31765250', '02667253', '15846034', '31502036', '03485044', '31501259', '20508009', '15762003', '31705003', '58179081', '1C423399H01', '03481167', '31760051', '02580968', '31239003', '510-433-001', '02596035', '02811167', '02594195', '31780085', '04494385', '02688065', '03301002', '31012018', '04292048', '44908009', '02594341', '500-1689-076', '42583015', '31734336', '02201163', '31477004', '02593193', '31424166', '04492293', '31765160', '31431014', '03501172', '31746009', '03207397', '02567043', '31734317', '02788201', '03079025', '02594409', '31169023', '02534408', '30840002', '03207406', '03496147', '42507100', '02574537', '04489295', '100.8703.002B', '31027013', '31765147', '03207200', '04492158', '02667980', '02594347', '30720006', '02767105', '02825114', '05258065', 'QN1709206', '31728023', '02595054', '565771', '31054007', 'R126919599', '02424304', '02082003', '02825031', '05283030', '32614001', '02769043', '03496346', '02569269', '02592131', '31015012', '02201200', 'N8404000-001', '02750027', '04567514', '669732', '31401012', '02394152', '404P532H71', '02507266', '30603038', '02545031', '15140008', '02667214', '03401053', '03206866', '31746010', 'R126943559', '58179219', '04293317', '04393024', '42580087', '02047173', '02666071', '32825158', '04265020', '02394108', '02681026', '31039010', '02795045', '02896001', '42519126', '02644003', '02310164', '04282009', '02601187', '32825160', '02594083', '02507232', '05292132', '02825078', '43208030', '31194414', '02569030', '02593050', '02155031', '02107105', '20317001', '04267157', '02545901', '05290723', '20201030', '03220293', '15771007', '02594350', '15917004', '02545831', '02796137', '02733009', '043960036', '04867013', '15636010', '31051027', '03508023', '43252001', '04492399', '31780141', '04494406', '31465029', '02594345', '31433001', '02591571', '31045036', '31155737', '02794216', '42519249', '42519104', '02412654', '02694532', 'MJ10100100', '6900863', '31501268', '02394100', '02686804', '20722063', '04489254', '02569169', '04281058', '04492222', '31501211', '31453026', '31760055', '42625007', '42694144', '04587068', '02403052', '31437007', '02394144', '02794185', '43208019', '02696644', '31478020', '31720018', '31760445', '31727002', '31746013', '31423079', '06208129', '02096014', '32825173', '03450126', '04594457', '02077071', '04487045', '02692203', '02590285', '42590059', '15619002', '02594274', '02394141', '04217778', '02507207', '43262018', '02594475', '04494476', '02587087', 'R126936249', '404P173H81', '43280042', '31501115', '02717238', '44908013', '04594486', '02394147', '02811013', '31747094', '086327', '04290058', '02794155', '04492132', '6468917', '02579161', '04282018', '02394140', '04492260', 'OJ1201009', '04590671', '15750017', '02590147', '500-1689-055', 'D000025603', '31765513', '04594443', '02533072', '31501184', '1C42955G01', '31731004', '04602995', '15192015', '02594006', '05021334', '02220079', '5572C64H03', '02825049', '31101009', '31052031', '15624004', '02077043', '03207416', '02596304', '02183606', '04569209', '04593127', 'MJ22500000', '02567584', '31240013', '04601045', '31423020', '416.00.9106.900', '31760419', '20203053', '03208345', '04394024', '31734301', '03481100', '31471717', '02610795', '02825035', '02896082', 'R126943419', '31479008', '31734142', '30604066', '44908051', '42580043', '32528026', '02170252', '31731052', '02594227', 'Q513300100', 'R124.94.815', '510433-001', '42590007', '02101249', '02667168', '02691197', '02794208', '31047039', '03496138', '02644002', '02769074', '31006007', 'QM2401100', '42710002', 'R124.94.805', '31770002', '31297239', '02047142', '31717021', '02071008', '02923017', '31765058', '500-1689-128', '04494484', '02594330', '20201001', '31478011', '02394084', '02201757', '02594117', '03248356', '02811188', '02047181', '02403050', '5004712', '03207405', '05290710', '31478017', 'Q517106105', '31715010', '04493024', '04367145', '04569212', '6157A02H03', '02688035', '58179321', '03450068', '42590209', '30603037', '500-1689-052', '02534423', '31734200', '04393067', '42442145', '02594308', '04567601', '31744004', '02594521', '03901023', 'QM2401101', '02667955', '31468022', '31478004', '03084600', '02695364', '31502105', '02767155', '03507417', '43262009', '31161055', '30826001', '02681024', '42008102', '02606800', '31471461', '4569B66H01', '03501128', '05233008', '02691251', '42308001', 'H12L441003', '04964126', '31424161', '02570715', '30607102', 'QM1709300', '00224004', '02718247', '03379010', '05258081', '31402003', '31402012', '04492056', '02761013', '02718255', '02796049', 'D000034401', '15770202', '3A63174G01', '02535007', '04370010', '04994029', '02805035', '6900862', '42552082', '02530851', '02896044', '03207206', '02670228', '43008022', '43262016', '02825062', '02583043', '02047141', '02692646', '04489208', '02394028', '02825067', '02440997', '04489074', '04560452', '02596587', 'QE1709217', '43280050', '31423047', '02592119', '58179360', '02594026', '02594236', '04756067', '04532030', '04867032', '31191350', '44908048', '02794292', '03207412', '03910007', '02367006', '02569113', '02686968', '03481121', '15841001', '31191021', '42741054', '30826002', '04601054', '04594112', '31760407', '02667571', '03207430', '02692255', '04569149', '02691104', '31738002', '30607109', '58179377', '02606845', 'Q517107904', '02594261', '02063066', '31734207', '31734254', '02594439', '43280008', '30610225', '31765344', '02101250', '02152057', 'QN1709207', 'QV2401101-002', '02606811', '02533011', '04532029', '31155378', '31194415', '02496112', '31227028', '03501431', '02625049', '04592254', '02790534', '02594249', '109-390-006', '04293095', '42582006', '31750005', '02717832', '31780105', '31012148', '02667614', '45050012', '02507195', '02825064', '03910004', '404P617H33', '43270040', '02794198', '31760062', '58179107', '04460714', 'Q517600299', '416.07.1060.904', '02107116', '02788255', '42095001', '04593130', '02570019', '02508029', '31765254', '04967010', '02594322', '03220502', '04488002', '31058025', '42590103', '1C42654107', '02049048', '58.08', '04592014', '02267009', '04964001', 'Q517848701', 'OQ050133', '02175664', '04593061', 'Q514825300', '42608015', '02533076', '02001150', '02594352', '02606891', '04267160', '31230007', '02522301', '02794164', '42552151', '15750006', '04960001', '03496011', '42737059', '02594242', '20722096', '02594171', '03220483', '32614014', '02579153', '04594411', '04594329', '04492045', '42591089', '20722075', '02825024', '03210617', '20307010', '03207437', '04367025', 'D000031133', '02811253', '02796294', '02596284', '42608004', 'D000067502', '20305008', '05290728', '31760402', '31479026', '04569237', '43208042', '43008031', '02692238', '15771014', '02435075', '587632', '02691184', '02027158', '02788358', '04590299', '03091008', '02666512', '31731002', '04293077', '03220600', '02176285', '02692452', '02430007', '02908004', '31501090', '43096210', '31761051', '04596104', '03208090', '04294161', '03507231', '15636046', '03255436', '04593100', '43270023', '31760143', '03207365', '02833004', '04532005', '04510188', '02596513', '31780060', '02601015', '42608013', '31479013', '03901001', '02594469', '45050173', '42590665', '03210254', '03910002', 'MJ20500000', '02781011', '04365044', '02825122', '5018473', '02651122', '04492361', '31702008', '04295047', '31734010', '02534004', '04283022', '02049324', '02606716', '42608003', '30604043', '04294172', '02667048', '02215175', '15609002', '04293125', '04495066', '02896088', '15640003', '04590648', 'OQ2006001-024', '02374004', '42440053', '02107120', '31232042', '30607094', '03208098', '630785', '58179334', '03210562', 'A2V00001026221', '02676034', '31240050', '02594235', '04494470', '58.02', '04293107', '03292018', '02105432', '43280007', '03227011', '30859055', '02412451', '03245001', '02369004', '04092011', '03276788', '04067128', '02585082', '43096020', '04293140', '03501844', '604183', '02145011', '15117002', '04386219', '02001289', '31321069', '02047056', '04492109', '42063007', '02594358', '32614012', '04295245', '03576034', '04560885', '02020038', '02606904', '02794281', '5016675', '03207404', '02001230', '026901256', '02606938', 'R124.94.803', '02594145', '02594019', '02580707', '31749010', '42556200', '31752020', '02670230', '02790126', '02409657', '02667962', '43008020', '02606720', '02594309', '42601002', '31747060', '02576344', '31191644', '02594241', '02601062', '02606819', '504.8250.010', '02155032', 'QV2401101-001', '02614039', '43096116', '04092001', '20203019', '02594067', '43270207', '6900891', '02596775', '31501168', '1838169G01', '02540019', '30607065', 'X790023101', '04506189', '02667136', '02210056', '31047046', '02594139', '03080591', '02820159', '03207417', '02180288', '02688161', '31501165', '03085660', '31153007', '02732004', '02718200', '02201741', '31050017', '02825117', '43240006', '31752001', '02750165', '31423105', '03910001', '31469143', '02825060', '02588016', '02175678', '02591626', '43290062', 'MJ11100200', '02394115', '02101010', '02781004', '31155776', '31760067', '42590048', '63381163', '02606910', '43270186', '02574538', '02606931', '31050036', '31169026', '6900861', '03207370', '03207374', 'RA2010204-001', '00170001', '05396006', '04594439', '42656012', '02693525', '5010633', '02475010', '6465222', '05025214', '04281068', '02440743', '02569281', '04494428', '15214004', '04267209', '02569198', '04594291', '02592135', '02825083', '31253040', 'D000070201', '02534443', '02594243', '31155105', '04461010', '04595324', '02101805', '30911013', '31705018', '30831005', '42556057', '30610054', '04282031', '31760442', '43270222', '44908030', '02794199', '04283049', 'JY0700001-031', '03276783', '44908056', '31761043', '04494411', '02606902', 'QM2301019', '02536105', '04393025', '5D73285G01', '31177014', '15144020', '04293056', '02594302', '20305001', '03076028', '02496150', '42519058', '31703018', 'D000082401', '04594563', '04601041', '31765057', '02594255', '20702002', '32509136', 'Q517800198', '02594120', '02670232', '640435', '630475', '31780011', '03595002', '04756091', '31155133', '31474032', '58179312', '43270211', '31244005', '03207528', '02769054', '04293021', '02761020', '04592066', '02450552', '02606899', '02825089', '31770115', '31478008', '42552953', '04294173', '02592118', '31188021', '02416114', '02614186', '20722055', '04980254', '03470282', 'QM0302030', '02606892', '31155768', '04593037', '04569053', '31401020', '02614044', '04594040', '31760050', '30610124', '02576464', '31761023', '43096278', '31239037', '03270015', '02606906', '42545007', '03296286', '02825113', '42308003', '02579154', '02504032', '58203002', '02047100', '30607104', '02409154', '31760462', '04595325', '02695311', '02187504', '04394140', '02001313', '31749003', '02594299', 'R698592', '02394059', '15194013', '42590037', '42741007', '99211674', '02663003', '02601113', '03096242', '31780077', '3937299', '43262021', '02424381', '02424010', '32520021', '02692245', '31736005', '31191473', '15802001', '1C42402H01', '03565074', '03273009', '04294171', '03508027', '04294154', '32825174', '42440102', '03901002', '02594423', '31765359', '04885012', '02424731', '31502042', '31731047', '31765216', '31351002', '02594474', '33101002', '02648286', '31436013', '31765234', '04601590', '31159002', '02176286', '30812001', '15605010', '500-1689-044', '30722003', '02594162', '04490043', '31477018', '02796041', '02440938', '02594251', '03296160', '63381156', '02681043', '04294189', '02409841', '02594432', '00250029', '04594060', '31291009', '02825028', '02796012', '15162003', '03333323', '31022028', '31015005', '02105430', '04282121', '02576460', '31471400', '02767099', '02394133', '02416337', '31565511', '02794282', '58.17', '02661024', '03496856', '20722056', '03555217', '02806032', '02574700', '15721006', '02535170', '31351001', '42552024', '02692228', '31501145', '4768A99H14', '32621003', '03496136', '04994028', '58179375', '31058005', 'PV1802005', '02021046', '31155301', '04492120', '31734277', '02540576', '31206001', '02049082', '04489294', '02825056', '02047162', '02075020', '04494407', '04294053', '02787003', '02569213', '02440930', '02594357', '31050013', '03758002', '42503024', '32614008', '04569168', '5D7137G01', '42066063', '31471723', '02825072', '31047024', '04569150', '31239018', '04290062', '03481045', '02440014', '30847010', '42556004', '02594630', '404P480H38', '6355398', '31163306', '03481015', '43270001', '02686176', '02594317', '02545848', '03490043', '04394076', '02594203', '02691220', '00257019', '02685239', '02418220', '0469181', '04293042', '31501159', '02507124', '02688034', '04393055', 'MJ10000100', '6943460086', '03480021', '31731056', '31153001', '02574048', '562782', '02667638', '04361063', '42552128', '02594113', '31731007', '31012012', '30610117', '643101', '04294350', '03585072', '42590106', '02001138', '02606886', '30607048', '31706003', '02667707', '02594316', '02412660', '04492348', '31132090', '3A63171G01', '31765249', '03496067', '02666846', '04569236', '02681144', '31734219', '31440033', '02685198', '04382220', 'H12L441006', '02540016', '15708003', '20204001', '02592100', '31239011', '02545907', '02825055', '05067001', '42308007', '02825107', '02594329', '31765071', '04966006', '02825006', '02674124', '43096155', '02683041', '04560483', '42552154', '03495058', '31734270', '02607268', '02625053', '02615137', 'QM0302084', '03501347', '02606941', '02594258', '02696946', '04294137', '02569120', '03207394', '0429125', '02594376', '32825161', '04367185', '03481082', '02825022', '30603028', '02805044', '02718201', '04567101', '04867010', '6D61473G02', '02220078', '58179246', '02696300', '5020386', '02825015', '02435078', '05290825', '02424600', '04567230', '02606802', '03430001', '02672159', '03496151', '15403002', '02794075', '03230102', '03206865', '58.1', '03405002', '02658069', '02667010', '04489191', '31239004', '02606116', '6900832/50028769', '02403020', '02567049', '43395074', '31471063', '31204007', '02794184', '02781008', '04560466', '1C40899G01', '6900867', '02606818', '03208089', '03207361', 'RA1420474', '02692206', '02769040', '02450587', '2681F52G01', '04094021', '15924003', '02676055', '03207403', '42590610', 'Q517600198', '03096230', '45050019', '04492327', '02825073', '31501020', '31760142', '02507363', '03296180', '15812005', '04587002', '03225158', '04494390', 'R124958719', '02825121', '31765318', '02440242', '02811163', '1C42654169', '02825029', '31453030', '04492238', '02201101', '30912003', '621889', '04260775', '43395010', '03360709', '42708084', '31453013', '03280447', '04594312', '04293115', '03263002', '02666843', '02696779', '31015002', '02596204', '03207409', '00215002', '02576037', '31058022', '31765515', '02210079', '42737044', '30610053', '03574258', '43008019', '02585604', '02794291', '00228006', '33101004', '00250039', '03207382', '02693142', '04594390', '31734079', '42608012', '42567039', '31726028', '31155320', '02570028', '42051057', '04282088', '31734296', '32609004', '02606832', '20722024', '05092012', '04561398', '02569358', '31734291', '30801004', '03207388', '04560476', '04492386', '32825150', '31734006', '43208041', '04593105', '31761012', '31770003', '02594180', '500-1689-007', '02590475', '04293025', '04567010', '02408018', '31502121', '03207410', '31731053', '02215174', '31731011', '31760408', '31726008', '02394151', '025940378', '42552951', '04567172', 'H12L441002', '31155656', '31761024', '04492349', '04489236', '02051241', '31729004', '02310120', '44908011', '03210197', '30610215', '02533012', '04058019', '31423019', '02694024', '55.06', '02596016', '02590673', '02825053', '1A97529H01', '31703010', '02596532', '04267307', '02769056', '02596101', '42610203', '04592252', '04282034', '04281148', '03207371', '02825110', '02508040', '04293139', '02409854', '30832016', '31437008', '04294026', '43216006', '02606955', '31722005', 'D000082402', '31287011', '04293004', '42710001', '6408310', '42729062', '03481087', '643118', '30827008', '04267204', '02615136', '30827007', '58179301', '02672170', '02561194', '15194007', '04756068', '6900829', '02691174', '02691005', '03208108', '05261225', '03501028', '03208096', '04494440', '5034038', '31765320', '04294108', '04569086', '02594490', 'QN1709339', '03207413', '02508078', '31155111', '03220056', '58179284', '02585618', '32117018', '02820160', '58179243', '03481078', '04294128', '42442146', 'QM2010009', '5024314', '03220208', '03576024', '31780132', '03206860', '31765321', '02067042', '31761021', '02607272', '04295037', '05283031', '31153017', '33103008', '02694002', '6900859', '02594292', '31297086', '31156005', '58201001', '03496115', '31765289', '02606933', '30713005', 'MJ20100101', '02201758', '02023001', '31479027', '31761037', '00175003', '31742008', '02686006', '622068', '31178008', '32825169', '05290725', '42608019', '03507319', '43008025', '02594012', '42308004', '20202001', '02825039', '43096104', '02691093', '31770012', '30722017', '03401004', '02394126', '15749022', '31765237', '04563030', '31724003', '02688133', '04294123', '42590054', '31479010', '02676056', '31760064', '31232002', 'QM1709354', '15749023', '02696992', '02594311', '31207037', '624000', '02606934', '02606952', '404P173H82', '31297148', '02794235', '31012127', '15307007', '31765510', '109389001', '04293070', '02590077', '43096111', '31734337', '02683039', '32509135', '02579155', '04593129', '02676052', '02676058', '30816008', '02594027', '5075504H01', '31765239', '31429005', '02596111', '15325015', '02047099', '03415070', '31234025', '30726002', '04590591', '03096105', '30607044', '31254003', 'Q513700398', '02672166', '03401043', '02596512', '03501307', '02686684', '30607016', '31027023', '001691', '15755001', '03276784', '02534101', '02585621', '04550168', '30713004', '02596301', '03207398', '42694049', '04267175', '03485049', '02825033', '5023963', '02690499', '31716001', '31471270', '03379005', '02596285', '02596495', '02592141', '02184140', '04489118', '04292210', '31010002', '02533074', '5028027', '02440310', '02923016', '02670229', '02533077', '15939023', '31012124', '02644015', '02606888', '02020090', '04492262', '02049083', '31747035', '03210674', '40174004', '02594052', '03220719', '02590701', '02594016', '02683047', '02608854', '31705022', 'Q517840101', '03508091', '02674507', '05479001', '04293060', '31423010', '04567006', '31297773', '04394025', '31471712', '31503013', '04560026', '02175666', '03220044', '70309', '31479003', '02769059', '02608642', '5030974', '31423081', '03379014', '02718820', '94379', '31045018', '04569148', '31765251', '02540526', '02540204', '31732003', '02606849', '31169020', '03496152', '02794166', '02536482', '02594231', '02569116', '42540006', '02008003', '02594221', '03696072', '02794171', '31765232', '02424361', '02825027', '43208034', '02594297', '42672008', '02825036', 'QL1801030', '02392056', '31479020', '02164010', '03508072', '31028018', '02594190', '31242053', '31733012', '607485', '03296523', '03276785', '03207389', '02903014', '02562004', '04294144', '02310167', '31502106', '02594151', '30725016', '02615141', 'Q514825100', '32514013', '42416003', '02666842', '02585105', '02424607', '02394131', '31501032', '43096257', '03085015', '31044004', '02806030', '02661026', '02825075', '02695340', '03501846', '643959', '20203009', '31047044', '02669202', '02591613', '04392075', '31765506', '04295041', '31479009', '1C42397H02', '03208343', '02692221', '404P891H42', '02594023', '02569112', '31454015', '04294054', '02674539', '43280009', '02020021', '04387029', '03207372', '05020070', '02579159', '04560482', 'X790024508', '58179215', 'Q517840401', '31006003', '1C43408G01', '02811078', '04567083', 'R02692001', '31734134', '02794120', '31760420', '04602685', '42590056', '02825123', '30602212', '02579148', '04281066', '04294199', '04395001', '02540575', '02152058', 'R4295252', '02507416', '15406002', '02030138', '04294168', '02435077', '02062004', '30923004', '02534440', '31737003', '02596125', '02667039', '02569282', '02175668', '02606872', '02696112', '40LFW-24CR', '02825098', '02533078', '02596804', '33101047', '32120017', '02694106', '31206002', '02569275', '02440186', '02594485', '44908043', '31734054', '30816012', '02394135', '5013909', '42608017', '58179326', '799882', 'MJ10000200', '58.12', '03206298', '03079027', '31191091', '43270242', '31733003', '44908014', '15770127', '02594498', '02696945', '02067001', '04602554', '109-399-001', '02155030', '05288024', '30604012', '31155882', '02042082', '02825034', '31010036', '02540024', '04567148', '04282033', '20204003', '02424606', '42556008', '025904778', '31027078', '31734283', '02107126', '02790125', '15823005', '02394093', '409P243H03', '04593045', '02101600', '00250003', '00266070', '02667104', '32825176', '404P830H44', '04294240', '31297767', '43095024', '31423035', '04601281', '515620', '02825081', '02424730', '02644021', '31204036', '02676059', '02648322', '05192001', '02049360', '02424009', '31760405', '00250059', '31462029', '02508065', 'QM1410271', '32825141', '31760121', '31501248', '43270004', 'R02695002', '03296152', '02566001', '02594452', '31765040', '04492308', '02594436', '02767146', '03496083', '15924004', '02794117', '30607012', '32509130', '109-390-005', '02594353', '03227013', '31431017', '04281013', '42591184', '20710001', '02636127', '03220278', '02794119', '43240039', '416.07.1210.903', '31155729', '31421010', '02825115', '15324003', '02606958', '31734241', '31760431', '31765202', '05192013', '03379001', '03379004', '33101042', '02825092', '02705628', '33102025', '04562601', '58.07', '31191008', '04293064', '42591630', '02696777', '02594239', '02683036', '03207396', '42519287', 'AH2201002', '02564026', '02606929', '02540579', '02170330', '02825104', '02594175', '02648135', '02606875', '15652004', 'QJ2301020', '02530800', '31471715', '31035001', '02496183', '02047104', '31765199', '04492178', '58179234', '02594072', '15155002', '630290', '02082082', '20701012', '02594325', '30826009', '02594252', '43270208', '02201542', '02523109', '30832006', '03490044', '02201479', '500-1689-127', '43208025', '15603004', '02001010', '02440501', '15401002', '31501193', '04295043', '04494308', '42066057', '03074212', '04494414', '58179373', '05192012', '31453001', '42590055', '32515042', '02594127', '02594472', '02591684', '1C42813283', '02674065', '31047047', '04294166', '05290822', '04360154', '6157A03H01', '31402017', '31055046', '02683040', '31747107', '02796070', '03379008', '43270212', '15648003', '04295110', '115E6515G1', '02614157', '31471463', '02594225', '02794191', '31462003', '43008009', '02606846', '02326036', '31321063', '31282004', '04294187', '42708087', '15724032', '02432104', '42610299', '31474035', '04295172', '6900845/5028770', '04361038', '02796019', '02569498', 'D000027703', '02794283', '31729002', '02606922', '02614150', '42038046', '30921005', '31297771', '15606002', '30905015', '03220183', '49099207', '02567650', '04562702', '30915051', '02825025', '15663002', '31479023', '02394132', '02394161', '02594340', '05021052', '03910003', '31760439', '04293079', '04293109', '04593128', '04461011', '02535173', '15750013', '02184522', '05192022', '02607266', '02667328', '32528034', '31044011', '42590701', '02912022', '6900856', '42519230', '31178016', '03496208', '02615135', '02530204', '02585124', '02401003', '02394130', '02592117', '02534442', '02201791', '03080603', '02787038', '02667753', '02042075', '03208110', '43240038', '20722074', '02667113', '04594381', '02210076', '31471221', '31420009', '43395011', '02794202', '31474015', '31155330', '02609003', '03496393', '02825100', 'D000067503', '31222033', '02047058', '32528027', '42552282', '02625047', '31734327', '644302', '31343010', '02667498', '02606890', '04233053', '02825018', '31133003', 'D000070103', '02063059', '31343001', '04287006', '02523101', '03203005', '5011952', '02175674', '02507034', '04281155', '31441026', '04283039', '02175221', '03208107', 'R124967089', '32825166', '02175675', '500-1689-144', '02687396', '31731033', '02692261', '31471700', '03041218', '43270148', '04569061', '02606889', '05290709', '02409874', '15715007', '04969010', '43395057', 'Q517600196', '02694003', '44908054', '02594301', '04292014', '05293038', '02686007', '109-272-003', '02020042', '43008039', '02074376', '31747079', '02683035', '02614649', '02615093', '02450001', '31471158', '02579156', '02409073', 'Q517840301', '04595234', '02594167', '05192019', '02681139', '03501805', '02435082', '42047107', '02394025', '04365805', '02794293', '02794278', '43096007', '02418225', '5D73298G01', '03096231', '02750155', 'Q516801000', '30610107', '02606831', '02792120', '20510002', '02545023', '32509134', '03280161', '42580081', '02687024', '02794156', '43095015', '31471718', '02201100', '03204154', '03395284', '02545885', '03496144', '31765235', '02184115', '42591615', '02606153', '04968050', '31058019', '31126018', '02794255', '31058008', '30912005', '04756097', '03576023', '02579140', '02051022', '05290717', '42308005', '04569087', '31725004', '31765357', '31227034', '02674068', '33102017', '02101607', 'QJ1101002', '02569084', '42440045', '02825080', 'Q517600197', '02408014', '02394138', '30907001', '31469151', '31761035', '02696662', '02606807', '02534100', '02667706', '02608056', '04489102', '611889', '02440645', '31006005', '02787064', '31760404', '03481161', '31471719', '43262023', '03207434', '02594362', '03496549', '02049325', '31010069', '31765363', '8.219403016e+011', '02594196', '02523306', '613365', '02825119', '03501369', '02594486', '04394133', '04567120', '04460671', '31501016', '02825065', '20722042', '02534403', '02394094', '6323790', '45050043', '02692254', '02788314', '02579171', '03565258', 'Q514825700', '04761005', '42670007', '04593033', '02774001', '02111041', '02594028', '02606838', '02825095', '02902001', '02606903', '02667401', '20506007', '31471031', '02825007', '02594484', '31747095', '31734013', '31733002', '6444514', 'RC2007033', '02594123', '03595001', '02594282', '02607267', '02594073', '03296310', '03208342', '109-390-001', '31765501', '03481148', '02896053', '42590633', '02394087', '02718600', '02825050', '31765083', '02081105', '42519219', '02594146', '02594110', '31765244', '31761003', '5D73286G01', '04593114', '02579136', '04261287', '02667788', '43395004', '5027273', '02794200', '02450203', '30610201', '03220283', '04290055', '03515108', '02594263', '31765233', '02049322', '02592121', '02594447', '42648002', '31471460', '02681060', '02594204', '31760447', '05288317', '02117440', '43270240', '03094303', 'Q518700800', '31297238', '02596053', '58179368', '02106012', '04569193', '02794284', '31747030', '03207424', '31471561', '03210262', '04385009', '02392028', '30847012', '02692248', '58179336', '02825023', '03207414', '04489261', '03481041', '02691148', '31760153', '03507406', '30905005', '31734055', '5002619', '31232022', '02656139', '1032-38-021', '02594109', '02201193', '02394069', '04867115', '32611001', '02666536', '31501036', '03296317', '02690143', '04558125', '31027040', '31761002', '30841003', '58179314', '31240004', '02687351', '02594103', '02574525', '42066007', '31706004', '32528028', '02594148', '02594185', '43395032', '02606954', '04293103', '03220672', '04603083', '31760418', '02647200', '04494307', '04587016', '02567562', '42519118', '610223', '02606839', '15187001', '02667137', '43280048', '42308006', '02574421', '31765509', '05192024', '04603667', 'QJ0903001-029', '31502117', '31760406', '02594094', '02692263', '31713005', '02796025', '05282046', '31765028', '43096004', '20203056', '32614010', '03501362', 'Q517810801', '31765075', '04393081', '30831006', '02667139', '02409845', '623233', '58.13', '02424754', '31761032', '109-390-004', '30923021', '42519095', '31165016', '03201650', '02027142', '05025213', '04532026', '03574221', '02796013', '02606871', '04980092', '02796140', '42590510', '02594184', '02407024', '02567020', 'Q517800197', '03379012', '04267156', '02416330', '04492234', '02594101', '02107123', '31765246', '02583042', '02692272', '04558447', '02794001', 'Q512421004035', '15145001', '31502123', '04367015', '02594197', '02101704', '02594336', '02523110', '04494285', '04494024', '03481175', '02769042', '02576459', '02594119', '644303', '04294178', '02450728', '04603086', '02594424', '02613159', '02047115', '03296158', '03207386', '43280003', '02696185', '1B38896H01', '04561076', '02825061', '02692232', '03201636', '5002617', '04360367', '02693169', '31760413', '02691228', '02794221', '03207354', '02585510', '32203027', 'LG0203001', '02794294', '02047170', 'QM20006001', '31440026', '03276789', '42508053', '02594160', '02569291', '31502118', '04602007', '04293121', '31023040', '00175007', '03496863', '500-1646-001', '04296157', '31726011', '02606921', '31010090', '15750001', '02794257', 'QN1709084', '42508014', '02732001', '02606947', '02672152', '02592110', 'A2V00001151860', '02606944', '02805056', '31469153', '03220099', '02811185', '31027014', '03258107', '02440896', '02663091', '04293113', '02082070', '31734100', '02606830', '02567008', '02683046', '30847014', '32901014', '31055033', '02594181', '04294197', '02596414', '04294057', '02111042', '31734323', '43270009', '02696113', '04282035', '04293117', '02767083', '03208109', '02614645', '04590649', '31501210', '31309252', '04558448', '02594135', '02644001', '31740017', '02667947', '02412801', '42063191', '05290759', '30912008', '03207363', '03296009', '04293083', '03216186', '500-1689-075', '02594095', '42552054', '02683054', '02815021', '31191153', '31760145', '42037070', '04594441', '00250120', '02606949', '1C42390G02', '02648310', '03508020', '04489053', '43270205', '03501439', '03220058', '02692279', '02594093', '31765402', '02718253', '31145090', '30838003', '42442143', '5D73296G01', '03565205', '03501462', '597-40772', '44908058', 'R126943459', '02667905', '31765325', '02593067', '6900918', '58179315', '03208094', '02507116', '31012064', '42567018', '04360325', '03565179', '02667993', '02210077', '43208043', 'R124958572', '02825127', '500-8140-000', '32514036', '675147', 'Q517600199', '02594106', '31501273', 'QM1603002', '02540548', 'QJ0903001-031', '02794096', '03401667', '02693040', '02691157', '15140003', '31431025', '6900866', '04365878', '02606874', '02540018', '04296083', '15197011', '04392174', '42508019', '02594318', '02796067', '04492374', 'Q51710609', '02792138', '5026789', '04492248', '31287007', '02049011', '31765257', '02676005', 'Q517848800', '02606900', '03280297', '02535824', '03501841', '31715014', '02181040', '02794162', '43101052', '02180673', '04294214', 'QJ1502037', '42708079', '5944697-01', '02210078', '02606907', '02418301', '2128F71G06', '02594487', '31760466', '04293029', '02184113', '03207419', '31238003', '03496054', '5D73284G02', '5033414', '04269015', '04492275', '02582320', '31234056', '03207041', '15742050', '31471196', '02825082', '02679005', '31501012', '04492193', '20204016', '5002614', '02523106', '31760421', '02175676', '42608010', '02590675', 'QN1709303', '5D81928G01', '02188005', '03379002', '02508058', '58.03', '057066-3002', '31251005', '45050100', '02506017', '02681147', '5D78509G01', '42590606', '02594491', '02167681', '6900860', '20519001', '04283045', '32825140', '02567646', '55.08', '10945-002', '31734329', '04267167', '02674064', '02047136', '02047168', '02676065', '03501359', '30607053', '31734284', '15823011', '20321032', '03360711', '04293092', '02667900', '31297269', '31453010', '31155754', '31191667', '31501226', '04567086', '02788370', '44908019', '02696102', '02601083', '04593042', '6900085', '44908017', '02593127', '04294058', '05290716', '31747056', '04492066', '31232064', '43262012', '02606805', '31232076', '02594346', '02594022', '02606844', '03576022', '02693036', '31728006', '607299', '02825057', '03550062', '02409834', '1C42390031', '03560141', '03216139', '31291008', '31707013', '02691165', '44908021', '44908044', '04293099', '02606880', '31441028', '31479017', '05192023', '31420022', '02020031', '30607062', '02596066', '02594482', '02694007', '31761047', '31155129', '02267006', '02796271', '02606821', '02047071', '43270172', '02594091', 'RG0301041', '02815031', '31242029', '31502021', '510-436-001', '02105431', '04293098', '02593128', '5018568', '02585686', '04591011', '02594273', 'Q514821600', '02696629', '02674550', '15404001', '30859056', '03079022', '42725010', '04494473', '02594337', '04594452', '02450773', '58179244', '02793014', '45050020', '03495907', '30603002', '02696506', '1C42401H01', '04532034', '500-1689-131', '02608185', '02794230', '30610052', '02606884', '02047163', '31010027', '42519505', '32825157', '02440023', '02692231', '02594344', '610194-1982', '32509139', '30902001', '02596492', '04365891', '02606864', '31501254', '02923010', '03574201', '3A62935G71', '03228045', '02667467', '31501253', '30910023', '02692267', '02585619', '04292027', '04294162', '02536090', '32258023', '58179252', '02796028', '20531003', '43208009', '03225114', '02796316', '04494379', '42610577', '02435081', '55.1', '43096228', '04393009', '42741103', '42508032', '04294028', '04492326', '02187505', '31232037', '02696108', '15325018', '15754025', 'MJ12500000', '02647127', '03496392', 'QL0700004-007', '631155', '15750020', '04283024', '02630039', '02825096', '31501196', '02606908', 'QM1505088', '03501442', '31765102', '30905007', '04385008', '04233051', '31045023', '03496149', '5D79377G01', '03495902', '15770026', '03507076', '31760461', '02594246', '02608643', '04569152', '15324008', '45050040', '02693238', '43008037', '02794285', '04560481', '31057024', '02693186', '02594061', '04281150', '43216003', '576489', '03480689', '58179201', '1699510', '02688058', 'Q517810901', '02667755', '02403008', '31765069', '00250090', '02596224', '31734298', '02540015', 'OQ0103001-001', '31012013', '02811197', '44908003', '31434179', '02579160', '42590622', '03076123', '04580042', '05293106', '02594069', '620521', '31760203', '33103032', '02692269', '31726021', '02394107', '03280262', '02615117', '31747043', '02394113', '02614627', '690757', '44607001', '42610002', '42741062', '04058018', '42591131', '02825116', '03495254', '02409164', '04281056', '02783005', '32519015', '58179217', '02440822', '31471331', '02201036', '31012038', '03208111', '02794228', '31468027', '31155733', '02020019', '04594287', '03576018', '31760438', '04489181', '02579170', '02693179', '02716163', 'R126943439', '15924006', '58.04', '03301013', '04367041', '31760409', '04592255', '02394110', '03207919', '03501009', '31232035', '04367040', 'Q517845301', '31440056', '42694045', '02594508', '31474025', '43270146', '02606841', '04756043', 'R126919589', '03207384', '32825159', '04385010', '31012116', '02594332', '05233014', '03480317', '31167008', '02176295', 'Q513700198', '15771034', '04590419', '31155041', '31725027', '02020015', '02592123', '42519004', '02540518', '31761027', '42582020', '03206861', '31401009', '20525001', '02594040', '31471211', '02790054', '31734305', '31404002', '02787085', '04569188', '02394040', '02696758', '31240061', '02606919', '31752014', '02220080', '03208099', '04494032', '04281057', '02394149', '02424603', '5D73309G01', '31734175', '04594430', '02569413\\t', '31501157', '643133', '04562615', '04294175', '43208012', '04561202', '03207156', '04294211', '42580017', '42590097', '1C42791G01', '02606870', '03481136', '04569252', '02811061', '04494187', '31780053', '02574024', '02594112', '03580073', '02606840', '02592125', '1C43321G01', '02594137', '04562608', '02507180', '31765248', '05290756', '00257012', '03379006', '1C42400H01', '30726012', '32514014', '02794165', '02792116', '03207402', '02594238', '1C43417G01', '31191154', 'R126943589', '20205006', '03207395', '02416105', '30915054', '31240011', '20513010', 'R02692002', '58179235', '15754007', '04293020', '04601951', '15624003', '31232079', '30610102', '03481052', '04594321', '04283046', '03481017', '31705005', '42737082', '31178023', '44908018', '02569008', '02707012', '02616134', '42708085', '04567513', '02662011', '31752002', '31248004', '32130001', '43270206', '02201500', 'Q517107901', '02101504', '02667553', '58211001', '02594360', '42686061', '02594473', '04489156', '145587', 'Q517600399', '31747019', '02696880', '04756099', '20317004', '02592133', '02794103', '02606857', '02440025', '02686874', '02825086', '31734328', '03207356', '02596145', '02440986', 'R1236201', '023690370', '20709015', '05020074', '02028121', '15402001', '03064005', '02394046', '05292124', '02569039', '02594381', '02440964', '43208010', '31412025', '31780062', '02794229', '42608006', '15606006', '00257035', '45050029', '04467159', 'X790015112', '03296131', '31229002', '675152', '04293087', '42506901', '31047019', '02533069', '03207369', '43270251', '31731046', '04390248', '02596580', '02593055', '02825126', '04602544', '31734129', '31023043', '404P687H11', '04294152', '04489215', '30610112', '5D79190G01', '02508039', '02569271', '6900912', '31760441', '00133016', '03207423', '02667420', '32509138', '02667600', '43270243', '02394077', 'R02694037', '43270233', '02574535', '42610179', '02507267', '02794279', '5D79183G01', '31761045', '02685187', '42610237', '31471029', '03481007', '42409860', '02690009', '31054015', '02825047', '04287001', '31765253', '30816002', '32825165', '02691189', '20519018', '02540554', '03576031', '42937146', '03508018', '31705001', 'QM2601000-083', '03481013', '31022037', '30925030', '30839003', '04492443', '14840-1000-001', '30835001', '31765115', '30837002', '04569132', '04258874', '02184502', '02567250', '02696972', '31012134', '02594156', '02594194', '31734042', '02047102', '02820157', '02567860', '02580706', 'MTA97272565', '44908007', '02794238', '02105424', 'JL2102001', '05021400', '31765503', '02576044', '02648305', '02409658', '30602213', '04563109', '42580031', '42552022', '02440919', '02794135', '02825111', '02440032', '02592111', '02794186', '562784', '31742011', '02569037', '03225138', '43395035', '03501343', '02394146', '02574532', '04587015', '05192017', '02716909', '30733011', '04569199', 'OV26010000-081', '04580071', 'QM0100000', '31012017', '43395002', 'QM2301015', '02408022', '02794127', '31012131', '04394130', '03080540', '6900921', '04293128', '02912035', '03280387', '02594410', '04580073', 'PC0303185', '02811229', '02906003', '03485048', '02692280', '31471699', '02692647', '02691166', '31760464', '169157', '03080039', '15610001', '31052027', '02794128', '02912020', '02105435', '04267132', '42442144', 'MJ18100100', '02567036', '4495001', '31155769', '02794082', '02794253', '15134007', '04561331', '43262011', '31752015', '02716841', '04292209', '02606823', '3A63165G01', 'D000027702', '02796074', '31006014', '31425001', '31761038', 'N840000-001', '31720020', '03490040', '02796007', '04361011', '43096153', '04294236', '04233052', '02594155', '03470158', '15724031', '02801001', '31227045', '02534006', '31401007', '02594226', '03576032', '31439007', '04294239', '31454021', '02652100', '02825009', '03206867', '20514011', '02806033', 'R02694038', '02435070', '42693156', '04601177', '02567370', '02590043', '624433', 'H12L441005', 'R126926749', '04295045', '02705627', '02416773', '43096005', '30923028', '42741078', '02667251', '02594200', '04094013', '20203036', 'MJ10500000', '31765336', '02606842', '02201790', '02811244', '03758003', '03207420', '02794104', '02625057', 'QM2301001', '500-1689-071', '02933003', '04492367', 'QN1709340', '02825099', '03079019', '04281151', '620058', '04592280', '30855011', '03501133', '02579008', 'Q517800194', '04293044', '04365153', '404PG49H33', '04292050', '31501017', '31155653', '5010632', '6D61473G01', 'R126931429', '04294190', '103-730-001', '31765245', '31760455', '02596752', '31770101', '02903007', '31297271', '31167040', '03220943', 'OK0103001-001', '43208033', '03481036', '31471459', 'OS26010000-080', '31431010', '15848006', '03207392', '31423055', 'MJ10600000', '02794163', '43230004', '02594104', '04365861', '02567563', '02201314', '42442142', '31501261', '04292043', '31471053', '04569143', '03576026', '02440301', '31760425', '04293081', '02576038', '04282029', '31479004', '03296810', '42729033', '04233010', '02047110', '02825077', '31501096', '15715004', '58.06', '02594154', '00262106', '31240085', '02825051', '04258555', '02440063', '02693060', '04502190', '42608005', '02796021', '597466-58', '31501030', '02440191', '02021045', '624162', '02666515', '03207432', '04592198', '02667182', '31765078', '02681148', '02912027', '02686922', '678404', '02180203', '03576016', '02047189', '02794187', '02794100', '30905013', '20510005', '58179311', 'R124.94.806', '04295454', '31761030', '02606912', '03207407', '5006295', '05192002', '04293142', '04493023', '04281065', '03220919', '00141048', '5D73547G02', '43208029', '04367065', '02787145', '42519166', '04494316', '30820006', '00170057', '02569289', '03501424', '31760146', '824435', '31760060', '42508031', '02732002', '31734308', '03501234', '15919003', '31479012', '04558126', '02901001', '55.01', '04295054', '31479007', '02825026', '02175305', '03501376', '04233054', '43101054', '02594010', '04293177', '02693146', '43270218', '04282026', '00901008', '02594250', '5D79185G01', '02394128', '02783006', '03225117', '32528033', '02508034', '02794237', '02592108', '02594187', '30607085', '02696457', '614084', '03496601', '42580079', '04293068', '05180512', '04602741', '15117003', '31423063', '02669209', '02696114', '02569153', '02508086', '03379007', '05021306', '43208013', '31471088', '42424741', '20314020', '02415080', '42418011', '02590688', 'OQ0103001-015', '02692237', '55.11', '02794236', '04494403', '43280065', '04560025', '5020388', '31747111', '02787093', '02794286', '15750018', '0259509', '31297147', '04294198', '02596619', '43230005', '404P830H45', '43216002', '02825103', '03565170', '44908052', '42608027', '20501012', '02606815', '02606416', '03501373', '04567613', '31761031', '00257031', '43096033', '04494342', '42008051', '03501139', '31194221', '02796020', '04296059', '31752008', '690085', '1656E35G02', '00170094', '03296138', '1C42654H08', '31207045', '02440139', '31178041', '04569136', '32825149', 'D000070102', '04489112', '04494425', '02534400', '15117013', '15614002', '02047182', '31297774', '02796322', '02593150', 'Q517800192', '04293030', '02590694', '04569214', '04492359', '31501129', '31153014', '03530033', '02592140', '02507402', '31760446', '03501042', '31765238', '31705025', 'QN1709012', '02582316', '43096289', '03208112', '05295127', '03508026', '02580205', '02796061', '02691103', '31012091', '02027155', '15770078', '03379009', '03280555', '31012034', '31297272', '04567066', '05021217', '02606848', '31703017', '03495003', '31765045', '02533017', '5004989', '605368', '03080801', '02614021', '03496148', '03508016', '02666016', '05281005', '04603751', '03079026', '20722076', '00168001', '02692282', '02794233', 'Q513700199', '02594134', 'R126936259', '04593036', '03207381', '04594555', '20705002', '30915050', '04563117', '02606812', '02796005', '02311275', '03401485', '15804022', '02596849', '43008012', '43008021', '30604027', '02540012', '02614648', '31191087', '43096256', '20305007', '02394148', '02409857', '02001082', '31023027', '02923015', '03207366', '6312676', '02666038', '05092041', '03283561', '31479025', '03208340', '02688114', '58206001', '30905008', '02825010', '03207390', '02594082', '02576461', '02594173', '42090059', 'OS2601000-014', '651007', '02594471', '02648315', '634707', '02592124', '42610239', '04294151', '31471401', '42610004', '02696082', '31727001', '05192016', '04594455', '30836016', '31501191', '02418300', '05161003', '02561084', '05192021', '02815017', '02696725', '02692259', '02530245', '02696775', '02394154', '02674521', '04550178', '42552172', '31103032', '02606853', '03560048', '6936300033', '31047013', '02047176', '03576021', '30910040', '42418013', '31761001', '02202006', '02792119', '02049361', '15301001', '42670009', '02594479', '04282028', '42590049', '42037029', '31734276', '04395148', '02181025', '02769052', '02561215', '31501011', '42630032', '31734127', '03296003', '02593110', '500-1689-006', '02594152', '42610101', '5D79187G01', '02606847', '02569888', '630985', '00257016', '02594102', '58179248', '02825001', '04590674', '05295313', '02606887', '02059015', '31765333', '31244003', '02408019', '02109610', '02533068', '03296524', 'AN1507031', '31453027', '31468033', '15770190', '03296172', '02579146', '43096167', '02047183', '02026096', '643102', '42519264', '02394034', '31760428', '03496667', '31420017', '31232028', '58.05', '04293001', '02652099', '43008015', '5D73547G01', '04361062', '31760435', '02561040', '31733006', '04494412', '04294156', '03206995', '02825068', '03269507', '03404051', '04494303', '02606945', '30604017', '404P480H54', '00296003', '02683045', '03401829', '02625059', '02594522', '02606056', '02585616', '02696967', '02691011', '02594306', '42608002', '03058050', '02171413', '02693170', '02788248', '04561206', '31471626', '02594210', '04756098', '30603036', '02076016', 'R126943409', '02606876', '31760460', '04467161', '02667216', '02795078', '04492410', '02811205', '02796035', '04596108', '42406040', '31720002', '04594504', '00250137', '42590061', '6900911', '03507084', '02794091', '04594307', 'QM1709020', '04282122', '03296456', '02424703', 'QM0903001-042', 'N8407800-001', '31423038', '02692271', '31056033', '45050041', '31471073', '04593043', '42440021', '31765068', '02594253', '02767021', '03207425', '02594136', '02376002', '02593159', '43280089', '02903002', '02594295', '42591006', '02825125', '31734318', '02592129', '15308025', '43270215', '32509133', 'LE0302018', '02590565', '31761020', '02569119', '31012158', '6900892', '033-18-1', '30610031', '31027012', '31012138', '42035004', '15646003', '02409679', '31726012', '02606895', '15137004', '02594017', '04367110', '03576017', '03207358', '38510A', '31023055', '04282141', '03476137', '02594271', '03360101', '03207399', '15702014', '31780108', '02594483', '02681143', '02106126', '02296002', 'QM0700001', '02580722', '02825085', '31760465', 'Q5113713301', '02020030', '02591606', '31501223', '02594500', '00175004', '02594294', '04293123', '42536047', '70003-50362', '02933001', '02201175', '31479002', '04492331', '02923037', '02590687', '31240014', '5586B74H16', '31760437', '30728008', '02718261', '31734279', 'AH2201003', '30722021', '20202002', '31044009', '02267010', '55.07', 'R126935769', '31734288', '04261289', '31178040', '02310122', '02825004', '02533073', '31242007', '02825002', '02409550', '43008030', '5D73300G01', '02794136', '02315174', '30711001', '15750027', '43280005', '02769065', '02616144', '20508012', '03296143', '15317019', '02594361', '31727007', '30610213', '43096003', '02405838', '02594257', '31765062', '03496056', '02594489', '02418302', '31476010', '03496143', '02585667', '04569060', '02540001', '409P223H29', '31470524', '31109024', '20201037', '02594217', '30610125', '32825148', '04867117', '31471722', 'OJ2601000-050', '31471625', '31479018', '03207202', '02694013', '04294343', '32825147', '02427725', '02691160', '02394157', '31479006', '02696753', '31701004', '04567173', '04567207', '02667340', '55.02', '31734300', '02606817', '02594339', '05295177', '31471343', '02716840', '02796295', '03707319', '02606825', '31417008', '31765100', 'N8405400-001', '04490042', '02523103', '03501430', '15771015', '03208076', 'Q512100295', '02155040', '03496130', '31012126', '04294164', '02666090', '20525016', '31167048', '03207210', '02594363', '31765368', '02596606', '31401014', '04489048', '02579135', '20525046', '31765020', '04293019', '04492189', '02507345', '02594237', '43095029', '44908005', '31471336', '02585045', '31232059', '02693544', '02794225', '404P900H17', '05192018', '02596853', '15214012', '03450170', '04258004', '02507112', '43096255', '02692270', '31760140', '02594128', '42534012', '42694016', '02614646', '42519223', '02440033', '43262014', '02432301', '05021009', '02616136', '02409876', '02580204', '0429235', '02066017', '42694179', '43208021', '15770194', '43270234', '43208040', '31765084', '03501244', '42741023', '04367038', '02184521', '15804002', '500-1689-125', '59566659', '404P173H85', '02430005', '513174', '02163107', '404P61733', '44908064', '31194141', '02594320', '02825109', '15606003', 'J35-2.55.300', '04558443', '31433005', '0459475', '02596296', '31232075', '03481010', '02790110', '31350005', '620517', '02606810', '31155600', '15750024', '02051292', '31760107', '02690169', '31292013', '55.03', '05192010', '02569036', '04269007', '00266058', '03276021', '02508042', '02594364', '04392048', '03208093', '05295025', '04494004', '02394134', '31765106', '58203001', '04233009', '04467134', '03476024', 'Q517848401', 'D000039501', '04494298', '30603031', '02769071', '02523310', '31159003', '43208017', '05292129', '05192015', '59660941.01', '02825052', '04260559', '04562612', '2681F89H06', '02648430', '02594450', '02440659', '04281011', '31471025', '43395041', '30912006', '03208100', '5018117.04', '20722072', '04262001', '02594219', '03920001', '03496145', 'D000033801', '42608007', '02687087', '42519123', '04569213', '04594438', '02794088', '31761049', '31153019', '02720040', '15605009', '31465031', '02692256', '02679002', '04492360', '5031142', '43208037', '32825155', '02606843', '02672156', '02695363', '31734083', '04530183', '03401731', '02782008', '42035013', '02767141', '04292044', '04258679', '02691198', '30826007', '02047178']\n"
     ]
    }
   ],
   "source": [
    "print(different_skus)"
   ]
  },
  {
   "cell_type": "markdown",
   "id": "bf284d50",
   "metadata": {},
   "source": [
    "#### The following calculations are correct, but there aren't enough unique SKU's."
   ]
  },
  {
   "cell_type": "code",
   "execution_count": 81,
   "id": "89404188",
   "metadata": {},
   "outputs": [
    {
     "data": {
      "text/plain": [
       "TXN - Item ID\n",
       "00118002      0.0\n",
       "00118003     13.0\n",
       "00118004     10.0\n",
       "00118005      0.0\n",
       "00118006     10.0\n",
       "             ... \n",
       "YAV70M10      0.0\n",
       "YAV70M8       0.0\n",
       "YAV95M6       0.0\n",
       "Z53921        0.0\n",
       "ZX0201015     0.0\n",
       "Name: TXN - Qty, Length: 45296, dtype: float64"
      ]
     },
     "execution_count": 81,
     "metadata": {},
     "output_type": "execute_result"
    }
   ],
   "source": [
    "dataframe.groupby(['TXN - Item ID'])['TXN - Qty'].sum()"
   ]
  },
  {
   "cell_type": "code",
   "execution_count": 83,
   "id": "cc9e8599",
   "metadata": {},
   "outputs": [],
   "source": [
    "sku_sums = dataframe.groupby(['TXN - Item ID'])['TXN - Qty'].sum()\n",
    "# This is a dict"
   ]
  },
  {
   "cell_type": "code",
   "execution_count": 89,
   "id": "8f7f4b9e",
   "metadata": {},
   "outputs": [
    {
     "data": {
      "text/plain": [
       "13.0"
      ]
     },
     "execution_count": 89,
     "metadata": {},
     "output_type": "execute_result"
    }
   ],
   "source": [
    "sku_sums['00118003']"
   ]
  },
  {
   "cell_type": "code",
   "execution_count": 92,
   "id": "879ca5fa",
   "metadata": {},
   "outputs": [
    {
     "name": "stdout",
     "output_type": "stream",
     "text": [
      "2146.0\n",
      "71.0\n",
      "2630.0\n"
     ]
    }
   ],
   "source": [
    "print(sku_sums['00250066'])\n",
    "print(sku_sums['42082077'])\n",
    "print(sku_sums['00250052'])"
   ]
  },
  {
   "cell_type": "markdown",
   "id": "ea7410d5",
   "metadata": {},
   "source": [
    "## Comparing sku_sums to a valid version."
   ]
  },
  {
   "cell_type": "code",
   "execution_count": 144,
   "id": "95c2282e",
   "metadata": {},
   "outputs": [],
   "source": [
    "valid_sku_sums_df = pandas.read_csv('Data/Valid_End_Quantities.csv')"
   ]
  },
  {
   "cell_type": "code",
   "execution_count": 145,
   "id": "9395df2f",
   "metadata": {},
   "outputs": [
    {
     "data": {
      "text/html": [
       "<div>\n",
       "<style scoped>\n",
       "    .dataframe tbody tr th:only-of-type {\n",
       "        vertical-align: middle;\n",
       "    }\n",
       "\n",
       "    .dataframe tbody tr th {\n",
       "        vertical-align: top;\n",
       "    }\n",
       "\n",
       "    .dataframe thead th {\n",
       "        text-align: right;\n",
       "    }\n",
       "</style>\n",
       "<table border=\"1\" class=\"dataframe\">\n",
       "  <thead>\n",
       "    <tr style=\"text-align: right;\">\n",
       "      <th></th>\n",
       "      <th>TXN - Item ID</th>\n",
       "      <th>IOH - Qty On Hand</th>\n",
       "    </tr>\n",
       "  </thead>\n",
       "  <tbody>\n",
       "    <tr>\n",
       "      <th>1</th>\n",
       "      <td>00250052</td>\n",
       "      <td>150.0</td>\n",
       "    </tr>\n",
       "    <tr>\n",
       "      <th>2</th>\n",
       "      <td>00250053</td>\n",
       "      <td>110.0</td>\n",
       "    </tr>\n",
       "    <tr>\n",
       "      <th>3</th>\n",
       "      <td>00250056</td>\n",
       "      <td>100.0</td>\n",
       "    </tr>\n",
       "    <tr>\n",
       "      <th>4</th>\n",
       "      <td>00250113</td>\n",
       "      <td>0.0</td>\n",
       "    </tr>\n",
       "    <tr>\n",
       "      <th>5</th>\n",
       "      <td>00250118</td>\n",
       "      <td>0.0</td>\n",
       "    </tr>\n",
       "    <tr>\n",
       "      <th>...</th>\n",
       "      <td>...</td>\n",
       "      <td>...</td>\n",
       "    </tr>\n",
       "    <tr>\n",
       "      <th>177873</th>\n",
       "      <td>81018058</td>\n",
       "      <td>0.0</td>\n",
       "    </tr>\n",
       "    <tr>\n",
       "      <th>177874</th>\n",
       "      <td>D30109-01</td>\n",
       "      <td>0.0</td>\n",
       "    </tr>\n",
       "    <tr>\n",
       "      <th>177875</th>\n",
       "      <td>R2690116</td>\n",
       "      <td>0.0</td>\n",
       "    </tr>\n",
       "    <tr>\n",
       "      <th>177876</th>\n",
       "      <td>R2692001</td>\n",
       "      <td>0.0</td>\n",
       "    </tr>\n",
       "    <tr>\n",
       "      <th>177877</th>\n",
       "      <td>R2695002</td>\n",
       "      <td>0.0</td>\n",
       "    </tr>\n",
       "  </tbody>\n",
       "</table>\n",
       "<p>177877 rows × 2 columns</p>\n",
       "</div>"
      ],
      "text/plain": [
       "0      TXN - Item ID  IOH - Qty On Hand\n",
       "1           00250052              150.0\n",
       "2           00250053              110.0\n",
       "3           00250056              100.0\n",
       "4           00250113                0.0\n",
       "5           00250118                0.0\n",
       "...              ...                ...\n",
       "177873      81018058                0.0\n",
       "177874     D30109-01                0.0\n",
       "177875      R2690116                0.0\n",
       "177876      R2692001                0.0\n",
       "177877      R2695002                0.0\n",
       "\n",
       "[177877 rows x 2 columns]"
      ]
     },
     "execution_count": 145,
     "metadata": {},
     "output_type": "execute_result"
    }
   ],
   "source": [
    "valid_sku_sums_df.columns = valid_sku_sums_df.iloc[0] \n",
    "\n",
    "valid_sku_sums_df = valid_sku_sums_df[1:]\n",
    "valid_sku_sums_df[\"IOH - Qty On Hand\"] = pandas.to_numeric(valid_sku_sums_df[\"IOH - Qty On Hand\"])\n",
    "valid_sku_sums_df.rename(columns={'IOH - Item ID':'TXN - Item ID'}, inplace=True)\n",
    "valid_sku_sums_df"
   ]
  },
  {
   "cell_type": "code",
   "execution_count": 151,
   "id": "1f461c20",
   "metadata": {},
   "outputs": [],
   "source": [
    "valid_sku_sums = valid_sku_sums_df.groupby(['TXN - Item ID'])['IOH - Qty On Hand'].sum().to_frame()"
   ]
  },
  {
   "cell_type": "code",
   "execution_count": 152,
   "id": "d68a6f1b",
   "metadata": {},
   "outputs": [
    {
     "data": {
      "text/html": [
       "<div>\n",
       "<style scoped>\n",
       "    .dataframe tbody tr th:only-of-type {\n",
       "        vertical-align: middle;\n",
       "    }\n",
       "\n",
       "    .dataframe tbody tr th {\n",
       "        vertical-align: top;\n",
       "    }\n",
       "\n",
       "    .dataframe thead th {\n",
       "        text-align: right;\n",
       "    }\n",
       "</style>\n",
       "<table border=\"1\" class=\"dataframe\">\n",
       "  <thead>\n",
       "    <tr style=\"text-align: right;\">\n",
       "      <th></th>\n",
       "      <th>IOH - Qty On Hand</th>\n",
       "    </tr>\n",
       "    <tr>\n",
       "      <th>TXN - Item ID</th>\n",
       "      <th></th>\n",
       "    </tr>\n",
       "  </thead>\n",
       "  <tbody>\n",
       "    <tr>\n",
       "      <th>00118002</th>\n",
       "      <td>0.0</td>\n",
       "    </tr>\n",
       "    <tr>\n",
       "      <th>00118003</th>\n",
       "      <td>0.0</td>\n",
       "    </tr>\n",
       "    <tr>\n",
       "      <th>00118004</th>\n",
       "      <td>10.0</td>\n",
       "    </tr>\n",
       "    <tr>\n",
       "      <th>00118005</th>\n",
       "      <td>0.0</td>\n",
       "    </tr>\n",
       "    <tr>\n",
       "      <th>00118006</th>\n",
       "      <td>10.0</td>\n",
       "    </tr>\n",
       "    <tr>\n",
       "      <th>...</th>\n",
       "      <td>...</td>\n",
       "    </tr>\n",
       "    <tr>\n",
       "      <th>YAV70M10</th>\n",
       "      <td>0.0</td>\n",
       "    </tr>\n",
       "    <tr>\n",
       "      <th>YAV70M8</th>\n",
       "      <td>0.0</td>\n",
       "    </tr>\n",
       "    <tr>\n",
       "      <th>YAV95M6</th>\n",
       "      <td>0.0</td>\n",
       "    </tr>\n",
       "    <tr>\n",
       "      <th>Z53921</th>\n",
       "      <td>0.0</td>\n",
       "    </tr>\n",
       "    <tr>\n",
       "      <th>ZX0201015</th>\n",
       "      <td>0.0</td>\n",
       "    </tr>\n",
       "  </tbody>\n",
       "</table>\n",
       "<p>52168 rows × 1 columns</p>\n",
       "</div>"
      ],
      "text/plain": [
       "               IOH - Qty On Hand\n",
       "TXN - Item ID                   \n",
       "00118002                     0.0\n",
       "00118003                     0.0\n",
       "00118004                    10.0\n",
       "00118005                     0.0\n",
       "00118006                    10.0\n",
       "...                          ...\n",
       "YAV70M10                     0.0\n",
       "YAV70M8                      0.0\n",
       "YAV95M6                      0.0\n",
       "Z53921                       0.0\n",
       "ZX0201015                    0.0\n",
       "\n",
       "[52168 rows x 1 columns]"
      ]
     },
     "execution_count": 152,
     "metadata": {},
     "output_type": "execute_result"
    }
   ],
   "source": [
    "valid_sku_sums"
   ]
  },
  {
   "cell_type": "markdown",
   "id": "dcde4ded",
   "metadata": {},
   "source": [
    "Merge the valid dataframe and the calculated dataframe."
   ]
  },
  {
   "cell_type": "code",
   "execution_count": 158,
   "id": "5092fef1",
   "metadata": {},
   "outputs": [],
   "source": [
    "merged_sku_sums = valid_sku_sums.join(other=sku_sums, on='TXN - Item ID')\n",
    "merged_sku_sums['TXN - Qty'].fillna(0, inplace=True)"
   ]
  },
  {
   "cell_type": "markdown",
   "id": "c27cfbea",
   "metadata": {},
   "source": [
    "Count how many SKU's are incorrect. No magnitude. Also must locate the incorrect ones."
   ]
  },
  {
   "cell_type": "code",
   "execution_count": 159,
   "id": "0fa946a3",
   "metadata": {},
   "outputs": [],
   "source": [
    "merged_sku_sums['Qty Difference'] = merged_sku_sums['IOH - Qty On Hand'] - merged_sku_sums['TXN - Qty']"
   ]
  },
  {
   "cell_type": "code",
   "execution_count": 160,
   "id": "589e68d1",
   "metadata": {},
   "outputs": [
    {
     "data": {
      "text/html": [
       "<div>\n",
       "<style scoped>\n",
       "    .dataframe tbody tr th:only-of-type {\n",
       "        vertical-align: middle;\n",
       "    }\n",
       "\n",
       "    .dataframe tbody tr th {\n",
       "        vertical-align: top;\n",
       "    }\n",
       "\n",
       "    .dataframe thead th {\n",
       "        text-align: right;\n",
       "    }\n",
       "</style>\n",
       "<table border=\"1\" class=\"dataframe\">\n",
       "  <thead>\n",
       "    <tr style=\"text-align: right;\">\n",
       "      <th></th>\n",
       "      <th>IOH - Qty On Hand</th>\n",
       "      <th>TXN - Qty</th>\n",
       "      <th>Qty Difference</th>\n",
       "    </tr>\n",
       "    <tr>\n",
       "      <th>TXN - Item ID</th>\n",
       "      <th></th>\n",
       "      <th></th>\n",
       "      <th></th>\n",
       "    </tr>\n",
       "  </thead>\n",
       "  <tbody>\n",
       "    <tr>\n",
       "      <th>00118002</th>\n",
       "      <td>0.0</td>\n",
       "      <td>0.0</td>\n",
       "      <td>0.0</td>\n",
       "    </tr>\n",
       "    <tr>\n",
       "      <th>00118003</th>\n",
       "      <td>0.0</td>\n",
       "      <td>13.0</td>\n",
       "      <td>-13.0</td>\n",
       "    </tr>\n",
       "    <tr>\n",
       "      <th>00118004</th>\n",
       "      <td>10.0</td>\n",
       "      <td>10.0</td>\n",
       "      <td>0.0</td>\n",
       "    </tr>\n",
       "    <tr>\n",
       "      <th>00118005</th>\n",
       "      <td>0.0</td>\n",
       "      <td>0.0</td>\n",
       "      <td>0.0</td>\n",
       "    </tr>\n",
       "    <tr>\n",
       "      <th>00118006</th>\n",
       "      <td>10.0</td>\n",
       "      <td>10.0</td>\n",
       "      <td>0.0</td>\n",
       "    </tr>\n",
       "    <tr>\n",
       "      <th>...</th>\n",
       "      <td>...</td>\n",
       "      <td>...</td>\n",
       "      <td>...</td>\n",
       "    </tr>\n",
       "    <tr>\n",
       "      <th>YAV70M10</th>\n",
       "      <td>0.0</td>\n",
       "      <td>0.0</td>\n",
       "      <td>0.0</td>\n",
       "    </tr>\n",
       "    <tr>\n",
       "      <th>YAV70M8</th>\n",
       "      <td>0.0</td>\n",
       "      <td>0.0</td>\n",
       "      <td>0.0</td>\n",
       "    </tr>\n",
       "    <tr>\n",
       "      <th>YAV95M6</th>\n",
       "      <td>0.0</td>\n",
       "      <td>0.0</td>\n",
       "      <td>0.0</td>\n",
       "    </tr>\n",
       "    <tr>\n",
       "      <th>Z53921</th>\n",
       "      <td>0.0</td>\n",
       "      <td>0.0</td>\n",
       "      <td>0.0</td>\n",
       "    </tr>\n",
       "    <tr>\n",
       "      <th>ZX0201015</th>\n",
       "      <td>0.0</td>\n",
       "      <td>0.0</td>\n",
       "      <td>0.0</td>\n",
       "    </tr>\n",
       "  </tbody>\n",
       "</table>\n",
       "<p>52168 rows × 3 columns</p>\n",
       "</div>"
      ],
      "text/plain": [
       "               IOH - Qty On Hand  TXN - Qty  Qty Difference\n",
       "TXN - Item ID                                              \n",
       "00118002                     0.0        0.0             0.0\n",
       "00118003                     0.0       13.0           -13.0\n",
       "00118004                    10.0       10.0             0.0\n",
       "00118005                     0.0        0.0             0.0\n",
       "00118006                    10.0       10.0             0.0\n",
       "...                          ...        ...             ...\n",
       "YAV70M10                     0.0        0.0             0.0\n",
       "YAV70M8                      0.0        0.0             0.0\n",
       "YAV95M6                      0.0        0.0             0.0\n",
       "Z53921                       0.0        0.0             0.0\n",
       "ZX0201015                    0.0        0.0             0.0\n",
       "\n",
       "[52168 rows x 3 columns]"
      ]
     },
     "execution_count": 160,
     "metadata": {},
     "output_type": "execute_result"
    }
   ],
   "source": [
    "merged_sku_sums"
   ]
  },
  {
   "cell_type": "code",
   "execution_count": 176,
   "id": "b6a0cf66",
   "metadata": {},
   "outputs": [
    {
     "data": {
      "text/plain": [
       "0.9880386443796964"
      ]
     },
     "execution_count": 176,
     "metadata": {},
     "output_type": "execute_result"
    }
   ],
   "source": [
    "validate_skus(dataframe)"
   ]
  },
  {
   "cell_type": "code",
   "execution_count": 173,
   "id": "3b188b2c",
   "metadata": {
    "scrolled": true
   },
   "outputs": [
    {
     "name": "stdout",
     "output_type": "stream",
     "text": [
      "624\n",
      "52168\n"
     ]
    }
   ],
   "source": [
    "print(len(merged_sku_sums.loc[merged_sku_sums['Qty Difference'] != 0]))\n",
    "print(len(merged_sku_sums))"
   ]
  },
  {
   "cell_type": "code",
   "execution_count": 174,
   "id": "f96bca9b",
   "metadata": {},
   "outputs": [
    {
     "name": "stdout",
     "output_type": "stream",
     "text": [
      "0.9880386443796964\n"
     ]
    }
   ],
   "source": [
    "print((52168 - 624) / 52168)"
   ]
  }
 ],
 "metadata": {
  "kernelspec": {
   "display_name": "Python 3 (ipykernel)",
   "language": "python",
   "name": "python3"
  },
  "language_info": {
   "codemirror_mode": {
    "name": "ipython",
    "version": 3
   },
   "file_extension": ".py",
   "mimetype": "text/x-python",
   "name": "python",
   "nbconvert_exporter": "python",
   "pygments_lexer": "ipython3",
   "version": "3.9.7"
  }
 },
 "nbformat": 4,
 "nbformat_minor": 5
}
