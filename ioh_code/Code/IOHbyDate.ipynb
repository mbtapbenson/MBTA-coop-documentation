{
 "cells": [
  {
   "cell_type": "code",
   "execution_count": 4,
   "id": "bf98764e-e6b3-4e4d-b721-b06e04960733",
   "metadata": {},
   "outputs": [],
   "source": [
    "import pandas\n",
    "import datetime\n",
    "import numpy as np\n",
    "import os\n",
    "\n",
    "d = '2021-11-01 00:00:00'\n",
    "txn_dirPath = '/Users/pbenson/Documents/IOH project/Data/'\n",
    "\n",
    "\n",
    "\n",
    "txn_converter = {'TXN - Transaction Type': str,\n",
    "                 'TXN - Transaction Date': str,\n",
    "                 'TXN - Item ID': str,\n",
    "                 'TXN - Qty': float,\n",
    "                 'TXN - Total Cost': float}\n",
    "\n",
    "transaction_col = ['TXN - Transaction Type', 'TXN - Transaction Date',\n",
    "                   'TXN - Item ID', 'TXN - Qty', 'TXN - Total Cost', 'TXN - Adjust Type']\n",
    "\n",
    "\n",
    "# return all excel files in the directory as a list\n",
    "def get_lof(directory):\n",
    "    lof = []\n",
    "    for file in os.listdir(directory):\n",
    "        if file.endswith('.xlsx'):\n",
    "            lof.append(directory + file)\n",
    "    return lof\n",
    "\n",
    "\n",
    "def read_txn_to_df(lof, converter):\n",
    "    dataframe = pandas.DataFrame()\n",
    "    for f in lof:\n",
    "        next_txn = pandas.read_excel(f, converters=converter)\n",
    "        dataframe = dataframe.append(next_txn, ignore_index=True)\n",
    "        print(f + ' is appened')\n",
    "    return dataframe\n",
    "\n",
    "\n",
    "# handle the increase/decrease column\n",
    "def handle_I_D(txn_df):\n",
    "    txn_df['TXN - Qty'] = np.where(txn_df['TXN - Adjust Type'] == 'D', 0 - abs(txn_df['TXN - Qty']),\n",
    "                                   txn_df['TXN - Qty'])\n",
    "    txn_df['TXN - Qty'] = np.where(txn_df['TXN - Adjust Type'] == 'M', 0 - abs(txn_df['TXN - Qty']),\n",
    "                                   txn_df['TXN - Qty'])\n",
    "    txn_df['TXN - Total Cost'] = np.where(txn_df['TXN - Adjust Type'] == 'D', 0 - abs(txn_df['TXN - Total Cost']),\n",
    "                                          txn_df['TXN - Total Cost'])\n",
    "    txn_df['TXN - Total Cost'] = np.where(txn_df['TXN - Adjust Type'] == 'M', 0 - abs(txn_df['TXN - Total Cost']),\n",
    "                                          txn_df['TXN - Total Cost'])\n",
    "    txn_df = txn_df.drop(columns=['TXN - Transaction Type', 'TXN - Adjust Type'])\n",
    "    return txn_df\n",
    "\n",
    "\n",
    "# eg: date = '2021-11-01 00:00:00'\n",
    "# return all txn before 2021-11-01\n",
    "def read_txn_by_date(txn_df, date):\n",
    "    txn_df = txn_df.loc[txn_df['TXN - Transaction Date'] < date]\n",
    "    txn_df = txn_df.drop(columns=['TXN - Transaction Date'])\n",
    "    return txn_df\n"
   ]
  },
  {
   "cell_type": "code",
   "execution_count": 5,
   "id": "7ae19781",
   "metadata": {
    "scrolled": true
   },
   "outputs": [
    {
     "name": "stdout",
     "output_type": "stream",
     "text": [
      "Read file PL_INVENTORY_TRANSACTIONS_2009_Q4x.csv\n",
      "Read file PL_INVENTORY_TRANSACTIONS_2019_Q4x.csv\n",
      "Read file PL_INVENTORY_TRANSACTIONS_2020_Q1x.csv\n",
      "Read file PL_INVENTORY_TRANSACTIONS_2006_Q1x.csv\n",
      "Read file PL_INVENTORY_TRANSACTIONS_2016_Q1x.csv\n",
      "Read file PL_INVENTORY_TRANSACTIONS_2012_Q3x.csv\n",
      "Read file PL_INVENTORY_TRANSACTIONS_2013_Q2x.csv\n",
      "Read file PL_INVENTORY_TRANSACTIONS_2010_Q4x.csv\n",
      "Read file PL_INVENTORY_TRANSACTIONS_2017_Q1x.csv\n",
      "Read file PL_INVENTORY_TRANSACTIONS_2007_Q1x.csv\n",
      "Read file PL_INVENTORY_TRANSACTIONS_2013_Q3x.csv\n",
      "Read file PL_INVENTORY_TRANSACTIONS_2012_Q2x.csv\n",
      "Read file PL_INVENTORY_TRANSACTIONS_2011_Q4x.csv\n",
      "Read file PL_INVENTORY_TRANSACTIONS_2018_Q4x.csv\n",
      "Read file PL_INVENTORY_TRANSACTIONS_2008_Q4x.csv\n",
      "Read file PL_INVENTORY_TRANSACTIONS_2011_Q3x.csv\n",
      "Read file PL_INVENTORY_TRANSACTIONS_2005_Q1x.csv\n",
      "Read file PL_INVENTORY_TRANSACTIONS_2015_Q1x.csv\n",
      "Read file PL_INVENTORY_TRANSACTIONS_2013_Q4x.csv\n",
      "Read file PL_INVENTORY_TRANSACTIONS_2010_Q2x.csv\n",
      "Read file PL_INVENTORY_TRANSACTIONS_2021_Q1.csv\n",
      "Read file PL_INVENTORY_TRANSACTIONS_2021_Q3.csv\n",
      "Read file PL_INVENTORY_TRANSACTIONS_2008_Q3x.csv\n",
      "Read file PL_INVENTORY_TRANSACTIONS_2018_Q3x.csv\n",
      "Read file PL_INVENTORY_TRANSACTIONS_2019_Q2x.csv\n",
      "Read file PL_INVENTORY_TRANSACTIONS_2009_Q2x.csv\n",
      "Read file PL_INVENTORY_TRANSACTIONS_2021_Q2.csv\n",
      "Read file PL_INVENTORY_TRANSACTIONS_2019_Q3x.csv\n",
      "Read file PL_INVENTORY_TRANSACTIONS_2009_Q3x.csv\n",
      "Read file PL_INVENTORY_TRANSACTIONS_2008_Q2x.csv\n",
      "Read file PL_INVENTORY_TRANSACTIONS_2018_Q2x.csv\n",
      "Read file PL_INVENTORY_TRANSACTIONS_2010_Q3x.csv\n",
      "Read file PL_INVENTORY_TRANSACTIONS_2014_Q1x.csv\n",
      "Read file PL_INVENTORY_TRANSACTIONS_2012_Q4x.csv\n",
      "Read file PL_INVENTORY_TRANSACTIONS_2021_Q4.csv\n",
      "Read file PL_INVENTORY_TRANSACTIONS_2011_Q2x.csv\n",
      "Read file PL_INVENTORY_TRANSACTIONS_2017_Q4x.csv\n",
      "Read file PL_INVENTORY_TRANSACTIONS_2007_Q4x.csv\n",
      "Read file PL_INVENTORY_TRANSACTIONS_2014_Q2x.csv\n",
      "Read file PL_INVENTORY_TRANSACTIONS_2004_1Hx.csv\n",
      "Read file PL_INVENTORY_TRANSACTIONS_2015_Q3x.csv\n",
      "Read file PL_INVENTORY_TRANSACTIONS_2005_Q3x.csv\n",
      "Read file PL_INVENTORY_TRANSACTIONS_2011_Q1x.csv\n",
      "Read file PL_INVENTORY_TRANSACTIONS_2018_Q1x.csv\n",
      "Read file PL_INVENTORY_TRANSACTIONS_2008_Q1x.csv\n",
      "Read file PL_INVENTORY_TRANSACTIONS_2009_Q1x.csv\n",
      "Read file PL_INVENTORY_TRANSACTIONS_2019_Q1x.csv\n",
      "Read file PL_INVENTORY_TRANSACTIONS_2020_Q4x.csv\n",
      "Read file PL_INVENTORY_TRANSACTIONS_2006_Q4x.csv\n",
      "Read file PL_INVENTORY_TRANSACTIONS_2016_Q4x.csv\n",
      "Read file PL_INVENTORY_TRANSACTIONS_2015_Q2x.csv\n",
      "Read file PL_INVENTORY_TRANSACTIONS_2005_Q2x.csv\n",
      "Read file PL_INVENTORY_TRANSACTIONS_2004_Q3x.csv\n",
      "Read file PL_INVENTORY_TRANSACTIONS_2014_Q3x.csv\n",
      "Read file PL_INVENTORY_TRANSACTIONS_2010_Q1x.csv\n",
      "Read file PL_INVENTORY_TRANSACTIONS_2020_Q3x.csv\n",
      "Read file PL_INVENTORY_TRANSACTIONS_2007_Q2x.csv\n",
      "Read file PL_INVENTORY_TRANSACTIONS_2017_Q2x.csv\n",
      "Read file 2021_Q1.csv\n",
      "Read file PL_INVENTORY_TRANSACTIONS_2014_Q4x.csv\n",
      "Read file PL_INVENTORY_TRANSACTIONS_2004_Q4x.csv\n",
      "Read file PL_INVENTORY_TRANSACTIONS_2012_Q1x.csv\n",
      "Read file PL_INVENTORY_TRANSACTIONS_2016_Q3x.csv\n",
      "Read file PL_INVENTORY_TRANSACTIONS_2006_Q3x.csv\n",
      "Read file PL_INVENTORY_TRANSACTIONS_2016_Q2x.csv\n",
      "Read file PL_INVENTORY_TRANSACTIONS_2006_Q2x.csv\n",
      "Read file PL_INVENTORY_TRANSACTIONS_2005_Q4x.csv\n",
      "Read file PL_INVENTORY_TRANSACTIONS_2015_Q4x.csv\n",
      "Read file PL_INVENTORY_TRANSACTIONS_2013_Q1x.csv\n",
      "Read file PL_INVENTORY_TRANSACTIONS_2007_Q3x.csv\n",
      "Read file PL_INVENTORY_TRANSACTIONS_2017_Q3x.csv\n",
      "Read file PL_INVENTORY_TRANSACTIONS_2020_Q2x.csv\n",
      "Converting to pandas dataframe\n"
     ]
    },
    {
     "name": "stderr",
     "output_type": "stream",
     "text": [
      "/var/folders/73/z_zg2ww102j_zl0j1rp57xxcwgxbxw/T/ipykernel_33486/2520777135.py:26: DtypeWarning: Columns (33,40,50,54,59) have mixed types.Specify dtype option on import or set low_memory=False.\n",
      "  txn_df = read_csv_to_df(get_lof_csv(txn_dirPath + \"CSV_Files/\"), txn_converter)\n"
     ]
    },
    {
     "name": "stdout",
     "output_type": "stream",
     "text": [
      "/Users/pbenson/Documents/IOH project/Data/CSV_Files/PL_INVENTORY_TRANSACTIONS_2009_Q4x.csv is appened\n"
     ]
    },
    {
     "name": "stderr",
     "output_type": "stream",
     "text": [
      "/var/folders/73/z_zg2ww102j_zl0j1rp57xxcwgxbxw/T/ipykernel_33486/2520777135.py:26: DtypeWarning: Columns (19,33,36,40,59) have mixed types.Specify dtype option on import or set low_memory=False.\n",
      "  txn_df = read_csv_to_df(get_lof_csv(txn_dirPath + \"CSV_Files/\"), txn_converter)\n"
     ]
    },
    {
     "name": "stdout",
     "output_type": "stream",
     "text": [
      "/Users/pbenson/Documents/IOH project/Data/CSV_Files/PL_INVENTORY_TRANSACTIONS_2019_Q4x.csv is appened\n"
     ]
    },
    {
     "name": "stderr",
     "output_type": "stream",
     "text": [
      "/var/folders/73/z_zg2ww102j_zl0j1rp57xxcwgxbxw/T/ipykernel_33486/2520777135.py:26: DtypeWarning: Columns (19,33,36,40,54,59) have mixed types.Specify dtype option on import or set low_memory=False.\n",
      "  txn_df = read_csv_to_df(get_lof_csv(txn_dirPath + \"CSV_Files/\"), txn_converter)\n"
     ]
    },
    {
     "name": "stdout",
     "output_type": "stream",
     "text": [
      "/Users/pbenson/Documents/IOH project/Data/CSV_Files/PL_INVENTORY_TRANSACTIONS_2020_Q1x.csv is appened\n"
     ]
    },
    {
     "name": "stderr",
     "output_type": "stream",
     "text": [
      "/var/folders/73/z_zg2ww102j_zl0j1rp57xxcwgxbxw/T/ipykernel_33486/2520777135.py:26: DtypeWarning: Columns (44,50) have mixed types.Specify dtype option on import or set low_memory=False.\n",
      "  txn_df = read_csv_to_df(get_lof_csv(txn_dirPath + \"CSV_Files/\"), txn_converter)\n"
     ]
    },
    {
     "name": "stdout",
     "output_type": "stream",
     "text": [
      "/Users/pbenson/Documents/IOH project/Data/CSV_Files/PL_INVENTORY_TRANSACTIONS_2006_Q1x.csv is appened\n"
     ]
    },
    {
     "name": "stderr",
     "output_type": "stream",
     "text": [
      "/var/folders/73/z_zg2ww102j_zl0j1rp57xxcwgxbxw/T/ipykernel_33486/2520777135.py:26: DtypeWarning: Columns (3,6,19,20,33,56,57,58,67,69,70) have mixed types.Specify dtype option on import or set low_memory=False.\n",
      "  txn_df = read_csv_to_df(get_lof_csv(txn_dirPath + \"CSV_Files/\"), txn_converter)\n"
     ]
    },
    {
     "name": "stdout",
     "output_type": "stream",
     "text": [
      "/Users/pbenson/Documents/IOH project/Data/CSV_Files/PL_INVENTORY_TRANSACTIONS_2016_Q1x.csv is appened\n"
     ]
    },
    {
     "name": "stderr",
     "output_type": "stream",
     "text": [
      "/var/folders/73/z_zg2ww102j_zl0j1rp57xxcwgxbxw/T/ipykernel_33486/2520777135.py:26: DtypeWarning: Columns (19,44) have mixed types.Specify dtype option on import or set low_memory=False.\n",
      "  txn_df = read_csv_to_df(get_lof_csv(txn_dirPath + \"CSV_Files/\"), txn_converter)\n"
     ]
    },
    {
     "name": "stdout",
     "output_type": "stream",
     "text": [
      "/Users/pbenson/Documents/IOH project/Data/CSV_Files/PL_INVENTORY_TRANSACTIONS_2012_Q3x.csv is appened\n",
      "/Users/pbenson/Documents/IOH project/Data/CSV_Files/PL_INVENTORY_TRANSACTIONS_2013_Q2x.csv is appened\n"
     ]
    },
    {
     "name": "stderr",
     "output_type": "stream",
     "text": [
      "/var/folders/73/z_zg2ww102j_zl0j1rp57xxcwgxbxw/T/ipykernel_33486/2520777135.py:26: DtypeWarning: Columns (40,44,59) have mixed types.Specify dtype option on import or set low_memory=False.\n",
      "  txn_df = read_csv_to_df(get_lof_csv(txn_dirPath + \"CSV_Files/\"), txn_converter)\n"
     ]
    },
    {
     "name": "stdout",
     "output_type": "stream",
     "text": [
      "/Users/pbenson/Documents/IOH project/Data/CSV_Files/PL_INVENTORY_TRANSACTIONS_2010_Q4x.csv is appened\n"
     ]
    },
    {
     "name": "stderr",
     "output_type": "stream",
     "text": [
      "/var/folders/73/z_zg2ww102j_zl0j1rp57xxcwgxbxw/T/ipykernel_33486/2520777135.py:26: DtypeWarning: Columns (44) have mixed types.Specify dtype option on import or set low_memory=False.\n",
      "  txn_df = read_csv_to_df(get_lof_csv(txn_dirPath + \"CSV_Files/\"), txn_converter)\n"
     ]
    },
    {
     "name": "stdout",
     "output_type": "stream",
     "text": [
      "/Users/pbenson/Documents/IOH project/Data/CSV_Files/PL_INVENTORY_TRANSACTIONS_2017_Q1x.csv is appened\n"
     ]
    },
    {
     "name": "stderr",
     "output_type": "stream",
     "text": [
      "/var/folders/73/z_zg2ww102j_zl0j1rp57xxcwgxbxw/T/ipykernel_33486/2520777135.py:26: DtypeWarning: Columns (3,17,18,19,33,40,44,47,48,50,58,59,67,70,71,73,75) have mixed types.Specify dtype option on import or set low_memory=False.\n",
      "  txn_df = read_csv_to_df(get_lof_csv(txn_dirPath + \"CSV_Files/\"), txn_converter)\n"
     ]
    },
    {
     "name": "stdout",
     "output_type": "stream",
     "text": [
      "/Users/pbenson/Documents/IOH project/Data/CSV_Files/PL_INVENTORY_TRANSACTIONS_2007_Q1x.csv is appened\n",
      "/Users/pbenson/Documents/IOH project/Data/CSV_Files/PL_INVENTORY_TRANSACTIONS_2013_Q3x.csv is appened\n"
     ]
    },
    {
     "name": "stderr",
     "output_type": "stream",
     "text": [
      "/var/folders/73/z_zg2ww102j_zl0j1rp57xxcwgxbxw/T/ipykernel_33486/2520777135.py:26: DtypeWarning: Columns (19,44,50) have mixed types.Specify dtype option on import or set low_memory=False.\n",
      "  txn_df = read_csv_to_df(get_lof_csv(txn_dirPath + \"CSV_Files/\"), txn_converter)\n"
     ]
    },
    {
     "name": "stdout",
     "output_type": "stream",
     "text": [
      "/Users/pbenson/Documents/IOH project/Data/CSV_Files/PL_INVENTORY_TRANSACTIONS_2012_Q2x.csv is appened\n",
      "/Users/pbenson/Documents/IOH project/Data/CSV_Files/PL_INVENTORY_TRANSACTIONS_2011_Q4x.csv is appened\n",
      "/Users/pbenson/Documents/IOH project/Data/CSV_Files/PL_INVENTORY_TRANSACTIONS_2018_Q4x.csv is appened\n",
      "/Users/pbenson/Documents/IOH project/Data/CSV_Files/PL_INVENTORY_TRANSACTIONS_2008_Q4x.csv is appened\n",
      "/Users/pbenson/Documents/IOH project/Data/CSV_Files/PL_INVENTORY_TRANSACTIONS_2011_Q3x.csv is appened\n",
      "/Users/pbenson/Documents/IOH project/Data/CSV_Files/PL_INVENTORY_TRANSACTIONS_2005_Q1x.csv is appened\n",
      "/Users/pbenson/Documents/IOH project/Data/CSV_Files/PL_INVENTORY_TRANSACTIONS_2015_Q1x.csv is appened\n",
      "/Users/pbenson/Documents/IOH project/Data/CSV_Files/PL_INVENTORY_TRANSACTIONS_2013_Q4x.csv is appened\n"
     ]
    },
    {
     "name": "stderr",
     "output_type": "stream",
     "text": [
      "/var/folders/73/z_zg2ww102j_zl0j1rp57xxcwgxbxw/T/ipykernel_33486/2520777135.py:26: DtypeWarning: Columns (33,50,54) have mixed types.Specify dtype option on import or set low_memory=False.\n",
      "  txn_df = read_csv_to_df(get_lof_csv(txn_dirPath + \"CSV_Files/\"), txn_converter)\n"
     ]
    },
    {
     "name": "stdout",
     "output_type": "stream",
     "text": [
      "/Users/pbenson/Documents/IOH project/Data/CSV_Files/PL_INVENTORY_TRANSACTIONS_2010_Q2x.csv is appened\n"
     ]
    },
    {
     "name": "stderr",
     "output_type": "stream",
     "text": [
      "/var/folders/73/z_zg2ww102j_zl0j1rp57xxcwgxbxw/T/ipykernel_33486/2520777135.py:26: DtypeWarning: Columns (19,33,40,59) have mixed types.Specify dtype option on import or set low_memory=False.\n",
      "  txn_df = read_csv_to_df(get_lof_csv(txn_dirPath + \"CSV_Files/\"), txn_converter)\n"
     ]
    },
    {
     "name": "stdout",
     "output_type": "stream",
     "text": [
      "/Users/pbenson/Documents/IOH project/Data/CSV_Files/PL_INVENTORY_TRANSACTIONS_2021_Q1.csv is appened\n"
     ]
    },
    {
     "name": "stderr",
     "output_type": "stream",
     "text": [
      "/var/folders/73/z_zg2ww102j_zl0j1rp57xxcwgxbxw/T/ipykernel_33486/2520777135.py:26: DtypeWarning: Columns (19,36,40,59) have mixed types.Specify dtype option on import or set low_memory=False.\n",
      "  txn_df = read_csv_to_df(get_lof_csv(txn_dirPath + \"CSV_Files/\"), txn_converter)\n"
     ]
    },
    {
     "name": "stdout",
     "output_type": "stream",
     "text": [
      "/Users/pbenson/Documents/IOH project/Data/CSV_Files/PL_INVENTORY_TRANSACTIONS_2021_Q3.csv is appened\n",
      "/Users/pbenson/Documents/IOH project/Data/CSV_Files/PL_INVENTORY_TRANSACTIONS_2008_Q3x.csv is appened\n",
      "/Users/pbenson/Documents/IOH project/Data/CSV_Files/PL_INVENTORY_TRANSACTIONS_2018_Q3x.csv is appened\n",
      "/Users/pbenson/Documents/IOH project/Data/CSV_Files/PL_INVENTORY_TRANSACTIONS_2019_Q2x.csv is appened\n"
     ]
    },
    {
     "name": "stderr",
     "output_type": "stream",
     "text": [
      "/var/folders/73/z_zg2ww102j_zl0j1rp57xxcwgxbxw/T/ipykernel_33486/2520777135.py:26: DtypeWarning: Columns (33,44,54) have mixed types.Specify dtype option on import or set low_memory=False.\n",
      "  txn_df = read_csv_to_df(get_lof_csv(txn_dirPath + \"CSV_Files/\"), txn_converter)\n"
     ]
    },
    {
     "name": "stdout",
     "output_type": "stream",
     "text": [
      "/Users/pbenson/Documents/IOH project/Data/CSV_Files/PL_INVENTORY_TRANSACTIONS_2009_Q2x.csv is appened\n",
      "/Users/pbenson/Documents/IOH project/Data/CSV_Files/PL_INVENTORY_TRANSACTIONS_2021_Q2.csv is appened\n",
      "/Users/pbenson/Documents/IOH project/Data/CSV_Files/PL_INVENTORY_TRANSACTIONS_2019_Q3x.csv is appened\n"
     ]
    },
    {
     "name": "stderr",
     "output_type": "stream",
     "text": [
      "/var/folders/73/z_zg2ww102j_zl0j1rp57xxcwgxbxw/T/ipykernel_33486/2520777135.py:26: DtypeWarning: Columns (33,40,54,59) have mixed types.Specify dtype option on import or set low_memory=False.\n",
      "  txn_df = read_csv_to_df(get_lof_csv(txn_dirPath + \"CSV_Files/\"), txn_converter)\n"
     ]
    },
    {
     "name": "stdout",
     "output_type": "stream",
     "text": [
      "/Users/pbenson/Documents/IOH project/Data/CSV_Files/PL_INVENTORY_TRANSACTIONS_2009_Q3x.csv is appened\n"
     ]
    },
    {
     "name": "stderr",
     "output_type": "stream",
     "text": [
      "/var/folders/73/z_zg2ww102j_zl0j1rp57xxcwgxbxw/T/ipykernel_33486/2520777135.py:26: DtypeWarning: Columns (66) have mixed types.Specify dtype option on import or set low_memory=False.\n",
      "  txn_df = read_csv_to_df(get_lof_csv(txn_dirPath + \"CSV_Files/\"), txn_converter)\n"
     ]
    },
    {
     "name": "stdout",
     "output_type": "stream",
     "text": [
      "/Users/pbenson/Documents/IOH project/Data/CSV_Files/PL_INVENTORY_TRANSACTIONS_2008_Q2x.csv is appened\n"
     ]
    },
    {
     "name": "stderr",
     "output_type": "stream",
     "text": [
      "/var/folders/73/z_zg2ww102j_zl0j1rp57xxcwgxbxw/T/ipykernel_33486/2520777135.py:26: DtypeWarning: Columns (3,6,19,20,36,40,44,47,48,54,56,57,58,59,66,67,69,70) have mixed types.Specify dtype option on import or set low_memory=False.\n",
      "  txn_df = read_csv_to_df(get_lof_csv(txn_dirPath + \"CSV_Files/\"), txn_converter)\n"
     ]
    },
    {
     "name": "stdout",
     "output_type": "stream",
     "text": [
      "/Users/pbenson/Documents/IOH project/Data/CSV_Files/PL_INVENTORY_TRANSACTIONS_2018_Q2x.csv is appened\n"
     ]
    },
    {
     "name": "stderr",
     "output_type": "stream",
     "text": [
      "/var/folders/73/z_zg2ww102j_zl0j1rp57xxcwgxbxw/T/ipykernel_33486/2520777135.py:26: DtypeWarning: Columns (3,19,33,44,54,58,67) have mixed types.Specify dtype option on import or set low_memory=False.\n",
      "  txn_df = read_csv_to_df(get_lof_csv(txn_dirPath + \"CSV_Files/\"), txn_converter)\n"
     ]
    },
    {
     "name": "stdout",
     "output_type": "stream",
     "text": [
      "/Users/pbenson/Documents/IOH project/Data/CSV_Files/PL_INVENTORY_TRANSACTIONS_2010_Q3x.csv is appened\n"
     ]
    },
    {
     "name": "stderr",
     "output_type": "stream",
     "text": [
      "/var/folders/73/z_zg2ww102j_zl0j1rp57xxcwgxbxw/T/ipykernel_33486/2520777135.py:26: DtypeWarning: Columns (19,40,44,50,59) have mixed types.Specify dtype option on import or set low_memory=False.\n",
      "  txn_df = read_csv_to_df(get_lof_csv(txn_dirPath + \"CSV_Files/\"), txn_converter)\n"
     ]
    },
    {
     "name": "stdout",
     "output_type": "stream",
     "text": [
      "/Users/pbenson/Documents/IOH project/Data/CSV_Files/PL_INVENTORY_TRANSACTIONS_2014_Q1x.csv is appened\n",
      "/Users/pbenson/Documents/IOH project/Data/CSV_Files/PL_INVENTORY_TRANSACTIONS_2012_Q4x.csv is appened\n",
      "/Users/pbenson/Documents/IOH project/Data/CSV_Files/PL_INVENTORY_TRANSACTIONS_2021_Q4.csv is appened\n"
     ]
    },
    {
     "name": "stderr",
     "output_type": "stream",
     "text": [
      "/var/folders/73/z_zg2ww102j_zl0j1rp57xxcwgxbxw/T/ipykernel_33486/2520777135.py:26: DtypeWarning: Columns (33,44) have mixed types.Specify dtype option on import or set low_memory=False.\n",
      "  txn_df = read_csv_to_df(get_lof_csv(txn_dirPath + \"CSV_Files/\"), txn_converter)\n"
     ]
    },
    {
     "name": "stdout",
     "output_type": "stream",
     "text": [
      "/Users/pbenson/Documents/IOH project/Data/CSV_Files/PL_INVENTORY_TRANSACTIONS_2011_Q2x.csv is appened\n"
     ]
    },
    {
     "name": "stderr",
     "output_type": "stream",
     "text": [
      "/var/folders/73/z_zg2ww102j_zl0j1rp57xxcwgxbxw/T/ipykernel_33486/2520777135.py:26: DtypeWarning: Columns (19,40,44,59,66) have mixed types.Specify dtype option on import or set low_memory=False.\n",
      "  txn_df = read_csv_to_df(get_lof_csv(txn_dirPath + \"CSV_Files/\"), txn_converter)\n"
     ]
    },
    {
     "name": "stdout",
     "output_type": "stream",
     "text": [
      "/Users/pbenson/Documents/IOH project/Data/CSV_Files/PL_INVENTORY_TRANSACTIONS_2017_Q4x.csv is appened\n"
     ]
    },
    {
     "name": "stderr",
     "output_type": "stream",
     "text": [
      "/var/folders/73/z_zg2ww102j_zl0j1rp57xxcwgxbxw/T/ipykernel_33486/2520777135.py:26: DtypeWarning: Columns (40,44,50,59,66) have mixed types.Specify dtype option on import or set low_memory=False.\n",
      "  txn_df = read_csv_to_df(get_lof_csv(txn_dirPath + \"CSV_Files/\"), txn_converter)\n"
     ]
    },
    {
     "name": "stdout",
     "output_type": "stream",
     "text": [
      "/Users/pbenson/Documents/IOH project/Data/CSV_Files/PL_INVENTORY_TRANSACTIONS_2007_Q4x.csv is appened\n",
      "/Users/pbenson/Documents/IOH project/Data/CSV_Files/PL_INVENTORY_TRANSACTIONS_2014_Q2x.csv is appened\n"
     ]
    },
    {
     "name": "stderr",
     "output_type": "stream",
     "text": [
      "/var/folders/73/z_zg2ww102j_zl0j1rp57xxcwgxbxw/T/ipykernel_33486/2520777135.py:26: DtypeWarning: Columns (3,6,17,18,19,20,27,33,40,44,47,48,56,57,58,59,67,69,70,73,75) have mixed types.Specify dtype option on import or set low_memory=False.\n",
      "  txn_df = read_csv_to_df(get_lof_csv(txn_dirPath + \"CSV_Files/\"), txn_converter)\n"
     ]
    },
    {
     "name": "stdout",
     "output_type": "stream",
     "text": [
      "/Users/pbenson/Documents/IOH project/Data/CSV_Files/PL_INVENTORY_TRANSACTIONS_2004_1Hx.csv is appened\n"
     ]
    },
    {
     "name": "stderr",
     "output_type": "stream",
     "text": [
      "/var/folders/73/z_zg2ww102j_zl0j1rp57xxcwgxbxw/T/ipykernel_33486/2520777135.py:26: DtypeWarning: Columns (19,33,44,54) have mixed types.Specify dtype option on import or set low_memory=False.\n",
      "  txn_df = read_csv_to_df(get_lof_csv(txn_dirPath + \"CSV_Files/\"), txn_converter)\n"
     ]
    },
    {
     "name": "stdout",
     "output_type": "stream",
     "text": [
      "/Users/pbenson/Documents/IOH project/Data/CSV_Files/PL_INVENTORY_TRANSACTIONS_2015_Q3x.csv is appened\n"
     ]
    },
    {
     "name": "stderr",
     "output_type": "stream",
     "text": [
      "/var/folders/73/z_zg2ww102j_zl0j1rp57xxcwgxbxw/T/ipykernel_33486/2520777135.py:26: DtypeWarning: Columns (40,44,50,59) have mixed types.Specify dtype option on import or set low_memory=False.\n",
      "  txn_df = read_csv_to_df(get_lof_csv(txn_dirPath + \"CSV_Files/\"), txn_converter)\n"
     ]
    },
    {
     "name": "stdout",
     "output_type": "stream",
     "text": [
      "/Users/pbenson/Documents/IOH project/Data/CSV_Files/PL_INVENTORY_TRANSACTIONS_2005_Q3x.csv is appened\n",
      "/Users/pbenson/Documents/IOH project/Data/CSV_Files/PL_INVENTORY_TRANSACTIONS_2011_Q1x.csv is appened\n"
     ]
    },
    {
     "name": "stderr",
     "output_type": "stream",
     "text": [
      "/var/folders/73/z_zg2ww102j_zl0j1rp57xxcwgxbxw/T/ipykernel_33486/2520777135.py:26: DtypeWarning: Columns (19,33,36,40,59,66) have mixed types.Specify dtype option on import or set low_memory=False.\n",
      "  txn_df = read_csv_to_df(get_lof_csv(txn_dirPath + \"CSV_Files/\"), txn_converter)\n"
     ]
    },
    {
     "name": "stdout",
     "output_type": "stream",
     "text": [
      "/Users/pbenson/Documents/IOH project/Data/CSV_Files/PL_INVENTORY_TRANSACTIONS_2018_Q1x.csv is appened\n",
      "/Users/pbenson/Documents/IOH project/Data/CSV_Files/PL_INVENTORY_TRANSACTIONS_2008_Q1x.csv is appened\n",
      "/Users/pbenson/Documents/IOH project/Data/CSV_Files/PL_INVENTORY_TRANSACTIONS_2009_Q1x.csv is appened\n",
      "/Users/pbenson/Documents/IOH project/Data/CSV_Files/PL_INVENTORY_TRANSACTIONS_2019_Q1x.csv is appened\n",
      "/Users/pbenson/Documents/IOH project/Data/CSV_Files/PL_INVENTORY_TRANSACTIONS_2020_Q4x.csv is appened\n"
     ]
    },
    {
     "name": "stderr",
     "output_type": "stream",
     "text": [
      "/var/folders/73/z_zg2ww102j_zl0j1rp57xxcwgxbxw/T/ipykernel_33486/2520777135.py:26: DtypeWarning: Columns (3,6,19,20,27,33,40,44,47,48,50,56,57,58,59,67,69,70,71,73,75) have mixed types.Specify dtype option on import or set low_memory=False.\n",
      "  txn_df = read_csv_to_df(get_lof_csv(txn_dirPath + \"CSV_Files/\"), txn_converter)\n"
     ]
    },
    {
     "name": "stdout",
     "output_type": "stream",
     "text": [
      "/Users/pbenson/Documents/IOH project/Data/CSV_Files/PL_INVENTORY_TRANSACTIONS_2006_Q4x.csv is appened\n"
     ]
    },
    {
     "name": "stderr",
     "output_type": "stream",
     "text": [
      "/var/folders/73/z_zg2ww102j_zl0j1rp57xxcwgxbxw/T/ipykernel_33486/2520777135.py:26: DtypeWarning: Columns (19,40,44,59) have mixed types.Specify dtype option on import or set low_memory=False.\n",
      "  txn_df = read_csv_to_df(get_lof_csv(txn_dirPath + \"CSV_Files/\"), txn_converter)\n"
     ]
    },
    {
     "name": "stdout",
     "output_type": "stream",
     "text": [
      "/Users/pbenson/Documents/IOH project/Data/CSV_Files/PL_INVENTORY_TRANSACTIONS_2016_Q4x.csv is appened\n",
      "/Users/pbenson/Documents/IOH project/Data/CSV_Files/PL_INVENTORY_TRANSACTIONS_2015_Q2x.csv is appened\n",
      "/Users/pbenson/Documents/IOH project/Data/CSV_Files/PL_INVENTORY_TRANSACTIONS_2005_Q2x.csv is appened\n"
     ]
    },
    {
     "name": "stderr",
     "output_type": "stream",
     "text": [
      "/var/folders/73/z_zg2ww102j_zl0j1rp57xxcwgxbxw/T/ipykernel_33486/2520777135.py:26: DtypeWarning: Columns (3,6,19,20,33,40,44,56,57,58,59,67,69,70) have mixed types.Specify dtype option on import or set low_memory=False.\n",
      "  txn_df = read_csv_to_df(get_lof_csv(txn_dirPath + \"CSV_Files/\"), txn_converter)\n"
     ]
    },
    {
     "name": "stdout",
     "output_type": "stream",
     "text": [
      "/Users/pbenson/Documents/IOH project/Data/CSV_Files/PL_INVENTORY_TRANSACTIONS_2004_Q3x.csv is appened\n",
      "/Users/pbenson/Documents/IOH project/Data/CSV_Files/PL_INVENTORY_TRANSACTIONS_2014_Q3x.csv is appened\n"
     ]
    },
    {
     "name": "stderr",
     "output_type": "stream",
     "text": [
      "/var/folders/73/z_zg2ww102j_zl0j1rp57xxcwgxbxw/T/ipykernel_33486/2520777135.py:26: DtypeWarning: Columns (33,44,50,54) have mixed types.Specify dtype option on import or set low_memory=False.\n",
      "  txn_df = read_csv_to_df(get_lof_csv(txn_dirPath + \"CSV_Files/\"), txn_converter)\n"
     ]
    },
    {
     "name": "stdout",
     "output_type": "stream",
     "text": [
      "/Users/pbenson/Documents/IOH project/Data/CSV_Files/PL_INVENTORY_TRANSACTIONS_2010_Q1x.csv is appened\n"
     ]
    },
    {
     "name": "stderr",
     "output_type": "stream",
     "text": [
      "/var/folders/73/z_zg2ww102j_zl0j1rp57xxcwgxbxw/T/ipykernel_33486/2520777135.py:26: DtypeWarning: Columns (19,33,36,40,50,59) have mixed types.Specify dtype option on import or set low_memory=False.\n",
      "  txn_df = read_csv_to_df(get_lof_csv(txn_dirPath + \"CSV_Files/\"), txn_converter)\n"
     ]
    },
    {
     "name": "stdout",
     "output_type": "stream",
     "text": [
      "/Users/pbenson/Documents/IOH project/Data/CSV_Files/PL_INVENTORY_TRANSACTIONS_2020_Q3x.csv is appened\n"
     ]
    },
    {
     "name": "stderr",
     "output_type": "stream",
     "text": [
      "/var/folders/73/z_zg2ww102j_zl0j1rp57xxcwgxbxw/T/ipykernel_33486/2520777135.py:26: DtypeWarning: Columns (19,40,44,50,59,66) have mixed types.Specify dtype option on import or set low_memory=False.\n",
      "  txn_df = read_csv_to_df(get_lof_csv(txn_dirPath + \"CSV_Files/\"), txn_converter)\n"
     ]
    },
    {
     "name": "stdout",
     "output_type": "stream",
     "text": [
      "/Users/pbenson/Documents/IOH project/Data/CSV_Files/PL_INVENTORY_TRANSACTIONS_2007_Q2x.csv is appened\n",
      "/Users/pbenson/Documents/IOH project/Data/CSV_Files/PL_INVENTORY_TRANSACTIONS_2017_Q2x.csv is appened\n",
      "/Users/pbenson/Documents/IOH project/Data/CSV_Files/2021_Q1.csv is appened\n",
      "/Users/pbenson/Documents/IOH project/Data/CSV_Files/PL_INVENTORY_TRANSACTIONS_2014_Q4x.csv is appened\n",
      "/Users/pbenson/Documents/IOH project/Data/CSV_Files/PL_INVENTORY_TRANSACTIONS_2004_Q4x.csv is appened\n",
      "/Users/pbenson/Documents/IOH project/Data/CSV_Files/PL_INVENTORY_TRANSACTIONS_2012_Q1x.csv is appened\n",
      "/Users/pbenson/Documents/IOH project/Data/CSV_Files/PL_INVENTORY_TRANSACTIONS_2016_Q3x.csv is appened\n"
     ]
    },
    {
     "name": "stderr",
     "output_type": "stream",
     "text": [
      "/var/folders/73/z_zg2ww102j_zl0j1rp57xxcwgxbxw/T/ipykernel_33486/2520777135.py:26: DtypeWarning: Columns (36,44,50,66) have mixed types.Specify dtype option on import or set low_memory=False.\n",
      "  txn_df = read_csv_to_df(get_lof_csv(txn_dirPath + \"CSV_Files/\"), txn_converter)\n"
     ]
    },
    {
     "name": "stdout",
     "output_type": "stream",
     "text": [
      "/Users/pbenson/Documents/IOH project/Data/CSV_Files/PL_INVENTORY_TRANSACTIONS_2006_Q3x.csv is appened\n"
     ]
    },
    {
     "name": "stderr",
     "output_type": "stream",
     "text": [
      "/var/folders/73/z_zg2ww102j_zl0j1rp57xxcwgxbxw/T/ipykernel_33486/2520777135.py:26: DtypeWarning: Columns (19,40,59) have mixed types.Specify dtype option on import or set low_memory=False.\n",
      "  txn_df = read_csv_to_df(get_lof_csv(txn_dirPath + \"CSV_Files/\"), txn_converter)\n"
     ]
    },
    {
     "name": "stdout",
     "output_type": "stream",
     "text": [
      "/Users/pbenson/Documents/IOH project/Data/CSV_Files/PL_INVENTORY_TRANSACTIONS_2016_Q2x.csv is appened\n"
     ]
    },
    {
     "name": "stderr",
     "output_type": "stream",
     "text": [
      "/var/folders/73/z_zg2ww102j_zl0j1rp57xxcwgxbxw/T/ipykernel_33486/2520777135.py:26: DtypeWarning: Columns (19,44,50,66) have mixed types.Specify dtype option on import or set low_memory=False.\n",
      "  txn_df = read_csv_to_df(get_lof_csv(txn_dirPath + \"CSV_Files/\"), txn_converter)\n"
     ]
    },
    {
     "name": "stdout",
     "output_type": "stream",
     "text": [
      "/Users/pbenson/Documents/IOH project/Data/CSV_Files/PL_INVENTORY_TRANSACTIONS_2006_Q2x.csv is appened\n"
     ]
    },
    {
     "name": "stderr",
     "output_type": "stream",
     "text": [
      "/var/folders/73/z_zg2ww102j_zl0j1rp57xxcwgxbxw/T/ipykernel_33486/2520777135.py:26: DtypeWarning: Columns (19,40,50,59) have mixed types.Specify dtype option on import or set low_memory=False.\n",
      "  txn_df = read_csv_to_df(get_lof_csv(txn_dirPath + \"CSV_Files/\"), txn_converter)\n"
     ]
    },
    {
     "name": "stdout",
     "output_type": "stream",
     "text": [
      "/Users/pbenson/Documents/IOH project/Data/CSV_Files/PL_INVENTORY_TRANSACTIONS_2005_Q4x.csv is appened\n",
      "/Users/pbenson/Documents/IOH project/Data/CSV_Files/PL_INVENTORY_TRANSACTIONS_2015_Q4x.csv is appened\n"
     ]
    },
    {
     "name": "stderr",
     "output_type": "stream",
     "text": [
      "/var/folders/73/z_zg2ww102j_zl0j1rp57xxcwgxbxw/T/ipykernel_33486/2520777135.py:26: DtypeWarning: Columns (3,17,19,21,33,44,47,48,50,58,67) have mixed types.Specify dtype option on import or set low_memory=False.\n",
      "  txn_df = read_csv_to_df(get_lof_csv(txn_dirPath + \"CSV_Files/\"), txn_converter)\n"
     ]
    },
    {
     "name": "stdout",
     "output_type": "stream",
     "text": [
      "/Users/pbenson/Documents/IOH project/Data/CSV_Files/PL_INVENTORY_TRANSACTIONS_2013_Q1x.csv is appened\n",
      "/Users/pbenson/Documents/IOH project/Data/CSV_Files/PL_INVENTORY_TRANSACTIONS_2007_Q3x.csv is appened\n"
     ]
    },
    {
     "name": "stderr",
     "output_type": "stream",
     "text": [
      "/var/folders/73/z_zg2ww102j_zl0j1rp57xxcwgxbxw/T/ipykernel_33486/2520777135.py:26: DtypeWarning: Columns (19,36,40,44,59,66) have mixed types.Specify dtype option on import or set low_memory=False.\n",
      "  txn_df = read_csv_to_df(get_lof_csv(txn_dirPath + \"CSV_Files/\"), txn_converter)\n"
     ]
    },
    {
     "name": "stdout",
     "output_type": "stream",
     "text": [
      "/Users/pbenson/Documents/IOH project/Data/CSV_Files/PL_INVENTORY_TRANSACTIONS_2017_Q3x.csv is appened\n"
     ]
    },
    {
     "name": "stderr",
     "output_type": "stream",
     "text": [
      "/var/folders/73/z_zg2ww102j_zl0j1rp57xxcwgxbxw/T/ipykernel_33486/2520777135.py:26: DtypeWarning: Columns (19,33,36,40,44,59) have mixed types.Specify dtype option on import or set low_memory=False.\n",
      "  txn_df = read_csv_to_df(get_lof_csv(txn_dirPath + \"CSV_Files/\"), txn_converter)\n"
     ]
    },
    {
     "name": "stdout",
     "output_type": "stream",
     "text": [
      "/Users/pbenson/Documents/IOH project/Data/CSV_Files/PL_INVENTORY_TRANSACTIONS_2020_Q2x.csv is appened\n"
     ]
    }
   ],
   "source": [
    "def get_lof_csv(directory):\n",
    "    lof = []\n",
    "    for file in os.listdir(directory):\n",
    "        if file.endswith('.csv'):\n",
    "            lof.append(directory + file)\n",
    "            print(\"Read file {}\".format(file))\n",
    "    return lof\n",
    "\n",
    "def read_csv_to_df(lof, converter):\n",
    "    print(\"Converting to pandas dataframe\")\n",
    "\n",
    "    dataframe = pandas.DataFrame()\n",
    "\n",
    "    # More efficient way to do this: pd.concat\n",
    "    next_txns = []\n",
    "    for f in lof:\n",
    "        next_txn = pandas.read_csv(f, converters=converter)\n",
    "        next_txns.append(next_txn)\n",
    "        #dataframe = dataframe.append(next_txn, ignore_index=True)\n",
    "        print(f + ' is appened')\n",
    "    dataframe = pandas.concat(next_txns, ignore_index=True)\n",
    "    return dataframe\n",
    "\n",
    "# Run it with CSV's instead.\n",
    "\n",
    "txn_df = read_csv_to_df(get_lof_csv(txn_dirPath + \"CSV_Files/\"), txn_converter)"
   ]
  },
  {
   "cell_type": "code",
   "execution_count": 2,
   "id": "2cf6f9a9-fca0-467c-9a60-bd91b7a09d2e",
   "metadata": {
    "collapsed": true
   },
   "outputs": [
    {
     "name": "stdout",
     "output_type": "stream",
     "text": [
      "/Users/pbenson/Documents/IOH project/Data/Excel_Files/PL_INVENTORY_TRANSACTIONS_2005_Q1x.xlsx is appened\n",
      "/Users/pbenson/Documents/IOH project/Data/Excel_Files/PL_INVENTORY_TRANSACTIONS_2015_Q2x.xlsx is appened\n",
      "/Users/pbenson/Documents/IOH project/Data/Excel_Files/PL_INVENTORY_TRANSACTIONS_2014_Q2x.xlsx is appened\n"
     ]
    },
    {
     "ename": "KeyboardInterrupt",
     "evalue": "",
     "output_type": "error",
     "traceback": [
      "\u001b[0;31m---------------------------------------------------------------------------\u001b[0m",
      "\u001b[0;31mKeyboardInterrupt\u001b[0m                         Traceback (most recent call last)",
      "\u001b[0;32m/var/folders/73/z_zg2ww102j_zl0j1rp57xxcwgxbxw/T/ipykernel_33486/84282111.py\u001b[0m in \u001b[0;36m<module>\u001b[0;34m\u001b[0m\n\u001b[0;32m----> 1\u001b[0;31m \u001b[0mtxn_df\u001b[0m \u001b[0;34m=\u001b[0m \u001b[0mread_txn_to_df\u001b[0m\u001b[0;34m(\u001b[0m\u001b[0mget_lof\u001b[0m\u001b[0;34m(\u001b[0m\u001b[0mtxn_dirPath\u001b[0m\u001b[0;34m)\u001b[0m\u001b[0;34m,\u001b[0m \u001b[0mtxn_converter\u001b[0m\u001b[0;34m)\u001b[0m\u001b[0;34m\u001b[0m\u001b[0;34m\u001b[0m\u001b[0m\n\u001b[0m",
      "\u001b[0;32m/var/folders/73/z_zg2ww102j_zl0j1rp57xxcwgxbxw/T/ipykernel_33486/844489176.py\u001b[0m in \u001b[0;36mread_txn_to_df\u001b[0;34m(lof, converter)\u001b[0m\n\u001b[1;32m     31\u001b[0m     \u001b[0mdataframe\u001b[0m \u001b[0;34m=\u001b[0m \u001b[0mpandas\u001b[0m\u001b[0;34m.\u001b[0m\u001b[0mDataFrame\u001b[0m\u001b[0;34m(\u001b[0m\u001b[0;34m)\u001b[0m\u001b[0;34m\u001b[0m\u001b[0;34m\u001b[0m\u001b[0m\n\u001b[1;32m     32\u001b[0m     \u001b[0;32mfor\u001b[0m \u001b[0mf\u001b[0m \u001b[0;32min\u001b[0m \u001b[0mlof\u001b[0m\u001b[0;34m:\u001b[0m\u001b[0;34m\u001b[0m\u001b[0;34m\u001b[0m\u001b[0m\n\u001b[0;32m---> 33\u001b[0;31m         \u001b[0mnext_txn\u001b[0m \u001b[0;34m=\u001b[0m \u001b[0mpandas\u001b[0m\u001b[0;34m.\u001b[0m\u001b[0mread_excel\u001b[0m\u001b[0;34m(\u001b[0m\u001b[0mf\u001b[0m\u001b[0;34m,\u001b[0m \u001b[0mconverters\u001b[0m\u001b[0;34m=\u001b[0m\u001b[0mconverter\u001b[0m\u001b[0;34m)\u001b[0m\u001b[0;34m\u001b[0m\u001b[0;34m\u001b[0m\u001b[0m\n\u001b[0m\u001b[1;32m     34\u001b[0m         \u001b[0mdataframe\u001b[0m \u001b[0;34m=\u001b[0m \u001b[0mdataframe\u001b[0m\u001b[0;34m.\u001b[0m\u001b[0mappend\u001b[0m\u001b[0;34m(\u001b[0m\u001b[0mnext_txn\u001b[0m\u001b[0;34m,\u001b[0m \u001b[0mignore_index\u001b[0m\u001b[0;34m=\u001b[0m\u001b[0;32mTrue\u001b[0m\u001b[0;34m)\u001b[0m\u001b[0;34m\u001b[0m\u001b[0;34m\u001b[0m\u001b[0m\n\u001b[1;32m     35\u001b[0m         \u001b[0mprint\u001b[0m\u001b[0;34m(\u001b[0m\u001b[0mf\u001b[0m \u001b[0;34m+\u001b[0m \u001b[0;34m' is appened'\u001b[0m\u001b[0;34m)\u001b[0m\u001b[0;34m\u001b[0m\u001b[0;34m\u001b[0m\u001b[0m\n",
      "\u001b[0;32m~/opt/anaconda3/lib/python3.9/site-packages/pandas/util/_decorators.py\u001b[0m in \u001b[0;36mwrapper\u001b[0;34m(*args, **kwargs)\u001b[0m\n\u001b[1;32m    309\u001b[0m                     \u001b[0mstacklevel\u001b[0m\u001b[0;34m=\u001b[0m\u001b[0mstacklevel\u001b[0m\u001b[0;34m,\u001b[0m\u001b[0;34m\u001b[0m\u001b[0;34m\u001b[0m\u001b[0m\n\u001b[1;32m    310\u001b[0m                 )\n\u001b[0;32m--> 311\u001b[0;31m             \u001b[0;32mreturn\u001b[0m \u001b[0mfunc\u001b[0m\u001b[0;34m(\u001b[0m\u001b[0;34m*\u001b[0m\u001b[0margs\u001b[0m\u001b[0;34m,\u001b[0m \u001b[0;34m**\u001b[0m\u001b[0mkwargs\u001b[0m\u001b[0;34m)\u001b[0m\u001b[0;34m\u001b[0m\u001b[0;34m\u001b[0m\u001b[0m\n\u001b[0m\u001b[1;32m    312\u001b[0m \u001b[0;34m\u001b[0m\u001b[0m\n\u001b[1;32m    313\u001b[0m         \u001b[0;32mreturn\u001b[0m \u001b[0mwrapper\u001b[0m\u001b[0;34m\u001b[0m\u001b[0;34m\u001b[0m\u001b[0m\n",
      "\u001b[0;32m~/opt/anaconda3/lib/python3.9/site-packages/pandas/io/excel/_base.py\u001b[0m in \u001b[0;36mread_excel\u001b[0;34m(io, sheet_name, header, names, index_col, usecols, squeeze, dtype, engine, converters, true_values, false_values, skiprows, nrows, na_values, keep_default_na, na_filter, verbose, parse_dates, date_parser, thousands, comment, skipfooter, convert_float, mangle_dupe_cols, storage_options)\u001b[0m\n\u001b[1;32m    370\u001b[0m \u001b[0;34m\u001b[0m\u001b[0m\n\u001b[1;32m    371\u001b[0m     \u001b[0;32mtry\u001b[0m\u001b[0;34m:\u001b[0m\u001b[0;34m\u001b[0m\u001b[0;34m\u001b[0m\u001b[0m\n\u001b[0;32m--> 372\u001b[0;31m         data = io.parse(\n\u001b[0m\u001b[1;32m    373\u001b[0m             \u001b[0msheet_name\u001b[0m\u001b[0;34m=\u001b[0m\u001b[0msheet_name\u001b[0m\u001b[0;34m,\u001b[0m\u001b[0;34m\u001b[0m\u001b[0;34m\u001b[0m\u001b[0m\n\u001b[1;32m    374\u001b[0m             \u001b[0mheader\u001b[0m\u001b[0;34m=\u001b[0m\u001b[0mheader\u001b[0m\u001b[0;34m,\u001b[0m\u001b[0;34m\u001b[0m\u001b[0;34m\u001b[0m\u001b[0m\n",
      "\u001b[0;32m~/opt/anaconda3/lib/python3.9/site-packages/pandas/io/excel/_base.py\u001b[0m in \u001b[0;36mparse\u001b[0;34m(self, sheet_name, header, names, index_col, usecols, squeeze, converters, true_values, false_values, skiprows, nrows, na_values, parse_dates, date_parser, thousands, comment, skipfooter, convert_float, mangle_dupe_cols, **kwds)\u001b[0m\n\u001b[1;32m   1270\u001b[0m             \u001b[0mDataFrame\u001b[0m \u001b[0;32mfrom\u001b[0m \u001b[0mthe\u001b[0m \u001b[0mpassed\u001b[0m \u001b[0;32min\u001b[0m \u001b[0mExcel\u001b[0m \u001b[0mfile\u001b[0m\u001b[0;34m.\u001b[0m\u001b[0;34m\u001b[0m\u001b[0;34m\u001b[0m\u001b[0m\n\u001b[1;32m   1271\u001b[0m         \"\"\"\n\u001b[0;32m-> 1272\u001b[0;31m         return self._reader.parse(\n\u001b[0m\u001b[1;32m   1273\u001b[0m             \u001b[0msheet_name\u001b[0m\u001b[0;34m=\u001b[0m\u001b[0msheet_name\u001b[0m\u001b[0;34m,\u001b[0m\u001b[0;34m\u001b[0m\u001b[0;34m\u001b[0m\u001b[0m\n\u001b[1;32m   1274\u001b[0m             \u001b[0mheader\u001b[0m\u001b[0;34m=\u001b[0m\u001b[0mheader\u001b[0m\u001b[0;34m,\u001b[0m\u001b[0;34m\u001b[0m\u001b[0;34m\u001b[0m\u001b[0m\n",
      "\u001b[0;32m~/opt/anaconda3/lib/python3.9/site-packages/pandas/io/excel/_base.py\u001b[0m in \u001b[0;36mparse\u001b[0;34m(self, sheet_name, header, names, index_col, usecols, squeeze, dtype, true_values, false_values, skiprows, nrows, na_values, verbose, parse_dates, date_parser, thousands, comment, skipfooter, convert_float, mangle_dupe_cols, **kwds)\u001b[0m\n\u001b[1;32m    537\u001b[0m                 \u001b[0msheet\u001b[0m \u001b[0;34m=\u001b[0m \u001b[0mself\u001b[0m\u001b[0;34m.\u001b[0m\u001b[0mget_sheet_by_index\u001b[0m\u001b[0;34m(\u001b[0m\u001b[0masheetname\u001b[0m\u001b[0;34m)\u001b[0m\u001b[0;34m\u001b[0m\u001b[0;34m\u001b[0m\u001b[0m\n\u001b[1;32m    538\u001b[0m \u001b[0;34m\u001b[0m\u001b[0m\n\u001b[0;32m--> 539\u001b[0;31m             \u001b[0mdata\u001b[0m \u001b[0;34m=\u001b[0m \u001b[0mself\u001b[0m\u001b[0;34m.\u001b[0m\u001b[0mget_sheet_data\u001b[0m\u001b[0;34m(\u001b[0m\u001b[0msheet\u001b[0m\u001b[0;34m,\u001b[0m \u001b[0mconvert_float\u001b[0m\u001b[0;34m)\u001b[0m\u001b[0;34m\u001b[0m\u001b[0;34m\u001b[0m\u001b[0m\n\u001b[0m\u001b[1;32m    540\u001b[0m             \u001b[0;32mif\u001b[0m \u001b[0mhasattr\u001b[0m\u001b[0;34m(\u001b[0m\u001b[0msheet\u001b[0m\u001b[0;34m,\u001b[0m \u001b[0;34m\"close\"\u001b[0m\u001b[0;34m)\u001b[0m\u001b[0;34m:\u001b[0m\u001b[0;34m\u001b[0m\u001b[0;34m\u001b[0m\u001b[0m\n\u001b[1;32m    541\u001b[0m                 \u001b[0;31m# pyxlsb opens two TemporaryFiles\u001b[0m\u001b[0;34m\u001b[0m\u001b[0;34m\u001b[0m\u001b[0m\n",
      "\u001b[0;32m~/opt/anaconda3/lib/python3.9/site-packages/pandas/io/excel/_openpyxl.py\u001b[0m in \u001b[0;36mget_sheet_data\u001b[0;34m(self, sheet, convert_float)\u001b[0m\n\u001b[1;32m    570\u001b[0m         \u001b[0mdata\u001b[0m\u001b[0;34m:\u001b[0m \u001b[0mlist\u001b[0m\u001b[0;34m[\u001b[0m\u001b[0mlist\u001b[0m\u001b[0;34m[\u001b[0m\u001b[0mScalar\u001b[0m\u001b[0;34m]\u001b[0m\u001b[0;34m]\u001b[0m \u001b[0;34m=\u001b[0m \u001b[0;34m[\u001b[0m\u001b[0;34m]\u001b[0m\u001b[0;34m\u001b[0m\u001b[0;34m\u001b[0m\u001b[0m\n\u001b[1;32m    571\u001b[0m         \u001b[0mlast_row_with_data\u001b[0m \u001b[0;34m=\u001b[0m \u001b[0;34m-\u001b[0m\u001b[0;36m1\u001b[0m\u001b[0;34m\u001b[0m\u001b[0;34m\u001b[0m\u001b[0m\n\u001b[0;32m--> 572\u001b[0;31m         \u001b[0;32mfor\u001b[0m \u001b[0mrow_number\u001b[0m\u001b[0;34m,\u001b[0m \u001b[0mrow\u001b[0m \u001b[0;32min\u001b[0m \u001b[0menumerate\u001b[0m\u001b[0;34m(\u001b[0m\u001b[0msheet\u001b[0m\u001b[0;34m.\u001b[0m\u001b[0mrows\u001b[0m\u001b[0;34m)\u001b[0m\u001b[0;34m:\u001b[0m\u001b[0;34m\u001b[0m\u001b[0;34m\u001b[0m\u001b[0m\n\u001b[0m\u001b[1;32m    573\u001b[0m             \u001b[0mconverted_row\u001b[0m \u001b[0;34m=\u001b[0m \u001b[0;34m[\u001b[0m\u001b[0mself\u001b[0m\u001b[0;34m.\u001b[0m\u001b[0m_convert_cell\u001b[0m\u001b[0;34m(\u001b[0m\u001b[0mcell\u001b[0m\u001b[0;34m,\u001b[0m \u001b[0mconvert_float\u001b[0m\u001b[0;34m)\u001b[0m \u001b[0;32mfor\u001b[0m \u001b[0mcell\u001b[0m \u001b[0;32min\u001b[0m \u001b[0mrow\u001b[0m\u001b[0;34m]\u001b[0m\u001b[0;34m\u001b[0m\u001b[0;34m\u001b[0m\u001b[0m\n\u001b[1;32m    574\u001b[0m             \u001b[0;32mwhile\u001b[0m \u001b[0mconverted_row\u001b[0m \u001b[0;32mand\u001b[0m \u001b[0mconverted_row\u001b[0m\u001b[0;34m[\u001b[0m\u001b[0;34m-\u001b[0m\u001b[0;36m1\u001b[0m\u001b[0;34m]\u001b[0m \u001b[0;34m==\u001b[0m \u001b[0;34m\"\"\u001b[0m\u001b[0;34m:\u001b[0m\u001b[0;34m\u001b[0m\u001b[0;34m\u001b[0m\u001b[0m\n",
      "\u001b[0;32m~/opt/anaconda3/lib/python3.9/site-packages/openpyxl/worksheet/_read_only.py\u001b[0m in \u001b[0;36m_cells_by_row\u001b[0;34m(self, min_col, min_row, max_col, max_row, values_only)\u001b[0m\n\u001b[1;32m     77\u001b[0m                                  \u001b[0mdata_only\u001b[0m\u001b[0;34m=\u001b[0m\u001b[0mself\u001b[0m\u001b[0;34m.\u001b[0m\u001b[0mparent\u001b[0m\u001b[0;34m.\u001b[0m\u001b[0mdata_only\u001b[0m\u001b[0;34m,\u001b[0m \u001b[0mepoch\u001b[0m\u001b[0;34m=\u001b[0m\u001b[0mself\u001b[0m\u001b[0;34m.\u001b[0m\u001b[0mparent\u001b[0m\u001b[0;34m.\u001b[0m\u001b[0mepoch\u001b[0m\u001b[0;34m,\u001b[0m\u001b[0;34m\u001b[0m\u001b[0;34m\u001b[0m\u001b[0m\n\u001b[1;32m     78\u001b[0m                                  date_formats=self.parent._date_formats)\n\u001b[0;32m---> 79\u001b[0;31m         \u001b[0;32mfor\u001b[0m \u001b[0midx\u001b[0m\u001b[0;34m,\u001b[0m \u001b[0mrow\u001b[0m \u001b[0;32min\u001b[0m \u001b[0mparser\u001b[0m\u001b[0;34m.\u001b[0m\u001b[0mparse\u001b[0m\u001b[0;34m(\u001b[0m\u001b[0;34m)\u001b[0m\u001b[0;34m:\u001b[0m\u001b[0;34m\u001b[0m\u001b[0;34m\u001b[0m\u001b[0m\n\u001b[0m\u001b[1;32m     80\u001b[0m             \u001b[0;32mif\u001b[0m \u001b[0mmax_row\u001b[0m \u001b[0;32mis\u001b[0m \u001b[0;32mnot\u001b[0m \u001b[0;32mNone\u001b[0m \u001b[0;32mand\u001b[0m \u001b[0midx\u001b[0m \u001b[0;34m>\u001b[0m \u001b[0mmax_row\u001b[0m\u001b[0;34m:\u001b[0m\u001b[0;34m\u001b[0m\u001b[0;34m\u001b[0m\u001b[0m\n\u001b[1;32m     81\u001b[0m                 \u001b[0;32mbreak\u001b[0m\u001b[0;34m\u001b[0m\u001b[0;34m\u001b[0m\u001b[0m\n",
      "\u001b[0;32m~/opt/anaconda3/lib/python3.9/site-packages/openpyxl/worksheet/_reader.py\u001b[0m in \u001b[0;36mparse\u001b[0;34m(self)\u001b[0m\n\u001b[1;32m    142\u001b[0m         \u001b[0mit\u001b[0m \u001b[0;34m=\u001b[0m \u001b[0miterparse\u001b[0m\u001b[0;34m(\u001b[0m\u001b[0mself\u001b[0m\u001b[0;34m.\u001b[0m\u001b[0msource\u001b[0m\u001b[0;34m)\u001b[0m \u001b[0;31m# add a finaliser to close the source when this becomes possible\u001b[0m\u001b[0;34m\u001b[0m\u001b[0;34m\u001b[0m\u001b[0m\n\u001b[1;32m    143\u001b[0m \u001b[0;34m\u001b[0m\u001b[0m\n\u001b[0;32m--> 144\u001b[0;31m         \u001b[0;32mfor\u001b[0m \u001b[0m_\u001b[0m\u001b[0;34m,\u001b[0m \u001b[0melement\u001b[0m \u001b[0;32min\u001b[0m \u001b[0mit\u001b[0m\u001b[0;34m:\u001b[0m\u001b[0;34m\u001b[0m\u001b[0;34m\u001b[0m\u001b[0m\n\u001b[0m\u001b[1;32m    145\u001b[0m             \u001b[0mtag_name\u001b[0m \u001b[0;34m=\u001b[0m \u001b[0melement\u001b[0m\u001b[0;34m.\u001b[0m\u001b[0mtag\u001b[0m\u001b[0;34m\u001b[0m\u001b[0;34m\u001b[0m\u001b[0m\n\u001b[1;32m    146\u001b[0m             \u001b[0;32mif\u001b[0m \u001b[0mtag_name\u001b[0m \u001b[0;32min\u001b[0m \u001b[0mdispatcher\u001b[0m\u001b[0;34m:\u001b[0m\u001b[0;34m\u001b[0m\u001b[0;34m\u001b[0m\u001b[0m\n",
      "\u001b[0;32m~/opt/anaconda3/lib/python3.9/xml/etree/ElementTree.py\u001b[0m in \u001b[0;36miterator\u001b[0;34m()\u001b[0m\n\u001b[1;32m   1257\u001b[0m                 \u001b[0;32mif\u001b[0m \u001b[0;32mnot\u001b[0m \u001b[0mdata\u001b[0m\u001b[0;34m:\u001b[0m\u001b[0;34m\u001b[0m\u001b[0;34m\u001b[0m\u001b[0m\n\u001b[1;32m   1258\u001b[0m                     \u001b[0;32mbreak\u001b[0m\u001b[0;34m\u001b[0m\u001b[0;34m\u001b[0m\u001b[0m\n\u001b[0;32m-> 1259\u001b[0;31m                 \u001b[0mpullparser\u001b[0m\u001b[0;34m.\u001b[0m\u001b[0mfeed\u001b[0m\u001b[0;34m(\u001b[0m\u001b[0mdata\u001b[0m\u001b[0;34m)\u001b[0m\u001b[0;34m\u001b[0m\u001b[0;34m\u001b[0m\u001b[0m\n\u001b[0m\u001b[1;32m   1260\u001b[0m             \u001b[0mroot\u001b[0m \u001b[0;34m=\u001b[0m \u001b[0mpullparser\u001b[0m\u001b[0;34m.\u001b[0m\u001b[0m_close_and_return_root\u001b[0m\u001b[0;34m(\u001b[0m\u001b[0;34m)\u001b[0m\u001b[0;34m\u001b[0m\u001b[0;34m\u001b[0m\u001b[0m\n\u001b[1;32m   1261\u001b[0m             \u001b[0;32myield\u001b[0m \u001b[0;32mfrom\u001b[0m \u001b[0mpullparser\u001b[0m\u001b[0;34m.\u001b[0m\u001b[0mread_events\u001b[0m\u001b[0;34m(\u001b[0m\u001b[0;34m)\u001b[0m\u001b[0;34m\u001b[0m\u001b[0;34m\u001b[0m\u001b[0m\n",
      "\u001b[0;32m~/opt/anaconda3/lib/python3.9/xml/etree/ElementTree.py\u001b[0m in \u001b[0;36mfeed\u001b[0;34m(self, data)\u001b[0m\n\u001b[1;32m   1299\u001b[0m         \u001b[0;32mif\u001b[0m \u001b[0mdata\u001b[0m\u001b[0;34m:\u001b[0m\u001b[0;34m\u001b[0m\u001b[0;34m\u001b[0m\u001b[0m\n\u001b[1;32m   1300\u001b[0m             \u001b[0;32mtry\u001b[0m\u001b[0;34m:\u001b[0m\u001b[0;34m\u001b[0m\u001b[0;34m\u001b[0m\u001b[0m\n\u001b[0;32m-> 1301\u001b[0;31m                 \u001b[0mself\u001b[0m\u001b[0;34m.\u001b[0m\u001b[0m_parser\u001b[0m\u001b[0;34m.\u001b[0m\u001b[0mfeed\u001b[0m\u001b[0;34m(\u001b[0m\u001b[0mdata\u001b[0m\u001b[0;34m)\u001b[0m\u001b[0;34m\u001b[0m\u001b[0;34m\u001b[0m\u001b[0m\n\u001b[0m\u001b[1;32m   1302\u001b[0m             \u001b[0;32mexcept\u001b[0m \u001b[0mSyntaxError\u001b[0m \u001b[0;32mas\u001b[0m \u001b[0mexc\u001b[0m\u001b[0;34m:\u001b[0m\u001b[0;34m\u001b[0m\u001b[0;34m\u001b[0m\u001b[0m\n\u001b[1;32m   1303\u001b[0m                 \u001b[0mself\u001b[0m\u001b[0;34m.\u001b[0m\u001b[0m_events_queue\u001b[0m\u001b[0;34m.\u001b[0m\u001b[0mappend\u001b[0m\u001b[0;34m(\u001b[0m\u001b[0mexc\u001b[0m\u001b[0;34m)\u001b[0m\u001b[0;34m\u001b[0m\u001b[0;34m\u001b[0m\u001b[0m\n",
      "\u001b[0;32m~/opt/anaconda3/lib/python3.9/xml/etree/ElementTree.py\u001b[0m in \u001b[0;36mfeed\u001b[0;34m(self, data)\u001b[0m\n\u001b[1;32m   1718\u001b[0m         \u001b[0;34m\"\"\"Feed encoded data to parser.\"\"\"\u001b[0m\u001b[0;34m\u001b[0m\u001b[0;34m\u001b[0m\u001b[0m\n\u001b[1;32m   1719\u001b[0m         \u001b[0;32mtry\u001b[0m\u001b[0;34m:\u001b[0m\u001b[0;34m\u001b[0m\u001b[0;34m\u001b[0m\u001b[0m\n\u001b[0;32m-> 1720\u001b[0;31m             \u001b[0mself\u001b[0m\u001b[0;34m.\u001b[0m\u001b[0mparser\u001b[0m\u001b[0;34m.\u001b[0m\u001b[0mParse\u001b[0m\u001b[0;34m(\u001b[0m\u001b[0mdata\u001b[0m\u001b[0;34m,\u001b[0m \u001b[0;32mFalse\u001b[0m\u001b[0;34m)\u001b[0m\u001b[0;34m\u001b[0m\u001b[0;34m\u001b[0m\u001b[0m\n\u001b[0m\u001b[1;32m   1721\u001b[0m         \u001b[0;32mexcept\u001b[0m \u001b[0mself\u001b[0m\u001b[0;34m.\u001b[0m\u001b[0m_error\u001b[0m \u001b[0;32mas\u001b[0m \u001b[0mv\u001b[0m\u001b[0;34m:\u001b[0m\u001b[0;34m\u001b[0m\u001b[0;34m\u001b[0m\u001b[0m\n\u001b[1;32m   1722\u001b[0m             \u001b[0mself\u001b[0m\u001b[0;34m.\u001b[0m\u001b[0m_raiseerror\u001b[0m\u001b[0;34m(\u001b[0m\u001b[0mv\u001b[0m\u001b[0;34m)\u001b[0m\u001b[0;34m\u001b[0m\u001b[0;34m\u001b[0m\u001b[0m\n",
      "\u001b[0;32m/opt/concourse/worker/volumes/live/c1a1a6ef-e724-4ad9-52a7-d6d68451dacb/volume/python-split_1631807121927/work/Modules/pyexpat.c\u001b[0m in \u001b[0;36mStartElement\u001b[0;34m()\u001b[0m\n",
      "\u001b[0;32m~/opt/anaconda3/lib/python3.9/xml/etree/ElementTree.py\u001b[0m in \u001b[0;36m_start\u001b[0;34m(self, tag, attr_list)\u001b[0m\n\u001b[1;32m   1655\u001b[0m         \u001b[0;32mif\u001b[0m \u001b[0mattr_list\u001b[0m\u001b[0;34m:\u001b[0m\u001b[0;34m\u001b[0m\u001b[0;34m\u001b[0m\u001b[0m\n\u001b[1;32m   1656\u001b[0m             \u001b[0;32mfor\u001b[0m \u001b[0mi\u001b[0m \u001b[0;32min\u001b[0m \u001b[0mrange\u001b[0m\u001b[0;34m(\u001b[0m\u001b[0;36m0\u001b[0m\u001b[0;34m,\u001b[0m \u001b[0mlen\u001b[0m\u001b[0;34m(\u001b[0m\u001b[0mattr_list\u001b[0m\u001b[0;34m)\u001b[0m\u001b[0;34m,\u001b[0m \u001b[0;36m2\u001b[0m\u001b[0;34m)\u001b[0m\u001b[0;34m:\u001b[0m\u001b[0;34m\u001b[0m\u001b[0;34m\u001b[0m\u001b[0m\n\u001b[0;32m-> 1657\u001b[0;31m                 \u001b[0mattrib\u001b[0m\u001b[0;34m[\u001b[0m\u001b[0mfixname\u001b[0m\u001b[0;34m(\u001b[0m\u001b[0mattr_list\u001b[0m\u001b[0;34m[\u001b[0m\u001b[0mi\u001b[0m\u001b[0;34m]\u001b[0m\u001b[0;34m)\u001b[0m\u001b[0;34m]\u001b[0m \u001b[0;34m=\u001b[0m \u001b[0mattr_list\u001b[0m\u001b[0;34m[\u001b[0m\u001b[0mi\u001b[0m\u001b[0;34m+\u001b[0m\u001b[0;36m1\u001b[0m\u001b[0;34m]\u001b[0m\u001b[0;34m\u001b[0m\u001b[0;34m\u001b[0m\u001b[0m\n\u001b[0m\u001b[1;32m   1658\u001b[0m         \u001b[0;32mreturn\u001b[0m \u001b[0mself\u001b[0m\u001b[0;34m.\u001b[0m\u001b[0mtarget\u001b[0m\u001b[0;34m.\u001b[0m\u001b[0mstart\u001b[0m\u001b[0;34m(\u001b[0m\u001b[0mtag\u001b[0m\u001b[0;34m,\u001b[0m \u001b[0mattrib\u001b[0m\u001b[0;34m)\u001b[0m\u001b[0;34m\u001b[0m\u001b[0;34m\u001b[0m\u001b[0m\n\u001b[1;32m   1659\u001b[0m \u001b[0;34m\u001b[0m\u001b[0m\n",
      "\u001b[0;31mKeyboardInterrupt\u001b[0m: "
     ]
    }
   ],
   "source": [
    "txn_df = read_txn_to_df(get_lof(txn_dirPath + \"Excel_Files/\"), txn_converter)"
   ]
  },
  {
   "cell_type": "code",
   "execution_count": 6,
   "id": "9e5796e8-fe8b-4881-aca4-7996402cfefd",
   "metadata": {},
   "outputs": [
    {
     "data": {
      "text/html": [
       "<div>\n",
       "<style scoped>\n",
       "    .dataframe tbody tr th:only-of-type {\n",
       "        vertical-align: middle;\n",
       "    }\n",
       "\n",
       "    .dataframe tbody tr th {\n",
       "        vertical-align: top;\n",
       "    }\n",
       "\n",
       "    .dataframe thead th {\n",
       "        text-align: right;\n",
       "    }\n",
       "</style>\n",
       "<table border=\"1\" class=\"dataframe\">\n",
       "  <thead>\n",
       "    <tr style=\"text-align: right;\">\n",
       "      <th></th>\n",
       "      <th>TXN - Sequence Nbr</th>\n",
       "      <th>TXN - Transaction Type</th>\n",
       "      <th>TXN - Unit</th>\n",
       "      <th>TXN - Destination Unit</th>\n",
       "      <th>TXN - Transaction Date</th>\n",
       "      <th>TXN - Time Stamp</th>\n",
       "      <th>TXN - Order No</th>\n",
       "      <th>TXN - Item ID</th>\n",
       "      <th>TXN - Item Description</th>\n",
       "      <th>TXN - Qty</th>\n",
       "      <th>...</th>\n",
       "      <th>TXN - InterUnit Order ID</th>\n",
       "      <th>TXN - InterUnit Order Line</th>\n",
       "      <th>TXN - InterUnit Flag</th>\n",
       "      <th>TXN - InterUnit Status</th>\n",
       "      <th>TXN - Receipt No</th>\n",
       "      <th>TXN - Receipt Line</th>\n",
       "      <th>TXN - Hdr InterUnit Order ID</th>\n",
       "      <th>TXN - Hdr InterUnit Line</th>\n",
       "      <th>TXN - Recpt Type</th>\n",
       "      <th>TXN - Cost Element</th>\n",
       "    </tr>\n",
       "  </thead>\n",
       "  <tbody>\n",
       "    <tr>\n",
       "      <th>0</th>\n",
       "      <td>1</td>\n",
       "      <td>041</td>\n",
       "      <td>BS011</td>\n",
       "      <td>NaN</td>\n",
       "      <td>2009/10/01</td>\n",
       "      <td>2009/10/01 15:45:28</td>\n",
       "      <td>NaN</td>\n",
       "      <td>05021408</td>\n",
       "      <td>FITTING, 3/8 AIR BRAKE NYLON</td>\n",
       "      <td>-7.0</td>\n",
       "      <td>...</td>\n",
       "      <td>NaN</td>\n",
       "      <td>0</td>\n",
       "      <td>NaN</td>\n",
       "      <td>NaN</td>\n",
       "      <td>NaN</td>\n",
       "      <td>0</td>\n",
       "      <td>NaN</td>\n",
       "      <td>0</td>\n",
       "      <td>NaN</td>\n",
       "      <td>100</td>\n",
       "    </tr>\n",
       "    <tr>\n",
       "      <th>1</th>\n",
       "      <td>1</td>\n",
       "      <td>041</td>\n",
       "      <td>BS014</td>\n",
       "      <td>NaN</td>\n",
       "      <td>2009/10/01</td>\n",
       "      <td>2009/10/01 15:31:02</td>\n",
       "      <td>NaN</td>\n",
       "      <td>02545876</td>\n",
       "      <td>USE 02592077 LAMP-HEAD, LOW BE</td>\n",
       "      <td>-16.0</td>\n",
       "      <td>...</td>\n",
       "      <td>NaN</td>\n",
       "      <td>0</td>\n",
       "      <td>NaN</td>\n",
       "      <td>NaN</td>\n",
       "      <td>NaN</td>\n",
       "      <td>0</td>\n",
       "      <td>NaN</td>\n",
       "      <td>0</td>\n",
       "      <td>NaN</td>\n",
       "      <td>100</td>\n",
       "    </tr>\n",
       "    <tr>\n",
       "      <th>2</th>\n",
       "      <td>1</td>\n",
       "      <td>041</td>\n",
       "      <td>BS011</td>\n",
       "      <td>NaN</td>\n",
       "      <td>2009/10/01</td>\n",
       "      <td>2009/10/01 15:44:30</td>\n",
       "      <td>NaN</td>\n",
       "      <td>00250066</td>\n",
       "      <td>CABLE-16 GAUGE BLACK AUTOMOTIV</td>\n",
       "      <td>-300.0</td>\n",
       "      <td>...</td>\n",
       "      <td>NaN</td>\n",
       "      <td>0</td>\n",
       "      <td>NaN</td>\n",
       "      <td>NaN</td>\n",
       "      <td>NaN</td>\n",
       "      <td>0</td>\n",
       "      <td>NaN</td>\n",
       "      <td>0</td>\n",
       "      <td>NaN</td>\n",
       "      <td>100</td>\n",
       "    </tr>\n",
       "    <tr>\n",
       "      <th>3</th>\n",
       "      <td>1</td>\n",
       "      <td>041</td>\n",
       "      <td>BS018</td>\n",
       "      <td>NaN</td>\n",
       "      <td>2009/10/01</td>\n",
       "      <td>2009/10/01 15:23:34</td>\n",
       "      <td>NaN</td>\n",
       "      <td>02063020</td>\n",
       "      <td>NUTS-NO 10-24 N.C.CO LD FORGED</td>\n",
       "      <td>-12.0</td>\n",
       "      <td>...</td>\n",
       "      <td>NaN</td>\n",
       "      <td>0</td>\n",
       "      <td>NaN</td>\n",
       "      <td>NaN</td>\n",
       "      <td>NaN</td>\n",
       "      <td>0</td>\n",
       "      <td>NaN</td>\n",
       "      <td>0</td>\n",
       "      <td>NaN</td>\n",
       "      <td>100</td>\n",
       "    </tr>\n",
       "    <tr>\n",
       "      <th>4</th>\n",
       "      <td>11</td>\n",
       "      <td>020</td>\n",
       "      <td>CS001</td>\n",
       "      <td>NaN</td>\n",
       "      <td>2009/10/01</td>\n",
       "      <td>2009/10/01 11:31:51</td>\n",
       "      <td>NaN</td>\n",
       "      <td>04390100</td>\n",
       "      <td>ADAPTER HOSE - HYDR PUMP</td>\n",
       "      <td>15.0</td>\n",
       "      <td>...</td>\n",
       "      <td>NaN</td>\n",
       "      <td>0</td>\n",
       "      <td>NaN</td>\n",
       "      <td>NaN</td>\n",
       "      <td>0000070558</td>\n",
       "      <td>1</td>\n",
       "      <td>NaN</td>\n",
       "      <td>0</td>\n",
       "      <td>NaN</td>\n",
       "      <td>100</td>\n",
       "    </tr>\n",
       "    <tr>\n",
       "      <th>...</th>\n",
       "      <td>...</td>\n",
       "      <td>...</td>\n",
       "      <td>...</td>\n",
       "      <td>...</td>\n",
       "      <td>...</td>\n",
       "      <td>...</td>\n",
       "      <td>...</td>\n",
       "      <td>...</td>\n",
       "      <td>...</td>\n",
       "      <td>...</td>\n",
       "      <td>...</td>\n",
       "      <td>...</td>\n",
       "      <td>...</td>\n",
       "      <td>...</td>\n",
       "      <td>...</td>\n",
       "      <td>...</td>\n",
       "      <td>...</td>\n",
       "      <td>...</td>\n",
       "      <td>...</td>\n",
       "      <td>...</td>\n",
       "      <td>...</td>\n",
       "    </tr>\n",
       "    <tr>\n",
       "      <th>7218182</th>\n",
       "      <td>38</td>\n",
       "      <td>022</td>\n",
       "      <td>BS027</td>\n",
       "      <td>NaN</td>\n",
       "      <td>2020/06/30</td>\n",
       "      <td>2020/06/30 06:10:55</td>\n",
       "      <td>NaN</td>\n",
       "      <td>02440210</td>\n",
       "      <td>Oil and Water absorbent Pad, P</td>\n",
       "      <td>4200.0</td>\n",
       "      <td>...</td>\n",
       "      <td>NaN</td>\n",
       "      <td>0</td>\n",
       "      <td>NaN</td>\n",
       "      <td>NaN</td>\n",
       "      <td>REC0145231</td>\n",
       "      <td>17</td>\n",
       "      <td>A000148588</td>\n",
       "      <td>1</td>\n",
       "      <td>IUT</td>\n",
       "      <td>100</td>\n",
       "    </tr>\n",
       "    <tr>\n",
       "      <th>7218183</th>\n",
       "      <td>41</td>\n",
       "      <td>022</td>\n",
       "      <td>BS027</td>\n",
       "      <td>NaN</td>\n",
       "      <td>2020/06/30</td>\n",
       "      <td>2020/06/30 06:10:55</td>\n",
       "      <td>NaN</td>\n",
       "      <td>02607063</td>\n",
       "      <td>BOTTLE - WASHER,WINDSHIELD  5G</td>\n",
       "      <td>5.0</td>\n",
       "      <td>...</td>\n",
       "      <td>NaN</td>\n",
       "      <td>0</td>\n",
       "      <td>NaN</td>\n",
       "      <td>NaN</td>\n",
       "      <td>REC0145231</td>\n",
       "      <td>10</td>\n",
       "      <td>A000148581</td>\n",
       "      <td>12</td>\n",
       "      <td>IUT</td>\n",
       "      <td>100</td>\n",
       "    </tr>\n",
       "    <tr>\n",
       "      <th>7218184</th>\n",
       "      <td>4</td>\n",
       "      <td>022</td>\n",
       "      <td>BS017</td>\n",
       "      <td>NaN</td>\n",
       "      <td>2020/06/30</td>\n",
       "      <td>2020/06/30 06:20:58</td>\n",
       "      <td>NaN</td>\n",
       "      <td>02795068</td>\n",
       "      <td>WEBBING LOOP, BLUE, LENGTH 14-</td>\n",
       "      <td>37.0</td>\n",
       "      <td>...</td>\n",
       "      <td>NaN</td>\n",
       "      <td>0</td>\n",
       "      <td>NaN</td>\n",
       "      <td>NaN</td>\n",
       "      <td>REC0145235</td>\n",
       "      <td>6</td>\n",
       "      <td>A000148586</td>\n",
       "      <td>2</td>\n",
       "      <td>IUT</td>\n",
       "      <td>100</td>\n",
       "    </tr>\n",
       "    <tr>\n",
       "      <th>7218185</th>\n",
       "      <td>11</td>\n",
       "      <td>022</td>\n",
       "      <td>BS016</td>\n",
       "      <td>NaN</td>\n",
       "      <td>2020/06/30</td>\n",
       "      <td>2020/06/30 06:30:18</td>\n",
       "      <td>NaN</td>\n",
       "      <td>03220638</td>\n",
       "      <td>TEE-1/4 GALV MALL IRON</td>\n",
       "      <td>10.0</td>\n",
       "      <td>...</td>\n",
       "      <td>NaN</td>\n",
       "      <td>0</td>\n",
       "      <td>NaN</td>\n",
       "      <td>NaN</td>\n",
       "      <td>REC0145237</td>\n",
       "      <td>4</td>\n",
       "      <td>A000148532</td>\n",
       "      <td>11</td>\n",
       "      <td>IUT</td>\n",
       "      <td>100</td>\n",
       "    </tr>\n",
       "    <tr>\n",
       "      <th>7218186</th>\n",
       "      <td>23</td>\n",
       "      <td>022</td>\n",
       "      <td>BS019</td>\n",
       "      <td>NaN</td>\n",
       "      <td>2020/06/30</td>\n",
       "      <td>2020/06/30 06:10:54</td>\n",
       "      <td>NaN</td>\n",
       "      <td>04295174</td>\n",
       "      <td>BREATHER ELEMENT</td>\n",
       "      <td>30.0</td>\n",
       "      <td>...</td>\n",
       "      <td>NaN</td>\n",
       "      <td>0</td>\n",
       "      <td>NaN</td>\n",
       "      <td>NaN</td>\n",
       "      <td>REC0145230</td>\n",
       "      <td>12</td>\n",
       "      <td>A000148580</td>\n",
       "      <td>9</td>\n",
       "      <td>IUT</td>\n",
       "      <td>100</td>\n",
       "    </tr>\n",
       "  </tbody>\n",
       "</table>\n",
       "<p>6912679 rows × 77 columns</p>\n",
       "</div>"
      ],
      "text/plain": [
       "         TXN - Sequence Nbr TXN - Transaction Type TXN - Unit  \\\n",
       "0                         1                    041      BS011   \n",
       "1                         1                    041      BS014   \n",
       "2                         1                    041      BS011   \n",
       "3                         1                    041      BS018   \n",
       "4                        11                    020      CS001   \n",
       "...                     ...                    ...        ...   \n",
       "7218182                  38                    022      BS027   \n",
       "7218183                  41                    022      BS027   \n",
       "7218184                   4                    022      BS017   \n",
       "7218185                  11                    022      BS016   \n",
       "7218186                  23                    022      BS019   \n",
       "\n",
       "        TXN - Destination Unit TXN - Transaction Date     TXN - Time Stamp  \\\n",
       "0                          NaN             2009/10/01  2009/10/01 15:45:28   \n",
       "1                          NaN             2009/10/01  2009/10/01 15:31:02   \n",
       "2                          NaN             2009/10/01  2009/10/01 15:44:30   \n",
       "3                          NaN             2009/10/01  2009/10/01 15:23:34   \n",
       "4                          NaN             2009/10/01  2009/10/01 11:31:51   \n",
       "...                        ...                    ...                  ...   \n",
       "7218182                    NaN             2020/06/30  2020/06/30 06:10:55   \n",
       "7218183                    NaN             2020/06/30  2020/06/30 06:10:55   \n",
       "7218184                    NaN             2020/06/30  2020/06/30 06:20:58   \n",
       "7218185                    NaN             2020/06/30  2020/06/30 06:30:18   \n",
       "7218186                    NaN             2020/06/30  2020/06/30 06:10:54   \n",
       "\n",
       "        TXN - Order No TXN - Item ID          TXN - Item Description  \\\n",
       "0                  NaN      05021408    FITTING, 3/8 AIR BRAKE NYLON   \n",
       "1                  NaN      02545876  USE 02592077 LAMP-HEAD, LOW BE   \n",
       "2                  NaN      00250066  CABLE-16 GAUGE BLACK AUTOMOTIV   \n",
       "3                  NaN      02063020  NUTS-NO 10-24 N.C.CO LD FORGED   \n",
       "4                  NaN      04390100        ADAPTER HOSE - HYDR PUMP   \n",
       "...                ...           ...                             ...   \n",
       "7218182            NaN      02440210  Oil and Water absorbent Pad, P   \n",
       "7218183            NaN      02607063  BOTTLE - WASHER,WINDSHIELD  5G   \n",
       "7218184            NaN      02795068  WEBBING LOOP, BLUE, LENGTH 14-   \n",
       "7218185            NaN      03220638          TEE-1/4 GALV MALL IRON   \n",
       "7218186            NaN      04295174                BREATHER ELEMENT   \n",
       "\n",
       "         TXN - Qty  ...  TXN - InterUnit Order ID  TXN - InterUnit Order Line  \\\n",
       "0             -7.0  ...                       NaN                           0   \n",
       "1            -16.0  ...                       NaN                           0   \n",
       "2           -300.0  ...                       NaN                           0   \n",
       "3            -12.0  ...                       NaN                           0   \n",
       "4             15.0  ...                       NaN                           0   \n",
       "...            ...  ...                       ...                         ...   \n",
       "7218182     4200.0  ...                       NaN                           0   \n",
       "7218183        5.0  ...                       NaN                           0   \n",
       "7218184       37.0  ...                       NaN                           0   \n",
       "7218185       10.0  ...                       NaN                           0   \n",
       "7218186       30.0  ...                       NaN                           0   \n",
       "\n",
       "        TXN - InterUnit Flag TXN - InterUnit Status TXN - Receipt No  \\\n",
       "0                        NaN                    NaN              NaN   \n",
       "1                        NaN                    NaN              NaN   \n",
       "2                        NaN                    NaN              NaN   \n",
       "3                        NaN                    NaN              NaN   \n",
       "4                        NaN                    NaN       0000070558   \n",
       "...                      ...                    ...              ...   \n",
       "7218182                  NaN                    NaN       REC0145231   \n",
       "7218183                  NaN                    NaN       REC0145231   \n",
       "7218184                  NaN                    NaN       REC0145235   \n",
       "7218185                  NaN                    NaN       REC0145237   \n",
       "7218186                  NaN                    NaN       REC0145230   \n",
       "\n",
       "        TXN - Receipt Line TXN - Hdr InterUnit Order ID  \\\n",
       "0                        0                          NaN   \n",
       "1                        0                          NaN   \n",
       "2                        0                          NaN   \n",
       "3                        0                          NaN   \n",
       "4                        1                          NaN   \n",
       "...                    ...                          ...   \n",
       "7218182                 17                   A000148588   \n",
       "7218183                 10                   A000148581   \n",
       "7218184                  6                   A000148586   \n",
       "7218185                  4                   A000148532   \n",
       "7218186                 12                   A000148580   \n",
       "\n",
       "        TXN - Hdr InterUnit Line TXN - Recpt Type TXN - Cost Element  \n",
       "0                              0              NaN                100  \n",
       "1                              0              NaN                100  \n",
       "2                              0              NaN                100  \n",
       "3                              0              NaN                100  \n",
       "4                              0              NaN                100  \n",
       "...                          ...              ...                ...  \n",
       "7218182                        1              IUT                100  \n",
       "7218183                       12              IUT                100  \n",
       "7218184                        2              IUT                100  \n",
       "7218185                       11              IUT                100  \n",
       "7218186                        9              IUT                100  \n",
       "\n",
       "[6912679 rows x 77 columns]"
      ]
     },
     "execution_count": 6,
     "metadata": {},
     "output_type": "execute_result"
    }
   ],
   "source": [
    "dataframe = txn_df.copy(deep = True)\n",
    "# # drop duplication\n",
    "dataframe = dataframe.drop_duplicates()\n",
    "# # filter dataframe\n",
    "dataframe = dataframe.loc[dataframe['TXN - Transaction Type'].isin(['010', '020', '012', '022', '024', '030', '031', '041', '050', '051', '054', '053'])]\n",
    "dataframe"
   ]
  },
  {
   "cell_type": "code",
   "execution_count": 7,
   "id": "3c4e4f0f-5cd5-4bfe-8654-375615e6f079",
   "metadata": {},
   "outputs": [
    {
     "data": {
      "text/html": [
       "<div>\n",
       "<style scoped>\n",
       "    .dataframe tbody tr th:only-of-type {\n",
       "        vertical-align: middle;\n",
       "    }\n",
       "\n",
       "    .dataframe tbody tr th {\n",
       "        vertical-align: top;\n",
       "    }\n",
       "\n",
       "    .dataframe thead th {\n",
       "        text-align: right;\n",
       "    }\n",
       "</style>\n",
       "<table border=\"1\" class=\"dataframe\">\n",
       "  <thead>\n",
       "    <tr style=\"text-align: right;\">\n",
       "      <th></th>\n",
       "      <th>TXN - Item ID</th>\n",
       "      <th>TXN - Qty</th>\n",
       "      <th>TXN - Total Cost</th>\n",
       "    </tr>\n",
       "  </thead>\n",
       "  <tbody>\n",
       "    <tr>\n",
       "      <th>0</th>\n",
       "      <td>05021408</td>\n",
       "      <td>-7.0</td>\n",
       "      <td>-9.94</td>\n",
       "    </tr>\n",
       "    <tr>\n",
       "      <th>1</th>\n",
       "      <td>02545876</td>\n",
       "      <td>-16.0</td>\n",
       "      <td>-56.41</td>\n",
       "    </tr>\n",
       "    <tr>\n",
       "      <th>2</th>\n",
       "      <td>00250066</td>\n",
       "      <td>-300.0</td>\n",
       "      <td>-27.99</td>\n",
       "    </tr>\n",
       "    <tr>\n",
       "      <th>3</th>\n",
       "      <td>02063020</td>\n",
       "      <td>-12.0</td>\n",
       "      <td>-2.20</td>\n",
       "    </tr>\n",
       "    <tr>\n",
       "      <th>4</th>\n",
       "      <td>04390100</td>\n",
       "      <td>15.0</td>\n",
       "      <td>964.45</td>\n",
       "    </tr>\n",
       "    <tr>\n",
       "      <th>...</th>\n",
       "      <td>...</td>\n",
       "      <td>...</td>\n",
       "      <td>...</td>\n",
       "    </tr>\n",
       "    <tr>\n",
       "      <th>7218182</th>\n",
       "      <td>02440210</td>\n",
       "      <td>4200.0</td>\n",
       "      <td>1312.50</td>\n",
       "    </tr>\n",
       "    <tr>\n",
       "      <th>7218183</th>\n",
       "      <td>02607063</td>\n",
       "      <td>5.0</td>\n",
       "      <td>440.00</td>\n",
       "    </tr>\n",
       "    <tr>\n",
       "      <th>7218184</th>\n",
       "      <td>02795068</td>\n",
       "      <td>37.0</td>\n",
       "      <td>53.99</td>\n",
       "    </tr>\n",
       "    <tr>\n",
       "      <th>7218185</th>\n",
       "      <td>03220638</td>\n",
       "      <td>10.0</td>\n",
       "      <td>22.92</td>\n",
       "    </tr>\n",
       "    <tr>\n",
       "      <th>7218186</th>\n",
       "      <td>04295174</td>\n",
       "      <td>30.0</td>\n",
       "      <td>2081.22</td>\n",
       "    </tr>\n",
       "  </tbody>\n",
       "</table>\n",
       "<p>6327483 rows × 3 columns</p>\n",
       "</div>"
      ],
      "text/plain": [
       "        TXN - Item ID  TXN - Qty  TXN - Total Cost\n",
       "0            05021408       -7.0             -9.94\n",
       "1            02545876      -16.0            -56.41\n",
       "2            00250066     -300.0            -27.99\n",
       "3            02063020      -12.0             -2.20\n",
       "4            04390100       15.0            964.45\n",
       "...               ...        ...               ...\n",
       "7218182      02440210     4200.0           1312.50\n",
       "7218183      02607063        5.0            440.00\n",
       "7218184      02795068       37.0             53.99\n",
       "7218185      03220638       10.0             22.92\n",
       "7218186      04295174       30.0           2081.22\n",
       "\n",
       "[6327483 rows x 3 columns]"
      ]
     },
     "execution_count": 7,
     "metadata": {},
     "output_type": "execute_result"
    }
   ],
   "source": [
    "dataframe = dataframe[transaction_col]\n",
    "dataframe = read_txn_by_date(dataframe,d)\n",
    "dataframe = handle_I_D(dataframe)\n",
    "dataframe"
   ]
  },
  {
   "cell_type": "code",
   "execution_count": 10,
   "id": "f7f298e1",
   "metadata": {},
   "outputs": [
    {
     "data": {
      "text/plain": [
       "2079654598.3100014"
      ]
     },
     "execution_count": 10,
     "metadata": {},
     "output_type": "execute_result"
    }
   ],
   "source": [
    "dataframe['TXN - Total Cost'].sum()"
   ]
  },
  {
   "cell_type": "code",
   "execution_count": null,
   "id": "e69e8de5-f6d3-4e12-82a1-7e358ed7f507",
   "metadata": {},
   "outputs": [],
   "source": [
    "print('Date:               ' + d)\n",
    "print(dataframe[1:].sum())"
   ]
  }
 ],
 "metadata": {
  "kernelspec": {
   "display_name": "Python 3 (ipykernel)",
   "language": "python",
   "name": "python3"
  },
  "language_info": {
   "codemirror_mode": {
    "name": "ipython",
    "version": 3
   },
   "file_extension": ".py",
   "mimetype": "text/x-python",
   "name": "python",
   "nbconvert_exporter": "python",
   "pygments_lexer": "ipython3",
   "version": "3.9.7"
  }
 },
 "nbformat": 4,
 "nbformat_minor": 5
}
