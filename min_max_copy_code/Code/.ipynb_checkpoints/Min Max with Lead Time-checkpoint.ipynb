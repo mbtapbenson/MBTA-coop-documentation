{
 "cells": [
  {
   "cell_type": "code",
   "execution_count": 3,
   "id": "9441f49a",
   "metadata": {},
   "outputs": [],
   "source": [
    "import pandas as pd\n",
    "import numpy as np\n",
    "from tqdm import tqdm"
   ]
  },
  {
   "cell_type": "code",
   "execution_count": 4,
   "id": "8dde744c",
   "metadata": {},
   "outputs": [],
   "source": [
    "import datetime\n",
    "import os\n",
    "import matplotlib.pyplot as plt\n",
    "\n",
    "pd.options.display.float_format = '{:.2f}'.format\n",
    "\n",
    "os.chdir(\"/Users/pbenson/Documents/Min_Max_project/\")\n",
    "\n",
    "txn_dirPath = 'Data/'\n",
    "\n",
    "txn_converter = {'TXN - Transaction Type': str,\n",
    "                 'TXN - Transaction Date': str,\n",
    "                 'TXN - Item ID': str,\n",
    "                 'TXN - Qty': float,\n",
    "                 'TXN - Total Cost': float}"
   ]
  },
  {
   "cell_type": "code",
   "execution_count": 5,
   "id": "a4384a09",
   "metadata": {},
   "outputs": [],
   "source": [
    "def get_lof_csv(directory):\n",
    "    lof = []\n",
    "    for file in os.listdir(directory):\n",
    "        if file.endswith('.csv'):\n",
    "            lof.append(directory + file)\n",
    "            print(\"Read file {}\".format(file))\n",
    "    return lof\n",
    "\n",
    "def read_csv_to_df(lof, converter):\n",
    "    print(\"Converting to pandas dataframe\")\n",
    "\n",
    "    dataframe = pd.DataFrame()\n",
    "\n",
    "    # More efficient way to do this: pd.concat\n",
    "    next_txns = []\n",
    "    for f in lof:\n",
    "        next_txn = pd.read_csv(f, converters=converter, encoding= 'unicode_escape')\n",
    "        next_txns.append(next_txn)\n",
    "        #dataframe = dataframe.append(next_txn, ignore_index=True)\n",
    "        print(f + ' is appened')\n",
    "    dataframe = pd.concat(next_txns, ignore_index=True)\n",
    "    return dataframe"
   ]
  },
  {
   "cell_type": "code",
   "execution_count": 6,
   "id": "846de94c",
   "metadata": {},
   "outputs": [
    {
     "name": "stdout",
     "output_type": "stream",
     "text": [
      "Read file PL_INVENTORY_TRANSACTIONS_2009_Q4x.csv\n",
      "Read file PL_INVENTORY_TRANSACTIONS_2019_Q4x.csv\n",
      "Read file PL_INVENTORY_TRANSACTIONS_2020_Q1x.csv\n",
      "Read file PL_INVENTORY_TRANSACTIONS_2006_Q1x.csv\n",
      "Read file PL_INVENTORY_TRANSACTIONS_2016_Q1x.csv\n",
      "Read file PL_INVENTORY_TRANSACTIONS_2012_Q3x.csv\n",
      "Read file PL_INVENTORY_TRANSACTIONS_2013_Q2x.csv\n",
      "Read file PL_INVENTORY_TRANSACTIONS_2010_Q4x.csv\n",
      "Read file PL_INVENTORY_TRANSACTIONS_2017_Q1x.csv\n",
      "Read file PL_INVENTORY_TRANSACTIONS_2007_Q1x.csv\n",
      "Read file PL_INVENTORY_TRANSACTIONS_2013_Q3x.csv\n",
      "Read file PL_INVENTORY_TRANSACTIONS_2012_Q2x.csv\n",
      "Read file PL_INVENTORY_TRANSACTIONS_2011_Q4x.csv\n",
      "Read file PL_INVENTORY_TRANSACTIONS_2018_Q4x.csv\n",
      "Read file PL_INVENTORY_TRANSACTIONS_2008_Q4x.csv\n",
      "Read file PL_INVENTORY_TRANSACTIONS_2011_Q3x.csv\n",
      "Read file PL_INVENTORY_TRANSACTIONS_2005_Q1x.csv\n",
      "Read file PL_INVENTORY_TRANSACTIONS_2015_Q1x.csv\n",
      "Read file PL_INVENTORY_TRANSACTIONS_2013_Q4x.csv\n",
      "Read file PL_INVENTORY_TRANSACTIONS_2010_Q2x.csv\n",
      "Read file PL_INVENTORY_TRANSACTIONS_2021_Q1.csv\n",
      "Read file PL_INVENTORY_TRANSACTIONS_2021_Q3.csv\n",
      "Read file PL_INVENTORY_TRANSACTIONS_2008_Q3x.csv\n",
      "Read file PL_INVENTORY_TRANSACTIONS_2018_Q3x.csv\n",
      "Read file PL_INVENTORY_TRANSACTIONS_2019_Q2x.csv\n",
      "Read file PL_INVENTORY_TRANSACTIONS_2009_Q2x.csv\n",
      "Read file PL_INVENTORY_TRANSACTIONS_2021_Q2.csv\n",
      "Read file PL_INVENTORY_TRANSACTIONS_2019_Q3x.csv\n",
      "Read file PL_INVENTORY_TRANSACTIONS_2009_Q3x.csv\n",
      "Read file PL_INVENTORY_TRANSACTIONS_2008_Q2x.csv\n",
      "Read file PL_INVENTORY_TRANSACTIONS_2018_Q2x.csv\n",
      "Read file PL_INVENTORY_TRANSACTIONS_2010_Q3x.csv\n",
      "Read file PL_INVENTORY_TRANSACTIONS_2014_Q1x.csv\n",
      "Read file PL_INVENTORY_TRANSACTIONS_2012_Q4x.csv\n",
      "Read file PL_INVENTORY_TRANSACTIONS_2021_Q4.csv\n",
      "Read file PL_INVENTORY_TRANSACTIONS_2011_Q2x.csv\n",
      "Read file PL_INVENTORY_TRANSACTIONS_2017_Q4x.csv\n",
      "Read file PL_INVENTORY_TRANSACTIONS_2007_Q4x.csv\n",
      "Read file PL_INVENTORY_TRANSACTIONS_2014_Q2x.csv\n",
      "Read file PL_INVENTORY_TRANSACTIONS_2004_1Hx.csv\n",
      "Read file PL_INVENTORY_TRANSACTIONS_2015_Q3x.csv\n",
      "Read file PL_INVENTORY_TRANSACTIONS_2005_Q3x.csv\n",
      "Read file PL_INVENTORY_TRANSACTIONS_2011_Q1x.csv\n",
      "Read file PL_INVENTORY_TRANSACTIONS_2018_Q1x.csv\n",
      "Read file PL_INVENTORY_TRANSACTIONS_2008_Q1x.csv\n",
      "Read file PL_INVENTORY_TRANSACTIONS_2009_Q1x.csv\n",
      "Read file PL_INVENTORY_TRANSACTIONS_2019_Q1x.csv\n",
      "Read file PL_INVENTORY_TRANSACTIONS_2020_Q4x.csv\n",
      "Read file PL_INVENTORY_TRANSACTIONS_2006_Q4x.csv\n",
      "Read file PL_INVENTORY_TRANSACTIONS_2016_Q4x.csv\n",
      "Read file PL_INVENTORY_TRANSACTIONS_2015_Q2x.csv\n",
      "Read file PL_INVENTORY_TRANSACTIONS_2005_Q2x.csv\n",
      "Read file PL_INVENTORY_TRANSACTIONS_2004_Q3x.csv\n",
      "Read file PL_INVENTORY_TRANSACTIONS_2014_Q3x.csv\n",
      "Read file PL_INVENTORY_TRANSACTIONS_2010_Q1x.csv\n",
      "Read file PL_INVENTORY_TRANSACTIONS_2020_Q3x.csv\n",
      "Read file PL_INVENTORY_TRANSACTIONS_2007_Q2x.csv\n",
      "Read file PL_INVENTORY_TRANSACTIONS_2017_Q2x.csv\n",
      "Read file 2021_Q1.csv\n",
      "Read file PL_INVENTORY_TRANSACTIONS_2014_Q4x.csv\n",
      "Read file PL_INVENTORY_TRANSACTIONS_2004_Q4x.csv\n",
      "Read file PL_INVENTORY_TRANSACTIONS_2012_Q1x.csv\n",
      "Read file PL_INVENTORY_TRANSACTIONS_2016_Q3x.csv\n",
      "Read file PL_INVENTORY_TRANSACTIONS_2006_Q3x.csv\n",
      "Read file ANNI_INVENTORY_TRANSACTIONS.csv\n",
      "Read file PL_INVENTORY_TRANSACTIONS_2016_Q2x.csv\n",
      "Read file PL_INVENTORY_TRANSACTIONS_2006_Q2x.csv\n",
      "Read file PL_INVENTORY_TRANSACTIONS_2005_Q4x.csv\n",
      "Read file PL_INVENTORY_TRANSACTIONS_2015_Q4x.csv\n",
      "Read file PL_INVENTORY_TRANSACTIONS_2013_Q1x.csv\n",
      "Read file PL_INVENTORY_TRANSACTIONS_2007_Q3x.csv\n",
      "Read file PL_INVENTORY_TRANSACTIONS_2017_Q3x.csv\n",
      "Read file PL_INVENTORY_TRANSACTIONS_2020_Q2x.csv\n",
      "Converting to pandas dataframe\n"
     ]
    },
    {
     "name": "stderr",
     "output_type": "stream",
     "text": [
      "/var/folders/73/z_zg2ww102j_zl0j1rp57xxcwgxbxw/T/ipykernel_34622/1103333410.py:1: DtypeWarning: Columns (33,40,50,54,59) have mixed types.Specify dtype option on import or set low_memory=False.\n",
      "  txn_df = read_csv_to_df(get_lof_csv(txn_dirPath + \"CSV_Files/\"), txn_converter)\n"
     ]
    },
    {
     "name": "stdout",
     "output_type": "stream",
     "text": [
      "Data/CSV_Files/PL_INVENTORY_TRANSACTIONS_2009_Q4x.csv is appened\n"
     ]
    },
    {
     "name": "stderr",
     "output_type": "stream",
     "text": [
      "/var/folders/73/z_zg2ww102j_zl0j1rp57xxcwgxbxw/T/ipykernel_34622/1103333410.py:1: DtypeWarning: Columns (19,33,36,40,59) have mixed types.Specify dtype option on import or set low_memory=False.\n",
      "  txn_df = read_csv_to_df(get_lof_csv(txn_dirPath + \"CSV_Files/\"), txn_converter)\n"
     ]
    },
    {
     "name": "stdout",
     "output_type": "stream",
     "text": [
      "Data/CSV_Files/PL_INVENTORY_TRANSACTIONS_2019_Q4x.csv is appened\n"
     ]
    },
    {
     "name": "stderr",
     "output_type": "stream",
     "text": [
      "/var/folders/73/z_zg2ww102j_zl0j1rp57xxcwgxbxw/T/ipykernel_34622/1103333410.py:1: DtypeWarning: Columns (19,33,36,40,54,59) have mixed types.Specify dtype option on import or set low_memory=False.\n",
      "  txn_df = read_csv_to_df(get_lof_csv(txn_dirPath + \"CSV_Files/\"), txn_converter)\n"
     ]
    },
    {
     "name": "stdout",
     "output_type": "stream",
     "text": [
      "Data/CSV_Files/PL_INVENTORY_TRANSACTIONS_2020_Q1x.csv is appened\n"
     ]
    },
    {
     "name": "stderr",
     "output_type": "stream",
     "text": [
      "/var/folders/73/z_zg2ww102j_zl0j1rp57xxcwgxbxw/T/ipykernel_34622/1103333410.py:1: DtypeWarning: Columns (44,50) have mixed types.Specify dtype option on import or set low_memory=False.\n",
      "  txn_df = read_csv_to_df(get_lof_csv(txn_dirPath + \"CSV_Files/\"), txn_converter)\n"
     ]
    },
    {
     "name": "stdout",
     "output_type": "stream",
     "text": [
      "Data/CSV_Files/PL_INVENTORY_TRANSACTIONS_2006_Q1x.csv is appened\n"
     ]
    },
    {
     "name": "stderr",
     "output_type": "stream",
     "text": [
      "/var/folders/73/z_zg2ww102j_zl0j1rp57xxcwgxbxw/T/ipykernel_34622/1103333410.py:1: DtypeWarning: Columns (3,6,19,20,33,56,57,58,67,69,70) have mixed types.Specify dtype option on import or set low_memory=False.\n",
      "  txn_df = read_csv_to_df(get_lof_csv(txn_dirPath + \"CSV_Files/\"), txn_converter)\n"
     ]
    },
    {
     "name": "stdout",
     "output_type": "stream",
     "text": [
      "Data/CSV_Files/PL_INVENTORY_TRANSACTIONS_2016_Q1x.csv is appened\n"
     ]
    },
    {
     "name": "stderr",
     "output_type": "stream",
     "text": [
      "/var/folders/73/z_zg2ww102j_zl0j1rp57xxcwgxbxw/T/ipykernel_34622/1103333410.py:1: DtypeWarning: Columns (19,44) have mixed types.Specify dtype option on import or set low_memory=False.\n",
      "  txn_df = read_csv_to_df(get_lof_csv(txn_dirPath + \"CSV_Files/\"), txn_converter)\n"
     ]
    },
    {
     "name": "stdout",
     "output_type": "stream",
     "text": [
      "Data/CSV_Files/PL_INVENTORY_TRANSACTIONS_2012_Q3x.csv is appened\n",
      "Data/CSV_Files/PL_INVENTORY_TRANSACTIONS_2013_Q2x.csv is appened\n"
     ]
    },
    {
     "name": "stderr",
     "output_type": "stream",
     "text": [
      "/var/folders/73/z_zg2ww102j_zl0j1rp57xxcwgxbxw/T/ipykernel_34622/1103333410.py:1: DtypeWarning: Columns (40,44,59) have mixed types.Specify dtype option on import or set low_memory=False.\n",
      "  txn_df = read_csv_to_df(get_lof_csv(txn_dirPath + \"CSV_Files/\"), txn_converter)\n"
     ]
    },
    {
     "name": "stdout",
     "output_type": "stream",
     "text": [
      "Data/CSV_Files/PL_INVENTORY_TRANSACTIONS_2010_Q4x.csv is appened\n"
     ]
    },
    {
     "name": "stderr",
     "output_type": "stream",
     "text": [
      "/var/folders/73/z_zg2ww102j_zl0j1rp57xxcwgxbxw/T/ipykernel_34622/1103333410.py:1: DtypeWarning: Columns (44) have mixed types.Specify dtype option on import or set low_memory=False.\n",
      "  txn_df = read_csv_to_df(get_lof_csv(txn_dirPath + \"CSV_Files/\"), txn_converter)\n"
     ]
    },
    {
     "name": "stdout",
     "output_type": "stream",
     "text": [
      "Data/CSV_Files/PL_INVENTORY_TRANSACTIONS_2017_Q1x.csv is appened\n"
     ]
    },
    {
     "name": "stderr",
     "output_type": "stream",
     "text": [
      "/var/folders/73/z_zg2ww102j_zl0j1rp57xxcwgxbxw/T/ipykernel_34622/1103333410.py:1: DtypeWarning: Columns (3,17,18,19,33,40,44,47,48,50,58,59,67,70,71,73,75) have mixed types.Specify dtype option on import or set low_memory=False.\n",
      "  txn_df = read_csv_to_df(get_lof_csv(txn_dirPath + \"CSV_Files/\"), txn_converter)\n"
     ]
    },
    {
     "name": "stdout",
     "output_type": "stream",
     "text": [
      "Data/CSV_Files/PL_INVENTORY_TRANSACTIONS_2007_Q1x.csv is appened\n",
      "Data/CSV_Files/PL_INVENTORY_TRANSACTIONS_2013_Q3x.csv is appened\n"
     ]
    },
    {
     "name": "stderr",
     "output_type": "stream",
     "text": [
      "/var/folders/73/z_zg2ww102j_zl0j1rp57xxcwgxbxw/T/ipykernel_34622/1103333410.py:1: DtypeWarning: Columns (19,44,50) have mixed types.Specify dtype option on import or set low_memory=False.\n",
      "  txn_df = read_csv_to_df(get_lof_csv(txn_dirPath + \"CSV_Files/\"), txn_converter)\n"
     ]
    },
    {
     "name": "stdout",
     "output_type": "stream",
     "text": [
      "Data/CSV_Files/PL_INVENTORY_TRANSACTIONS_2012_Q2x.csv is appened\n",
      "Data/CSV_Files/PL_INVENTORY_TRANSACTIONS_2011_Q4x.csv is appened\n",
      "Data/CSV_Files/PL_INVENTORY_TRANSACTIONS_2018_Q4x.csv is appened\n",
      "Data/CSV_Files/PL_INVENTORY_TRANSACTIONS_2008_Q4x.csv is appened\n",
      "Data/CSV_Files/PL_INVENTORY_TRANSACTIONS_2011_Q3x.csv is appened\n",
      "Data/CSV_Files/PL_INVENTORY_TRANSACTIONS_2005_Q1x.csv is appened\n",
      "Data/CSV_Files/PL_INVENTORY_TRANSACTIONS_2015_Q1x.csv is appened\n",
      "Data/CSV_Files/PL_INVENTORY_TRANSACTIONS_2013_Q4x.csv is appened\n"
     ]
    },
    {
     "name": "stderr",
     "output_type": "stream",
     "text": [
      "/var/folders/73/z_zg2ww102j_zl0j1rp57xxcwgxbxw/T/ipykernel_34622/1103333410.py:1: DtypeWarning: Columns (33,50,54) have mixed types.Specify dtype option on import or set low_memory=False.\n",
      "  txn_df = read_csv_to_df(get_lof_csv(txn_dirPath + \"CSV_Files/\"), txn_converter)\n"
     ]
    },
    {
     "name": "stdout",
     "output_type": "stream",
     "text": [
      "Data/CSV_Files/PL_INVENTORY_TRANSACTIONS_2010_Q2x.csv is appened\n"
     ]
    },
    {
     "name": "stderr",
     "output_type": "stream",
     "text": [
      "/var/folders/73/z_zg2ww102j_zl0j1rp57xxcwgxbxw/T/ipykernel_34622/1103333410.py:1: DtypeWarning: Columns (19,33,40,59) have mixed types.Specify dtype option on import or set low_memory=False.\n",
      "  txn_df = read_csv_to_df(get_lof_csv(txn_dirPath + \"CSV_Files/\"), txn_converter)\n"
     ]
    },
    {
     "name": "stdout",
     "output_type": "stream",
     "text": [
      "Data/CSV_Files/PL_INVENTORY_TRANSACTIONS_2021_Q1.csv is appened\n"
     ]
    },
    {
     "name": "stderr",
     "output_type": "stream",
     "text": [
      "/var/folders/73/z_zg2ww102j_zl0j1rp57xxcwgxbxw/T/ipykernel_34622/1103333410.py:1: DtypeWarning: Columns (19,36,40,59) have mixed types.Specify dtype option on import or set low_memory=False.\n",
      "  txn_df = read_csv_to_df(get_lof_csv(txn_dirPath + \"CSV_Files/\"), txn_converter)\n"
     ]
    },
    {
     "name": "stdout",
     "output_type": "stream",
     "text": [
      "Data/CSV_Files/PL_INVENTORY_TRANSACTIONS_2021_Q3.csv is appened\n",
      "Data/CSV_Files/PL_INVENTORY_TRANSACTIONS_2008_Q3x.csv is appened\n",
      "Data/CSV_Files/PL_INVENTORY_TRANSACTIONS_2018_Q3x.csv is appened\n",
      "Data/CSV_Files/PL_INVENTORY_TRANSACTIONS_2019_Q2x.csv is appened\n"
     ]
    },
    {
     "name": "stderr",
     "output_type": "stream",
     "text": [
      "/var/folders/73/z_zg2ww102j_zl0j1rp57xxcwgxbxw/T/ipykernel_34622/1103333410.py:1: DtypeWarning: Columns (33,44,54) have mixed types.Specify dtype option on import or set low_memory=False.\n",
      "  txn_df = read_csv_to_df(get_lof_csv(txn_dirPath + \"CSV_Files/\"), txn_converter)\n"
     ]
    },
    {
     "name": "stdout",
     "output_type": "stream",
     "text": [
      "Data/CSV_Files/PL_INVENTORY_TRANSACTIONS_2009_Q2x.csv is appened\n",
      "Data/CSV_Files/PL_INVENTORY_TRANSACTIONS_2021_Q2.csv is appened\n",
      "Data/CSV_Files/PL_INVENTORY_TRANSACTIONS_2019_Q3x.csv is appened\n"
     ]
    },
    {
     "name": "stderr",
     "output_type": "stream",
     "text": [
      "/var/folders/73/z_zg2ww102j_zl0j1rp57xxcwgxbxw/T/ipykernel_34622/1103333410.py:1: DtypeWarning: Columns (33,40,54,59) have mixed types.Specify dtype option on import or set low_memory=False.\n",
      "  txn_df = read_csv_to_df(get_lof_csv(txn_dirPath + \"CSV_Files/\"), txn_converter)\n"
     ]
    },
    {
     "name": "stdout",
     "output_type": "stream",
     "text": [
      "Data/CSV_Files/PL_INVENTORY_TRANSACTIONS_2009_Q3x.csv is appened\n"
     ]
    },
    {
     "name": "stderr",
     "output_type": "stream",
     "text": [
      "/var/folders/73/z_zg2ww102j_zl0j1rp57xxcwgxbxw/T/ipykernel_34622/1103333410.py:1: DtypeWarning: Columns (66) have mixed types.Specify dtype option on import or set low_memory=False.\n",
      "  txn_df = read_csv_to_df(get_lof_csv(txn_dirPath + \"CSV_Files/\"), txn_converter)\n"
     ]
    },
    {
     "name": "stdout",
     "output_type": "stream",
     "text": [
      "Data/CSV_Files/PL_INVENTORY_TRANSACTIONS_2008_Q2x.csv is appened\n"
     ]
    },
    {
     "name": "stderr",
     "output_type": "stream",
     "text": [
      "/var/folders/73/z_zg2ww102j_zl0j1rp57xxcwgxbxw/T/ipykernel_34622/1103333410.py:1: DtypeWarning: Columns (3,6,19,20,36,40,44,47,48,54,56,57,58,59,66,67,69,70) have mixed types.Specify dtype option on import or set low_memory=False.\n",
      "  txn_df = read_csv_to_df(get_lof_csv(txn_dirPath + \"CSV_Files/\"), txn_converter)\n"
     ]
    },
    {
     "name": "stdout",
     "output_type": "stream",
     "text": [
      "Data/CSV_Files/PL_INVENTORY_TRANSACTIONS_2018_Q2x.csv is appened\n"
     ]
    },
    {
     "name": "stderr",
     "output_type": "stream",
     "text": [
      "/var/folders/73/z_zg2ww102j_zl0j1rp57xxcwgxbxw/T/ipykernel_34622/1103333410.py:1: DtypeWarning: Columns (3,19,33,44,54,58,67) have mixed types.Specify dtype option on import or set low_memory=False.\n",
      "  txn_df = read_csv_to_df(get_lof_csv(txn_dirPath + \"CSV_Files/\"), txn_converter)\n"
     ]
    },
    {
     "name": "stdout",
     "output_type": "stream",
     "text": [
      "Data/CSV_Files/PL_INVENTORY_TRANSACTIONS_2010_Q3x.csv is appened\n"
     ]
    },
    {
     "name": "stderr",
     "output_type": "stream",
     "text": [
      "/var/folders/73/z_zg2ww102j_zl0j1rp57xxcwgxbxw/T/ipykernel_34622/1103333410.py:1: DtypeWarning: Columns (19,40,44,50,59) have mixed types.Specify dtype option on import or set low_memory=False.\n",
      "  txn_df = read_csv_to_df(get_lof_csv(txn_dirPath + \"CSV_Files/\"), txn_converter)\n"
     ]
    },
    {
     "name": "stdout",
     "output_type": "stream",
     "text": [
      "Data/CSV_Files/PL_INVENTORY_TRANSACTIONS_2014_Q1x.csv is appened\n",
      "Data/CSV_Files/PL_INVENTORY_TRANSACTIONS_2012_Q4x.csv is appened\n",
      "Data/CSV_Files/PL_INVENTORY_TRANSACTIONS_2021_Q4.csv is appened\n"
     ]
    },
    {
     "name": "stderr",
     "output_type": "stream",
     "text": [
      "/var/folders/73/z_zg2ww102j_zl0j1rp57xxcwgxbxw/T/ipykernel_34622/1103333410.py:1: DtypeWarning: Columns (33,44) have mixed types.Specify dtype option on import or set low_memory=False.\n",
      "  txn_df = read_csv_to_df(get_lof_csv(txn_dirPath + \"CSV_Files/\"), txn_converter)\n"
     ]
    },
    {
     "name": "stdout",
     "output_type": "stream",
     "text": [
      "Data/CSV_Files/PL_INVENTORY_TRANSACTIONS_2011_Q2x.csv is appened\n"
     ]
    },
    {
     "name": "stderr",
     "output_type": "stream",
     "text": [
      "/var/folders/73/z_zg2ww102j_zl0j1rp57xxcwgxbxw/T/ipykernel_34622/1103333410.py:1: DtypeWarning: Columns (19,40,44,59,66) have mixed types.Specify dtype option on import or set low_memory=False.\n",
      "  txn_df = read_csv_to_df(get_lof_csv(txn_dirPath + \"CSV_Files/\"), txn_converter)\n"
     ]
    },
    {
     "name": "stdout",
     "output_type": "stream",
     "text": [
      "Data/CSV_Files/PL_INVENTORY_TRANSACTIONS_2017_Q4x.csv is appened\n"
     ]
    },
    {
     "name": "stderr",
     "output_type": "stream",
     "text": [
      "/var/folders/73/z_zg2ww102j_zl0j1rp57xxcwgxbxw/T/ipykernel_34622/1103333410.py:1: DtypeWarning: Columns (40,44,50,59,66) have mixed types.Specify dtype option on import or set low_memory=False.\n",
      "  txn_df = read_csv_to_df(get_lof_csv(txn_dirPath + \"CSV_Files/\"), txn_converter)\n"
     ]
    },
    {
     "name": "stdout",
     "output_type": "stream",
     "text": [
      "Data/CSV_Files/PL_INVENTORY_TRANSACTIONS_2007_Q4x.csv is appened\n",
      "Data/CSV_Files/PL_INVENTORY_TRANSACTIONS_2014_Q2x.csv is appened\n"
     ]
    },
    {
     "name": "stderr",
     "output_type": "stream",
     "text": [
      "/var/folders/73/z_zg2ww102j_zl0j1rp57xxcwgxbxw/T/ipykernel_34622/1103333410.py:1: DtypeWarning: Columns (3,6,17,18,19,20,27,33,40,44,47,48,56,57,58,59,67,69,70,73,75) have mixed types.Specify dtype option on import or set low_memory=False.\n",
      "  txn_df = read_csv_to_df(get_lof_csv(txn_dirPath + \"CSV_Files/\"), txn_converter)\n"
     ]
    },
    {
     "name": "stdout",
     "output_type": "stream",
     "text": [
      "Data/CSV_Files/PL_INVENTORY_TRANSACTIONS_2004_1Hx.csv is appened\n"
     ]
    },
    {
     "name": "stderr",
     "output_type": "stream",
     "text": [
      "/var/folders/73/z_zg2ww102j_zl0j1rp57xxcwgxbxw/T/ipykernel_34622/1103333410.py:1: DtypeWarning: Columns (19,33,44,54) have mixed types.Specify dtype option on import or set low_memory=False.\n",
      "  txn_df = read_csv_to_df(get_lof_csv(txn_dirPath + \"CSV_Files/\"), txn_converter)\n"
     ]
    },
    {
     "name": "stdout",
     "output_type": "stream",
     "text": [
      "Data/CSV_Files/PL_INVENTORY_TRANSACTIONS_2015_Q3x.csv is appened\n"
     ]
    },
    {
     "name": "stderr",
     "output_type": "stream",
     "text": [
      "/var/folders/73/z_zg2ww102j_zl0j1rp57xxcwgxbxw/T/ipykernel_34622/1103333410.py:1: DtypeWarning: Columns (40,44,50,59) have mixed types.Specify dtype option on import or set low_memory=False.\n",
      "  txn_df = read_csv_to_df(get_lof_csv(txn_dirPath + \"CSV_Files/\"), txn_converter)\n"
     ]
    },
    {
     "name": "stdout",
     "output_type": "stream",
     "text": [
      "Data/CSV_Files/PL_INVENTORY_TRANSACTIONS_2005_Q3x.csv is appened\n",
      "Data/CSV_Files/PL_INVENTORY_TRANSACTIONS_2011_Q1x.csv is appened\n"
     ]
    },
    {
     "name": "stderr",
     "output_type": "stream",
     "text": [
      "/var/folders/73/z_zg2ww102j_zl0j1rp57xxcwgxbxw/T/ipykernel_34622/1103333410.py:1: DtypeWarning: Columns (19,33,36,40,59,66) have mixed types.Specify dtype option on import or set low_memory=False.\n",
      "  txn_df = read_csv_to_df(get_lof_csv(txn_dirPath + \"CSV_Files/\"), txn_converter)\n"
     ]
    },
    {
     "name": "stdout",
     "output_type": "stream",
     "text": [
      "Data/CSV_Files/PL_INVENTORY_TRANSACTIONS_2018_Q1x.csv is appened\n",
      "Data/CSV_Files/PL_INVENTORY_TRANSACTIONS_2008_Q1x.csv is appened\n",
      "Data/CSV_Files/PL_INVENTORY_TRANSACTIONS_2009_Q1x.csv is appened\n",
      "Data/CSV_Files/PL_INVENTORY_TRANSACTIONS_2019_Q1x.csv is appened\n",
      "Data/CSV_Files/PL_INVENTORY_TRANSACTIONS_2020_Q4x.csv is appened\n"
     ]
    },
    {
     "name": "stderr",
     "output_type": "stream",
     "text": [
      "/var/folders/73/z_zg2ww102j_zl0j1rp57xxcwgxbxw/T/ipykernel_34622/1103333410.py:1: DtypeWarning: Columns (3,6,19,20,27,33,40,44,47,48,50,56,57,58,59,67,69,70,71,73,75) have mixed types.Specify dtype option on import or set low_memory=False.\n",
      "  txn_df = read_csv_to_df(get_lof_csv(txn_dirPath + \"CSV_Files/\"), txn_converter)\n"
     ]
    },
    {
     "name": "stdout",
     "output_type": "stream",
     "text": [
      "Data/CSV_Files/PL_INVENTORY_TRANSACTIONS_2006_Q4x.csv is appened\n"
     ]
    },
    {
     "name": "stderr",
     "output_type": "stream",
     "text": [
      "/var/folders/73/z_zg2ww102j_zl0j1rp57xxcwgxbxw/T/ipykernel_34622/1103333410.py:1: DtypeWarning: Columns (19,40,44,59) have mixed types.Specify dtype option on import or set low_memory=False.\n",
      "  txn_df = read_csv_to_df(get_lof_csv(txn_dirPath + \"CSV_Files/\"), txn_converter)\n"
     ]
    },
    {
     "name": "stdout",
     "output_type": "stream",
     "text": [
      "Data/CSV_Files/PL_INVENTORY_TRANSACTIONS_2016_Q4x.csv is appened\n",
      "Data/CSV_Files/PL_INVENTORY_TRANSACTIONS_2015_Q2x.csv is appened\n",
      "Data/CSV_Files/PL_INVENTORY_TRANSACTIONS_2005_Q2x.csv is appened\n"
     ]
    },
    {
     "name": "stderr",
     "output_type": "stream",
     "text": [
      "/var/folders/73/z_zg2ww102j_zl0j1rp57xxcwgxbxw/T/ipykernel_34622/1103333410.py:1: DtypeWarning: Columns (3,6,19,20,33,40,44,56,57,58,59,67,69,70) have mixed types.Specify dtype option on import or set low_memory=False.\n",
      "  txn_df = read_csv_to_df(get_lof_csv(txn_dirPath + \"CSV_Files/\"), txn_converter)\n"
     ]
    },
    {
     "name": "stdout",
     "output_type": "stream",
     "text": [
      "Data/CSV_Files/PL_INVENTORY_TRANSACTIONS_2004_Q3x.csv is appened\n",
      "Data/CSV_Files/PL_INVENTORY_TRANSACTIONS_2014_Q3x.csv is appened\n"
     ]
    },
    {
     "name": "stderr",
     "output_type": "stream",
     "text": [
      "/var/folders/73/z_zg2ww102j_zl0j1rp57xxcwgxbxw/T/ipykernel_34622/1103333410.py:1: DtypeWarning: Columns (33,44,50,54) have mixed types.Specify dtype option on import or set low_memory=False.\n",
      "  txn_df = read_csv_to_df(get_lof_csv(txn_dirPath + \"CSV_Files/\"), txn_converter)\n"
     ]
    },
    {
     "name": "stdout",
     "output_type": "stream",
     "text": [
      "Data/CSV_Files/PL_INVENTORY_TRANSACTIONS_2010_Q1x.csv is appened\n"
     ]
    },
    {
     "name": "stderr",
     "output_type": "stream",
     "text": [
      "/var/folders/73/z_zg2ww102j_zl0j1rp57xxcwgxbxw/T/ipykernel_34622/1103333410.py:1: DtypeWarning: Columns (19,33,36,40,50,59) have mixed types.Specify dtype option on import or set low_memory=False.\n",
      "  txn_df = read_csv_to_df(get_lof_csv(txn_dirPath + \"CSV_Files/\"), txn_converter)\n"
     ]
    },
    {
     "name": "stdout",
     "output_type": "stream",
     "text": [
      "Data/CSV_Files/PL_INVENTORY_TRANSACTIONS_2020_Q3x.csv is appened\n"
     ]
    },
    {
     "name": "stderr",
     "output_type": "stream",
     "text": [
      "/var/folders/73/z_zg2ww102j_zl0j1rp57xxcwgxbxw/T/ipykernel_34622/1103333410.py:1: DtypeWarning: Columns (19,40,44,50,59,66) have mixed types.Specify dtype option on import or set low_memory=False.\n",
      "  txn_df = read_csv_to_df(get_lof_csv(txn_dirPath + \"CSV_Files/\"), txn_converter)\n"
     ]
    },
    {
     "name": "stdout",
     "output_type": "stream",
     "text": [
      "Data/CSV_Files/PL_INVENTORY_TRANSACTIONS_2007_Q2x.csv is appened\n",
      "Data/CSV_Files/PL_INVENTORY_TRANSACTIONS_2017_Q2x.csv is appened\n",
      "Data/CSV_Files/2021_Q1.csv is appened\n",
      "Data/CSV_Files/PL_INVENTORY_TRANSACTIONS_2014_Q4x.csv is appened\n",
      "Data/CSV_Files/PL_INVENTORY_TRANSACTIONS_2004_Q4x.csv is appened\n",
      "Data/CSV_Files/PL_INVENTORY_TRANSACTIONS_2012_Q1x.csv is appened\n",
      "Data/CSV_Files/PL_INVENTORY_TRANSACTIONS_2016_Q3x.csv is appened\n"
     ]
    },
    {
     "name": "stderr",
     "output_type": "stream",
     "text": [
      "/var/folders/73/z_zg2ww102j_zl0j1rp57xxcwgxbxw/T/ipykernel_34622/1103333410.py:1: DtypeWarning: Columns (36,44,50,66) have mixed types.Specify dtype option on import or set low_memory=False.\n",
      "  txn_df = read_csv_to_df(get_lof_csv(txn_dirPath + \"CSV_Files/\"), txn_converter)\n"
     ]
    },
    {
     "name": "stdout",
     "output_type": "stream",
     "text": [
      "Data/CSV_Files/PL_INVENTORY_TRANSACTIONS_2006_Q3x.csv is appened\n",
      "Data/CSV_Files/ANNI_INVENTORY_TRANSACTIONS.csv is appened\n"
     ]
    },
    {
     "name": "stderr",
     "output_type": "stream",
     "text": [
      "/var/folders/73/z_zg2ww102j_zl0j1rp57xxcwgxbxw/T/ipykernel_34622/1103333410.py:1: DtypeWarning: Columns (19,40,59) have mixed types.Specify dtype option on import or set low_memory=False.\n",
      "  txn_df = read_csv_to_df(get_lof_csv(txn_dirPath + \"CSV_Files/\"), txn_converter)\n"
     ]
    },
    {
     "name": "stdout",
     "output_type": "stream",
     "text": [
      "Data/CSV_Files/PL_INVENTORY_TRANSACTIONS_2016_Q2x.csv is appened\n"
     ]
    },
    {
     "name": "stderr",
     "output_type": "stream",
     "text": [
      "/var/folders/73/z_zg2ww102j_zl0j1rp57xxcwgxbxw/T/ipykernel_34622/1103333410.py:1: DtypeWarning: Columns (19,44,50,66) have mixed types.Specify dtype option on import or set low_memory=False.\n",
      "  txn_df = read_csv_to_df(get_lof_csv(txn_dirPath + \"CSV_Files/\"), txn_converter)\n"
     ]
    },
    {
     "name": "stdout",
     "output_type": "stream",
     "text": [
      "Data/CSV_Files/PL_INVENTORY_TRANSACTIONS_2006_Q2x.csv is appened\n"
     ]
    },
    {
     "name": "stderr",
     "output_type": "stream",
     "text": [
      "/var/folders/73/z_zg2ww102j_zl0j1rp57xxcwgxbxw/T/ipykernel_34622/1103333410.py:1: DtypeWarning: Columns (19,40,50,59) have mixed types.Specify dtype option on import or set low_memory=False.\n",
      "  txn_df = read_csv_to_df(get_lof_csv(txn_dirPath + \"CSV_Files/\"), txn_converter)\n"
     ]
    },
    {
     "name": "stdout",
     "output_type": "stream",
     "text": [
      "Data/CSV_Files/PL_INVENTORY_TRANSACTIONS_2005_Q4x.csv is appened\n",
      "Data/CSV_Files/PL_INVENTORY_TRANSACTIONS_2015_Q4x.csv is appened\n"
     ]
    },
    {
     "name": "stderr",
     "output_type": "stream",
     "text": [
      "/var/folders/73/z_zg2ww102j_zl0j1rp57xxcwgxbxw/T/ipykernel_34622/1103333410.py:1: DtypeWarning: Columns (3,17,19,21,33,44,47,48,50,58,67) have mixed types.Specify dtype option on import or set low_memory=False.\n",
      "  txn_df = read_csv_to_df(get_lof_csv(txn_dirPath + \"CSV_Files/\"), txn_converter)\n"
     ]
    },
    {
     "name": "stdout",
     "output_type": "stream",
     "text": [
      "Data/CSV_Files/PL_INVENTORY_TRANSACTIONS_2013_Q1x.csv is appened\n",
      "Data/CSV_Files/PL_INVENTORY_TRANSACTIONS_2007_Q3x.csv is appened\n"
     ]
    },
    {
     "name": "stderr",
     "output_type": "stream",
     "text": [
      "/var/folders/73/z_zg2ww102j_zl0j1rp57xxcwgxbxw/T/ipykernel_34622/1103333410.py:1: DtypeWarning: Columns (19,36,40,44,59,66) have mixed types.Specify dtype option on import or set low_memory=False.\n",
      "  txn_df = read_csv_to_df(get_lof_csv(txn_dirPath + \"CSV_Files/\"), txn_converter)\n"
     ]
    },
    {
     "name": "stdout",
     "output_type": "stream",
     "text": [
      "Data/CSV_Files/PL_INVENTORY_TRANSACTIONS_2017_Q3x.csv is appened\n"
     ]
    },
    {
     "name": "stderr",
     "output_type": "stream",
     "text": [
      "/var/folders/73/z_zg2ww102j_zl0j1rp57xxcwgxbxw/T/ipykernel_34622/1103333410.py:1: DtypeWarning: Columns (19,33,36,40,44,59) have mixed types.Specify dtype option on import or set low_memory=False.\n",
      "  txn_df = read_csv_to_df(get_lof_csv(txn_dirPath + \"CSV_Files/\"), txn_converter)\n"
     ]
    },
    {
     "name": "stdout",
     "output_type": "stream",
     "text": [
      "Data/CSV_Files/PL_INVENTORY_TRANSACTIONS_2020_Q2x.csv is appened\n"
     ]
    },
    {
     "data": {
      "text/html": [
       "<div>\n",
       "<style scoped>\n",
       "    .dataframe tbody tr th:only-of-type {\n",
       "        vertical-align: middle;\n",
       "    }\n",
       "\n",
       "    .dataframe tbody tr th {\n",
       "        vertical-align: top;\n",
       "    }\n",
       "\n",
       "    .dataframe thead th {\n",
       "        text-align: right;\n",
       "    }\n",
       "</style>\n",
       "<table border=\"1\" class=\"dataframe\">\n",
       "  <thead>\n",
       "    <tr style=\"text-align: right;\">\n",
       "      <th></th>\n",
       "      <th>TXN - Sequence Nbr</th>\n",
       "      <th>TXN - Transaction Type</th>\n",
       "      <th>TXN - Unit</th>\n",
       "      <th>TXN - Destination Unit</th>\n",
       "      <th>TXN - Transaction Date</th>\n",
       "      <th>TXN - Time Stamp</th>\n",
       "      <th>TXN - Order No</th>\n",
       "      <th>TXN - Item ID</th>\n",
       "      <th>TXN - Item Description</th>\n",
       "      <th>TXN - Qty</th>\n",
       "      <th>...</th>\n",
       "      <th>TXN - Recpt Type</th>\n",
       "      <th>TXN - Cost Element</th>\n",
       "      <th>TXN - Last Adj</th>\n",
       "      <th>TXN - Last Order</th>\n",
       "      <th>TXN - Last Date</th>\n",
       "      <th>TXN - Last Ptwy</th>\n",
       "      <th>TXN - Qty Avail</th>\n",
       "      <th>TXN - Qty Reserved</th>\n",
       "      <th>TXN - Qty Owned</th>\n",
       "      <th>TXN - Qty On Hand</th>\n",
       "    </tr>\n",
       "  </thead>\n",
       "  <tbody>\n",
       "    <tr>\n",
       "      <th>0</th>\n",
       "      <td>1</td>\n",
       "      <td>041</td>\n",
       "      <td>BS011</td>\n",
       "      <td>NaN</td>\n",
       "      <td>2009/10/01</td>\n",
       "      <td>2009/10/01 15:45:28</td>\n",
       "      <td>NaN</td>\n",
       "      <td>05021408</td>\n",
       "      <td>FITTING, 3/8 AIR BRAKE NYLON</td>\n",
       "      <td>-7.00</td>\n",
       "      <td>...</td>\n",
       "      <td>NaN</td>\n",
       "      <td>100</td>\n",
       "      <td>NaN</td>\n",
       "      <td>NaN</td>\n",
       "      <td>NaN</td>\n",
       "      <td>NaN</td>\n",
       "      <td>NaN</td>\n",
       "      <td>NaN</td>\n",
       "      <td>NaN</td>\n",
       "      <td>NaN</td>\n",
       "    </tr>\n",
       "    <tr>\n",
       "      <th>1</th>\n",
       "      <td>1</td>\n",
       "      <td>041</td>\n",
       "      <td>BS014</td>\n",
       "      <td>NaN</td>\n",
       "      <td>2009/10/01</td>\n",
       "      <td>2009/10/01 15:31:02</td>\n",
       "      <td>NaN</td>\n",
       "      <td>02545876</td>\n",
       "      <td>USE 02592077 LAMP-HEAD, LOW BE</td>\n",
       "      <td>-16.00</td>\n",
       "      <td>...</td>\n",
       "      <td>NaN</td>\n",
       "      <td>100</td>\n",
       "      <td>NaN</td>\n",
       "      <td>NaN</td>\n",
       "      <td>NaN</td>\n",
       "      <td>NaN</td>\n",
       "      <td>NaN</td>\n",
       "      <td>NaN</td>\n",
       "      <td>NaN</td>\n",
       "      <td>NaN</td>\n",
       "    </tr>\n",
       "    <tr>\n",
       "      <th>2</th>\n",
       "      <td>1</td>\n",
       "      <td>041</td>\n",
       "      <td>BS011</td>\n",
       "      <td>NaN</td>\n",
       "      <td>2009/10/01</td>\n",
       "      <td>2009/10/01 15:44:30</td>\n",
       "      <td>NaN</td>\n",
       "      <td>00250066</td>\n",
       "      <td>CABLE-16 GAUGE BLACK AUTOMOTIV</td>\n",
       "      <td>-300.00</td>\n",
       "      <td>...</td>\n",
       "      <td>NaN</td>\n",
       "      <td>100</td>\n",
       "      <td>NaN</td>\n",
       "      <td>NaN</td>\n",
       "      <td>NaN</td>\n",
       "      <td>NaN</td>\n",
       "      <td>NaN</td>\n",
       "      <td>NaN</td>\n",
       "      <td>NaN</td>\n",
       "      <td>NaN</td>\n",
       "    </tr>\n",
       "    <tr>\n",
       "      <th>3</th>\n",
       "      <td>1</td>\n",
       "      <td>041</td>\n",
       "      <td>BS018</td>\n",
       "      <td>NaN</td>\n",
       "      <td>2009/10/01</td>\n",
       "      <td>2009/10/01 15:23:34</td>\n",
       "      <td>NaN</td>\n",
       "      <td>02063020</td>\n",
       "      <td>NUTS-NO 10-24 N.C.CO LD FORGED</td>\n",
       "      <td>-12.00</td>\n",
       "      <td>...</td>\n",
       "      <td>NaN</td>\n",
       "      <td>100</td>\n",
       "      <td>NaN</td>\n",
       "      <td>NaN</td>\n",
       "      <td>NaN</td>\n",
       "      <td>NaN</td>\n",
       "      <td>NaN</td>\n",
       "      <td>NaN</td>\n",
       "      <td>NaN</td>\n",
       "      <td>NaN</td>\n",
       "    </tr>\n",
       "    <tr>\n",
       "      <th>4</th>\n",
       "      <td>11</td>\n",
       "      <td>020</td>\n",
       "      <td>CS001</td>\n",
       "      <td>NaN</td>\n",
       "      <td>2009/10/01</td>\n",
       "      <td>2009/10/01 11:31:51</td>\n",
       "      <td>NaN</td>\n",
       "      <td>04390100</td>\n",
       "      <td>ADAPTER HOSE - HYDR PUMP</td>\n",
       "      <td>15.00</td>\n",
       "      <td>...</td>\n",
       "      <td>NaN</td>\n",
       "      <td>100</td>\n",
       "      <td>NaN</td>\n",
       "      <td>NaN</td>\n",
       "      <td>NaN</td>\n",
       "      <td>NaN</td>\n",
       "      <td>NaN</td>\n",
       "      <td>NaN</td>\n",
       "      <td>NaN</td>\n",
       "      <td>NaN</td>\n",
       "    </tr>\n",
       "    <tr>\n",
       "      <th>...</th>\n",
       "      <td>...</td>\n",
       "      <td>...</td>\n",
       "      <td>...</td>\n",
       "      <td>...</td>\n",
       "      <td>...</td>\n",
       "      <td>...</td>\n",
       "      <td>...</td>\n",
       "      <td>...</td>\n",
       "      <td>...</td>\n",
       "      <td>...</td>\n",
       "      <td>...</td>\n",
       "      <td>...</td>\n",
       "      <td>...</td>\n",
       "      <td>...</td>\n",
       "      <td>...</td>\n",
       "      <td>...</td>\n",
       "      <td>...</td>\n",
       "      <td>...</td>\n",
       "      <td>...</td>\n",
       "      <td>...</td>\n",
       "      <td>...</td>\n",
       "    </tr>\n",
       "    <tr>\n",
       "      <th>7266099</th>\n",
       "      <td>38</td>\n",
       "      <td>022</td>\n",
       "      <td>BS027</td>\n",
       "      <td>NaN</td>\n",
       "      <td>2020/06/30</td>\n",
       "      <td>2020/06/30 06:10:55</td>\n",
       "      <td>NaN</td>\n",
       "      <td>02440210</td>\n",
       "      <td>Oil and Water absorbent Pad, P</td>\n",
       "      <td>4200.00</td>\n",
       "      <td>...</td>\n",
       "      <td>IUT</td>\n",
       "      <td>100</td>\n",
       "      <td>NaN</td>\n",
       "      <td>NaN</td>\n",
       "      <td>NaN</td>\n",
       "      <td>NaN</td>\n",
       "      <td>NaN</td>\n",
       "      <td>NaN</td>\n",
       "      <td>NaN</td>\n",
       "      <td>NaN</td>\n",
       "    </tr>\n",
       "    <tr>\n",
       "      <th>7266100</th>\n",
       "      <td>41</td>\n",
       "      <td>022</td>\n",
       "      <td>BS027</td>\n",
       "      <td>NaN</td>\n",
       "      <td>2020/06/30</td>\n",
       "      <td>2020/06/30 06:10:55</td>\n",
       "      <td>NaN</td>\n",
       "      <td>02607063</td>\n",
       "      <td>BOTTLE - WASHER,WINDSHIELD  5G</td>\n",
       "      <td>5.00</td>\n",
       "      <td>...</td>\n",
       "      <td>IUT</td>\n",
       "      <td>100</td>\n",
       "      <td>NaN</td>\n",
       "      <td>NaN</td>\n",
       "      <td>NaN</td>\n",
       "      <td>NaN</td>\n",
       "      <td>NaN</td>\n",
       "      <td>NaN</td>\n",
       "      <td>NaN</td>\n",
       "      <td>NaN</td>\n",
       "    </tr>\n",
       "    <tr>\n",
       "      <th>7266101</th>\n",
       "      <td>4</td>\n",
       "      <td>022</td>\n",
       "      <td>BS017</td>\n",
       "      <td>NaN</td>\n",
       "      <td>2020/06/30</td>\n",
       "      <td>2020/06/30 06:20:58</td>\n",
       "      <td>NaN</td>\n",
       "      <td>02795068</td>\n",
       "      <td>WEBBING LOOP, BLUE, LENGTH 14-</td>\n",
       "      <td>37.00</td>\n",
       "      <td>...</td>\n",
       "      <td>IUT</td>\n",
       "      <td>100</td>\n",
       "      <td>NaN</td>\n",
       "      <td>NaN</td>\n",
       "      <td>NaN</td>\n",
       "      <td>NaN</td>\n",
       "      <td>NaN</td>\n",
       "      <td>NaN</td>\n",
       "      <td>NaN</td>\n",
       "      <td>NaN</td>\n",
       "    </tr>\n",
       "    <tr>\n",
       "      <th>7266102</th>\n",
       "      <td>11</td>\n",
       "      <td>022</td>\n",
       "      <td>BS016</td>\n",
       "      <td>NaN</td>\n",
       "      <td>2020/06/30</td>\n",
       "      <td>2020/06/30 06:30:18</td>\n",
       "      <td>NaN</td>\n",
       "      <td>03220638</td>\n",
       "      <td>TEE-1/4 GALV MALL IRON</td>\n",
       "      <td>10.00</td>\n",
       "      <td>...</td>\n",
       "      <td>IUT</td>\n",
       "      <td>100</td>\n",
       "      <td>NaN</td>\n",
       "      <td>NaN</td>\n",
       "      <td>NaN</td>\n",
       "      <td>NaN</td>\n",
       "      <td>NaN</td>\n",
       "      <td>NaN</td>\n",
       "      <td>NaN</td>\n",
       "      <td>NaN</td>\n",
       "    </tr>\n",
       "    <tr>\n",
       "      <th>7266103</th>\n",
       "      <td>23</td>\n",
       "      <td>022</td>\n",
       "      <td>BS019</td>\n",
       "      <td>NaN</td>\n",
       "      <td>2020/06/30</td>\n",
       "      <td>2020/06/30 06:10:54</td>\n",
       "      <td>NaN</td>\n",
       "      <td>04295174</td>\n",
       "      <td>BREATHER ELEMENT</td>\n",
       "      <td>30.00</td>\n",
       "      <td>...</td>\n",
       "      <td>IUT</td>\n",
       "      <td>100</td>\n",
       "      <td>NaN</td>\n",
       "      <td>NaN</td>\n",
       "      <td>NaN</td>\n",
       "      <td>NaN</td>\n",
       "      <td>NaN</td>\n",
       "      <td>NaN</td>\n",
       "      <td>NaN</td>\n",
       "      <td>NaN</td>\n",
       "    </tr>\n",
       "  </tbody>\n",
       "</table>\n",
       "<p>7266104 rows × 85 columns</p>\n",
       "</div>"
      ],
      "text/plain": [
       "         TXN - Sequence Nbr TXN - Transaction Type TXN - Unit  \\\n",
       "0                         1                    041      BS011   \n",
       "1                         1                    041      BS014   \n",
       "2                         1                    041      BS011   \n",
       "3                         1                    041      BS018   \n",
       "4                        11                    020      CS001   \n",
       "...                     ...                    ...        ...   \n",
       "7266099                  38                    022      BS027   \n",
       "7266100                  41                    022      BS027   \n",
       "7266101                   4                    022      BS017   \n",
       "7266102                  11                    022      BS016   \n",
       "7266103                  23                    022      BS019   \n",
       "\n",
       "        TXN - Destination Unit TXN - Transaction Date     TXN - Time Stamp  \\\n",
       "0                          NaN             2009/10/01  2009/10/01 15:45:28   \n",
       "1                          NaN             2009/10/01  2009/10/01 15:31:02   \n",
       "2                          NaN             2009/10/01  2009/10/01 15:44:30   \n",
       "3                          NaN             2009/10/01  2009/10/01 15:23:34   \n",
       "4                          NaN             2009/10/01  2009/10/01 11:31:51   \n",
       "...                        ...                    ...                  ...   \n",
       "7266099                    NaN             2020/06/30  2020/06/30 06:10:55   \n",
       "7266100                    NaN             2020/06/30  2020/06/30 06:10:55   \n",
       "7266101                    NaN             2020/06/30  2020/06/30 06:20:58   \n",
       "7266102                    NaN             2020/06/30  2020/06/30 06:30:18   \n",
       "7266103                    NaN             2020/06/30  2020/06/30 06:10:54   \n",
       "\n",
       "        TXN - Order No TXN - Item ID          TXN - Item Description  \\\n",
       "0                  NaN      05021408    FITTING, 3/8 AIR BRAKE NYLON   \n",
       "1                  NaN      02545876  USE 02592077 LAMP-HEAD, LOW BE   \n",
       "2                  NaN      00250066  CABLE-16 GAUGE BLACK AUTOMOTIV   \n",
       "3                  NaN      02063020  NUTS-NO 10-24 N.C.CO LD FORGED   \n",
       "4                  NaN      04390100        ADAPTER HOSE - HYDR PUMP   \n",
       "...                ...           ...                             ...   \n",
       "7266099            NaN      02440210  Oil and Water absorbent Pad, P   \n",
       "7266100            NaN      02607063  BOTTLE - WASHER,WINDSHIELD  5G   \n",
       "7266101            NaN      02795068  WEBBING LOOP, BLUE, LENGTH 14-   \n",
       "7266102            NaN      03220638          TEE-1/4 GALV MALL IRON   \n",
       "7266103            NaN      04295174                BREATHER ELEMENT   \n",
       "\n",
       "         TXN - Qty  ...  TXN - Recpt Type  TXN - Cost Element TXN - Last Adj  \\\n",
       "0            -7.00  ...               NaN                 100            NaN   \n",
       "1           -16.00  ...               NaN                 100            NaN   \n",
       "2          -300.00  ...               NaN                 100            NaN   \n",
       "3           -12.00  ...               NaN                 100            NaN   \n",
       "4            15.00  ...               NaN                 100            NaN   \n",
       "...            ...  ...               ...                 ...            ...   \n",
       "7266099    4200.00  ...               IUT                 100            NaN   \n",
       "7266100       5.00  ...               IUT                 100            NaN   \n",
       "7266101      37.00  ...               IUT                 100            NaN   \n",
       "7266102      10.00  ...               IUT                 100            NaN   \n",
       "7266103      30.00  ...               IUT                 100            NaN   \n",
       "\n",
       "        TXN - Last Order TXN - Last Date TXN - Last Ptwy TXN - Qty Avail  \\\n",
       "0                    NaN             NaN             NaN             NaN   \n",
       "1                    NaN             NaN             NaN             NaN   \n",
       "2                    NaN             NaN             NaN             NaN   \n",
       "3                    NaN             NaN             NaN             NaN   \n",
       "4                    NaN             NaN             NaN             NaN   \n",
       "...                  ...             ...             ...             ...   \n",
       "7266099              NaN             NaN             NaN             NaN   \n",
       "7266100              NaN             NaN             NaN             NaN   \n",
       "7266101              NaN             NaN             NaN             NaN   \n",
       "7266102              NaN             NaN             NaN             NaN   \n",
       "7266103              NaN             NaN             NaN             NaN   \n",
       "\n",
       "        TXN - Qty Reserved TXN - Qty Owned TXN - Qty On Hand  \n",
       "0                      NaN             NaN               NaN  \n",
       "1                      NaN             NaN               NaN  \n",
       "2                      NaN             NaN               NaN  \n",
       "3                      NaN             NaN               NaN  \n",
       "4                      NaN             NaN               NaN  \n",
       "...                    ...             ...               ...  \n",
       "7266099                NaN             NaN               NaN  \n",
       "7266100                NaN             NaN               NaN  \n",
       "7266101                NaN             NaN               NaN  \n",
       "7266102                NaN             NaN               NaN  \n",
       "7266103                NaN             NaN               NaN  \n",
       "\n",
       "[7266104 rows x 85 columns]"
      ]
     },
     "execution_count": 6,
     "metadata": {},
     "output_type": "execute_result"
    }
   ],
   "source": [
    "txn_df = read_csv_to_df(get_lof_csv(txn_dirPath + \"CSV_Files/\"), txn_converter)\n",
    "txn_df"
   ]
  },
  {
   "cell_type": "code",
   "execution_count": 201,
   "id": "2ff14468",
   "metadata": {},
   "outputs": [],
   "source": [
    "def get_min_max(dataframe, part_number, aggression = 1):\n",
    "    part_std = dataframe.groupby('TXN - Item ID')['TXN - Qty'].std(ddof = 0)[part_number]\n",
    "    part_mean = dataframe.groupby('TXN - Item ID')['TXN - Qty'].mean()[part_number]\n",
    "    \n",
    "    # MIN – part mean\n",
    "    \n",
    "    # MAX – mean + 2 * std\n",
    "    \n",
    "    # Implement rounding\n",
    "    # 2 STD's might be too conservative – 1 standard deviation might be able to cut it. \n",
    "    return {'part_number':part_number, 'min':part_mean, 'max':(part_mean + (aggression * part_std))}"
   ]
  },
  {
   "cell_type": "code",
   "execution_count": 391,
   "id": "09c512de",
   "metadata": {},
   "outputs": [],
   "source": [
    "def transactions_to_quarters(original_dataframe, filter_unused = True):\n",
    "    # This dataframe must have Transaction Date, Transaction Type, Item ID, and Qty. \n",
    "    \n",
    "    time_df = original_dataframe.copy(deep=True)\n",
    "    \n",
    "    time_df['TXN - Transaction Date'] = pd.to_datetime(time_df['TXN - Transaction Date'])\n",
    "    \n",
    "    out_codes = ('030')\n",
    "    today = datetime.date.today()\n",
    "    # Filter to only out codes\n",
    "    # IMPORTANT NOTE: OUT CODES ARE ONLY 030. \n",
    "\n",
    "    out_df = time_df.loc[time_df['TXN - Transaction Type'] == '030']\n",
    "\n",
    "    # Filter to at least 5 usages in the last 2 years. \n",
    "    last_2_years = out_df.copy(deep=True)\n",
    "\n",
    "    # This is not the right understanding – this eliminates all rows that are at least 2 years old. \n",
    "    # We want to remove all parts that haven't been used in 2 years. \n",
    "    last_2_years['Today'] = today\n",
    "    last_2_years['Today'] = pd.to_datetime(last_2_years['Today'])\n",
    "    last_2_years['Years Ago'] = (last_2_years['TXN - Transaction Date'] - last_2_years['Today']).astype('timedelta64[Y]').astype('int')\n",
    "    \n",
    "    # Need to find the usage in the past 2 years.\n",
    "    last_2_years_df = last_2_years.copy(deep=True)\n",
    "    \n",
    "    if filter_unused:\n",
    "        # Only filter out parts if the option is on.\n",
    "        last_2_years_df = last_2_years_df.loc[last_2_years_df['Years Ago'] >= -2]\n",
    "\n",
    "        print(last_2_years_df['Years Ago'].min())\n",
    "\n",
    "        part_usages = last_2_years_df.groupby('TXN - Item ID').size()\n",
    "        part_filter = part_usages > 5\n",
    "        in_parts = set(part_usages[part_filter].index)\n",
    "        print(len(in_parts))\n",
    "    \n",
    "        final_part_df = last_2_years.loc[last_2_years['TXN - Item ID'].isin(in_parts)]\n",
    "\n",
    "        months_df = final_part_df.copy(deep=True)\n",
    "    else:\n",
    "        months_df = last_2_years_df.copy(deep = True)\n",
    "\n",
    "    # Bin to 3 months\n",
    "    start_date = datetime.datetime(2004, 1, 1)\n",
    "\n",
    "    # Calculate quarters\n",
    "    months_df['Quarters'] = ((months_df['TXN - Transaction Date'] - start_date).astype('timedelta64[M]').astype('int') - 1) // 3\n",
    "    \n",
    "    # Group by quarters\n",
    "    quarter_group = months_df.groupby(['TXN - Item ID', 'Quarters'])\n",
    "    \n",
    "    summed_quarters_active_parts = quarter_group['TXN - Qty'].sum()\n",
    "    \n",
    "    summed_quarters_active_parts.to_frame()\n",
    "    summed_quarters_active_parts = summed_quarters_active_parts.reset_index()\n",
    "    \n",
    "    return summed_quarters_active_parts"
   ]
  },
  {
   "cell_type": "code",
   "execution_count": 202,
   "id": "69d20b13",
   "metadata": {},
   "outputs": [
    {
     "name": "stdout",
     "output_type": "stream",
     "text": [
      "-2\n",
      "5107\n"
     ]
    },
    {
     "data": {
      "text/html": [
       "<div>\n",
       "<style scoped>\n",
       "    .dataframe tbody tr th:only-of-type {\n",
       "        vertical-align: middle;\n",
       "    }\n",
       "\n",
       "    .dataframe tbody tr th {\n",
       "        vertical-align: top;\n",
       "    }\n",
       "\n",
       "    .dataframe thead th {\n",
       "        text-align: right;\n",
       "    }\n",
       "</style>\n",
       "<table border=\"1\" class=\"dataframe\">\n",
       "  <thead>\n",
       "    <tr style=\"text-align: right;\">\n",
       "      <th></th>\n",
       "      <th>TXN - Item ID</th>\n",
       "      <th>Quarters</th>\n",
       "      <th>TXN - Qty</th>\n",
       "    </tr>\n",
       "  </thead>\n",
       "  <tbody>\n",
       "    <tr>\n",
       "      <th>0</th>\n",
       "      <td>00176001</td>\n",
       "      <td>1</td>\n",
       "      <td>6.00</td>\n",
       "    </tr>\n",
       "    <tr>\n",
       "      <th>1</th>\n",
       "      <td>00176001</td>\n",
       "      <td>3</td>\n",
       "      <td>4.00</td>\n",
       "    </tr>\n",
       "    <tr>\n",
       "      <th>2</th>\n",
       "      <td>00176001</td>\n",
       "      <td>5</td>\n",
       "      <td>17.00</td>\n",
       "    </tr>\n",
       "    <tr>\n",
       "      <th>3</th>\n",
       "      <td>00176001</td>\n",
       "      <td>7</td>\n",
       "      <td>9.00</td>\n",
       "    </tr>\n",
       "    <tr>\n",
       "      <th>4</th>\n",
       "      <td>00176001</td>\n",
       "      <td>8</td>\n",
       "      <td>7.00</td>\n",
       "    </tr>\n",
       "    <tr>\n",
       "      <th>...</th>\n",
       "      <td>...</td>\n",
       "      <td>...</td>\n",
       "      <td>...</td>\n",
       "    </tr>\n",
       "    <tr>\n",
       "      <th>201410</th>\n",
       "      <td>598742</td>\n",
       "      <td>69</td>\n",
       "      <td>1.00</td>\n",
       "    </tr>\n",
       "    <tr>\n",
       "      <th>201411</th>\n",
       "      <td>602692</td>\n",
       "      <td>66</td>\n",
       "      <td>5.00</td>\n",
       "    </tr>\n",
       "    <tr>\n",
       "      <th>201412</th>\n",
       "      <td>602692</td>\n",
       "      <td>67</td>\n",
       "      <td>2.00</td>\n",
       "    </tr>\n",
       "    <tr>\n",
       "      <th>201413</th>\n",
       "      <td>602692</td>\n",
       "      <td>68</td>\n",
       "      <td>6.00</td>\n",
       "    </tr>\n",
       "    <tr>\n",
       "      <th>201414</th>\n",
       "      <td>602692</td>\n",
       "      <td>71</td>\n",
       "      <td>7.00</td>\n",
       "    </tr>\n",
       "  </tbody>\n",
       "</table>\n",
       "<p>201415 rows × 3 columns</p>\n",
       "</div>"
      ],
      "text/plain": [
       "       TXN - Item ID  Quarters  TXN - Qty\n",
       "0           00176001         1       6.00\n",
       "1           00176001         3       4.00\n",
       "2           00176001         5      17.00\n",
       "3           00176001         7       9.00\n",
       "4           00176001         8       7.00\n",
       "...              ...       ...        ...\n",
       "201410        598742        69       1.00\n",
       "201411        602692        66       5.00\n",
       "201412        602692        67       2.00\n",
       "201413        602692        68       6.00\n",
       "201414        602692        71       7.00\n",
       "\n",
       "[201415 rows x 3 columns]"
      ]
     },
     "execution_count": 202,
     "metadata": {},
     "output_type": "execute_result"
    }
   ],
   "source": [
    "prepare_data(txn_df)"
   ]
  },
  {
   "cell_type": "code",
   "execution_count": 203,
   "id": "5e2438d4",
   "metadata": {},
   "outputs": [
    {
     "data": {
      "text/plain": [
       "Index(['TXN - Sequence Nbr', 'TXN - Transaction Type', 'TXN - Unit',\n",
       "       'TXN - Destination Unit', 'TXN - Transaction Date', 'TXN - Time Stamp',\n",
       "       'TXN - Order No', 'TXN - Item ID', 'TXN - Item Description',\n",
       "       'TXN - Qty', 'TXN - Avg Matl Cost', 'TXN - Total Cost', 'TXN - User ID',\n",
       "       'TXN - Storage Area', 'TXN - Storage Lev 1', 'TXN - Storage Lev 2',\n",
       "       'TXN - Storage Lev 3', 'TXN - Storage Lev 4', 'TXN - Adjust Type',\n",
       "       'TXN - Location Code', 'TXN - Ship To Name', 'TXN - Item Group',\n",
       "       'TXN - Utilization Type', 'TXN - UOM', 'TXN - Transaction Acct',\n",
       "       'TXN - Transaction Dept', 'TXN - Transaction Fund', 'TXN - Src BU',\n",
       "       'TXN - Order Line', 'TXN - Sched Line No', 'TXN - Demand Line No',\n",
       "       'TXN - Base Qty', 'TXN - Std UOM', 'TXN - Reason', 'TXN - Mode',\n",
       "       'TXN - Activity Code', 'TXN - PO No', 'TXN - PO Distrib Line',\n",
       "       'TXN - Distrib Seq', 'TXN - PO Price', 'TXN - Req ID',\n",
       "       'TXN - Req Line No', 'TXN - Req Sched No', 'TXN - Req Distr No',\n",
       "       'TXN - RMA Number', 'TXN - RMA Line No', 'TXN - RTV Vendor ID',\n",
       "       'TXN - Last Purch Date', 'TXN - PO Date', 'TXN - Trn Source',\n",
       "       'TXN - Comments', 'TXN - Item Short Desc', 'TXN - Fulfill State',\n",
       "       'TXN - Prior State at Cancel', 'TXN - Canceled Date',\n",
       "       'TXN - Fulfill Date', 'TXN - Fulfill Picked Date',\n",
       "       'TXN - Fulfill Orig Unit', 'TXN - Fulfill Dest Unit',\n",
       "       'TXN - Fulfill Req ID', 'TXN - Fulfill Req Line',\n",
       "       'TXN - Fulfill Req Sched', 'TXN - Fulfill Req Distr',\n",
       "       'TXN - Fulfill Qty Per', 'TXN - Fulfill Acct', 'TXN - Fulfill Fund',\n",
       "       'TXN - Fulfill Bud Ref', 'TXN - InterUnit Order ID',\n",
       "       'TXN - InterUnit Order Line', 'TXN - InterUnit Flag',\n",
       "       'TXN - InterUnit Status', 'TXN - Receipt No', 'TXN - Receipt Line',\n",
       "       'TXN - Hdr InterUnit Order ID', 'TXN - Hdr InterUnit Line',\n",
       "       'TXN - Recpt Type', 'TXN - Cost Element', 'TXN - Last Adj',\n",
       "       'TXN - Last Order', 'TXN - Last Date', 'TXN - Last Ptwy',\n",
       "       'TXN - Qty Avail', 'TXN - Qty Reserved', 'TXN - Qty Owned',\n",
       "       'TXN - Qty On Hand'],\n",
       "      dtype='object')"
      ]
     },
     "execution_count": 203,
     "metadata": {},
     "output_type": "execute_result"
    }
   ],
   "source": [
    "txn_df.columns"
   ]
  },
  {
   "cell_type": "markdown",
   "id": "3a31c2ae",
   "metadata": {},
   "source": [
    "TODO: \n",
    "- Get Min/maxes by base\n",
    "- Figure out better storage system for this (dict?)\n",
    "- Implement lead time – pull from FMIS"
   ]
  },
  {
   "cell_type": "code",
   "execution_count": 8,
   "id": "b10e034d",
   "metadata": {},
   "outputs": [
    {
     "data": {
      "text/plain": [
       "array([nan, 'BS014', 'BS019', 'BS018', 'BS027', 'BS023', 'BS024', 'BS025',\n",
       "       'BS015', 'BS017', 'BS011', 'BS010', 'BS012', 'BS020', 'BS021',\n",
       "       'CS001', 'BS016', 'BS026', 'CS002', 'CS004', 'BS013', 'CS003',\n",
       "       'BS009', 'BS029'], dtype=object)"
      ]
     },
     "execution_count": 8,
     "metadata": {},
     "output_type": "execute_result"
    }
   ],
   "source": [
    "txn_df['TXN - Destination Unit'].unique()"
   ]
  },
  {
   "cell_type": "markdown",
   "id": "2f4aa08d",
   "metadata": {},
   "source": [
    "FINAL ALGORITHM:\n",
    "\n",
    "MIN = Lead Time * (Average Monthly Usage + 1 STD)\n",
    "\n",
    "Reorder Quantity = (Lead Time * Average Monthly Usage) + (Cost Factor (CF) * Average Month)"
   ]
  },
  {
   "cell_type": "markdown",
   "id": "1cb729a6",
   "metadata": {},
   "source": [
    "Cost per Purchase:\n",
    "- Total Cost of Items\n",
    "- MANCON Receipt cost\n",
    "- Buyer Cost (time to procure * wages)\n",
    "- Storage Cost is subtracted\n",
    "\n",
    "Cost Factor is how often we ,purchase parts. \n",
    "\n",
    "CF = Optimal Purchase interval\n",
    "\n",
    " (fixed costs * purchases per Q) + (Usage per quarter / purchases per Q)\n",
    " \n",
    " Time to store = 1 / purchases per quarter = quarters per purchase\n",
    " \n",
    " As Purchases per Q increases, item storage cost goes down, but fixed costs go up. \n",
    " \n",
    " Item storage cost = \n",
    " \n",
    " SC Heuristic: \n",
    " ((Max at time start + Min at time end) / 2) * factor\n",
    " \n",
    "SC = (quarters per purchase * usage per quarter)"
   ]
  },
  {
   "cell_type": "markdown",
   "id": "47717269",
   "metadata": {},
   "source": [
    "## Lead Time Integration"
   ]
  },
  {
   "cell_type": "code",
   "execution_count": 12,
   "id": "12a39a87",
   "metadata": {},
   "outputs": [],
   "source": [
    "# Create function to filter by base station \n",
    "def filter_transactions_by_base_station(txn_dataframe, base_station):\n",
    "    return txn_dataframe.loc[txn_dataframe['TXN - Destination Unit'] == base_station]"
   ]
  },
  {
   "cell_type": "code",
   "execution_count": null,
   "id": "0e4ed6e8",
   "metadata": {},
   "outputs": [],
   "source": [
    "base_stations = txn_df['TXN - Destination Unit'].unique()\n",
    "\n",
    "out_codes = ('030')\n",
    "out_df = txn_df.loc[txn_df['TXN - Transaction Type'].isin(out_codes)]\n",
    "\n",
    "out_df"
   ]
  },
  {
   "cell_type": "code",
   "execution_count": 11,
   "id": "d1e73ab7",
   "metadata": {},
   "outputs": [
    {
     "name": "stderr",
     "output_type": "stream",
     "text": [
      "/Users/pbenson/opt/anaconda3/lib/python3.9/site-packages/openpyxl/styles/stylesheet.py:226: UserWarning: Workbook contains no default style, apply openpyxl's default\n",
      "  warn(\"Workbook contains no default style, apply openpyxl's default\")\n"
     ]
    },
    {
     "data": {
      "text/html": [
       "<div>\n",
       "<style scoped>\n",
       "    .dataframe tbody tr th:only-of-type {\n",
       "        vertical-align: middle;\n",
       "    }\n",
       "\n",
       "    .dataframe tbody tr th {\n",
       "        vertical-align: top;\n",
       "    }\n",
       "\n",
       "    .dataframe thead th {\n",
       "        text-align: right;\n",
       "    }\n",
       "</style>\n",
       "<table border=\"1\" class=\"dataframe\">\n",
       "  <thead>\n",
       "    <tr style=\"text-align: right;\">\n",
       "      <th></th>\n",
       "      <th>Rec_Unit</th>\n",
       "      <th>Recv Nbr</th>\n",
       "      <th>User</th>\n",
       "      <th>Recv Date</th>\n",
       "      <th>Rcpt Time</th>\n",
       "      <th>Receipt</th>\n",
       "      <th>Receipt_PO_No</th>\n",
       "      <th>Inv Qty</th>\n",
       "      <th>Merchandise Amt</th>\n",
       "      <th>PO Amount</th>\n",
       "      <th>...</th>\n",
       "      <th>PO Qty</th>\n",
       "      <th>PO Date</th>\n",
       "      <th>PO_APPR_Date</th>\n",
       "      <th>Req ID</th>\n",
       "      <th>REQ_Line</th>\n",
       "      <th>REQ_Sched_Num</th>\n",
       "      <th>REQ_Distribution</th>\n",
       "      <th>Req Date</th>\n",
       "      <th>REQ_APPR_Date</th>\n",
       "      <th>Receipt Line</th>\n",
       "    </tr>\n",
       "  </thead>\n",
       "  <tbody>\n",
       "    <tr>\n",
       "      <th>0</th>\n",
       "      <td>MBTAI</td>\n",
       "      <td>0000203256</td>\n",
       "      <td>MGONCALVES</td>\n",
       "      <td>2021-12-31</td>\n",
       "      <td>08:34:40</td>\n",
       "      <td>Moved to Destination</td>\n",
       "      <td>2000123660</td>\n",
       "      <td>5000.00</td>\n",
       "      <td>146.80</td>\n",
       "      <td>146.80</td>\n",
       "      <td>...</td>\n",
       "      <td>5000.00</td>\n",
       "      <td>2021-07-08</td>\n",
       "      <td>2021-07-08</td>\n",
       "      <td>NaN</td>\n",
       "      <td>0.00</td>\n",
       "      <td>0.00</td>\n",
       "      <td>0.00</td>\n",
       "      <td>NaT</td>\n",
       "      <td>NaT</td>\n",
       "      <td>1.00</td>\n",
       "    </tr>\n",
       "    <tr>\n",
       "      <th>1</th>\n",
       "      <td>MBTAI</td>\n",
       "      <td>0000203255</td>\n",
       "      <td>MGONCALVES</td>\n",
       "      <td>2021-12-31</td>\n",
       "      <td>08:32:58</td>\n",
       "      <td>Moved to Destination</td>\n",
       "      <td>2000126147</td>\n",
       "      <td>2000.00</td>\n",
       "      <td>519.46</td>\n",
       "      <td>519.46</td>\n",
       "      <td>...</td>\n",
       "      <td>2000.00</td>\n",
       "      <td>2021-12-30</td>\n",
       "      <td>2021-12-30</td>\n",
       "      <td>1014681.00</td>\n",
       "      <td>1.00</td>\n",
       "      <td>1.00</td>\n",
       "      <td>1.00</td>\n",
       "      <td>2021-12-09</td>\n",
       "      <td>2021-12-09</td>\n",
       "      <td>1.00</td>\n",
       "    </tr>\n",
       "    <tr>\n",
       "      <th>2</th>\n",
       "      <td>MBTAI</td>\n",
       "      <td>0000203254</td>\n",
       "      <td>MYOUNG2</td>\n",
       "      <td>2021-12-30</td>\n",
       "      <td>15:09:40</td>\n",
       "      <td>Moved to Destination</td>\n",
       "      <td>2000125626</td>\n",
       "      <td>795.00</td>\n",
       "      <td>3243.60</td>\n",
       "      <td>3243.60</td>\n",
       "      <td>...</td>\n",
       "      <td>795.00</td>\n",
       "      <td>2021-11-15</td>\n",
       "      <td>2021-11-15</td>\n",
       "      <td>1010715.00</td>\n",
       "      <td>1.00</td>\n",
       "      <td>1.00</td>\n",
       "      <td>1.00</td>\n",
       "      <td>2021-11-15</td>\n",
       "      <td>2021-11-15</td>\n",
       "      <td>1.00</td>\n",
       "    </tr>\n",
       "    <tr>\n",
       "      <th>3</th>\n",
       "      <td>MBTAI</td>\n",
       "      <td>0000203253</td>\n",
       "      <td>MGONCALVES</td>\n",
       "      <td>2021-12-30</td>\n",
       "      <td>14:38:12</td>\n",
       "      <td>Moved to Destination</td>\n",
       "      <td>2000125482</td>\n",
       "      <td>2649.00</td>\n",
       "      <td>10331.10</td>\n",
       "      <td>10335.00</td>\n",
       "      <td>...</td>\n",
       "      <td>2649.00</td>\n",
       "      <td>2021-11-04</td>\n",
       "      <td>2021-11-04</td>\n",
       "      <td>NaN</td>\n",
       "      <td>0.00</td>\n",
       "      <td>0.00</td>\n",
       "      <td>0.00</td>\n",
       "      <td>NaT</td>\n",
       "      <td>NaT</td>\n",
       "      <td>1.00</td>\n",
       "    </tr>\n",
       "    <tr>\n",
       "      <th>4</th>\n",
       "      <td>MBTAI</td>\n",
       "      <td>0000203252</td>\n",
       "      <td>MGONCALVES</td>\n",
       "      <td>2021-12-30</td>\n",
       "      <td>12:48:35</td>\n",
       "      <td>Moved to Destination</td>\n",
       "      <td>2000124539</td>\n",
       "      <td>6.00</td>\n",
       "      <td>278.04</td>\n",
       "      <td>278.04</td>\n",
       "      <td>...</td>\n",
       "      <td>6.00</td>\n",
       "      <td>2021-09-03</td>\n",
       "      <td>2021-09-03</td>\n",
       "      <td>NaN</td>\n",
       "      <td>0.00</td>\n",
       "      <td>0.00</td>\n",
       "      <td>0.00</td>\n",
       "      <td>NaT</td>\n",
       "      <td>NaT</td>\n",
       "      <td>1.00</td>\n",
       "    </tr>\n",
       "    <tr>\n",
       "      <th>...</th>\n",
       "      <td>...</td>\n",
       "      <td>...</td>\n",
       "      <td>...</td>\n",
       "      <td>...</td>\n",
       "      <td>...</td>\n",
       "      <td>...</td>\n",
       "      <td>...</td>\n",
       "      <td>...</td>\n",
       "      <td>...</td>\n",
       "      <td>...</td>\n",
       "      <td>...</td>\n",
       "      <td>...</td>\n",
       "      <td>...</td>\n",
       "      <td>...</td>\n",
       "      <td>...</td>\n",
       "      <td>...</td>\n",
       "      <td>...</td>\n",
       "      <td>...</td>\n",
       "      <td>...</td>\n",
       "      <td>...</td>\n",
       "      <td>...</td>\n",
       "    </tr>\n",
       "    <tr>\n",
       "      <th>236848</th>\n",
       "      <td>MBTAI</td>\n",
       "      <td>0000000005</td>\n",
       "      <td>HEH0307</td>\n",
       "      <td>2004-04-03</td>\n",
       "      <td>12:08:00</td>\n",
       "      <td>Closed Receipt</td>\n",
       "      <td>2200051419</td>\n",
       "      <td>329.00</td>\n",
       "      <td>88.83</td>\n",
       "      <td>88.83</td>\n",
       "      <td>...</td>\n",
       "      <td>329.00</td>\n",
       "      <td>2004-03-10</td>\n",
       "      <td>2004-04-01</td>\n",
       "      <td>NaN</td>\n",
       "      <td>0.00</td>\n",
       "      <td>0.00</td>\n",
       "      <td>0.00</td>\n",
       "      <td>NaT</td>\n",
       "      <td>NaT</td>\n",
       "      <td>1.00</td>\n",
       "    </tr>\n",
       "    <tr>\n",
       "      <th>236849</th>\n",
       "      <td>MBTAI</td>\n",
       "      <td>0000000005</td>\n",
       "      <td>HEH0307</td>\n",
       "      <td>2004-04-03</td>\n",
       "      <td>12:08:00</td>\n",
       "      <td>Closed Receipt</td>\n",
       "      <td>2200051419</td>\n",
       "      <td>187.00</td>\n",
       "      <td>22.44</td>\n",
       "      <td>22.44</td>\n",
       "      <td>...</td>\n",
       "      <td>187.00</td>\n",
       "      <td>2004-03-10</td>\n",
       "      <td>2004-04-01</td>\n",
       "      <td>NaN</td>\n",
       "      <td>0.00</td>\n",
       "      <td>0.00</td>\n",
       "      <td>0.00</td>\n",
       "      <td>NaT</td>\n",
       "      <td>NaT</td>\n",
       "      <td>2.00</td>\n",
       "    </tr>\n",
       "    <tr>\n",
       "      <th>236850</th>\n",
       "      <td>MBTAI</td>\n",
       "      <td>0000000003</td>\n",
       "      <td>HEH0307</td>\n",
       "      <td>2004-04-03</td>\n",
       "      <td>11:39:00</td>\n",
       "      <td>Closed Receipt</td>\n",
       "      <td>2200051565</td>\n",
       "      <td>216.00</td>\n",
       "      <td>142.56</td>\n",
       "      <td>142.56</td>\n",
       "      <td>...</td>\n",
       "      <td>216.00</td>\n",
       "      <td>2004-03-19</td>\n",
       "      <td>2004-04-01</td>\n",
       "      <td>NaN</td>\n",
       "      <td>0.00</td>\n",
       "      <td>0.00</td>\n",
       "      <td>0.00</td>\n",
       "      <td>NaT</td>\n",
       "      <td>NaT</td>\n",
       "      <td>1.00</td>\n",
       "    </tr>\n",
       "    <tr>\n",
       "      <th>236851</th>\n",
       "      <td>MBTAI</td>\n",
       "      <td>0000000002</td>\n",
       "      <td>HEH0307</td>\n",
       "      <td>2004-04-03</td>\n",
       "      <td>11:37:00</td>\n",
       "      <td>Closed Receipt</td>\n",
       "      <td>2200051204</td>\n",
       "      <td>5.00</td>\n",
       "      <td>384.15</td>\n",
       "      <td>384.15</td>\n",
       "      <td>...</td>\n",
       "      <td>5.00</td>\n",
       "      <td>2004-02-26</td>\n",
       "      <td>2004-04-01</td>\n",
       "      <td>NaN</td>\n",
       "      <td>0.00</td>\n",
       "      <td>0.00</td>\n",
       "      <td>0.00</td>\n",
       "      <td>NaT</td>\n",
       "      <td>NaT</td>\n",
       "      <td>1.00</td>\n",
       "    </tr>\n",
       "    <tr>\n",
       "      <th>236852</th>\n",
       "      <td>MBTAI</td>\n",
       "      <td>0000000001</td>\n",
       "      <td>HEH0307</td>\n",
       "      <td>2004-04-03</td>\n",
       "      <td>11:28:00</td>\n",
       "      <td>Closed Receipt</td>\n",
       "      <td>2200051200</td>\n",
       "      <td>2.00</td>\n",
       "      <td>13.00</td>\n",
       "      <td>13.00</td>\n",
       "      <td>...</td>\n",
       "      <td>2.00</td>\n",
       "      <td>2004-02-26</td>\n",
       "      <td>2004-04-01</td>\n",
       "      <td>NaN</td>\n",
       "      <td>0.00</td>\n",
       "      <td>0.00</td>\n",
       "      <td>0.00</td>\n",
       "      <td>NaT</td>\n",
       "      <td>NaT</td>\n",
       "      <td>1.00</td>\n",
       "    </tr>\n",
       "  </tbody>\n",
       "</table>\n",
       "<p>236853 rows × 32 columns</p>\n",
       "</div>"
      ],
      "text/plain": [
       "       Rec_Unit    Recv Nbr        User  Recv Date Rcpt Time  \\\n",
       "0         MBTAI  0000203256  MGONCALVES 2021-12-31  08:34:40   \n",
       "1         MBTAI  0000203255  MGONCALVES 2021-12-31  08:32:58   \n",
       "2         MBTAI  0000203254     MYOUNG2 2021-12-30  15:09:40   \n",
       "3         MBTAI  0000203253  MGONCALVES 2021-12-30  14:38:12   \n",
       "4         MBTAI  0000203252  MGONCALVES 2021-12-30  12:48:35   \n",
       "...         ...         ...         ...        ...       ...   \n",
       "236848    MBTAI  0000000005     HEH0307 2004-04-03  12:08:00   \n",
       "236849    MBTAI  0000000005     HEH0307 2004-04-03  12:08:00   \n",
       "236850    MBTAI  0000000003     HEH0307 2004-04-03  11:39:00   \n",
       "236851    MBTAI  0000000002     HEH0307 2004-04-03  11:37:00   \n",
       "236852    MBTAI  0000000001     HEH0307 2004-04-03  11:28:00   \n",
       "\n",
       "                     Receipt Receipt_PO_No  Inv Qty  Merchandise Amt  \\\n",
       "0       Moved to Destination    2000123660  5000.00           146.80   \n",
       "1       Moved to Destination    2000126147  2000.00           519.46   \n",
       "2       Moved to Destination    2000125626   795.00          3243.60   \n",
       "3       Moved to Destination    2000125482  2649.00         10331.10   \n",
       "4       Moved to Destination    2000124539     6.00           278.04   \n",
       "...                      ...           ...      ...              ...   \n",
       "236848        Closed Receipt    2200051419   329.00            88.83   \n",
       "236849        Closed Receipt    2200051419   187.00            22.44   \n",
       "236850        Closed Receipt    2200051565   216.00           142.56   \n",
       "236851        Closed Receipt    2200051204     5.00           384.15   \n",
       "236852        Closed Receipt    2200051200     2.00            13.00   \n",
       "\n",
       "        PO Amount  ...  PO Qty    PO Date  PO_APPR_Date     Req ID REQ_Line  \\\n",
       "0          146.80  ... 5000.00 2021-07-08    2021-07-08        NaN     0.00   \n",
       "1          519.46  ... 2000.00 2021-12-30    2021-12-30 1014681.00     1.00   \n",
       "2         3243.60  ...  795.00 2021-11-15    2021-11-15 1010715.00     1.00   \n",
       "3        10335.00  ... 2649.00 2021-11-04    2021-11-04        NaN     0.00   \n",
       "4          278.04  ...    6.00 2021-09-03    2021-09-03        NaN     0.00   \n",
       "...           ...  ...     ...        ...           ...        ...      ...   \n",
       "236848      88.83  ...  329.00 2004-03-10    2004-04-01        NaN     0.00   \n",
       "236849      22.44  ...  187.00 2004-03-10    2004-04-01        NaN     0.00   \n",
       "236850     142.56  ...  216.00 2004-03-19    2004-04-01        NaN     0.00   \n",
       "236851     384.15  ...    5.00 2004-02-26    2004-04-01        NaN     0.00   \n",
       "236852      13.00  ...    2.00 2004-02-26    2004-04-01        NaN     0.00   \n",
       "\n",
       "       REQ_Sched_Num REQ_Distribution   Req Date  REQ_APPR_Date  Receipt Line  \n",
       "0               0.00             0.00        NaT            NaT          1.00  \n",
       "1               1.00             1.00 2021-12-09     2021-12-09          1.00  \n",
       "2               1.00             1.00 2021-11-15     2021-11-15          1.00  \n",
       "3               0.00             0.00        NaT            NaT          1.00  \n",
       "4               0.00             0.00        NaT            NaT          1.00  \n",
       "...              ...              ...        ...            ...           ...  \n",
       "236848          0.00             0.00        NaT            NaT          1.00  \n",
       "236849          0.00             0.00        NaT            NaT          2.00  \n",
       "236850          0.00             0.00        NaT            NaT          1.00  \n",
       "236851          0.00             0.00        NaT            NaT          1.00  \n",
       "236852          0.00             0.00        NaT            NaT          1.00  \n",
       "\n",
       "[236853 rows x 32 columns]"
      ]
     },
     "execution_count": 11,
     "metadata": {},
     "output_type": "execute_result"
    }
   ],
   "source": [
    "lead_time_df = pd.read_excel(txn_dirPath + 'PB_RECEIPTS_V3B_KATE_557.xlsx', header=1)\n",
    "lead_time_df"
   ]
  },
  {
   "cell_type": "code",
   "execution_count": 32,
   "id": "ee16801f",
   "metadata": {},
   "outputs": [],
   "source": [
    "lead_time_df['Recv Date'] = pd.to_datetime(lead_time_df['Recv Date'])\n",
    "lead_time_df['PO Date'] = pd.to_datetime(lead_time_df['PO Date'])"
   ]
  },
  {
   "cell_type": "code",
   "execution_count": 37,
   "id": "860457a5",
   "metadata": {},
   "outputs": [],
   "source": [
    "lead_time_df['Lead Time'] = (lead_time_df['Recv Date'] - lead_time_df['PO Date']).astype('timedelta64[D]').astype('int')"
   ]
  },
  {
   "cell_type": "code",
   "execution_count": 38,
   "id": "81308697",
   "metadata": {},
   "outputs": [
    {
     "data": {
      "text/plain": [
       "0         176\n",
       "1           1\n",
       "2          45\n",
       "3          56\n",
       "4         118\n",
       "         ... \n",
       "236848     24\n",
       "236849     24\n",
       "236850     15\n",
       "236851     37\n",
       "236852     37\n",
       "Name: Lead Time, Length: 236853, dtype: int64"
      ]
     },
     "execution_count": 38,
     "metadata": {},
     "output_type": "execute_result"
    }
   ],
   "source": [
    "lead_time_df['Lead Time']"
   ]
  },
  {
   "cell_type": "code",
   "execution_count": 39,
   "id": "2405a5a0",
   "metadata": {},
   "outputs": [
    {
     "data": {
      "text/plain": [
       "Index(['Rec_Unit', 'Recv Nbr', 'User', 'Recv Date', 'Rcpt Time', 'Receipt',\n",
       "       'Receipt_PO_No', 'Inv Qty', 'Merchandise Amt', 'PO Amount', 'More Info',\n",
       "       'Dist By', 'Dept', 'Inv_Item', 'Invoice', 'Due_Dt', 'PO_Unit', 'PO No.',\n",
       "       'PO_Line', 'PO_Sched_Num', 'PO_Distribution', 'PO_Merch_Amount',\n",
       "       'PO Qty', 'PO Date', 'PO_APPR_Date', 'Req ID', 'REQ_Line',\n",
       "       'REQ_Sched_Num', 'REQ_Distribution', 'Req Date', 'REQ_APPR_Date',\n",
       "       'Receipt Line', 'Lead Time'],\n",
       "      dtype='object')"
      ]
     },
     "execution_count": 39,
     "metadata": {},
     "output_type": "execute_result"
    }
   ],
   "source": [
    "lead_time_df.columns"
   ]
  },
  {
   "cell_type": "code",
   "execution_count": 43,
   "id": "51e96e90",
   "metadata": {},
   "outputs": [
    {
     "data": {
      "text/html": [
       "<div>\n",
       "<style scoped>\n",
       "    .dataframe tbody tr th:only-of-type {\n",
       "        vertical-align: middle;\n",
       "    }\n",
       "\n",
       "    .dataframe tbody tr th {\n",
       "        vertical-align: top;\n",
       "    }\n",
       "\n",
       "    .dataframe thead th {\n",
       "        text-align: right;\n",
       "    }\n",
       "</style>\n",
       "<table border=\"1\" class=\"dataframe\">\n",
       "  <thead>\n",
       "    <tr style=\"text-align: right;\">\n",
       "      <th></th>\n",
       "      <th>Lead Time</th>\n",
       "      <th>Inv_Item</th>\n",
       "      <th>PO Date</th>\n",
       "    </tr>\n",
       "  </thead>\n",
       "  <tbody>\n",
       "    <tr>\n",
       "      <th>0</th>\n",
       "      <td>176</td>\n",
       "      <td>02591562</td>\n",
       "      <td>2021-07-08</td>\n",
       "    </tr>\n",
       "    <tr>\n",
       "      <th>1</th>\n",
       "      <td>1</td>\n",
       "      <td>30610041</td>\n",
       "      <td>2021-12-30</td>\n",
       "    </tr>\n",
       "    <tr>\n",
       "      <th>2</th>\n",
       "      <td>45</td>\n",
       "      <td>03207118</td>\n",
       "      <td>2021-11-15</td>\n",
       "    </tr>\n",
       "    <tr>\n",
       "      <th>3</th>\n",
       "      <td>56</td>\n",
       "      <td>03590002</td>\n",
       "      <td>2021-11-04</td>\n",
       "    </tr>\n",
       "    <tr>\n",
       "      <th>4</th>\n",
       "      <td>118</td>\n",
       "      <td>05295170</td>\n",
       "      <td>2021-09-03</td>\n",
       "    </tr>\n",
       "    <tr>\n",
       "      <th>...</th>\n",
       "      <td>...</td>\n",
       "      <td>...</td>\n",
       "      <td>...</td>\n",
       "    </tr>\n",
       "    <tr>\n",
       "      <th>236848</th>\n",
       "      <td>24</td>\n",
       "      <td>04590441</td>\n",
       "      <td>2004-03-10</td>\n",
       "    </tr>\n",
       "    <tr>\n",
       "      <th>236849</th>\n",
       "      <td>24</td>\n",
       "      <td>04590442</td>\n",
       "      <td>2004-03-10</td>\n",
       "    </tr>\n",
       "    <tr>\n",
       "      <th>236850</th>\n",
       "      <td>15</td>\n",
       "      <td>02661079</td>\n",
       "      <td>2004-03-19</td>\n",
       "    </tr>\n",
       "    <tr>\n",
       "      <th>236851</th>\n",
       "      <td>37</td>\n",
       "      <td>03296432</td>\n",
       "      <td>2004-02-26</td>\n",
       "    </tr>\n",
       "    <tr>\n",
       "      <th>236852</th>\n",
       "      <td>37</td>\n",
       "      <td>02667234</td>\n",
       "      <td>2004-02-26</td>\n",
       "    </tr>\n",
       "  </tbody>\n",
       "</table>\n",
       "<p>236853 rows × 3 columns</p>\n",
       "</div>"
      ],
      "text/plain": [
       "        Lead Time  Inv_Item    PO Date\n",
       "0             176  02591562 2021-07-08\n",
       "1               1  30610041 2021-12-30\n",
       "2              45  03207118 2021-11-15\n",
       "3              56  03590002 2021-11-04\n",
       "4             118  05295170 2021-09-03\n",
       "...           ...       ...        ...\n",
       "236848         24  04590441 2004-03-10\n",
       "236849         24  04590442 2004-03-10\n",
       "236850         15  02661079 2004-03-19\n",
       "236851         37  03296432 2004-02-26\n",
       "236852         37  02667234 2004-02-26\n",
       "\n",
       "[236853 rows x 3 columns]"
      ]
     },
     "execution_count": 43,
     "metadata": {},
     "output_type": "execute_result"
    }
   ],
   "source": [
    "pure_lead_time_df = lead_time_df[['Lead Time', 'Inv_Item', 'PO Date']]\n",
    "pure_lead_time_df"
   ]
  },
  {
   "cell_type": "code",
   "execution_count": 48,
   "id": "f6894f05",
   "metadata": {},
   "outputs": [
    {
     "name": "stderr",
     "output_type": "stream",
     "text": [
      "/var/folders/73/z_zg2ww102j_zl0j1rp57xxcwgxbxw/T/ipykernel_750/2366222707.py:1: SettingWithCopyWarning: \n",
      "A value is trying to be set on a copy of a slice from a DataFrame.\n",
      "Try using .loc[row_indexer,col_indexer] = value instead\n",
      "\n",
      "See the caveats in the documentation: https://pandas.pydata.org/pandas-docs/stable/user_guide/indexing.html#returning-a-view-versus-a-copy\n",
      "  pure_lead_time_df['Today'] = pd.to_datetime(datetime.date.today())\n",
      "/var/folders/73/z_zg2ww102j_zl0j1rp57xxcwgxbxw/T/ipykernel_750/2366222707.py:2: SettingWithCopyWarning: \n",
      "A value is trying to be set on a copy of a slice from a DataFrame.\n",
      "Try using .loc[row_indexer,col_indexer] = value instead\n",
      "\n",
      "See the caveats in the documentation: https://pandas.pydata.org/pandas-docs/stable/user_guide/indexing.html#returning-a-view-versus-a-copy\n",
      "  pure_lead_time_df['Days Ago'] = (pure_lead_time_df['PO Date'] - pure_lead_time_df['Today']).astype('timedelta64[D]').astype('int')\n"
     ]
    }
   ],
   "source": [
    "pure_lead_time_df['Today'] = pd.to_datetime(datetime.date.today())\n",
    "pure_lead_time_df['Days Ago'] = (pure_lead_time_df['PO Date'] - pure_lead_time_df['Today']).astype('timedelta64[D]').astype('int')\n",
    "pure_lead_time_df['Days Ago']\n",
    "\n",
    "lead_time_last_two_years = pure_lead_time_df.loc[pure_lead_time_df['Days Ago'] >= -730]"
   ]
  },
  {
   "cell_type": "code",
   "execution_count": 52,
   "id": "dae94a8a",
   "metadata": {},
   "outputs": [
    {
     "data": {
      "text/plain": [
       "Inv_Item\n",
       "00170002    13.00\n",
       "00170004     9.50\n",
       "00170005    10.67\n",
       "00170009    28.47\n",
       "00170010    21.00\n",
       "            ...  \n",
       "R2694037   107.18\n",
       "R2694038   165.25\n",
       "R2695001   143.36\n",
       "R2695002   137.08\n",
       "R3696027     5.00\n",
       "Name: Lead Time, Length: 29775, dtype: float64"
      ]
     },
     "execution_count": 52,
     "metadata": {},
     "output_type": "execute_result"
    }
   ],
   "source": [
    "mean_lead_time = pure_lead_time_df.groupby('Inv_Item')['Lead Time'].mean()\n",
    "mean_lead_time"
   ]
  },
  {
   "cell_type": "code",
   "execution_count": 53,
   "id": "f924cf78",
   "metadata": {},
   "outputs": [],
   "source": [
    "def get_historical_leadtime(part_number):\n",
    "    return pure_lead_time_df.groupby('Inv Item')['Lead Time'].mean()[part_number]\n",
    "\n",
    "def get_recent_leadtime(part_number, days_ago):\n",
    "    temp_df = pure_lead_time_df.copy(deep = True)\n",
    "    \n",
    "    temp_df['Today'] = pd.to_datetime(datetime.date.today())\n",
    "    temp_df['Days Ago'] = (temp_df['PO Date'] - temp_df['Today']).astype('timedelta64[D]').astype('int')\n",
    "\n",
    "    recent_df = temp_df.loc[temp_df['Days Ago'] >= -1 * days_ago]\n",
    "    \n",
    "    return recent_df.groupby('Inv Item')['Lead Time'].mean()[part_number]"
   ]
  },
  {
   "cell_type": "code",
   "execution_count": 62,
   "id": "533159f4",
   "metadata": {},
   "outputs": [
    {
     "data": {
      "text/html": [
       "<div>\n",
       "<style scoped>\n",
       "    .dataframe tbody tr th:only-of-type {\n",
       "        vertical-align: middle;\n",
       "    }\n",
       "\n",
       "    .dataframe tbody tr th {\n",
       "        vertical-align: top;\n",
       "    }\n",
       "\n",
       "    .dataframe thead th {\n",
       "        text-align: right;\n",
       "    }\n",
       "</style>\n",
       "<table border=\"1\" class=\"dataframe\">\n",
       "  <thead>\n",
       "    <tr style=\"text-align: right;\">\n",
       "      <th></th>\n",
       "      <th>Inv_Item</th>\n",
       "      <th>Lead Time</th>\n",
       "    </tr>\n",
       "  </thead>\n",
       "  <tbody>\n",
       "    <tr>\n",
       "      <th>0</th>\n",
       "      <td>00170009</td>\n",
       "      <td>5.50</td>\n",
       "    </tr>\n",
       "    <tr>\n",
       "      <th>1</th>\n",
       "      <td>00170074</td>\n",
       "      <td>36.00</td>\n",
       "    </tr>\n",
       "    <tr>\n",
       "      <th>2</th>\n",
       "      <td>00173016</td>\n",
       "      <td>9.00</td>\n",
       "    </tr>\n",
       "    <tr>\n",
       "      <th>3</th>\n",
       "      <td>00176001</td>\n",
       "      <td>1.00</td>\n",
       "    </tr>\n",
       "    <tr>\n",
       "      <th>4</th>\n",
       "      <td>00207001</td>\n",
       "      <td>28.00</td>\n",
       "    </tr>\n",
       "    <tr>\n",
       "      <th>...</th>\n",
       "      <td>...</td>\n",
       "      <td>...</td>\n",
       "    </tr>\n",
       "    <tr>\n",
       "      <th>6657</th>\n",
       "      <td>45050010</td>\n",
       "      <td>110.00</td>\n",
       "    </tr>\n",
       "    <tr>\n",
       "      <th>6658</th>\n",
       "      <td>45050038</td>\n",
       "      <td>149.00</td>\n",
       "    </tr>\n",
       "    <tr>\n",
       "      <th>6659</th>\n",
       "      <td>45050114</td>\n",
       "      <td>83.50</td>\n",
       "    </tr>\n",
       "    <tr>\n",
       "      <th>6660</th>\n",
       "      <td>45050129</td>\n",
       "      <td>87.00</td>\n",
       "    </tr>\n",
       "    <tr>\n",
       "      <th>6661</th>\n",
       "      <td>45050130</td>\n",
       "      <td>116.00</td>\n",
       "    </tr>\n",
       "  </tbody>\n",
       "</table>\n",
       "<p>6662 rows × 2 columns</p>\n",
       "</div>"
      ],
      "text/plain": [
       "      Inv_Item  Lead Time\n",
       "0     00170009       5.50\n",
       "1     00170074      36.00\n",
       "2     00173016       9.00\n",
       "3     00176001       1.00\n",
       "4     00207001      28.00\n",
       "...        ...        ...\n",
       "6657  45050010     110.00\n",
       "6658  45050038     149.00\n",
       "6659  45050114      83.50\n",
       "6660  45050129      87.00\n",
       "6661  45050130     116.00\n",
       "\n",
       "[6662 rows x 2 columns]"
      ]
     },
     "execution_count": 62,
     "metadata": {},
     "output_type": "execute_result"
    }
   ],
   "source": [
    "recent_lead_time = lead_time_last_two_years.groupby('Inv_Item')['Lead Time'].mean()\n",
    "recent_lead_time_df = recent_lead_time.to_frame()\n",
    "recent_lead_time_df.reset_index(inplace=True)\n",
    "recent_lead_time_df.rename(columns={'Inv_Item':'TXN - Item ID'})\n",
    "recent_lead_time_df"
   ]
  },
  {
   "cell_type": "markdown",
   "id": "04e7c134",
   "metadata": {},
   "source": [
    "NOTE: there are fewer parts actually being used than we have the lead times for. "
   ]
  },
  {
   "cell_type": "code",
   "execution_count": 483,
   "id": "ea5b9abc",
   "metadata": {},
   "outputs": [
    {
     "data": {
      "text/html": [
       "<div>\n",
       "<style scoped>\n",
       "    .dataframe tbody tr th:only-of-type {\n",
       "        vertical-align: middle;\n",
       "    }\n",
       "\n",
       "    .dataframe tbody tr th {\n",
       "        vertical-align: top;\n",
       "    }\n",
       "\n",
       "    .dataframe thead th {\n",
       "        text-align: right;\n",
       "    }\n",
       "</style>\n",
       "<table border=\"1\" class=\"dataframe\">\n",
       "  <thead>\n",
       "    <tr style=\"text-align: right;\">\n",
       "      <th></th>\n",
       "      <th>Lead Time</th>\n",
       "      <th>TXN - Item ID</th>\n",
       "    </tr>\n",
       "  </thead>\n",
       "  <tbody>\n",
       "    <tr>\n",
       "      <th>0</th>\n",
       "      <td>176</td>\n",
       "      <td>02591562</td>\n",
       "    </tr>\n",
       "    <tr>\n",
       "      <th>1</th>\n",
       "      <td>1</td>\n",
       "      <td>30610041</td>\n",
       "    </tr>\n",
       "    <tr>\n",
       "      <th>2</th>\n",
       "      <td>45</td>\n",
       "      <td>03207118</td>\n",
       "    </tr>\n",
       "    <tr>\n",
       "      <th>3</th>\n",
       "      <td>56</td>\n",
       "      <td>03590002</td>\n",
       "    </tr>\n",
       "    <tr>\n",
       "      <th>4</th>\n",
       "      <td>118</td>\n",
       "      <td>05295170</td>\n",
       "    </tr>\n",
       "    <tr>\n",
       "      <th>...</th>\n",
       "      <td>...</td>\n",
       "      <td>...</td>\n",
       "    </tr>\n",
       "    <tr>\n",
       "      <th>236848</th>\n",
       "      <td>24</td>\n",
       "      <td>04590441</td>\n",
       "    </tr>\n",
       "    <tr>\n",
       "      <th>236849</th>\n",
       "      <td>24</td>\n",
       "      <td>04590442</td>\n",
       "    </tr>\n",
       "    <tr>\n",
       "      <th>236850</th>\n",
       "      <td>15</td>\n",
       "      <td>02661079</td>\n",
       "    </tr>\n",
       "    <tr>\n",
       "      <th>236851</th>\n",
       "      <td>37</td>\n",
       "      <td>03296432</td>\n",
       "    </tr>\n",
       "    <tr>\n",
       "      <th>236852</th>\n",
       "      <td>37</td>\n",
       "      <td>02667234</td>\n",
       "    </tr>\n",
       "  </tbody>\n",
       "</table>\n",
       "<p>236853 rows × 2 columns</p>\n",
       "</div>"
      ],
      "text/plain": [
       "        Lead Time TXN - Item ID\n",
       "0             176      02591562\n",
       "1               1      30610041\n",
       "2              45      03207118\n",
       "3              56      03590002\n",
       "4             118      05295170\n",
       "...           ...           ...\n",
       "236848         24      04590441\n",
       "236849         24      04590442\n",
       "236850         15      02661079\n",
       "236851         37      03296432\n",
       "236852         37      02667234\n",
       "\n",
       "[236853 rows x 2 columns]"
      ]
     },
     "execution_count": 483,
     "metadata": {},
     "output_type": "execute_result"
    }
   ],
   "source": [
    "historical_lead_time"
   ]
  },
  {
   "cell_type": "code",
   "execution_count": 204,
   "id": "f13e01bb",
   "metadata": {},
   "outputs": [
    {
     "data": {
      "text/html": [
       "<div>\n",
       "<style scoped>\n",
       "    .dataframe tbody tr th:only-of-type {\n",
       "        vertical-align: middle;\n",
       "    }\n",
       "\n",
       "    .dataframe tbody tr th {\n",
       "        vertical-align: top;\n",
       "    }\n",
       "\n",
       "    .dataframe thead th {\n",
       "        text-align: right;\n",
       "    }\n",
       "</style>\n",
       "<table border=\"1\" class=\"dataframe\">\n",
       "  <thead>\n",
       "    <tr style=\"text-align: right;\">\n",
       "      <th></th>\n",
       "      <th>TXN - Item ID</th>\n",
       "      <th>Lead Time</th>\n",
       "    </tr>\n",
       "  </thead>\n",
       "  <tbody>\n",
       "    <tr>\n",
       "      <th>0</th>\n",
       "      <td>00170002</td>\n",
       "      <td>13.00</td>\n",
       "    </tr>\n",
       "    <tr>\n",
       "      <th>1</th>\n",
       "      <td>00170004</td>\n",
       "      <td>9.50</td>\n",
       "    </tr>\n",
       "    <tr>\n",
       "      <th>2</th>\n",
       "      <td>00170005</td>\n",
       "      <td>10.67</td>\n",
       "    </tr>\n",
       "    <tr>\n",
       "      <th>3</th>\n",
       "      <td>00170009</td>\n",
       "      <td>28.47</td>\n",
       "    </tr>\n",
       "    <tr>\n",
       "      <th>4</th>\n",
       "      <td>00170010</td>\n",
       "      <td>21.00</td>\n",
       "    </tr>\n",
       "    <tr>\n",
       "      <th>...</th>\n",
       "      <td>...</td>\n",
       "      <td>...</td>\n",
       "    </tr>\n",
       "    <tr>\n",
       "      <th>29770</th>\n",
       "      <td>R2694037</td>\n",
       "      <td>107.18</td>\n",
       "    </tr>\n",
       "    <tr>\n",
       "      <th>29771</th>\n",
       "      <td>R2694038</td>\n",
       "      <td>165.25</td>\n",
       "    </tr>\n",
       "    <tr>\n",
       "      <th>29772</th>\n",
       "      <td>R2695001</td>\n",
       "      <td>143.36</td>\n",
       "    </tr>\n",
       "    <tr>\n",
       "      <th>29773</th>\n",
       "      <td>R2695002</td>\n",
       "      <td>137.08</td>\n",
       "    </tr>\n",
       "    <tr>\n",
       "      <th>29774</th>\n",
       "      <td>R3696027</td>\n",
       "      <td>5.00</td>\n",
       "    </tr>\n",
       "  </tbody>\n",
       "</table>\n",
       "<p>29775 rows × 2 columns</p>\n",
       "</div>"
      ],
      "text/plain": [
       "      TXN - Item ID  Lead Time\n",
       "0          00170002      13.00\n",
       "1          00170004       9.50\n",
       "2          00170005      10.67\n",
       "3          00170009      28.47\n",
       "4          00170010      21.00\n",
       "...             ...        ...\n",
       "29770      R2694037     107.18\n",
       "29771      R2694038     165.25\n",
       "29772      R2695001     143.36\n",
       "29773      R2695002     137.08\n",
       "29774      R3696027       5.00\n",
       "\n",
       "[29775 rows x 2 columns]"
      ]
     },
     "execution_count": 204,
     "metadata": {},
     "output_type": "execute_result"
    }
   ],
   "source": [
    "historical_lead_time = pure_lead_time_df.copy(deep = True)\n",
    "historical_lead_time.rename(columns={'Inv_Item':'TXN - Item ID'}, inplace=True)\n",
    "historical_lead_time = historical_lead_time[['Lead Time', 'TXN - Item ID']]\n",
    "\n",
    "mean_lead_time = historical_lead_time.groupby('TXN - Item ID').mean()\n",
    "mean_lead_time.reset_index(inplace=True)\n",
    "mean_lead_time"
   ]
  },
  {
   "cell_type": "code",
   "execution_count": 486,
   "id": "c53fd504",
   "metadata": {},
   "outputs": [],
   "source": [
    "historical_lead_time.to_csv('Data/historical_lead_time.csv')"
   ]
  },
  {
   "cell_type": "code",
   "execution_count": 205,
   "id": "bbff3317",
   "metadata": {},
   "outputs": [
    {
     "name": "stdout",
     "output_type": "stream",
     "text": [
      "-2\n",
      "5107\n"
     ]
    },
    {
     "data": {
      "text/html": [
       "<div>\n",
       "<style scoped>\n",
       "    .dataframe tbody tr th:only-of-type {\n",
       "        vertical-align: middle;\n",
       "    }\n",
       "\n",
       "    .dataframe tbody tr th {\n",
       "        vertical-align: top;\n",
       "    }\n",
       "\n",
       "    .dataframe thead th {\n",
       "        text-align: right;\n",
       "    }\n",
       "</style>\n",
       "<table border=\"1\" class=\"dataframe\">\n",
       "  <thead>\n",
       "    <tr style=\"text-align: right;\">\n",
       "      <th></th>\n",
       "      <th>TXN - Item ID</th>\n",
       "      <th>Quarters</th>\n",
       "      <th>TXN - Qty</th>\n",
       "    </tr>\n",
       "  </thead>\n",
       "  <tbody>\n",
       "    <tr>\n",
       "      <th>0</th>\n",
       "      <td>00176001</td>\n",
       "      <td>1</td>\n",
       "      <td>6.00</td>\n",
       "    </tr>\n",
       "    <tr>\n",
       "      <th>1</th>\n",
       "      <td>00176001</td>\n",
       "      <td>3</td>\n",
       "      <td>4.00</td>\n",
       "    </tr>\n",
       "    <tr>\n",
       "      <th>2</th>\n",
       "      <td>00176001</td>\n",
       "      <td>5</td>\n",
       "      <td>17.00</td>\n",
       "    </tr>\n",
       "    <tr>\n",
       "      <th>3</th>\n",
       "      <td>00176001</td>\n",
       "      <td>7</td>\n",
       "      <td>9.00</td>\n",
       "    </tr>\n",
       "    <tr>\n",
       "      <th>4</th>\n",
       "      <td>00176001</td>\n",
       "      <td>8</td>\n",
       "      <td>7.00</td>\n",
       "    </tr>\n",
       "    <tr>\n",
       "      <th>...</th>\n",
       "      <td>...</td>\n",
       "      <td>...</td>\n",
       "      <td>...</td>\n",
       "    </tr>\n",
       "    <tr>\n",
       "      <th>201410</th>\n",
       "      <td>598742</td>\n",
       "      <td>69</td>\n",
       "      <td>1.00</td>\n",
       "    </tr>\n",
       "    <tr>\n",
       "      <th>201411</th>\n",
       "      <td>602692</td>\n",
       "      <td>66</td>\n",
       "      <td>5.00</td>\n",
       "    </tr>\n",
       "    <tr>\n",
       "      <th>201412</th>\n",
       "      <td>602692</td>\n",
       "      <td>67</td>\n",
       "      <td>2.00</td>\n",
       "    </tr>\n",
       "    <tr>\n",
       "      <th>201413</th>\n",
       "      <td>602692</td>\n",
       "      <td>68</td>\n",
       "      <td>6.00</td>\n",
       "    </tr>\n",
       "    <tr>\n",
       "      <th>201414</th>\n",
       "      <td>602692</td>\n",
       "      <td>71</td>\n",
       "      <td>7.00</td>\n",
       "    </tr>\n",
       "  </tbody>\n",
       "</table>\n",
       "<p>201415 rows × 3 columns</p>\n",
       "</div>"
      ],
      "text/plain": [
       "       TXN - Item ID  Quarters  TXN - Qty\n",
       "0           00176001         1       6.00\n",
       "1           00176001         3       4.00\n",
       "2           00176001         5      17.00\n",
       "3           00176001         7       9.00\n",
       "4           00176001         8       7.00\n",
       "...              ...       ...        ...\n",
       "201410        598742        69       1.00\n",
       "201411        602692        66       5.00\n",
       "201412        602692        67       2.00\n",
       "201413        602692        68       6.00\n",
       "201414        602692        71       7.00\n",
       "\n",
       "[201415 rows x 3 columns]"
      ]
     },
     "execution_count": 205,
     "metadata": {},
     "output_type": "execute_result"
    }
   ],
   "source": [
    "active_parts_df = prepare_data(txn_df)\n",
    "active_parts_df"
   ]
  },
  {
   "cell_type": "code",
   "execution_count": 206,
   "id": "5904a1d2",
   "metadata": {},
   "outputs": [
    {
     "data": {
      "text/plain": [
       "5107"
      ]
     },
     "execution_count": 206,
     "metadata": {},
     "output_type": "execute_result"
    }
   ],
   "source": [
    "len(active_parts_df['TXN - Item ID'].unique())"
   ]
  },
  {
   "cell_type": "code",
   "execution_count": 101,
   "id": "ede4941e",
   "metadata": {},
   "outputs": [
    {
     "data": {
      "text/html": [
       "<div>\n",
       "<style scoped>\n",
       "    .dataframe tbody tr th:only-of-type {\n",
       "        vertical-align: middle;\n",
       "    }\n",
       "\n",
       "    .dataframe tbody tr th {\n",
       "        vertical-align: top;\n",
       "    }\n",
       "\n",
       "    .dataframe thead th {\n",
       "        text-align: right;\n",
       "    }\n",
       "</style>\n",
       "<table border=\"1\" class=\"dataframe\">\n",
       "  <thead>\n",
       "    <tr style=\"text-align: right;\">\n",
       "      <th></th>\n",
       "      <th>TXN - Item ID</th>\n",
       "      <th>Lead Time</th>\n",
       "    </tr>\n",
       "  </thead>\n",
       "  <tbody>\n",
       "  </tbody>\n",
       "</table>\n",
       "</div>"
      ],
      "text/plain": [
       "Empty DataFrame\n",
       "Columns: [TXN - Item ID, Lead Time]\n",
       "Index: []"
      ]
     },
     "execution_count": 101,
     "metadata": {},
     "output_type": "execute_result"
    }
   ],
   "source": [
    "mean_lead_time.loc[mean_lead_time['TXN - Item ID'] == '02047083']"
   ]
  },
  {
   "cell_type": "code",
   "execution_count": 207,
   "id": "8a29e049",
   "metadata": {},
   "outputs": [],
   "source": [
    "parts_with_leadtime = active_parts_df.merge(mean_lead_time, on = 'TXN - Item ID', how='left')"
   ]
  },
  {
   "cell_type": "code",
   "execution_count": 192,
   "id": "1317b4b5",
   "metadata": {},
   "outputs": [],
   "source": [
    "# Calculate Min and ROQ\n",
    "def calc_min_roq(part_df, part_number, recency = 60, aggression = 1, cost_factor=2):\n",
    "    # Set cost_factor to 2 – we purchase for 2 more quarters than we need\n",
    "    # df must have columns 'Quarters', 'TXN - Item ID', 'TXN - Qty', and 'Lead Time'\n",
    "    \n",
    "    recent_parts = part_df.loc[part_df['Quarters'] >= recency]\n",
    "    \n",
    "    usage_mean = recent_parts.groupby('TXN - Item ID')['TXN - Qty'].mean()[part_number]\n",
    "    usage_std = recent_parts.groupby('TXN - Item ID')['TXN - Qty'].std()[part_number]\n",
    "    \n",
    "    lead_time_quarters = part_df.groupby('TXN - Item ID')['Lead Time'].mean()[part_number] / 91.25\n",
    "    \n",
    "    if part_number in pure_lead_time_df['Inv_Item'].unique():\n",
    "        lead_time_std = pure_lead_time_df.groupby('Inv_Item')['Lead Time'].std(ddof = 0)[part_number] / 91.25\n",
    "    else:\n",
    "        print('Part {} not found in lead time dataframe.'.format(part_number))\n",
    "        lead_time_std = np.nan\n",
    "    \n",
    "    part_minimum = lead_time_quarters * (usage_mean + (aggression * usage_std))\n",
    "    part_roq = (lead_time_quarters * usage_mean) + (cost_factor * usage_mean)\n",
    "    \n",
    "    return {'part_number':part_number, 'usage_mean':usage_mean, 'lead_time':lead_time_quarters, 'lead_time_std':lead_time_std, 'usage_std':usage_std, 'min':part_minimum, 'roq':part_roq}"
   ]
  },
  {
   "cell_type": "code",
   "execution_count": 190,
   "id": "66028b0d",
   "metadata": {},
   "outputs": [
    {
     "data": {
      "text/plain": [
       "TXN - Item ID\n",
       "00173018    52\n",
       "00176001    61\n",
       "00177001    48\n",
       "00207001    69\n",
       "00245003    43\n",
       "            ..\n",
       "45050134    70\n",
       "45050135    71\n",
       "598742      10\n",
       "602692       4\n",
       "R2695002    12\n",
       "Name: Lead Time, Length: 7169, dtype: int64"
      ]
     },
     "execution_count": 190,
     "metadata": {},
     "output_type": "execute_result"
    }
   ],
   "source": [
    "parts_with_leadtime.groupby('TXN - Item ID')['Lead Time'].size()"
   ]
  },
  {
   "cell_type": "code",
   "execution_count": 209,
   "id": "cdb98c31",
   "metadata": {
    "scrolled": true
   },
   "outputs": [
    {
     "data": {
      "text/html": [
       "<div>\n",
       "<style scoped>\n",
       "    .dataframe tbody tr th:only-of-type {\n",
       "        vertical-align: middle;\n",
       "    }\n",
       "\n",
       "    .dataframe tbody tr th {\n",
       "        vertical-align: top;\n",
       "    }\n",
       "\n",
       "    .dataframe thead th {\n",
       "        text-align: right;\n",
       "    }\n",
       "</style>\n",
       "<table border=\"1\" class=\"dataframe\">\n",
       "  <thead>\n",
       "    <tr style=\"text-align: right;\">\n",
       "      <th></th>\n",
       "      <th>TXN - Item ID</th>\n",
       "      <th>Quarters</th>\n",
       "      <th>TXN - Qty</th>\n",
       "      <th>Lead Time</th>\n",
       "    </tr>\n",
       "  </thead>\n",
       "  <tbody>\n",
       "    <tr>\n",
       "      <th>2080</th>\n",
       "      <td>02047083</td>\n",
       "      <td>0</td>\n",
       "      <td>100.00</td>\n",
       "      <td>NaN</td>\n",
       "    </tr>\n",
       "    <tr>\n",
       "      <th>2081</th>\n",
       "      <td>02047083</td>\n",
       "      <td>3</td>\n",
       "      <td>100.00</td>\n",
       "      <td>NaN</td>\n",
       "    </tr>\n",
       "    <tr>\n",
       "      <th>2082</th>\n",
       "      <td>02047083</td>\n",
       "      <td>8</td>\n",
       "      <td>4.00</td>\n",
       "      <td>NaN</td>\n",
       "    </tr>\n",
       "    <tr>\n",
       "      <th>2083</th>\n",
       "      <td>02047083</td>\n",
       "      <td>16</td>\n",
       "      <td>350.00</td>\n",
       "      <td>NaN</td>\n",
       "    </tr>\n",
       "    <tr>\n",
       "      <th>2084</th>\n",
       "      <td>02047083</td>\n",
       "      <td>20</td>\n",
       "      <td>97.00</td>\n",
       "      <td>NaN</td>\n",
       "    </tr>\n",
       "    <tr>\n",
       "      <th>2085</th>\n",
       "      <td>02047083</td>\n",
       "      <td>21</td>\n",
       "      <td>6.00</td>\n",
       "      <td>NaN</td>\n",
       "    </tr>\n",
       "    <tr>\n",
       "      <th>2086</th>\n",
       "      <td>02047083</td>\n",
       "      <td>22</td>\n",
       "      <td>100.00</td>\n",
       "      <td>NaN</td>\n",
       "    </tr>\n",
       "    <tr>\n",
       "      <th>2087</th>\n",
       "      <td>02047083</td>\n",
       "      <td>25</td>\n",
       "      <td>1239.00</td>\n",
       "      <td>NaN</td>\n",
       "    </tr>\n",
       "    <tr>\n",
       "      <th>2088</th>\n",
       "      <td>02047083</td>\n",
       "      <td>26</td>\n",
       "      <td>84.00</td>\n",
       "      <td>NaN</td>\n",
       "    </tr>\n",
       "    <tr>\n",
       "      <th>2089</th>\n",
       "      <td>02047083</td>\n",
       "      <td>27</td>\n",
       "      <td>100.00</td>\n",
       "      <td>NaN</td>\n",
       "    </tr>\n",
       "    <tr>\n",
       "      <th>2090</th>\n",
       "      <td>02047083</td>\n",
       "      <td>31</td>\n",
       "      <td>200.00</td>\n",
       "      <td>NaN</td>\n",
       "    </tr>\n",
       "    <tr>\n",
       "      <th>2091</th>\n",
       "      <td>02047083</td>\n",
       "      <td>33</td>\n",
       "      <td>200.00</td>\n",
       "      <td>NaN</td>\n",
       "    </tr>\n",
       "    <tr>\n",
       "      <th>2092</th>\n",
       "      <td>02047083</td>\n",
       "      <td>35</td>\n",
       "      <td>12.00</td>\n",
       "      <td>NaN</td>\n",
       "    </tr>\n",
       "    <tr>\n",
       "      <th>2093</th>\n",
       "      <td>02047083</td>\n",
       "      <td>38</td>\n",
       "      <td>12.00</td>\n",
       "      <td>NaN</td>\n",
       "    </tr>\n",
       "    <tr>\n",
       "      <th>2094</th>\n",
       "      <td>02047083</td>\n",
       "      <td>39</td>\n",
       "      <td>16.00</td>\n",
       "      <td>NaN</td>\n",
       "    </tr>\n",
       "    <tr>\n",
       "      <th>2095</th>\n",
       "      <td>02047083</td>\n",
       "      <td>41</td>\n",
       "      <td>766.00</td>\n",
       "      <td>NaN</td>\n",
       "    </tr>\n",
       "    <tr>\n",
       "      <th>2096</th>\n",
       "      <td>02047083</td>\n",
       "      <td>42</td>\n",
       "      <td>252.00</td>\n",
       "      <td>NaN</td>\n",
       "    </tr>\n",
       "    <tr>\n",
       "      <th>2097</th>\n",
       "      <td>02047083</td>\n",
       "      <td>44</td>\n",
       "      <td>12.00</td>\n",
       "      <td>NaN</td>\n",
       "    </tr>\n",
       "    <tr>\n",
       "      <th>2098</th>\n",
       "      <td>02047083</td>\n",
       "      <td>45</td>\n",
       "      <td>136.00</td>\n",
       "      <td>NaN</td>\n",
       "    </tr>\n",
       "    <tr>\n",
       "      <th>2099</th>\n",
       "      <td>02047083</td>\n",
       "      <td>46</td>\n",
       "      <td>132.00</td>\n",
       "      <td>NaN</td>\n",
       "    </tr>\n",
       "    <tr>\n",
       "      <th>2100</th>\n",
       "      <td>02047083</td>\n",
       "      <td>54</td>\n",
       "      <td>40.00</td>\n",
       "      <td>NaN</td>\n",
       "    </tr>\n",
       "    <tr>\n",
       "      <th>2101</th>\n",
       "      <td>02047083</td>\n",
       "      <td>55</td>\n",
       "      <td>100.00</td>\n",
       "      <td>NaN</td>\n",
       "    </tr>\n",
       "    <tr>\n",
       "      <th>2102</th>\n",
       "      <td>02047083</td>\n",
       "      <td>58</td>\n",
       "      <td>2.00</td>\n",
       "      <td>NaN</td>\n",
       "    </tr>\n",
       "    <tr>\n",
       "      <th>2103</th>\n",
       "      <td>02047083</td>\n",
       "      <td>60</td>\n",
       "      <td>18.00</td>\n",
       "      <td>NaN</td>\n",
       "    </tr>\n",
       "    <tr>\n",
       "      <th>2104</th>\n",
       "      <td>02047083</td>\n",
       "      <td>61</td>\n",
       "      <td>199.00</td>\n",
       "      <td>NaN</td>\n",
       "    </tr>\n",
       "    <tr>\n",
       "      <th>2105</th>\n",
       "      <td>02047083</td>\n",
       "      <td>62</td>\n",
       "      <td>160.00</td>\n",
       "      <td>NaN</td>\n",
       "    </tr>\n",
       "    <tr>\n",
       "      <th>2106</th>\n",
       "      <td>02047083</td>\n",
       "      <td>64</td>\n",
       "      <td>24.00</td>\n",
       "      <td>NaN</td>\n",
       "    </tr>\n",
       "    <tr>\n",
       "      <th>2107</th>\n",
       "      <td>02047083</td>\n",
       "      <td>65</td>\n",
       "      <td>156.00</td>\n",
       "      <td>NaN</td>\n",
       "    </tr>\n",
       "    <tr>\n",
       "      <th>2108</th>\n",
       "      <td>02047083</td>\n",
       "      <td>70</td>\n",
       "      <td>6.00</td>\n",
       "      <td>NaN</td>\n",
       "    </tr>\n",
       "    <tr>\n",
       "      <th>2109</th>\n",
       "      <td>02047083</td>\n",
       "      <td>71</td>\n",
       "      <td>2.00</td>\n",
       "      <td>NaN</td>\n",
       "    </tr>\n",
       "  </tbody>\n",
       "</table>\n",
       "</div>"
      ],
      "text/plain": [
       "     TXN - Item ID  Quarters  TXN - Qty  Lead Time\n",
       "2080      02047083         0     100.00        NaN\n",
       "2081      02047083         3     100.00        NaN\n",
       "2082      02047083         8       4.00        NaN\n",
       "2083      02047083        16     350.00        NaN\n",
       "2084      02047083        20      97.00        NaN\n",
       "2085      02047083        21       6.00        NaN\n",
       "2086      02047083        22     100.00        NaN\n",
       "2087      02047083        25    1239.00        NaN\n",
       "2088      02047083        26      84.00        NaN\n",
       "2089      02047083        27     100.00        NaN\n",
       "2090      02047083        31     200.00        NaN\n",
       "2091      02047083        33     200.00        NaN\n",
       "2092      02047083        35      12.00        NaN\n",
       "2093      02047083        38      12.00        NaN\n",
       "2094      02047083        39      16.00        NaN\n",
       "2095      02047083        41     766.00        NaN\n",
       "2096      02047083        42     252.00        NaN\n",
       "2097      02047083        44      12.00        NaN\n",
       "2098      02047083        45     136.00        NaN\n",
       "2099      02047083        46     132.00        NaN\n",
       "2100      02047083        54      40.00        NaN\n",
       "2101      02047083        55     100.00        NaN\n",
       "2102      02047083        58       2.00        NaN\n",
       "2103      02047083        60      18.00        NaN\n",
       "2104      02047083        61     199.00        NaN\n",
       "2105      02047083        62     160.00        NaN\n",
       "2106      02047083        64      24.00        NaN\n",
       "2107      02047083        65     156.00        NaN\n",
       "2108      02047083        70       6.00        NaN\n",
       "2109      02047083        71       2.00        NaN"
      ]
     },
     "execution_count": 209,
     "metadata": {},
     "output_type": "execute_result"
    }
   ],
   "source": [
    "parts_with_leadtime.loc[parts_with_leadtime['TXN - Item ID'] == '02047083']"
   ]
  },
  {
   "cell_type": "code",
   "execution_count": 210,
   "id": "61ef1917",
   "metadata": {},
   "outputs": [
    {
     "name": "stderr",
     "output_type": "stream",
     "text": [
      "  1%|█▎                                                                                                                       | 53/5107 [00:08<12:43,  6.62it/s]"
     ]
    },
    {
     "name": "stdout",
     "output_type": "stream",
     "text": [
      "Part 02047083 not found in lead time dataframe.\n"
     ]
    },
    {
     "name": "stderr",
     "output_type": "stream",
     "text": [
      " 24%|████████████████████████████▏                                                                                          | 1209/5107 [02:59<08:19,  7.80it/s]"
     ]
    },
    {
     "name": "stdout",
     "output_type": "stream",
     "text": [
      "Part 02591101 not found in lead time dataframe.\n"
     ]
    },
    {
     "name": "stderr",
     "output_type": "stream",
     "text": [
      " 38%|█████████████████████████████████████████████▋                                                                         | 1961/5107 [04:50<06:42,  7.82it/s]"
     ]
    },
    {
     "name": "stdout",
     "output_type": "stream",
     "text": [
      "Part 02696518 not found in lead time dataframe.\n"
     ]
    },
    {
     "name": "stderr",
     "output_type": "stream",
     "text": [
      " 39%|█████████████████████████████████████████████▊                                                                         | 1967/5107 [04:51<07:13,  7.24it/s]"
     ]
    },
    {
     "name": "stdout",
     "output_type": "stream",
     "text": [
      "Part 02696858 not found in lead time dataframe.\n"
     ]
    },
    {
     "name": "stderr",
     "output_type": "stream",
     "text": [
      " 39%|██████████████████████████████████████████████                                                                         | 1977/5107 [04:52<06:51,  7.61it/s]"
     ]
    },
    {
     "name": "stdout",
     "output_type": "stream",
     "text": [
      "Part 02718106 not found in lead time dataframe.\n"
     ]
    },
    {
     "name": "stderr",
     "output_type": "stream",
     "text": [
      " 39%|██████████████████████████████████████████████▏                                                                        | 1980/5107 [04:52<06:33,  7.95it/s]"
     ]
    },
    {
     "name": "stdout",
     "output_type": "stream",
     "text": [
      "Part 02718211 not found in lead time dataframe.\n"
     ]
    },
    {
     "name": "stderr",
     "output_type": "stream",
     "text": [
      " 40%|███████████████████████████████████████████████▎                                                                       | 2033/5107 [05:00<06:31,  7.86it/s]"
     ]
    },
    {
     "name": "stdout",
     "output_type": "stream",
     "text": [
      "Part 02776028 not found in lead time dataframe.\n"
     ]
    },
    {
     "name": "stderr",
     "output_type": "stream",
     "text": [
      " 42%|█████████████████████████████████████████████████▋                                                                     | 2134/5107 [05:15<06:23,  7.75it/s]"
     ]
    },
    {
     "name": "stdout",
     "output_type": "stream",
     "text": [
      "Part 02796069 not found in lead time dataframe.\n"
     ]
    },
    {
     "name": "stderr",
     "output_type": "stream",
     "text": [
      " 45%|█████████████████████████████████████████████████████▍                                                                 | 2296/5107 [05:39<05:57,  7.87it/s]"
     ]
    },
    {
     "name": "stdout",
     "output_type": "stream",
     "text": [
      "Part 03207700 not found in lead time dataframe.\n"
     ]
    },
    {
     "name": "stderr",
     "output_type": "stream",
     "text": [
      " 51%|████████████████████████████████████████████████████████████▌                                                          | 2601/5107 [06:24<05:18,  7.87it/s]"
     ]
    },
    {
     "name": "stdout",
     "output_type": "stream",
     "text": [
      "Part 03401332 not found in lead time dataframe.\n"
     ]
    },
    {
     "name": "stderr",
     "output_type": "stream",
     "text": [
      " 54%|████████████████████████████████████████████████████████████████▌                                                      | 2772/5107 [06:48<04:54,  7.94it/s]"
     ]
    },
    {
     "name": "stdout",
     "output_type": "stream",
     "text": [
      "Part 03507179 not found in lead time dataframe.\n"
     ]
    },
    {
     "name": "stderr",
     "output_type": "stream",
     "text": [
      " 99%|██████████████████████████████████████████████████████████████████████████████████████████████████████████████████████▎| 5077/5107 [12:28<00:03,  7.76it/s]"
     ]
    },
    {
     "name": "stdout",
     "output_type": "stream",
     "text": [
      "Part 43096301 not found in lead time dataframe.\n"
     ]
    },
    {
     "name": "stderr",
     "output_type": "stream",
     "text": [
      "100%|███████████████████████████████████████████████████████████████████████████████████████████████████████████████████████| 5107/5107 [12:32<00:00,  6.78it/s]"
     ]
    },
    {
     "name": "stdout",
     "output_type": "stream",
     "text": [
      "Part 598742 not found in lead time dataframe.\n",
      "Part 602692 not found in lead time dataframe.\n"
     ]
    },
    {
     "name": "stderr",
     "output_type": "stream",
     "text": [
      "\n"
     ]
    }
   ],
   "source": [
    "part_mins = []\n",
    "part_list = active_parts_df['TXN - Item ID'].unique()\n",
    "\n",
    "for i in tqdm(range(len(part_list))):\n",
    "    part_mins.append(calc_min_roq(parts_with_leadtime, part_list[i]))\n",
    "\n",
    "calculated_mins_df = pd.DataFrame(part_mins)"
   ]
  },
  {
   "cell_type": "markdown",
   "id": "8c5f26a6",
   "metadata": {},
   "source": [
    "Problem: we don't have lead times for all parts."
   ]
  },
  {
   "cell_type": "code",
   "execution_count": 211,
   "id": "898a8999",
   "metadata": {},
   "outputs": [
    {
     "data": {
      "text/html": [
       "<div>\n",
       "<style scoped>\n",
       "    .dataframe tbody tr th:only-of-type {\n",
       "        vertical-align: middle;\n",
       "    }\n",
       "\n",
       "    .dataframe tbody tr th {\n",
       "        vertical-align: top;\n",
       "    }\n",
       "\n",
       "    .dataframe thead th {\n",
       "        text-align: right;\n",
       "    }\n",
       "</style>\n",
       "<table border=\"1\" class=\"dataframe\">\n",
       "  <thead>\n",
       "    <tr style=\"text-align: right;\">\n",
       "      <th></th>\n",
       "      <th>part_number</th>\n",
       "      <th>usage_mean</th>\n",
       "      <th>lead_time</th>\n",
       "      <th>lead_time_std</th>\n",
       "      <th>usage_std</th>\n",
       "      <th>min</th>\n",
       "      <th>roq</th>\n",
       "    </tr>\n",
       "  </thead>\n",
       "  <tbody>\n",
       "    <tr>\n",
       "      <th>0</th>\n",
       "      <td>00176001</td>\n",
       "      <td>15.75</td>\n",
       "      <td>0.08</td>\n",
       "      <td>0.18</td>\n",
       "      <td>14.65</td>\n",
       "      <td>2.47</td>\n",
       "      <td>32.78</td>\n",
       "    </tr>\n",
       "    <tr>\n",
       "      <th>1</th>\n",
       "      <td>00207001</td>\n",
       "      <td>18.58</td>\n",
       "      <td>0.28</td>\n",
       "      <td>0.38</td>\n",
       "      <td>15.60</td>\n",
       "      <td>9.40</td>\n",
       "      <td>42.28</td>\n",
       "    </tr>\n",
       "    <tr>\n",
       "      <th>2</th>\n",
       "      <td>00250113</td>\n",
       "      <td>675.57</td>\n",
       "      <td>0.47</td>\n",
       "      <td>0.44</td>\n",
       "      <td>800.39</td>\n",
       "      <td>688.59</td>\n",
       "      <td>1666.32</td>\n",
       "    </tr>\n",
       "    <tr>\n",
       "      <th>3</th>\n",
       "      <td>00250125</td>\n",
       "      <td>852.67</td>\n",
       "      <td>0.19</td>\n",
       "      <td>0.12</td>\n",
       "      <td>752.14</td>\n",
       "      <td>305.37</td>\n",
       "      <td>1867.58</td>\n",
       "    </tr>\n",
       "    <tr>\n",
       "      <th>4</th>\n",
       "      <td>00250126</td>\n",
       "      <td>1074.44</td>\n",
       "      <td>0.57</td>\n",
       "      <td>0.63</td>\n",
       "      <td>524.20</td>\n",
       "      <td>915.62</td>\n",
       "      <td>2764.27</td>\n",
       "    </tr>\n",
       "    <tr>\n",
       "      <th>...</th>\n",
       "      <td>...</td>\n",
       "      <td>...</td>\n",
       "      <td>...</td>\n",
       "      <td>...</td>\n",
       "      <td>...</td>\n",
       "      <td>...</td>\n",
       "      <td>...</td>\n",
       "    </tr>\n",
       "    <tr>\n",
       "      <th>5102</th>\n",
       "      <td>45050130</td>\n",
       "      <td>7.75</td>\n",
       "      <td>1.04</td>\n",
       "      <td>0.42</td>\n",
       "      <td>4.00</td>\n",
       "      <td>12.22</td>\n",
       "      <td>23.56</td>\n",
       "    </tr>\n",
       "    <tr>\n",
       "      <th>5103</th>\n",
       "      <td>45050134</td>\n",
       "      <td>5.83</td>\n",
       "      <td>0.67</td>\n",
       "      <td>0.18</td>\n",
       "      <td>4.53</td>\n",
       "      <td>6.91</td>\n",
       "      <td>15.55</td>\n",
       "    </tr>\n",
       "    <tr>\n",
       "      <th>5104</th>\n",
       "      <td>45050135</td>\n",
       "      <td>7.83</td>\n",
       "      <td>0.51</td>\n",
       "      <td>0.25</td>\n",
       "      <td>6.37</td>\n",
       "      <td>7.19</td>\n",
       "      <td>19.63</td>\n",
       "    </tr>\n",
       "    <tr>\n",
       "      <th>5105</th>\n",
       "      <td>598742</td>\n",
       "      <td>5.38</td>\n",
       "      <td>NaN</td>\n",
       "      <td>NaN</td>\n",
       "      <td>4.27</td>\n",
       "      <td>NaN</td>\n",
       "      <td>NaN</td>\n",
       "    </tr>\n",
       "    <tr>\n",
       "      <th>5106</th>\n",
       "      <td>602692</td>\n",
       "      <td>5.00</td>\n",
       "      <td>NaN</td>\n",
       "      <td>NaN</td>\n",
       "      <td>2.16</td>\n",
       "      <td>NaN</td>\n",
       "      <td>NaN</td>\n",
       "    </tr>\n",
       "  </tbody>\n",
       "</table>\n",
       "<p>5107 rows × 7 columns</p>\n",
       "</div>"
      ],
      "text/plain": [
       "     part_number  usage_mean  lead_time  lead_time_std  usage_std    min  \\\n",
       "0       00176001       15.75       0.08           0.18      14.65   2.47   \n",
       "1       00207001       18.58       0.28           0.38      15.60   9.40   \n",
       "2       00250113      675.57       0.47           0.44     800.39 688.59   \n",
       "3       00250125      852.67       0.19           0.12     752.14 305.37   \n",
       "4       00250126     1074.44       0.57           0.63     524.20 915.62   \n",
       "...          ...         ...        ...            ...        ...    ...   \n",
       "5102    45050130        7.75       1.04           0.42       4.00  12.22   \n",
       "5103    45050134        5.83       0.67           0.18       4.53   6.91   \n",
       "5104    45050135        7.83       0.51           0.25       6.37   7.19   \n",
       "5105      598742        5.38        NaN            NaN       4.27    NaN   \n",
       "5106      602692        5.00        NaN            NaN       2.16    NaN   \n",
       "\n",
       "         roq  \n",
       "0      32.78  \n",
       "1      42.28  \n",
       "2    1666.32  \n",
       "3    1867.58  \n",
       "4    2764.27  \n",
       "...      ...  \n",
       "5102   23.56  \n",
       "5103   15.55  \n",
       "5104   19.63  \n",
       "5105     NaN  \n",
       "5106     NaN  \n",
       "\n",
       "[5107 rows x 7 columns]"
      ]
     },
     "execution_count": 211,
     "metadata": {},
     "output_type": "execute_result"
    }
   ],
   "source": [
    "calculated_mins_df"
   ]
  },
  {
   "cell_type": "code",
   "execution_count": 160,
   "id": "854c354f",
   "metadata": {},
   "outputs": [],
   "source": [
    "def visualize_part(part_df, part_number):\n",
    "    \n",
    "    example_part_df = part_df.loc[part_df['TXN - Item ID'] == part_number]\n",
    "    \n",
    "    new_reord_pts = calc_min_roq(parts_with_leadtime, part_number)\n",
    "\n",
    "    fig = plt.figure()\n",
    "    ax = fig.add_subplot()\n",
    "    ax.set_ylabel('Qty')\n",
    "    ax.set_xlabel('Quarter since 2004')\n",
    "    ax.set_title('Part number {}'.format(part_number) + '\\n Qty STD: {:.2f} Mean Quarterly Usage: {:.2f} Mean Leadtime: {:.2f} quarters'.format(new_reord_pts['usage_std'], new_reord_pts['usage_mean'], new_reord_pts['lead_time']) \n",
    "                 + '\\n Min: {:.2f} ROQ: {:.2f}'.format(new_reord_pts['min'], new_reord_pts['roq']))\n",
    "    ax.scatter(example_part_df['Quarters'], example_part_df['TXN - Qty'], color = 'darkblue', s=25)\n",
    "    \n",
    "    # Add standard deviation horizontal lines\n",
    "    ax.hlines(y=[new_reord_pts['min'], new_reord_pts['roq']], xmin=0, xmax=max(part_df['Quarters']), colors=['red', 'purple', 'blue'], linestyles='--', lw=1)    \n",
    "    \n",
    "    plt.show"
   ]
  },
  {
   "cell_type": "code",
   "execution_count": 161,
   "id": "3cce377b",
   "metadata": {},
   "outputs": [],
   "source": [
    "def visualize_parts(part_list):\n",
    "    for part in part_list:\n",
    "        visualize_part(parts_with_leadtime, part)"
   ]
  },
  {
   "cell_type": "code",
   "execution_count": 221,
   "id": "8d7ab38a",
   "metadata": {},
   "outputs": [
    {
     "data": {
      "image/png": "[encoded data removed]",
      "text/plain": [
       "<Figure size 432x288 with 1 Axes>"
      ]
     },
     "metadata": {
      "needs_background": "light"
     },
     "output_type": "display_data"
    }
   ],
   "source": [
    "visualize_part(parts_with_leadtime, '00250113')"
   ]
  },
  {
   "cell_type": "code",
   "execution_count": 220,
   "id": "10297736",
   "metadata": {},
   "outputs": [
    {
     "data": {
      "image/png": "[encoded data removed]",
      "text/plain": [
       "<Figure size 432x288 with 1 Axes>"
      ]
     },
     "metadata": {
      "needs_background": "light"
     },
     "output_type": "display_data"
    }
   ],
   "source": [
    "visualize_part(parts_with_leadtime, '00176001')"
   ]
  },
  {
   "cell_type": "code",
   "execution_count": 215,
   "id": "4ce32f6b",
   "metadata": {},
   "outputs": [
    {
     "data": {
      "image/png": "[encoded data removed]",
      "text/plain": [
       "<Figure size 432x288 with 1 Axes>"
      ]
     },
     "metadata": {
      "needs_background": "light"
     },
     "output_type": "display_data"
    }
   ],
   "source": [
    "plt.hist(parts_with_leadtime['Lead Time'], bins=20)\n",
    "plt.show()"
   ]
  },
  {
   "cell_type": "markdown",
   "id": "68c04420",
   "metadata": {},
   "source": [
    "A cutoff of ~90 days for leadtime would be interesting. This would cut off leadtimes greater than 1 quarter "
   ]
  },
  {
   "cell_type": "code",
   "execution_count": 216,
   "id": "8f243c6f",
   "metadata": {},
   "outputs": [],
   "source": [
    "exceptional_leadtimes = calculated_mins_df.loc[calculated_mins_df['lead_time'] >= 1]"
   ]
  },
  {
   "cell_type": "code",
   "execution_count": 217,
   "id": "018c1778",
   "metadata": {},
   "outputs": [
    {
     "data": {
      "image/png": "[encoded data removed]",
      "text/plain": [
       "<Figure size 432x288 with 1 Axes>"
      ]
     },
     "metadata": {
      "needs_background": "light"
     },
     "output_type": "display_data"
    },
    {
     "data": {
      "image/png": "[encoded data removed]",
      "text/plain": [
       "<Figure size 432x288 with 1 Axes>"
      ]
     },
     "metadata": {
      "needs_background": "light"
     },
     "output_type": "display_data"
    },
    {
     "data": {
      "image/png": "[encoded data removed]",
      "text/plain": [
       "<Figure size 432x288 with 1 Axes>"
      ]
     },
     "metadata": {
      "needs_background": "light"
     },
     "output_type": "display_data"
    },
    {
     "data": {
      "image/png": "[encoded data removed]",
      "text/plain": [
       "<Figure size 432x288 with 1 Axes>"
      ]
     },
     "metadata": {
      "needs_background": "light"
     },
     "output_type": "display_data"
    },
    {
     "data": {
      "image/png": "[encoded data removed]",
      "text/plain": [
       "<Figure size 432x288 with 1 Axes>"
      ]
     },
     "metadata": {
      "needs_background": "light"
     },
     "output_type": "display_data"
    },
    {
     "data": {
      "image/png": "[encoded data removed]",
      "text/plain": [
       "<Figure size 432x288 with 1 Axes>"
      ]
     },
     "metadata": {
      "needs_background": "light"
     },
     "output_type": "display_data"
    },
    {
     "data": {
      "image/png": "[encoded data removed]",
      "text/plain": [
       "<Figure size 432x288 with 1 Axes>"
      ]
     },
     "metadata": {
      "needs_background": "light"
     },
     "output_type": "display_data"
    },
    {
     "data": {
      "image/png": "[encoded data removed]",
      "text/plain": [
       "<Figure size 432x288 with 1 Axes>"
      ]
     },
     "metadata": {
      "needs_background": "light"
     },
     "output_type": "display_data"
    },
    {
     "data": {
      "image/png": "[encoded data removed]",
      "text/plain": [
       "<Figure size 432x288 with 1 Axes>"
      ]
     },
     "metadata": {
      "needs_background": "light"
     },
     "output_type": "display_data"
    },
    {
     "data": {
      "image/png": "[encoded data removed]",
      "text/plain": [
       "<Figure size 432x288 with 1 Axes>"
      ]
     },
     "metadata": {
      "needs_background": "light"
     },
     "output_type": "display_data"
    }
   ],
   "source": [
    "exceptional_leadtimes = exceptional_leadtimes.sort_values(by='lead_time', ascending=False)\n",
    "exceptional_parts = list(exceptional_leadtimes['part_number'])[0:10]\n",
    "visualize_parts(exceptional_parts)"
   ]
  },
  {
   "cell_type": "code",
   "execution_count": 222,
   "id": "53fb0498",
   "metadata": {},
   "outputs": [
    {
     "data": {
      "text/html": [
       "<div>\n",
       "<style scoped>\n",
       "    .dataframe tbody tr th:only-of-type {\n",
       "        vertical-align: middle;\n",
       "    }\n",
       "\n",
       "    .dataframe tbody tr th {\n",
       "        vertical-align: top;\n",
       "    }\n",
       "\n",
       "    .dataframe thead th {\n",
       "        text-align: right;\n",
       "    }\n",
       "</style>\n",
       "<table border=\"1\" class=\"dataframe\">\n",
       "  <thead>\n",
       "    <tr style=\"text-align: right;\">\n",
       "      <th></th>\n",
       "      <th>part_number</th>\n",
       "      <th>usage_mean</th>\n",
       "      <th>lead_time</th>\n",
       "      <th>lead_time_std</th>\n",
       "      <th>usage_std</th>\n",
       "      <th>min</th>\n",
       "      <th>roq</th>\n",
       "    </tr>\n",
       "  </thead>\n",
       "  <tbody>\n",
       "    <tr>\n",
       "      <th>0</th>\n",
       "      <td>00176001</td>\n",
       "      <td>15.75</td>\n",
       "      <td>0.08</td>\n",
       "      <td>0.18</td>\n",
       "      <td>14.65</td>\n",
       "      <td>2.47</td>\n",
       "      <td>32.78</td>\n",
       "    </tr>\n",
       "    <tr>\n",
       "      <th>1</th>\n",
       "      <td>00207001</td>\n",
       "      <td>18.58</td>\n",
       "      <td>0.28</td>\n",
       "      <td>0.38</td>\n",
       "      <td>15.60</td>\n",
       "      <td>9.40</td>\n",
       "      <td>42.28</td>\n",
       "    </tr>\n",
       "    <tr>\n",
       "      <th>2</th>\n",
       "      <td>00250113</td>\n",
       "      <td>675.57</td>\n",
       "      <td>0.47</td>\n",
       "      <td>0.44</td>\n",
       "      <td>800.39</td>\n",
       "      <td>688.59</td>\n",
       "      <td>1666.32</td>\n",
       "    </tr>\n",
       "    <tr>\n",
       "      <th>3</th>\n",
       "      <td>00250125</td>\n",
       "      <td>852.67</td>\n",
       "      <td>0.19</td>\n",
       "      <td>0.12</td>\n",
       "      <td>752.14</td>\n",
       "      <td>305.37</td>\n",
       "      <td>1867.58</td>\n",
       "    </tr>\n",
       "    <tr>\n",
       "      <th>4</th>\n",
       "      <td>00250126</td>\n",
       "      <td>1074.44</td>\n",
       "      <td>0.57</td>\n",
       "      <td>0.63</td>\n",
       "      <td>524.20</td>\n",
       "      <td>915.62</td>\n",
       "      <td>2764.27</td>\n",
       "    </tr>\n",
       "    <tr>\n",
       "      <th>...</th>\n",
       "      <td>...</td>\n",
       "      <td>...</td>\n",
       "      <td>...</td>\n",
       "      <td>...</td>\n",
       "      <td>...</td>\n",
       "      <td>...</td>\n",
       "      <td>...</td>\n",
       "    </tr>\n",
       "    <tr>\n",
       "      <th>5102</th>\n",
       "      <td>45050130</td>\n",
       "      <td>7.75</td>\n",
       "      <td>1.04</td>\n",
       "      <td>0.42</td>\n",
       "      <td>4.00</td>\n",
       "      <td>12.22</td>\n",
       "      <td>23.56</td>\n",
       "    </tr>\n",
       "    <tr>\n",
       "      <th>5103</th>\n",
       "      <td>45050134</td>\n",
       "      <td>5.83</td>\n",
       "      <td>0.67</td>\n",
       "      <td>0.18</td>\n",
       "      <td>4.53</td>\n",
       "      <td>6.91</td>\n",
       "      <td>15.55</td>\n",
       "    </tr>\n",
       "    <tr>\n",
       "      <th>5104</th>\n",
       "      <td>45050135</td>\n",
       "      <td>7.83</td>\n",
       "      <td>0.51</td>\n",
       "      <td>0.25</td>\n",
       "      <td>6.37</td>\n",
       "      <td>7.19</td>\n",
       "      <td>19.63</td>\n",
       "    </tr>\n",
       "    <tr>\n",
       "      <th>5105</th>\n",
       "      <td>598742</td>\n",
       "      <td>5.38</td>\n",
       "      <td>NaN</td>\n",
       "      <td>NaN</td>\n",
       "      <td>4.27</td>\n",
       "      <td>NaN</td>\n",
       "      <td>NaN</td>\n",
       "    </tr>\n",
       "    <tr>\n",
       "      <th>5106</th>\n",
       "      <td>602692</td>\n",
       "      <td>5.00</td>\n",
       "      <td>NaN</td>\n",
       "      <td>NaN</td>\n",
       "      <td>2.16</td>\n",
       "      <td>NaN</td>\n",
       "      <td>NaN</td>\n",
       "    </tr>\n",
       "  </tbody>\n",
       "</table>\n",
       "<p>5107 rows × 7 columns</p>\n",
       "</div>"
      ],
      "text/plain": [
       "     part_number  usage_mean  lead_time  lead_time_std  usage_std    min  \\\n",
       "0       00176001       15.75       0.08           0.18      14.65   2.47   \n",
       "1       00207001       18.58       0.28           0.38      15.60   9.40   \n",
       "2       00250113      675.57       0.47           0.44     800.39 688.59   \n",
       "3       00250125      852.67       0.19           0.12     752.14 305.37   \n",
       "4       00250126     1074.44       0.57           0.63     524.20 915.62   \n",
       "...          ...         ...        ...            ...        ...    ...   \n",
       "5102    45050130        7.75       1.04           0.42       4.00  12.22   \n",
       "5103    45050134        5.83       0.67           0.18       4.53   6.91   \n",
       "5104    45050135        7.83       0.51           0.25       6.37   7.19   \n",
       "5105      598742        5.38        NaN            NaN       4.27    NaN   \n",
       "5106      602692        5.00        NaN            NaN       2.16    NaN   \n",
       "\n",
       "         roq  \n",
       "0      32.78  \n",
       "1      42.28  \n",
       "2    1666.32  \n",
       "3    1867.58  \n",
       "4    2764.27  \n",
       "...      ...  \n",
       "5102   23.56  \n",
       "5103   15.55  \n",
       "5104   19.63  \n",
       "5105     NaN  \n",
       "5106     NaN  \n",
       "\n",
       "[5107 rows x 7 columns]"
      ]
     },
     "execution_count": 222,
     "metadata": {},
     "output_type": "execute_result"
    }
   ],
   "source": [
    "calculated_mins_df"
   ]
  },
  {
   "cell_type": "markdown",
   "id": "b485f61b",
   "metadata": {},
   "source": [
    "You can buy once a year, and get shipments scheduled for multiple times a year. \n",
    "\n",
    "Quarterly shipments – this would require a culture change. This would also create a training cost. \n",
    "\n",
    "Two reccomendations:\n",
    "- Multi-scheduling\n",
    "- Buy things twice"
   ]
  },
  {
   "cell_type": "code",
   "execution_count": 301,
   "id": "bae05947",
   "metadata": {},
   "outputs": [],
   "source": [
    "def calc_stockout_probability(mins_df, part_number, samples = 1000):\n",
    "    # Calculating that we use more than the usage_mean after hitting the min and before the roq arrives. \n",
    "    part_row = mins_df.loc[mins_df['part_number'] == part_number].to_dict('records')[0]\n",
    "\n",
    "    usage_list = np.random.normal(loc = part_row['usage_mean'], scale=part_row['usage_std'], size=samples)\n",
    "    leadtimes_list = np.random.normal(loc = part_row['lead_time'], scale = part_row['lead_time_std'], size=samples)\n",
    "    \n",
    "    # Stockout occurs when usage_list[i] * leadtimes_list[i] >= min\n",
    "    stockouts = 0\n",
    "    \n",
    "    for i in range(len(usage_list)):\n",
    "        if usage_list[i] * leadtimes_list[i] >= (part_row['min'] + part_row['usage_std']):\n",
    "            #print(usage_list[i], leadtimes_list[i], part_row['min'][2])\n",
    "            stockouts += 1\n",
    "            \n",
    "    return stockouts / samples"
   ]
  },
  {
   "cell_type": "code",
   "execution_count": 359,
   "id": "dea2007f",
   "metadata": {},
   "outputs": [],
   "source": [
    "def calc_min_by_threshold(mins_df, part_number, samples, generations, learning_rate, stockout_threshold):\n",
    "    part_row = mins_df.loc[mins_df['part_number'] == part_number].to_dict('records')[0]\n",
    "    # Stockout occurs when usage_list[i] * leadtimes_list[i] >= min\n",
    "    \n",
    "    aggression = 0\n",
    "    \n",
    "    def calc_min(aggression, part_row):\n",
    "        return part_row['min'] + (aggression * part_row['usage_std'] * part_row['lead_time'])\n",
    "    \n",
    "    generation = 0\n",
    "    for i in tqdm(range(generations)):\n",
    "        \n",
    "        stockouts = 0\n",
    "        \n",
    "        usage_list = np.random.normal(loc = part_row['usage_mean'], scale=part_row['usage_std'], size=samples)\n",
    "        leadtimes_list = np.random.normal(loc = part_row['lead_time'], scale = part_row['lead_time_std'], size=samples)\n",
    "    \n",
    "        for i in range(len(usage_list)):\n",
    "            if usage_list[i] * leadtimes_list[i] >= calc_min(aggression, part_row):\n",
    "                #print(usage_list[i], leadtimes_list[i], part_row['min'][2])\n",
    "                stockouts += 1\n",
    "                \n",
    "        stockout_rate = stockouts / samples\n",
    "        \n",
    "        if calc_min(aggression - learning_rate * (stockout_threshold - stockout_rate), part_row) <= 0:\n",
    "            print('Lowest possible aggression.')\n",
    "            break\n",
    "        \n",
    "        if stockout_rate >= stockout_threshold:\n",
    "            aggression += learning_rate * (stockout_rate - stockout_threshold)\n",
    "        elif stockout_rate < stockout_threshold:\n",
    "            aggression -= learning_rate * (stockout_threshold - stockout_rate)\n",
    "        \n",
    "        print('Generation: {}. Stockout Rate: {}. Current Aggression: {:.2f}. Part Min: {}'.format(generation, stockout_rate, aggression, calc_min(aggression, part_row)))\n",
    "        generation += 1\n",
    "        \n",
    "        \n",
    "        if abs(stockout_rate - stockout_threshold) <= 0.001:\n",
    "            print('Found Approximate Aggression.')\n",
    "            break\n",
    "            \n",
    "    return aggression"
   ]
  },
  {
   "cell_type": "code",
   "execution_count": 363,
   "id": "078f97c3",
   "metadata": {},
   "outputs": [
    {
     "name": "stderr",
     "output_type": "stream",
     "text": [
      "  2%|██▌                                                                                                                          | 4/200 [00:00<00:11, 16.69it/s]"
     ]
    },
    {
     "name": "stdout",
     "output_type": "stream",
     "text": [
      "Generation: 0. Stockout Rate: 0.20527. Current Aggression: 0.05. Part Min: 708.246317768696\n",
      "Generation: 1. Stockout Rate: 0.20019. Current Aggression: 0.10. Part Min: 726.9524512847025\n",
      "Generation: 2. Stockout Rate: 0.19188. Current Aggression: 0.15. Part Min: 744.1070530159199\n",
      "Generation: 3. Stockout Rate: 0.1871. Current Aggression: 0.19. Part Min: 760.3691972343465\n"
     ]
    },
    {
     "name": "stderr",
     "output_type": "stream",
     "text": [
      "  4%|█████                                                                                                                        | 8/200 [00:00<00:11, 17.31it/s]"
     ]
    },
    {
     "name": "stdout",
     "output_type": "stream",
     "text": [
      "Generation: 4. Stockout Rate: 0.17839. Current Aggression: 0.23. Part Min: 775.0051270309305\n",
      "Generation: 5. Stockout Rate: 0.17642. Current Aggression: 0.27. Part Min: 789.2732448400252\n",
      "Generation: 6. Stockout Rate: 0.17024. Current Aggression: 0.30. Part Min: 802.3875159066416\n",
      "Generation: 7. Stockout Rate: 0.16766. Current Aggression: 0.34. Part Min: 815.0200839642621\n"
     ]
    },
    {
     "name": "stderr",
     "output_type": "stream",
     "text": [
      "  6%|███████▍                                                                                                                    | 12/200 [00:00<00:10, 17.73it/s]"
     ]
    },
    {
     "name": "stdout",
     "output_type": "stream",
     "text": [
      "Generation: 8. Stockout Rate: 0.16476. Current Aggression: 0.37. Part Min: 827.1112029032438\n",
      "Generation: 9. Stockout Rate: 0.15985. Current Aggression: 0.40. Part Min: 838.2855924723922\n",
      "Generation: 10. Stockout Rate: 0.15677. Current Aggression: 0.43. Part Min: 848.8849257362278\n",
      "Generation: 11. Stockout Rate: 0.15355. Current Aggression: 0.46. Part Min: 858.8830637717816\n"
     ]
    },
    {
     "name": "stderr",
     "output_type": "stream",
     "text": [
      "  8%|█████████▉                                                                                                                  | 16/200 [00:00<00:11, 16.71it/s]"
     ]
    },
    {
     "name": "stdout",
     "output_type": "stream",
     "text": [
      "Generation: 12. Stockout Rate: 0.15239. Current Aggression: 0.48. Part Min: 868.6646221598801\n",
      "Generation: 13. Stockout Rate: 0.15078. Current Aggression: 0.51. Part Min: 878.1455829338377\n",
      "Generation: 14. Stockout Rate: 0.14567. Current Aggression: 0.53. Part Min: 886.6724730194351\n",
      "Generation: 15. Stockout Rate: 0.14449. Current Aggression: 0.55. Part Min: 894.9790493257244\n"
     ]
    },
    {
     "name": "stderr",
     "output_type": "stream",
     "text": [
      " 10%|████████████▍                                                                                                               | 20/200 [00:01<00:10, 16.57it/s]"
     ]
    },
    {
     "name": "stdout",
     "output_type": "stream",
     "text": [
      "Generation: 16. Stockout Rate: 0.14197. Current Aggression: 0.57. Part Min: 902.8151250185759\n",
      "Generation: 17. Stockout Rate: 0.14034. Current Aggression: 0.59. Part Min: 910.3468689654339\n",
      "Generation: 18. Stockout Rate: 0.13873. Current Aggression: 0.61. Part Min: 917.5780152981511\n",
      "Generation: 19. Stockout Rate: 0.13633. Current Aggression: 0.63. Part Min: 924.3610658085464\n"
     ]
    },
    {
     "name": "stderr",
     "output_type": "stream",
     "text": [
      " 12%|██████████████▉                                                                                                             | 24/200 [00:01<00:10, 17.04it/s]"
     ]
    },
    {
     "name": "stdout",
     "output_type": "stream",
     "text": [
      "Generation: 20. Stockout Rate: 0.13536. Current Aggression: 0.65. Part Min: 930.9630109240868\n",
      "Generation: 21. Stockout Rate: 0.13085. Current Aggression: 0.66. Part Min: 936.7229093068474\n",
      "Generation: 22. Stockout Rate: 0.13099. Current Aggression: 0.68. Part Min: 942.508946612577\n",
      "Generation: 23. Stockout Rate: 0.13072. Current Aggression: 0.70. Part Min: 948.2445731382954\n"
     ]
    },
    {
     "name": "stderr",
     "output_type": "stream",
     "text": [
      " 14%|█████████████████▎                                                                                                          | 28/200 [00:01<00:10, 16.92it/s]"
     ]
    },
    {
     "name": "stdout",
     "output_type": "stream",
     "text": [
      "Generation: 24. Stockout Rate: 0.12849. Current Aggression: 0.71. Part Min: 953.5638439624397\n",
      "Generation: 25. Stockout Rate: 0.12612. Current Aggression: 0.72. Part Min: 958.4406201620413\n",
      "Generation: 26. Stockout Rate: 0.12493. Current Aggression: 0.74. Part Min: 963.0952155164084\n",
      "Generation: 27. Stockout Rate: 0.12513. Current Aggression: 0.75. Part Min: 967.7871521893023\n"
     ]
    },
    {
     "name": "stderr",
     "output_type": "stream",
     "text": [
      " 16%|███████████████████▊                                                                                                        | 32/200 [00:01<00:09, 16.96it/s]"
     ]
    },
    {
     "name": "stdout",
     "output_type": "stream",
     "text": [
      "Generation: 28. Stockout Rate: 0.12529. Current Aggression: 0.76. Part Min: 972.5089619170177\n",
      "Generation: 29. Stockout Rate: 0.12249. Current Aggression: 0.77. Part Min: 976.7079931853577\n",
      "Generation: 30. Stockout Rate: 0.1223. Current Aggression: 0.78. Part Min: 980.8715502010973\n",
      "Generation: 31. Stockout Rate: 0.12229. Current Aggression: 0.79. Part Min: 985.0332401509104\n"
     ]
    },
    {
     "name": "stderr",
     "output_type": "stream",
     "text": [
      " 18%|██████████████████████▎                                                                                                     | 36/200 [00:02<00:09, 17.49it/s]"
     ]
    },
    {
     "name": "stdout",
     "output_type": "stream",
     "text": [
      "Generation: 32. Stockout Rate: 0.11856. Current Aggression: 0.80. Part Min: 988.4985145101984\n",
      "Generation: 33. Stockout Rate: 0.11937. Current Aggression: 0.81. Part Min: 992.1150212095203\n",
      "Generation: 34. Stockout Rate: 0.11748. Current Aggression: 0.82. Part Min: 995.3786524487637\n",
      "Generation: 35. Stockout Rate: 0.11769. Current Aggression: 0.83. Part Min: 998.6814920724601\n"
     ]
    },
    {
     "name": "stderr",
     "output_type": "stream",
     "text": [
      " 20%|████████████████████████▊                                                                                                   | 40/200 [00:02<00:09, 17.78it/s]"
     ]
    },
    {
     "name": "stdout",
     "output_type": "stream",
     "text": [
      "Generation: 36. Stockout Rate: 0.11562. Current Aggression: 0.84. Part Min: 1001.5978490494042\n",
      "Generation: 37. Stockout Rate: 0.11786. Current Aggression: 0.85. Part Min: 1004.9324287938484\n",
      "Generation: 38. Stockout Rate: 0.11643. Current Aggression: 0.86. Part Min: 1008.000018110826\n",
      "Generation: 39. Stockout Rate: 0.11432. Current Aggression: 0.86. Part Min: 1010.6736565173458\n"
     ]
    },
    {
     "name": "stderr",
     "output_type": "stream",
     "text": [
      " 22%|███████████████████████████▎                                                                                                | 44/200 [00:02<00:08, 17.34it/s]"
     ]
    },
    {
     "name": "stdout",
     "output_type": "stream",
     "text": [
      "Generation: 40. Stockout Rate: 0.11385. Current Aggression: 0.87. Part Min: 1013.2595428253273\n",
      "Generation: 41. Stockout Rate: 0.11232. Current Aggression: 0.88. Part Min: 1015.559768046579\n",
      "Generation: 42. Stockout Rate: 0.11313. Current Aggression: 0.88. Part Min: 1018.0112256078643\n",
      "Generation: 43. Stockout Rate: 0.11347. Current Aggression: 0.89. Part Min: 1020.526163410645\n"
     ]
    },
    {
     "name": "stderr",
     "output_type": "stream",
     "text": [
      " 24%|█████████████████████████████▊                                                                                              | 48/200 [00:02<00:08, 17.51it/s]"
     ]
    },
    {
     "name": "stdout",
     "output_type": "stream",
     "text": [
      "Generation: 44. Stockout Rate: 0.11215. Current Aggression: 0.89. Part Min: 1022.7946485111489\n",
      "Generation: 45. Stockout Rate: 0.11025. Current Aggression: 0.90. Part Min: 1024.7083910856481\n",
      "Generation: 46. Stockout Rate: 0.11187. Current Aggression: 0.91. Part Min: 1026.9245983402143\n",
      "Generation: 47. Stockout Rate: 0.10967. Current Aggression: 0.91. Part Min: 1028.7300510909856\n"
     ]
    },
    {
     "name": "stderr",
     "output_type": "stream",
     "text": [
      " 26%|████████████████████████████████▏                                                                                           | 52/200 [00:03<00:08, 17.53it/s]"
     ]
    },
    {
     "name": "stdout",
     "output_type": "stream",
     "text": [
      "Generation: 48. Stockout Rate: 0.11032. Current Aggression: 0.92. Part Min: 1030.6568631269693\n",
      "Generation: 49. Stockout Rate: 0.11026. Current Aggression: 0.92. Part Min: 1032.5724727673946\n",
      "Generation: 50. Stockout Rate: 0.109. Current Aggression: 0.93. Part Min: 1034.2528321011011\n",
      "Generation: 51. Stockout Rate: 0.10997. Current Aggression: 0.93. Part Min: 1036.1142968296626\n"
     ]
    },
    {
     "name": "stderr",
     "output_type": "stream",
     "text": [
      " 28%|██████████████████████████████████▋                                                                                         | 56/200 [00:03<00:08, 16.87it/s]"
     ]
    },
    {
     "name": "stdout",
     "output_type": "stream",
     "text": [
      "Generation: 52. Stockout Rate: 0.10794. Current Aggression: 0.93. Part Min: 1037.5967471751771\n",
      "Generation: 53. Stockout Rate: 0.10642. Current Aggression: 0.94. Part Min: 1038.795403499888\n",
      "Generation: 54. Stockout Rate: 0.10695. Current Aggression: 0.94. Part Min: 1040.0930143186945\n",
      "Generation: 55. Stockout Rate: 0.10668. Current Aggression: 0.94. Part Min: 1041.3402143574901\n"
     ]
    },
    {
     "name": "stderr",
     "output_type": "stream",
     "text": [
      " 30%|█████████████████████████████████████▏                                                                                      | 60/200 [00:03<00:07, 17.63it/s]"
     ]
    },
    {
     "name": "stdout",
     "output_type": "stream",
     "text": [
      "Generation: 56. Stockout Rate: 0.10813. Current Aggression: 0.95. Part Min: 1042.858138955605\n",
      "Generation: 57. Stockout Rate: 0.107. Current Aggression: 0.95. Part Min: 1044.1650851040433\n",
      "Generation: 58. Stockout Rate: 0.10829. Current Aggression: 0.96. Part Min: 1045.7128827569798\n",
      "Generation: 59. Stockout Rate: 0.10598. Current Aggression: 0.96. Part Min: 1046.8293881809313\n"
     ]
    },
    {
     "name": "stderr",
     "output_type": "stream",
     "text": [
      " 32%|███████████████████████████████████████▋                                                                                    | 64/200 [00:03<00:07, 18.26it/s]"
     ]
    },
    {
     "name": "stdout",
     "output_type": "stream",
     "text": [
      "Generation: 60. Stockout Rate: 0.10635. Current Aggression: 0.96. Part Min: 1048.0149750441578\n",
      "Generation: 61. Stockout Rate: 0.1052. Current Aggression: 0.97. Part Min: 1048.9858493258548\n",
      "Generation: 62. Stockout Rate: 0.10527. Current Aggression: 0.97. Part Min: 1049.9697930690363\n",
      "Generation: 63. Stockout Rate: 0.10636. Current Aggression: 0.97. Part Min: 1051.1572469981888\n"
     ]
    },
    {
     "name": "stderr",
     "output_type": "stream",
     "text": [
      " 34%|██████████████████████████████████████████▏                                                                                 | 68/200 [00:03<00:07, 17.70it/s]"
     ]
    },
    {
     "name": "stdout",
     "output_type": "stream",
     "text": [
      "Generation: 64. Stockout Rate: 0.10538. Current Aggression: 0.97. Part Min: 1052.1617284665601\n",
      "Generation: 65. Stockout Rate: 0.10659. Current Aggression: 0.98. Part Min: 1053.3921249120185\n",
      "Generation: 66. Stockout Rate: 0.10455. Current Aggression: 0.98. Part Min: 1054.2416399085037\n",
      "Generation: 67. Stockout Rate: 0.10446. Current Aggression: 0.98. Part Min: 1055.0743513116515\n"
     ]
    },
    {
     "name": "stderr",
     "output_type": "stream",
     "text": [
      " 36%|████████████████████████████████████████████▋                                                                               | 72/200 [00:04<00:07, 17.54it/s]"
     ]
    },
    {
     "name": "stdout",
     "output_type": "stream",
     "text": [
      "Generation: 68. Stockout Rate: 0.10513. Current Aggression: 0.98. Part Min: 1056.0321561318642\n",
      "Generation: 69. Stockout Rate: 0.10495. Current Aggression: 0.99. Part Min: 1056.9563537654028\n",
      "Generation: 70. Stockout Rate: 0.10453. Current Aggression: 0.99. Part Min: 1057.8021346300352\n",
      "Generation: 71. Stockout Rate: 0.10571. Current Aggression: 0.99. Part Min: 1058.8682292739757\n"
     ]
    },
    {
     "name": "stderr",
     "output_type": "stream",
     "text": [
      " 38%|███████████████████████████████████████████████                                                                             | 76/200 [00:04<00:07, 17.12it/s]"
     ]
    },
    {
     "name": "stdout",
     "output_type": "stream",
     "text": [
      "Generation: 72. Stockout Rate: 0.10363. Current Aggression: 0.99. Part Min: 1059.5459742052371\n",
      "Generation: 73. Stockout Rate: 0.10455. Current Aggression: 1.00. Part Min: 1060.3954892017223\n",
      "Generation: 74. Stockout Rate: 0.10227. Current Aggression: 1.00. Part Min: 1060.8193131670016\n",
      "Generation: 75. Stockout Rate: 0.10213. Current Aggression: 1.00. Part Min: 1061.2169982093121\n"
     ]
    },
    {
     "name": "stderr",
     "output_type": "stream",
     "text": [
      " 40%|█████████████████████████████████████████████████▌                                                                          | 80/200 [00:04<00:06, 17.64it/s]"
     ]
    },
    {
     "name": "stdout",
     "output_type": "stream",
     "text": [
      "Generation: 76. Stockout Rate: 0.10339. Current Aggression: 1.00. Part Min: 1061.8499335583415\n",
      "Generation: 77. Stockout Rate: 0.10366. Current Aggression: 1.00. Part Min: 1062.5332796873822\n",
      "Generation: 78. Stockout Rate: 0.10364. Current Aggression: 1.00. Part Min: 1063.21289168457\n",
      "Generation: 79. Stockout Rate: 0.10374. Current Aggression: 1.01. Part Min: 1063.9111743410215\n"
     ]
    },
    {
     "name": "stderr",
     "output_type": "stream",
     "text": [
      " 42%|████████████████████████████████████████████████████                                                                        | 84/200 [00:04<00:06, 18.10it/s]"
     ]
    },
    {
     "name": "stdout",
     "output_type": "stream",
     "text": [
      "Generation: 80. Stockout Rate: 0.10232. Current Aggression: 1.01. Part Min: 1064.3443336359326\n",
      "Generation: 81. Stockout Rate: 0.10454. Current Aggression: 1.01. Part Min: 1065.1919815664912\n",
      "Generation: 82. Stockout Rate: 0.10247. Current Aggression: 1.01. Part Min: 1065.6531468502974\n",
      "Generation: 83. Stockout Rate: 0.1033. Current Aggression: 1.01. Part Min: 1066.2692786059897\n"
     ]
    },
    {
     "name": "stderr",
     "output_type": "stream",
     "text": [
      " 44%|██████████████████████████████████████████████████████▌                                                                     | 88/200 [00:05<00:06, 17.93it/s]"
     ]
    },
    {
     "name": "stdout",
     "output_type": "stream",
     "text": [
      "Generation: 84. Stockout Rate: 0.10354. Current Aggression: 1.01. Part Min: 1066.9302199439144\n",
      "Generation: 85. Stockout Rate: 0.10184. Current Aggression: 1.01. Part Min: 1067.273760074361\n",
      "Generation: 86. Stockout Rate: 0.10233. Current Aggression: 1.02. Part Min: 1067.7087864351984\n",
      "Generation: 87. Stockout Rate: 0.10139. Current Aggression: 1.02. Part Min: 1067.9683085989595\n"
     ]
    },
    {
     "name": "stderr",
     "output_type": "stream",
     "text": [
      "\r",
      " 44%|███████████████████████████████████████████████████████▏                                                                    | 89/200 [00:05<00:06, 17.20it/s]"
     ]
    },
    {
     "name": "stdout",
     "output_type": "stream",
     "text": [
      "Generation: 88. Stockout Rate: 0.10353. Current Aggression: 1.02. Part Min: 1068.627382870958\n",
      "Generation: 89. Stockout Rate: 0.10053. Current Aggression: 1.02. Part Min: 1068.726337365054\n",
      "Found Approximate Aggression.\n"
     ]
    },
    {
     "name": "stderr",
     "output_type": "stream",
     "text": [
      "\n"
     ]
    },
    {
     "data": {
      "text/plain": [
       "1.0179999999999998"
      ]
     },
     "execution_count": 363,
     "metadata": {},
     "output_type": "execute_result"
    }
   ],
   "source": [
    "calc_min_by_threshold(calculated_mins_df, '00250113', 100000, 200, 0.5, 0.1)"
   ]
  },
  {
   "cell_type": "markdown",
   "id": "e927fc9b",
   "metadata": {},
   "source": [
    "Aggression is a measure of how many times we add the (std * lead time) onto the part_min. "
   ]
  },
  {
   "cell_type": "code",
   "execution_count": 302,
   "id": "e0a3650e",
   "metadata": {},
   "outputs": [
    {
     "data": {
      "text/plain": [
       "0.07"
      ]
     },
     "execution_count": 302,
     "metadata": {},
     "output_type": "execute_result"
    }
   ],
   "source": [
    "calc_stockout_probability(calculated_mins_df, '00250113', samples=100)"
   ]
  },
  {
   "cell_type": "code",
   "execution_count": 303,
   "id": "7ca47a18",
   "metadata": {},
   "outputs": [
    {
     "data": {
      "text/plain": [
       "0.111"
      ]
     },
     "execution_count": 303,
     "metadata": {},
     "output_type": "execute_result"
    }
   ],
   "source": [
    "calc_stockout_probability(calculated_mins_df, '00207001')"
   ]
  },
  {
   "cell_type": "code",
   "execution_count": 304,
   "id": "089a4fa2",
   "metadata": {},
   "outputs": [
    {
     "data": {
      "text/plain": [
       "0.146"
      ]
     },
     "execution_count": 304,
     "metadata": {},
     "output_type": "execute_result"
    }
   ],
   "source": [
    "calc_stockout_probability(calculated_mins_df, '45050130')"
   ]
  },
  {
   "cell_type": "markdown",
   "id": "51f8bbfb",
   "metadata": {},
   "source": [
    "We could also simulate aggression/part min using the historical data. This might be more accurate to \"real world\" conditions, but also would be more variable and less reliable. "
   ]
  },
  {
   "cell_type": "code",
   "execution_count": null,
   "id": "6e8c91d4",
   "metadata": {},
   "outputs": [],
   "source": [
    "def simulate_usage(mins_df, part_numbers, duration):\n",
    "    # part-numbers must be list-like.\n",
    "    # Duration is in quarters\n",
    "    \n",
    "    # use calculated_mins_df columns\n",
    "\n",
    "    sim_df = part_df.copy(deep = True)\n",
    "    \n",
    "    # Starting max = min + ROQ\n",
    "    sim_df['starting_max'] = sim_df['min'] + sim_df['roq']\n",
    "    \n",
    "    # Mins and lead times are drawn from lognormal distributions"
   ]
  },
  {
   "cell_type": "markdown",
   "id": "c3464686",
   "metadata": {},
   "source": [
    "# Next Step: Factor in by Base station\n",
    "\n",
    "Also factor in the usage by Central (CS004)"
   ]
  },
  {
   "cell_type": "code",
   "execution_count": 13,
   "id": "3bcf79bb",
   "metadata": {},
   "outputs": [
    {
     "name": "stdout",
     "output_type": "stream",
     "text": [
      "[nan 'BS014' 'BS019' 'BS018' 'BS027' 'BS023' 'BS024' 'BS025' 'BS015'\n",
      " 'BS017' 'BS011' 'BS010' 'BS012' 'BS020' 'BS021' 'CS001' 'BS016' 'BS026'\n",
      " 'CS002' 'CS004' 'BS013' 'CS003' 'BS009' 'BS029']\n",
      "Calculated time df\n",
      "filtering out df\n",
      "['BS012' 'BS027' 'BS017' 'BS020' 'BS025' 'BS019' 'BS011' 'BS015' 'BS024'\n",
      " 'CS001' 'CS002' 'BS014' 'BS018' 'BS023' 'BS010' 'BS016' 'BS021' 'CS004'\n",
      " 'CS003' 'BS026' 'BS013' 'BS009' 'BS029']\n"
     ]
    }
   ],
   "source": [
    "# Use groupby? \n",
    "\n",
    "base_list = txn_df['TXN - Destination Unit'].unique()\n",
    "print(base_list)\n",
    "\n",
    "time_df = txn_df.copy(deep=True)\n",
    "    \n",
    "time_df['TXN - Transaction Date'] = pd.to_datetime(time_df['TXN - Transaction Date'])\n",
    "#print(time_df)\n",
    "\n",
    "print(\"Calculated time df\")\n",
    "\n",
    "out_codes = ('030')\n",
    "today = datetime.date.today()\n",
    "# Filter to only out codes\n",
    "# IMPORTANT NOTE: OUT CODES ARE ONLY 030. \n",
    "\n",
    "print(\"filtering out df\")\n",
    "out_df = time_df.loc[time_df['TXN - Transaction Type'] == '030']\n",
    "#print(out_df)\n",
    "\n",
    "print(out_df['TXN - Unit'].unique())"
   ]
  },
  {
   "cell_type": "code",
   "execution_count": 14,
   "id": "3114a5e4",
   "metadata": {},
   "outputs": [
    {
     "name": "stdout",
     "output_type": "stream",
     "text": [
      "-2\n",
      "5057\n"
     ]
    }
   ],
   "source": [
    "# Get active bases\n",
    "# Filter to at least 5 usages in the last 2 years. \n",
    "last_2_years = out_df.copy(deep=True)\n",
    "\n",
    "# This is not the right understanding – this eliminates all rows that are at least 2 years old. \n",
    "# We want to remove all parts that haven't been used in 2 years. \n",
    "last_2_years['Today'] = today\n",
    "last_2_years['Today'] = pd.to_datetime(last_2_years['Today'])\n",
    "last_2_years['Years Ago'] = (last_2_years['TXN - Transaction Date'] - last_2_years['Today']).astype('timedelta64[Y]').astype('int')\n",
    "\n",
    "# Need to find the usage in the past 2 years.\n",
    "last_2_years_df = last_2_years.copy(deep=True)\n",
    "\n",
    "last_2_years_df = last_2_years_df.loc[last_2_years_df['Years Ago'] >= -2]\n",
    "\n",
    "print(last_2_years_df['Years Ago'].min())\n",
    "\n",
    "part_usages = last_2_years_df.groupby('TXN - Item ID').size()\n",
    "part_filter = part_usages > 5\n",
    "in_parts = set(part_usages[part_filter].index)\n",
    "print(len(in_parts))\n",
    "\n",
    "final_part_df = last_2_years.loc[last_2_years['TXN - Item ID'].isin(in_parts)]"
   ]
  },
  {
   "cell_type": "code",
   "execution_count": 15,
   "id": "a0482826",
   "metadata": {},
   "outputs": [],
   "source": [
    "active_bases = last_2_years_df['TXN - Unit'].unique()"
   ]
  },
  {
   "cell_type": "code",
   "execution_count": 16,
   "id": "f0caa454",
   "metadata": {
    "scrolled": true
   },
   "outputs": [
    {
     "name": "stdout",
     "output_type": "stream",
     "text": [
      "['BS018' 'BS014' 'BS015' 'BS019' 'BS027' 'BS024' 'BS021' 'BS011' 'BS023'\n",
      " 'BS020' 'BS010' 'BS017' 'BS025' 'CS004' 'BS012' 'BS016' 'CS003' 'CS002'\n",
      " 'BS009' 'BS029']\n"
     ]
    }
   ],
   "source": [
    "print(active_bases)"
   ]
  },
  {
   "cell_type": "code",
   "execution_count": 381,
   "id": "f841f8ef",
   "metadata": {},
   "outputs": [
    {
     "name": "stdout",
     "output_type": "stream",
     "text": [
      "['BS009', 'BS010', 'BS011', 'BS012', 'BS014', 'BS015', 'BS016', 'BS017', 'BS018', 'BS019', 'BS020', 'BS021', 'BS023', 'BS024', 'BS025', 'BS027', 'BS029', 'CS002', 'CS003', 'CS004']\n",
      "['BS009', 'BS010', 'BS011', 'BS012', 'BS013', 'BS014', 'BS015', 'BS016', 'BS017', 'BS018', 'BS019', 'BS020', 'BS021', 'BS023', 'BS024', 'BS025', 'BS026', 'BS027', 'BS029', 'CS001', 'CS002', 'CS003', 'CS004']\n"
     ]
    }
   ],
   "source": [
    "all_bases = ['BS012', 'BS027', 'BS017', 'BS020', 'BS025', 'BS019', 'BS011', 'BS015', 'BS024',\n",
    "             'CS001', 'CS002', 'BS014', 'BS018', 'BS023', 'BS010', 'BS016', 'BS021', 'CS004',\n",
    "             'CS003', 'BS026', 'BS013', 'BS009', 'BS029']\n",
    "\n",
    "print(sorted(active_bases))\n",
    "print(sorted(all_bases))"
   ]
  },
  {
   "cell_type": "markdown",
   "id": "64a9e627",
   "metadata": {},
   "source": [
    "Differences: we no longer use BS013, BS026, or CS001. "
   ]
  },
  {
   "cell_type": "code",
   "execution_count": 382,
   "id": "61c631c5",
   "metadata": {},
   "outputs": [
    {
     "name": "stderr",
     "output_type": "stream",
     "text": [
      "100%|█████████████████████████████████████████████████████████████████████████████████████████████████████████████████████████████| 20/20 [00:10<00:00,  1.87it/s]\n"
     ]
    }
   ],
   "source": [
    "base_dict = {}\n",
    "\n",
    "for base in tqdm(active_bases):\n",
    "    base_dict[base] = out_df.loc[out_df['TXN - Unit'] == base]"
   ]
  },
  {
   "cell_type": "code",
   "execution_count": 384,
   "id": "aaf4d2c3",
   "metadata": {},
   "outputs": [
    {
     "data": {
      "text/plain": [
       "dict_keys(['BS018', 'BS011', 'BS015', 'BS010', 'BS023', 'BS024', 'BS019', 'BS014', 'BS027', 'BS017', 'BS021', 'BS020', 'CS004', 'BS025', 'BS016', 'BS012', 'CS002', 'CS003', 'BS009', 'BS029'])"
      ]
     },
     "execution_count": 384,
     "metadata": {},
     "output_type": "execute_result"
    }
   ],
   "source": [
    "base_dict.keys()"
   ]
  },
  {
   "cell_type": "markdown",
   "id": "1f05e4b3",
   "metadata": {},
   "source": [
    "Need to parameterize the data prep here. (this is done in the prepare_data function)"
   ]
  },
  {
   "cell_type": "markdown",
   "id": "5ebaf129",
   "metadata": {},
   "source": [
    "Note: prepare_date will filter out unused parts, which will be unique for each base. To rectify this, run prepare_data with filter_unused set to false. "
   ]
  },
  {
   "cell_type": "code",
   "execution_count": 389,
   "id": "9c941df1",
   "metadata": {},
   "outputs": [
    {
     "name": "stderr",
     "output_type": "stream",
     "text": [
      "100%|█████████████████████████████████████████████████████████████████████████████████████████████████████████████████████████████| 20/20 [00:14<00:00,  1.37it/s]\n"
     ]
    }
   ],
   "source": [
    "prepared_bases = {}\n",
    "\n",
    "for base in tqdm(base_dict.keys()):\n",
    "    prepared_bases[base] = prepare_data(base_dict[base], filter_unused=False)"
   ]
  },
  {
   "cell_type": "code",
   "execution_count": 390,
   "id": "9b07abe7",
   "metadata": {
    "collapsed": true
   },
   "outputs": [
    {
     "data": {
      "text/plain": [
       "{'BS018':       TXN - Item ID  Quarters  TXN - Qty\n",
       " 0          00170074        10       1.00\n",
       " 1          00170074        13       1.00\n",
       " 2          00170074        36       9.00\n",
       " 3          00170074        47       1.00\n",
       " 4          00173018         9       8.00\n",
       " ...             ...       ...        ...\n",
       " 79907      R2695002        44      18.00\n",
       " 79908      R2695002        45      12.00\n",
       " 79909      R2695002        46       6.00\n",
       " 79910      R2695002        47      17.00\n",
       " 79911      R2695002        59       1.00\n",
       " \n",
       " [79912 rows x 3 columns],\n",
       " 'BS011':       TXN - Item ID  Quarters  TXN - Qty\n",
       " 0          00170002        53       1.00\n",
       " 1          00170009        19      50.00\n",
       " 2          00170009        32      10.00\n",
       " 3          00170009        34      10.00\n",
       " 4          00170009        53      25.00\n",
       " ...             ...       ...        ...\n",
       " 73596      R2690116        48       2.00\n",
       " 73597      R2690116        50       3.00\n",
       " 73598      R2695001        46       1.00\n",
       " 73599      R2695001        48       1.00\n",
       " 73600      R2695002        53       1.00\n",
       " \n",
       " [73601 rows x 3 columns],\n",
       " 'BS015':       TXN - Item ID  Quarters  TXN - Qty\n",
       " 0          00207001        62      10.00\n",
       " 1          00250006        48     700.00\n",
       " 2          00250006        53     200.00\n",
       " 3          00250006        54     200.00\n",
       " 4          00250051         1       4.00\n",
       " ...             ...       ...        ...\n",
       " 50807      R2695001        47      12.00\n",
       " 50808      R2695001        48       2.00\n",
       " 50809      R2695002        46       6.00\n",
       " 50810      R2695002        48       3.00\n",
       " 50811      R2695002        51       3.00\n",
       " \n",
       " [50812 rows x 3 columns],\n",
       " 'BS010':       TXN - Item ID  Quarters  TXN - Qty\n",
       " 0          00170074        53       5.00\n",
       " 1          00173018        15       1.00\n",
       " 2          00173018        17       3.00\n",
       " 3          00173018        18       8.00\n",
       " 4          00173018        19       8.00\n",
       " ...             ...       ...        ...\n",
       " 54417      R2692002        48       4.00\n",
       " 54418      R2692002        49       2.00\n",
       " 54419      R2695002        44       1.00\n",
       " 54420      R2695002        67       4.00\n",
       " 54421      R2695002        68       1.00\n",
       " \n",
       " [54422 rows x 3 columns],\n",
       " 'BS023':       TXN - Item ID  Quarters  TXN - Qty\n",
       " 0          00173016        54       4.00\n",
       " 1          00173018        51       3.00\n",
       " 2          00173018        54       1.00\n",
       " 3          00173018        55       2.00\n",
       " 4          00173018        56       2.00\n",
       " ...             ...       ...        ...\n",
       " 35706      45050170        53      11.00\n",
       " 35707      45050170        57       1.00\n",
       " 35708      45050170        60       2.00\n",
       " 35709      45050170        63       5.00\n",
       " 35710      45050170        66       2.00\n",
       " \n",
       " [35711 rows x 3 columns],\n",
       " 'BS024':       TXN - Item ID  Quarters  TXN - Qty\n",
       " 0          00170072        22     100.00\n",
       " 1          00170074        66       1.00\n",
       " 2          00173018         1       2.00\n",
       " 3          00173018         4       2.00\n",
       " 4          00173018         5       1.00\n",
       " ...             ...       ...        ...\n",
       " 55645      45050047         0       1.00\n",
       " 55646      45050047        21       1.00\n",
       " 55647      45050105         5       6.00\n",
       " 55648      45050105        30      30.00\n",
       " 55649      45050105        64     185.00\n",
       " \n",
       " [55650 rows x 3 columns],\n",
       " 'BS019':       TXN - Item ID  Quarters  TXN - Qty\n",
       " 0          00170058        14       1.00\n",
       " 1          00170074        15       1.00\n",
       " 2          00170074        16       3.00\n",
       " 3          00170074        35      10.00\n",
       " 4          00177001        18      12.00\n",
       " ...             ...       ...        ...\n",
       " 46707      R2695001        65       4.00\n",
       " 46708      R2695002        44       5.00\n",
       " 46709      R2695002        45      10.00\n",
       " 46710      R2695002        46       9.00\n",
       " 46711      R2695002        47      13.00\n",
       " \n",
       " [46712 rows x 3 columns],\n",
       " 'BS014':       TXN - Item ID  Quarters  TXN - Qty\n",
       " 0          00170020         8       1.00\n",
       " 1          00207001        57       2.00\n",
       " 2          00207001        60       2.00\n",
       " 3          00207001        61       3.00\n",
       " 4          00207001        62       2.00\n",
       " ...             ...       ...        ...\n",
       " 31353      R2694037        49       2.00\n",
       " 31354      R2694037        52       1.00\n",
       " 31355      R2694037        53       4.00\n",
       " 31356      R2694038        47      19.00\n",
       " 31357      R2694038        48      10.00\n",
       " \n",
       " [31358 rows x 3 columns],\n",
       " 'BS027':       TXN - Item ID  Quarters  TXN - Qty\n",
       " 0          00170005         0       5.00\n",
       " 1          00170005         4      15.00\n",
       " 2          00170005         5      10.00\n",
       " 3          00170005        15       5.00\n",
       " 4          00170092        24       5.00\n",
       " ...             ...       ...        ...\n",
       " 50371      45050227        61       1.00\n",
       " 50372      45050227        62       1.00\n",
       " 50373      45050229        51       2.00\n",
       " 50374      45050229        58       2.00\n",
       " 50375      45050229        61       2.00\n",
       " \n",
       " [50376 rows x 3 columns],\n",
       " 'BS017':       TXN - Item ID  Quarters  TXN - Qty\n",
       " 0          00170010        53      22.00\n",
       " 1          00170074        53       1.00\n",
       " 2          00170074        54       1.00\n",
       " 3          00170074        55      10.00\n",
       " 4          00170074        56      10.00\n",
       " ...             ...       ...        ...\n",
       " 39790      R2690116        44       6.00\n",
       " 39791      R2690116        45       9.00\n",
       " 39792      R2690116        46      12.00\n",
       " 39793      R2690116        47      17.00\n",
       " 39794      R2690116        48       2.00\n",
       " \n",
       " [39795 rows x 3 columns],\n",
       " 'BS021':       TXN - Item ID  Quarters  TXN - Qty\n",
       " 0          00176001         3       4.00\n",
       " 1          00176001         5       6.00\n",
       " 2          00176001         8       6.00\n",
       " 3          00176001        10       3.00\n",
       " 4          00176001        11      12.00\n",
       " ...             ...       ...        ...\n",
       " 26278      45050172         4       6.00\n",
       " 26279      45050172        13       3.00\n",
       " 26280      45050172        20       2.00\n",
       " 26281      45050172        21       1.00\n",
       " 26282      45050172        54       1.00\n",
       " \n",
       " [26283 rows x 3 columns],\n",
       " 'BS020':       TXN - Item ID  Quarters  TXN - Qty\n",
       " 0          00250118        42     200.00\n",
       " 1          00250129         7      10.00\n",
       " 2          00250130        65     500.00\n",
       " 3          02001185         7       4.00\n",
       " 4          02005065        46       4.00\n",
       " ...             ...       ...        ...\n",
       " 17758      42591112        44      12.00\n",
       " 17759      42672006         4       2.00\n",
       " 17760      42672006        44     423.00\n",
       " 17761      42694104        28      15.00\n",
       " 17762      42694104        44      33.00\n",
       " \n",
       " [17763 rows x 3 columns],\n",
       " 'CS004':       TXN - Item ID  Quarters  TXN - Qty\n",
       " 0          00170009        62      85.00\n",
       " 1          00170009        63      50.00\n",
       " 2          00170009        69     100.00\n",
       " 3          00170009        71     160.00\n",
       " 4          00170020        66       1.00\n",
       " ...             ...       ...        ...\n",
       " 19508      45050114        63       3.00\n",
       " 19509      45050114        64      23.00\n",
       " 19510      45050114        66       5.00\n",
       " 19511      45050114        67      21.00\n",
       " 19512      45050114        70      50.00\n",
       " \n",
       " [19513 rows x 3 columns],\n",
       " 'BS025':       TXN - Item ID  Quarters  TXN - Qty\n",
       " 0          00170011        53       5.00\n",
       " 1          00170011        54       8.00\n",
       " 2          00170011        56      17.00\n",
       " 3          00173016        20       1.00\n",
       " 4          00176001        53       5.00\n",
       " ...             ...       ...        ...\n",
       " 20736      44908070        66       2.00\n",
       " 20737      44908070        68       3.00\n",
       " 20738      45050105         6       8.00\n",
       " 20739      45050105         8      92.00\n",
       " 20740      45050105        13       3.00\n",
       " \n",
       " [20741 rows x 3 columns],\n",
       " 'BS016':      TXN - Item ID  Quarters  TXN - Qty\n",
       " 0         00177001         4      33.00\n",
       " 1         00250051         3     100.00\n",
       " 2         00250051         4     100.00\n",
       " 3         00250051        28     100.00\n",
       " 4         00250051        49     200.00\n",
       " ...            ...       ...        ...\n",
       " 3386      45020001        24     100.00\n",
       " 3387      45020001        34     100.00\n",
       " 3388      45020001        48     400.00\n",
       " 3389      45020001        60     500.00\n",
       " 3390      45020001        69      50.00\n",
       " \n",
       " [3391 rows x 3 columns],\n",
       " 'BS012':       TXN - Item ID  Quarters  TXN - Qty\n",
       " 0          00170009        16      12.00\n",
       " 1          00173018        16      10.00\n",
       " 2          00173018        34       6.00\n",
       " 3          00173018        36       5.00\n",
       " 4          00173018        55       6.00\n",
       " ...             ...       ...        ...\n",
       " 42580      R2694037        48       3.00\n",
       " 42581      R2694037        49       2.00\n",
       " 42582      R2694038        44      13.00\n",
       " 42583      R2694038        45      13.00\n",
       " 42584      R2694038        48       8.00\n",
       " \n",
       " [42585 rows x 3 columns],\n",
       " 'CS002':       TXN - Item ID  Quarters  TXN - Qty\n",
       " 0          00170033         2      41.00\n",
       " 1          00170034        15       5.00\n",
       " 2          00245001         6     100.00\n",
       " 3          00245001        26     100.00\n",
       " 4          00250026        16    2450.00\n",
       " ...             ...       ...        ...\n",
       " 13040      58179342        37       2.00\n",
       " 13041      58179345        37       1.00\n",
       " 13042      58179348        37       1.00\n",
       " 13043      58179349        37       1.00\n",
       " 13044      R3696027        48       3.00\n",
       " \n",
       " [13045 rows x 3 columns],\n",
       " 'CS003':         TXN - Item ID  Quarters  TXN - Qty\n",
       " 0         041103663-2        57       6.00\n",
       " 1              052818        70       2.00\n",
       " 2              084854        60       3.00\n",
       " 3              084854        70       2.00\n",
       " 4              086444        57       4.00\n",
       " ..                ...       ...        ...\n",
       " 641     RA2005261-054        57       2.00\n",
       " 642         RCMH-56-0        57     500.00\n",
       " 643  VBN2RV40A60PNT39        57       1.00\n",
       " 644        X050032100        69       8.00\n",
       " 645         YAV240M10        57      80.00\n",
       " \n",
       " [646 rows x 3 columns],\n",
       " 'BS009':      TXN - Item ID  Quarters  TXN - Qty\n",
       " 0         02013025        68      22.00\n",
       " 1         02013025        70      32.00\n",
       " 2         02013026        69       4.00\n",
       " 3         02013026        70       1.00\n",
       " 4         02013028        69      12.00\n",
       " ...            ...       ...        ...\n",
       " 2587      42609004        67      22.00\n",
       " 2588      42609004        68      18.00\n",
       " 2589      42609004        70       8.00\n",
       " 2590      42609004        71       4.00\n",
       " 2591      42609009        71       8.00\n",
       " \n",
       " [2592 rows x 3 columns],\n",
       " 'BS029':     TXN - Item ID  Quarters  TXN - Qty\n",
       " 0        00176001        70       1.00\n",
       " 1        00245003        71      50.00\n",
       " 2        00250126        68    1000.00\n",
       " 3        00250126        70     500.00\n",
       " 4        00250126        71     500.00\n",
       " ..            ...       ...        ...\n",
       " 706      43008095        70      24.00\n",
       " 707      43008095        71      24.00\n",
       " 708      44601018        68      40.00\n",
       " 709      44601018        69      20.00\n",
       " 710      44601018        70      20.00\n",
       " \n",
       " [711 rows x 3 columns]}"
      ]
     },
     "execution_count": 390,
     "metadata": {},
     "output_type": "execute_result"
    }
   ],
   "source": [
    "prepared_bases"
   ]
  },
  {
   "cell_type": "code",
   "execution_count": 18,
   "id": "27a3c776",
   "metadata": {},
   "outputs": [],
   "source": [
    "def full_transactions_to_base_transactions(full_txns, out_code):\n",
    "    time_df = full_txns.copy(deep=True)\n",
    "\n",
    "    time_df['TXN - Transaction Date'] = pd.to_datetime(time_df['TXN - Transaction Date'])\n",
    "    #print(time_df)\n",
    "\n",
    "    print(\"Calculated time df\")\n",
    "\n",
    "    out_codes = ('030')\n",
    "    today = datetime.date.today()\n",
    "    # Filter to only out codes\n",
    "    # IMPORTANT NOTE: OUT CODES ARE ONLY 030. \n",
    "\n",
    "    print(\"filtering out df\")\n",
    "    out_df = time_df.loc[time_df['TXN - Transaction Type'] ==  out_code]\n",
    "    \n",
    "    return out_df"
   ]
  },
  {
   "cell_type": "code",
   "execution_count": 406,
   "id": "8e44cda7",
   "metadata": {},
   "outputs": [],
   "source": [
    "def calc_min_and_leadtime(part_df, part_number, all_lead_times, recency=60):\n",
    "    recent_parts = part_df.loc[part_df['Quarters'] >= recency]\n",
    "    \n",
    "    usage_mean = recent_parts.groupby('TXN - Item ID')['TXN - Qty'].mean()[part_number]\n",
    "    usage_std = recent_parts.groupby('TXN - Item ID')['TXN - Qty'].std()[part_number]\n",
    "    \n",
    "    lead_time_quarters = part_df.groupby('TXN - Item ID')['Lead Time'].mean()[part_number] / 91.25\n",
    "    \n",
    "    if part_number in all_lead_times['Inv_Item'].unique():\n",
    "        lead_time_std = all_lead_times.groupby('Inv_Item')['Lead Time'].std(ddof = 0)[part_number] / 91.25\n",
    "    else:\n",
    "        print('Part {} not found in lead time dataframe.'.format(part_number))\n",
    "        lead_time_std = np.nan\n",
    "    \n",
    "    return {'part_number':part_number, 'usage_mean':usage_mean, 'lead_time':lead_time_quarters, \\\n",
    "           'lead_time_std':lead_time_std, 'usage_std':usage_std}"
   ]
  },
  {
   "cell_type": "code",
   "execution_count": null,
   "id": "2f77a02f",
   "metadata": {},
   "outputs": [],
   "source": [
    "# We need a common dataframe of parts with their lead times"
   ]
  },
  {
   "cell_type": "code",
   "execution_count": 21,
   "id": "49bb2790",
   "metadata": {},
   "outputs": [],
   "source": [
    "def calc_part_mins(quarter_df, recency=60):\n",
    "    # Part df has 'Quarters', 'Qty'\n",
    "    \n",
    "    # Here, we get the means and stds for each part.\n",
    "    recent_parts = quarter_df.loc[quarter_df['Quarters'] >= recency]\n",
    "    \n",
    "    usage_mean = recent_parts.groupby('TXN - Item ID')['TXN - Qty'].mean()\n",
    "    usage_std = recent_parts.groupby('TXN - Item ID')['TXN - Qty'].std(ddof=0)\n",
    "    \n",
    "    usage_mean.rename('usage_mean', inplace=True)\n",
    "    usage_std.rename('usage_std', inplace=True)\n",
    "    \n",
    "    final_df = pd.concat([usage_mean, usage_std], axis=1)\n",
    "    \n",
    "    return final_df"
   ]
  },
  {
   "cell_type": "code",
   "execution_count": 10,
   "id": "ca6b90c1",
   "metadata": {},
   "outputs": [],
   "source": [
    "def quarters_to_parts(quarter_df, lead_time_df):\n",
    "    # Get part usage (mean and std)\n",
    "    calculated_mins_df = calc_part_mins(quarter_df)\n",
    "    \n",
    "    # Process lead time dataframe\n",
    "    lead_time_df['Recv Date'] = pd.to_datetime(lead_time_df['Recv Date'])\n",
    "    lead_time_df['PO Date'] = pd.to_datetime(lead_time_df['PO Date'])\n",
    "    lead_time_df['Lead Time'] = (lead_time_df['Recv Date'] - lead_time_df['PO Date']).astype('timedelta64[D]').astype('int')\n",
    "    \n",
    "    # Filter by column\n",
    "    pure_lead_time_df = lead_time_df[['Lead Time', 'Inv_Item', 'PO Date']]\n",
    "    \n",
    "    # Sum by Part\n",
    "    historical_lead_time = pure_lead_time_df.copy(deep = True)\n",
    "    historical_lead_time.rename(columns={'Inv_Item':'TXN - Item ID'}, inplace=True)\n",
    "    historical_lead_time = historical_lead_time[['Lead Time', 'TXN - Item ID']]\n",
    "\n",
    "    mean_lead_time = historical_lead_time.groupby('TXN - Item ID').mean() / 91.25\n",
    "    std_lead_time = historical_lead_time.groupby('TXN - Item ID').std(ddof=0) / 91.25\n",
    "    \n",
    "    #print(mean_lead_time)\n",
    "    mean_lead_time.reset_index(inplace=True)\n",
    "    std_lead_time.reset_index(inplace=True)\n",
    "    \n",
    "    aggregate_lead_time_df = pd.concat([mean_lead_time, std_lead_time], axis=1)\n",
    "    #print(aggregate_lead_time_df)\n",
    "    \n",
    "    aggregate_lead_time_df = aggregate_lead_time_df.iloc[:, [0, 1, 3]]\n",
    "    \n",
    "    aggregate_lead_time_df.columns=['TXN - Item ID', 'leadtime_mean', 'leadtime_std']\n",
    "    \n",
    "    return calculated_mins_df.merge(aggregate_lead_time_df, how='left', on='TXN - Item ID')"
   ]
  },
  {
   "cell_type": "markdown",
   "id": "7ba39a38",
   "metadata": {},
   "source": [
    "Fold in lead time after calculating part usage."
   ]
  },
  {
   "cell_type": "code",
   "execution_count": 19,
   "id": "49b93059",
   "metadata": {},
   "outputs": [
    {
     "name": "stdout",
     "output_type": "stream",
     "text": [
      "Calculated time df\n",
      "filtering out df\n"
     ]
    },
    {
     "name": "stderr",
     "output_type": "stream",
     "text": [
      "/Users/pbenson/opt/anaconda3/lib/python3.9/site-packages/openpyxl/styles/stylesheet.py:226: UserWarning: Workbook contains no default style, apply openpyxl's default\n",
      "  warn(\"Workbook contains no default style, apply openpyxl's default\")\n"
     ]
    }
   ],
   "source": [
    "full_base_dict = {}\n",
    "active_bases = last_2_years_df['TXN - Unit'].unique()\n",
    "out_df = full_transactions_to_base_transactions(txn_df, '030')\n",
    "\n",
    "lead_time_df = pd.read_excel(txn_dirPath + 'PB_RECEIPTS_V3B_KATE_557.xlsx', header=1)"
   ]
  },
  {
   "cell_type": "code",
   "execution_count": 471,
   "id": "be141aaa",
   "metadata": {},
   "outputs": [
    {
     "name": "stderr",
     "output_type": "stream",
     "text": [
      "\r",
      "  0%|                                                                                                                                                                                | 0/20 [00:00<?, ?it/s]"
     ]
    },
    {
     "name": "stdout",
     "output_type": "stream",
     "text": [
      "Getting transactions\n",
      "Getting quarter dataframe\n",
      "Getting part dataframe\n"
     ]
    },
    {
     "name": "stderr",
     "output_type": "stream",
     "text": [
      "\r",
      "  5%|████████▍                                                                                                                                                               | 1/20 [00:02<00:51,  2.74s/it]"
     ]
    },
    {
     "name": "stdout",
     "output_type": "stream",
     "text": [
      "Getting transactions\n",
      "Getting quarter dataframe\n",
      "Getting part dataframe\n"
     ]
    },
    {
     "name": "stderr",
     "output_type": "stream",
     "text": [
      "\r",
      " 10%|████████████████▊                                                                                                                                                       | 2/20 [00:05<00:49,  2.77s/it]"
     ]
    },
    {
     "name": "stdout",
     "output_type": "stream",
     "text": [
      "Getting transactions\n",
      "Getting quarter dataframe\n",
      "Getting part dataframe\n"
     ]
    },
    {
     "name": "stderr",
     "output_type": "stream",
     "text": [
      "\r",
      " 15%|█████████████████████████▏                                                                                                                                              | 3/20 [00:07<00:41,  2.46s/it]"
     ]
    },
    {
     "name": "stdout",
     "output_type": "stream",
     "text": [
      "Getting transactions\n",
      "Getting quarter dataframe\n",
      "Getting part dataframe\n"
     ]
    },
    {
     "name": "stderr",
     "output_type": "stream",
     "text": [
      "\r",
      " 20%|█████████████████████████████████▌                                                                                                                                      | 4/20 [00:09<00:32,  2.05s/it]"
     ]
    },
    {
     "name": "stdout",
     "output_type": "stream",
     "text": [
      "Getting transactions\n",
      "Getting quarter dataframe\n",
      "Getting part dataframe\n"
     ]
    },
    {
     "name": "stderr",
     "output_type": "stream",
     "text": [
      "\r",
      " 25%|██████████████████████████████████████████                                                                                                                              | 5/20 [00:10<00:29,  1.94s/it]"
     ]
    },
    {
     "name": "stdout",
     "output_type": "stream",
     "text": [
      "Getting transactions\n",
      "Getting quarter dataframe\n",
      "Getting part dataframe\n"
     ]
    },
    {
     "name": "stderr",
     "output_type": "stream",
     "text": [
      "\r",
      " 30%|██████████████████████████████████████████████████▍                                                                                                                     | 6/20 [00:12<00:28,  2.03s/it]"
     ]
    },
    {
     "name": "stdout",
     "output_type": "stream",
     "text": [
      "Getting transactions\n",
      "Getting quarter dataframe\n",
      "Getting part dataframe\n"
     ]
    },
    {
     "name": "stderr",
     "output_type": "stream",
     "text": [
      "\r",
      " 35%|██████████████████████████████████████████████████████████▊                                                                                                             | 7/20 [00:14<00:24,  1.90s/it]"
     ]
    },
    {
     "name": "stdout",
     "output_type": "stream",
     "text": [
      "Getting transactions\n",
      "Getting quarter dataframe\n",
      "Getting part dataframe\n"
     ]
    },
    {
     "name": "stderr",
     "output_type": "stream",
     "text": [
      "\r",
      " 40%|███████████████████████████████████████████████████████████████████▏                                                                                                    | 8/20 [00:15<00:20,  1.69s/it]"
     ]
    },
    {
     "name": "stdout",
     "output_type": "stream",
     "text": [
      "Getting transactions\n",
      "Getting quarter dataframe\n",
      "Getting part dataframe\n"
     ]
    },
    {
     "name": "stderr",
     "output_type": "stream",
     "text": [
      "\r",
      " 45%|███████████████████████████████████████████████████████████████████████████▌                                                                                            | 9/20 [00:17<00:17,  1.60s/it]"
     ]
    },
    {
     "name": "stdout",
     "output_type": "stream",
     "text": [
      "Getting transactions\n",
      "Getting quarter dataframe\n",
      "Getting part dataframe\n"
     ]
    },
    {
     "name": "stderr",
     "output_type": "stream",
     "text": [
      "\r",
      " 50%|███████████████████████████████████████████████████████████████████████████████████▌                                                                                   | 10/20 [00:19<00:17,  1.72s/it]"
     ]
    },
    {
     "name": "stdout",
     "output_type": "stream",
     "text": [
      "Getting transactions\n",
      "Getting quarter dataframe\n",
      "Getting part dataframe\n"
     ]
    },
    {
     "name": "stderr",
     "output_type": "stream",
     "text": [
      "\r",
      " 55%|███████████████████████████████████████████████████████████████████████████████████████████▊                                                                           | 11/20 [00:20<00:13,  1.55s/it]"
     ]
    },
    {
     "name": "stdout",
     "output_type": "stream",
     "text": [
      "Getting transactions\n",
      "Getting quarter dataframe\n",
      "Getting part dataframe\n"
     ]
    },
    {
     "name": "stderr",
     "output_type": "stream",
     "text": [
      "\r",
      " 60%|████████████████████████████████████████████████████████████████████████████████████████████████████▏                                                                  | 12/20 [00:21<00:10,  1.35s/it]"
     ]
    },
    {
     "name": "stdout",
     "output_type": "stream",
     "text": [
      "Getting transactions\n",
      "Getting quarter dataframe\n",
      "Getting part dataframe\n"
     ]
    },
    {
     "name": "stderr",
     "output_type": "stream",
     "text": [
      "\r",
      " 65%|████████████████████████████████████████████████████████████████████████████████████████████████████████████▌                                                          | 13/20 [00:22<00:08,  1.25s/it]"
     ]
    },
    {
     "name": "stdout",
     "output_type": "stream",
     "text": [
      "Getting transactions\n",
      "Getting quarter dataframe\n",
      "Getting part dataframe\n"
     ]
    },
    {
     "name": "stderr",
     "output_type": "stream",
     "text": [
      "\r",
      " 70%|████████████████████████████████████████████████████████████████████████████████████████████████████████████████████▉                                                  | 14/20 [00:23<00:07,  1.19s/it]"
     ]
    },
    {
     "name": "stdout",
     "output_type": "stream",
     "text": [
      "Getting transactions\n",
      "Getting quarter dataframe\n",
      "Getting part dataframe\n"
     ]
    },
    {
     "name": "stderr",
     "output_type": "stream",
     "text": [
      "\r",
      " 75%|█████████████████████████████████████████████████████████████████████████████████████████████████████████████████████████████▎                                         | 15/20 [00:23<00:04,  1.02it/s]"
     ]
    },
    {
     "name": "stdout",
     "output_type": "stream",
     "text": [
      "Getting transactions\n",
      "Getting quarter dataframe\n",
      "Getting part dataframe\n"
     ]
    },
    {
     "name": "stderr",
     "output_type": "stream",
     "text": [
      "\r",
      " 80%|█████████████████████████████████████████████████████████████████████████████████████████████████████████████████████████████████████▌                                 | 16/20 [00:25<00:04,  1.13s/it]"
     ]
    },
    {
     "name": "stdout",
     "output_type": "stream",
     "text": [
      "Getting transactions\n",
      "Getting quarter dataframe\n",
      "Getting part dataframe\n"
     ]
    },
    {
     "name": "stderr",
     "output_type": "stream",
     "text": [
      "\r",
      " 85%|█████████████████████████████████████████████████████████████████████████████████████████████████████████████████████████████████████████████▉                         | 17/20 [00:26<00:03,  1.01s/it]"
     ]
    },
    {
     "name": "stdout",
     "output_type": "stream",
     "text": [
      "Getting transactions\n",
      "Getting quarter dataframe\n",
      "Getting part dataframe\n"
     ]
    },
    {
     "name": "stderr",
     "output_type": "stream",
     "text": [
      "\r",
      " 90%|██████████████████████████████████████████████████████████████████████████████████████████████████████████████████████████████████████████████████████▎                | 18/20 [00:26<00:01,  1.20it/s]"
     ]
    },
    {
     "name": "stdout",
     "output_type": "stream",
     "text": [
      "Getting transactions\n",
      "Getting quarter dataframe\n",
      "Getting part dataframe\n"
     ]
    },
    {
     "name": "stderr",
     "output_type": "stream",
     "text": [
      "\r",
      " 95%|██████████████████████████████████████████████████████████████████████████████████████████████████████████████████████████████████████████████████████████████▋        | 19/20 [00:27<00:00,  1.36it/s]"
     ]
    },
    {
     "name": "stdout",
     "output_type": "stream",
     "text": [
      "Getting transactions\n",
      "Getting quarter dataframe\n",
      "Getting part dataframe\n"
     ]
    },
    {
     "name": "stderr",
     "output_type": "stream",
     "text": [
      "100%|███████████████████████████████████████████████████████████████████████████████████████████████████████████████████████████████████████████████████████████████████████| 20/20 [00:27<00:00,  1.37s/it]\n"
     ]
    }
   ],
   "source": [
    "for base in tqdm(active_bases):\n",
    "    # Setup base dataframe slots\n",
    "    full_base_dict[base] = {}\n",
    "    \n",
    "    # get the base txn dataframes\n",
    "    print('Getting transactions')\n",
    "    full_base_dict[base]['txn_df'] = out_df.loc[out_df['TXN - Unit'] == base]\n",
    "    \n",
    "    # base quarter dataframes\n",
    "    print('Getting quarter dataframe')\n",
    "    full_base_dict[base]['quarter_df'] = transactions_to_quarters(full_base_dict[base]['txn_df'], filter_unused=False)\n",
    "    \n",
    "    # base part dataframes (with lead time)\n",
    "    print('Getting part dataframe')\n",
    "    full_base_dict[base]['part_df'] = quarters_to_parts(full_base_dict[base]['quarter_df'], lead_time_df)\n"
   ]
  },
  {
   "cell_type": "code",
   "execution_count": 472,
   "id": "51790302",
   "metadata": {},
   "outputs": [
    {
     "data": {
      "text/plain": [
       "{'txn_df':          TXN - Sequence Nbr TXN - Transaction Type TXN - Unit  \\\n",
       " 62026       134086400000002                    030      CS004   \n",
       " 62027       134101100000003                    030      CS004   \n",
       " 62089       133924100000007                    030      CS004   \n",
       " 62090       133930200000001                    030      CS004   \n",
       " 62091       133978900000004                    030      CS004   \n",
       " ...                     ...                    ...        ...   \n",
       " 7259790     129474600000005                    030      CS004   \n",
       " 7259942     129474600000002                    030      CS004   \n",
       " 7260267     129452100000001                    030      CS004   \n",
       " 7264027     129974800000001                    030      CS004   \n",
       " 7264099     129968900000002                    030      CS004   \n",
       " \n",
       "         TXN - Destination Unit TXN - Transaction Date     TXN - Time Stamp  \\\n",
       " 62026                      NaN             2019-10-01  2019/10/01 17:29:28   \n",
       " 62027                      NaN             2019-10-01  2019/10/01 18:20:07   \n",
       " 62089                      NaN             2019-10-01  2019/10/01 11:09:54   \n",
       " 62090                      NaN             2019-10-01  2019/10/01 11:30:11   \n",
       " 62091                      NaN             2019-10-01  2019/10/01 13:10:05   \n",
       " ...                        ...                    ...                  ...   \n",
       " 7259790                    NaN             2020-06-25  2020/06/25 15:41:15   \n",
       " 7259942                    NaN             2020-06-25  2020/06/25 15:41:15   \n",
       " 7260267                    NaN             2020-06-25  2020/06/25 14:21:14   \n",
       " 7264027                    NaN             2020-06-26  2020/06/26 20:20:16   \n",
       " 7264099                    NaN             2020-06-26  2020/06/26 20:00:43   \n",
       " \n",
       "         TXN - Order No TXN - Item ID          TXN - Item Description  \\\n",
       " 62026       0000876531      02409803  TUB ONLY-NO SOAP WASHING DOLLY   \n",
       " 62027       0000879751      42609004   PAINT GUN WASH AND CLEANER, 5   \n",
       " 62089       0000879591      31012165  BOLT-MACH SQ HD 1-8X 11\" W/AMR   \n",
       " 62090       0000879591      02067021  WASHER-7/8 SPRING LOCK ASA X H   \n",
       " 62091       0000879591      31471443  PUNCH-TRACK RND PT AREA PLAN 1   \n",
       " ...                ...           ...                             ...   \n",
       " 7259790     0000922756      31471135  COOLER-HVY DUTY PLAS TIC 5 GAL   \n",
       " 7259942     0000920151      31471135  COOLER-HVY DUTY PLAS TIC 5 GAL   \n",
       " 7260267     0000923557      30728006  PADLOCK & CYLINDER   BRASS USE   \n",
       " 7264027     0000893886      03211190  SHAFT-FAN DRIVE FOR  D-4 AIR C   \n",
       " 7264099     0000906618      02412072   SOAP - ANTIMICROBIAL (VIONEX)   \n",
       " \n",
       "          TXN - Qty  ...  TXN - Recpt Type  TXN - Cost Element TXN - Last Adj  \\\n",
       " 62026         2.00  ...               NaN                 100            NaN   \n",
       " 62027         6.00  ...               NaN                 100            NaN   \n",
       " 62089        12.00  ...               NaN                 100            NaN   \n",
       " 62090       100.00  ...               NaN                 100            NaN   \n",
       " 62091        12.00  ...               NaN                 100            NaN   \n",
       " ...            ...  ...               ...                 ...            ...   \n",
       " 7259790       2.00  ...               NaN                 100            NaN   \n",
       " 7259942       2.00  ...               NaN                 100            NaN   \n",
       " 7260267      75.00  ...               NaN                 100            NaN   \n",
       " 7264027      20.00  ...               NaN                 100            NaN   \n",
       " 7264099     120.00  ...               NaN                 100            NaN   \n",
       " \n",
       "         TXN - Last Order TXN - Last Date TXN - Last Ptwy TXN - Qty Avail  \\\n",
       " 62026                NaN             NaN             NaN             NaN   \n",
       " 62027                NaN             NaN             NaN             NaN   \n",
       " 62089                NaN             NaN             NaN             NaN   \n",
       " 62090                NaN             NaN             NaN             NaN   \n",
       " 62091                NaN             NaN             NaN             NaN   \n",
       " ...                  ...             ...             ...             ...   \n",
       " 7259790              NaN             NaN             NaN             NaN   \n",
       " 7259942              NaN             NaN             NaN             NaN   \n",
       " 7260267              NaN             NaN             NaN             NaN   \n",
       " 7264027              NaN             NaN             NaN             NaN   \n",
       " 7264099              NaN             NaN             NaN             NaN   \n",
       " \n",
       "         TXN - Qty Reserved TXN - Qty Owned TXN - Qty On Hand  \n",
       " 62026                  NaN             NaN               NaN  \n",
       " 62027                  NaN             NaN               NaN  \n",
       " 62089                  NaN             NaN               NaN  \n",
       " 62090                  NaN             NaN               NaN  \n",
       " 62091                  NaN             NaN               NaN  \n",
       " ...                    ...             ...               ...  \n",
       " 7259790                NaN             NaN               NaN  \n",
       " 7259942                NaN             NaN               NaN  \n",
       " 7260267                NaN             NaN               NaN  \n",
       " 7264027                NaN             NaN               NaN  \n",
       " 7264099                NaN             NaN               NaN  \n",
       " \n",
       " [37638 rows x 85 columns],\n",
       " 'quarter_df':       TXN - Item ID  Quarters  TXN - Qty\n",
       " 0          00170009        62      85.00\n",
       " 1          00170009        63      50.00\n",
       " 2          00170009        69     100.00\n",
       " 3          00170009        71     160.00\n",
       " 4          00170020        66       1.00\n",
       " ...             ...       ...        ...\n",
       " 19508      45050114        63       3.00\n",
       " 19509      45050114        64      23.00\n",
       " 19510      45050114        66       5.00\n",
       " 19511      45050114        67      21.00\n",
       " 19512      45050114        70      50.00\n",
       " \n",
       " [19513 rows x 3 columns],\n",
       " 'part_df':      TXN - Item ID  usage_mean  usage_std  leadtime_mean  leadtime_std\n",
       " 0         00170009       98.75      39.75           0.31          0.47\n",
       " 1         00170020        1.50       0.50           0.10          0.02\n",
       " 2         00170033       10.00       0.00           0.14          0.00\n",
       " 3         00176001        4.00       0.00           0.08          0.18\n",
       " 4         00245007       40.00      20.00           0.07          0.04\n",
       " ...            ...         ...        ...            ...           ...\n",
       " 4590      44962002       73.00      46.15           0.58          0.50\n",
       " 4591      45050025      400.00       0.00           0.19          0.26\n",
       " 4592      45050037      600.00       0.00           1.19          0.45\n",
       " 4593      45050038       13.33       4.71           1.51          0.36\n",
       " 4594      45050114       21.00      15.46           1.07          0.34\n",
       " \n",
       " [4595 rows x 5 columns]}"
      ]
     },
     "execution_count": 472,
     "metadata": {},
     "output_type": "execute_result"
    }
   ],
   "source": [
    "full_base_dict['CS004']"
   ]
  },
  {
   "cell_type": "code",
   "execution_count": 473,
   "id": "4e5e5429",
   "metadata": {},
   "outputs": [
    {
     "data": {
      "text/plain": [
       "{'txn_df':          TXN - Sequence Nbr TXN - Transaction Type TXN - Unit  \\\n",
       " 1244        166251700000007                    030      BS018   \n",
       " 1245        166251700000008                    030      BS018   \n",
       " 1246        166251700000009                    030      BS018   \n",
       " 1247        166297700000006                    030      BS018   \n",
       " 1248        166297700000007                    030      BS018   \n",
       " ...                     ...                    ...        ...   \n",
       " 7265965     130948400000001                    030      BS018   \n",
       " 7265966     130948400000005                    030      BS018   \n",
       " 7265967     130948400000011                    030      BS018   \n",
       " 7265974     130948400000002                    030      BS018   \n",
       " 7265975     130948400000006                    030      BS018   \n",
       " \n",
       "         TXN - Destination Unit TXN - Transaction Date     TXN - Time Stamp  \\\n",
       " 1244                       NaN             2009-10-01  2009/10/01 06:20:25   \n",
       " 1245                       NaN             2009-10-01  2009/10/01 06:20:25   \n",
       " 1246                       NaN             2009-10-01  2009/10/01 06:20:25   \n",
       " 1247                       NaN             2009-10-01  2009/10/01 09:35:10   \n",
       " 1248                       NaN             2009-10-01  2009/10/01 09:35:10   \n",
       " ...                        ...                    ...                  ...   \n",
       " 7265965                    NaN             2020-06-30  2020/06/30 02:20:54   \n",
       " 7265966                    NaN             2020-06-30  2020/06/30 02:20:54   \n",
       " 7265967                    NaN             2020-06-30  2020/06/30 02:20:54   \n",
       " 7265974                    NaN             2020-06-30  2020/06/30 02:20:54   \n",
       " 7265975                    NaN             2020-06-30  2020/06/30 02:20:54   \n",
       " \n",
       "         TXN - Order No TXN - Item ID          TXN - Item Description  \\\n",
       " 1244        MSR0683050      02688333                    TUBE EXHAUST   \n",
       " 1245        MSR0683051      04588063                  OUTLET ADAPTER   \n",
       " 1246        MSR0683054      02051265  SCRW-SM,TYP A(TAP),H EX,ZNC,PH   \n",
       " 1247        MSR0683246      04394020              HUMP HOSE, RED 3X6   \n",
       " 1248        MSR0683246      04569135             KIT, UNLOADER VALVE   \n",
       " ...                ...           ...                             ...   \n",
       " 7265965     MSR2528856      04281096            Gasket-Marmon 5 inch   \n",
       " 7265966     MSR2528860      05294014   SWITCH, HIGH PRESSURE CUTOUT(   \n",
       " 7265967     MSR2528866      05261222  O-RING, DISCHARGE HOSE  ( T.K.   \n",
       " 7265974     MSR2528857      04295441  SPACER, MOUNTING, EXHAUST MANI   \n",
       " 7265975     MSR2528861      05295044  HARNESS COMPRESSOR ( THERMO KI   \n",
       " \n",
       "          TXN - Qty  ...  TXN - Recpt Type  TXN - Cost Element TXN - Last Adj  \\\n",
       " 1244          3.00  ...               NaN                 100            NaN   \n",
       " 1245          3.00  ...               NaN                 100            NaN   \n",
       " 1246        300.00  ...               NaN                 100            NaN   \n",
       " 1247          2.00  ...               NaN                 100            NaN   \n",
       " 1248          4.00  ...               NaN                 100            NaN   \n",
       " ...            ...  ...               ...                 ...            ...   \n",
       " 7265965       1.00  ...               NaN                 100            NaN   \n",
       " 7265966       1.00  ...               NaN                 100            NaN   \n",
       " 7265967       1.00  ...               NaN                 100            NaN   \n",
       " 7265974       2.00  ...               NaN                 100            NaN   \n",
       " 7265975       1.00  ...               NaN                 100            NaN   \n",
       " \n",
       "         TXN - Last Order TXN - Last Date TXN - Last Ptwy TXN - Qty Avail  \\\n",
       " 1244                 NaN             NaN             NaN             NaN   \n",
       " 1245                 NaN             NaN             NaN             NaN   \n",
       " 1246                 NaN             NaN             NaN             NaN   \n",
       " 1247                 NaN             NaN             NaN             NaN   \n",
       " 1248                 NaN             NaN             NaN             NaN   \n",
       " ...                  ...             ...             ...             ...   \n",
       " 7265965              NaN             NaN             NaN             NaN   \n",
       " 7265966              NaN             NaN             NaN             NaN   \n",
       " 7265967              NaN             NaN             NaN             NaN   \n",
       " 7265974              NaN             NaN             NaN             NaN   \n",
       " 7265975              NaN             NaN             NaN             NaN   \n",
       " \n",
       "         TXN - Qty Reserved TXN - Qty Owned TXN - Qty On Hand  \n",
       " 1244                   NaN             NaN               NaN  \n",
       " 1245                   NaN             NaN               NaN  \n",
       " 1246                   NaN             NaN               NaN  \n",
       " 1247                   NaN             NaN               NaN  \n",
       " 1248                   NaN             NaN               NaN  \n",
       " ...                    ...             ...               ...  \n",
       " 7265965                NaN             NaN               NaN  \n",
       " 7265966                NaN             NaN               NaN  \n",
       " 7265967                NaN             NaN               NaN  \n",
       " 7265974                NaN             NaN               NaN  \n",
       " 7265975                NaN             NaN               NaN  \n",
       " \n",
       " [416814 rows x 85 columns],\n",
       " 'quarter_df':       TXN - Item ID  Quarters  TXN - Qty\n",
       " 0          00170074        10       1.00\n",
       " 1          00170074        13       1.00\n",
       " 2          00170074        36       9.00\n",
       " 3          00170074        47       1.00\n",
       " 4          00173018         9       8.00\n",
       " ...             ...       ...        ...\n",
       " 79907      R2695002        44      18.00\n",
       " 79908      R2695002        45      12.00\n",
       " 79909      R2695002        46       6.00\n",
       " 79910      R2695002        47      17.00\n",
       " 79911      R2695002        59       1.00\n",
       " \n",
       " [79912 rows x 3 columns],\n",
       " 'part_df':      TXN - Item ID  usage_mean  usage_std  leadtime_mean  leadtime_std\n",
       " 0         00173018        1.00       0.00           0.20          0.08\n",
       " 1         00250052      220.00       0.00           0.15          0.23\n",
       " 2         00250067        1.00       0.00           0.19          0.14\n",
       " 3         00250113     1097.00       0.00           0.47          0.44\n",
       " 4         00250129      440.00       0.00           0.44          0.42\n",
       " ...            ...         ...        ...            ...           ...\n",
       " 2571      42540552        4.20       2.04           0.18          0.08\n",
       " 2572      42552324        1.00       0.00           0.57          0.65\n",
       " 2573      42567101        2.00       0.82           0.21          0.10\n",
       " 2574      43096029        4.00       0.00            NaN           NaN\n",
       " 2575      45020001        5.00       7.01           0.22          0.28\n",
       " \n",
       " [2576 rows x 5 columns]}"
      ]
     },
     "execution_count": 473,
     "metadata": {},
     "output_type": "execute_result"
    }
   ],
   "source": [
    "full_base_dict['BS018']"
   ]
  },
  {
   "cell_type": "markdown",
   "id": "3a257baa",
   "metadata": {},
   "source": [
    "Three types of dataframes:\n",
    "1. Transaction data frame (txn_df)\n",
    "2. Binned quarters dataframe\n",
    "3. Part-specific dataframe (with lead time)\n",
    "\n",
    "Could implement something base-specific that had three keys: 'txns', 'quarters' and 'parts'"
   ]
  },
  {
   "cell_type": "markdown",
   "id": "f9244362",
   "metadata": {},
   "source": [
    "### Visualize Base Transactions"
   ]
  },
  {
   "cell_type": "code",
   "execution_count": 475,
   "id": "4a94c6e1",
   "metadata": {},
   "outputs": [
    {
     "data": {
      "text/html": [
       "<div>\n",
       "<style scoped>\n",
       "    .dataframe tbody tr th:only-of-type {\n",
       "        vertical-align: middle;\n",
       "    }\n",
       "\n",
       "    .dataframe tbody tr th {\n",
       "        vertical-align: top;\n",
       "    }\n",
       "\n",
       "    .dataframe thead th {\n",
       "        text-align: right;\n",
       "    }\n",
       "</style>\n",
       "<table border=\"1\" class=\"dataframe\">\n",
       "  <thead>\n",
       "    <tr style=\"text-align: right;\">\n",
       "      <th></th>\n",
       "      <th>TXN - Item ID</th>\n",
       "      <th>usage_mean</th>\n",
       "      <th>usage_std</th>\n",
       "      <th>leadtime_mean</th>\n",
       "      <th>leadtime_std</th>\n",
       "    </tr>\n",
       "  </thead>\n",
       "  <tbody>\n",
       "    <tr>\n",
       "      <th>326</th>\n",
       "      <td>02440210</td>\n",
       "      <td>3100.00</td>\n",
       "      <td>1775.14</td>\n",
       "      <td>1.18</td>\n",
       "      <td>1.05</td>\n",
       "    </tr>\n",
       "    <tr>\n",
       "      <th>1902</th>\n",
       "      <td>04595020</td>\n",
       "      <td>2504.75</td>\n",
       "      <td>528.99</td>\n",
       "      <td>0.53</td>\n",
       "      <td>0.52</td>\n",
       "    </tr>\n",
       "    <tr>\n",
       "      <th>248</th>\n",
       "      <td>02409106</td>\n",
       "      <td>1764.29</td>\n",
       "      <td>794.05</td>\n",
       "      <td>0.65</td>\n",
       "      <td>0.68</td>\n",
       "    </tr>\n",
       "    <tr>\n",
       "      <th>496</th>\n",
       "      <td>02591563</td>\n",
       "      <td>1487.50</td>\n",
       "      <td>213.23</td>\n",
       "      <td>0.35</td>\n",
       "      <td>0.43</td>\n",
       "    </tr>\n",
       "    <tr>\n",
       "      <th>2497</th>\n",
       "      <td>31452001</td>\n",
       "      <td>1250.00</td>\n",
       "      <td>50.00</td>\n",
       "      <td>0.33</td>\n",
       "      <td>0.30</td>\n",
       "    </tr>\n",
       "    <tr>\n",
       "      <th>...</th>\n",
       "      <td>...</td>\n",
       "      <td>...</td>\n",
       "      <td>...</td>\n",
       "      <td>...</td>\n",
       "      <td>...</td>\n",
       "    </tr>\n",
       "    <tr>\n",
       "      <th>1845</th>\n",
       "      <td>04587026</td>\n",
       "      <td>1.00</td>\n",
       "      <td>0.00</td>\n",
       "      <td>0.17</td>\n",
       "      <td>0.14</td>\n",
       "    </tr>\n",
       "    <tr>\n",
       "      <th>1846</th>\n",
       "      <td>04587029</td>\n",
       "      <td>1.00</td>\n",
       "      <td>0.00</td>\n",
       "      <td>0.16</td>\n",
       "      <td>0.15</td>\n",
       "    </tr>\n",
       "    <tr>\n",
       "      <th>1847</th>\n",
       "      <td>04587048</td>\n",
       "      <td>1.00</td>\n",
       "      <td>0.00</td>\n",
       "      <td>0.22</td>\n",
       "      <td>0.49</td>\n",
       "    </tr>\n",
       "    <tr>\n",
       "      <th>1850</th>\n",
       "      <td>04588017</td>\n",
       "      <td>1.00</td>\n",
       "      <td>0.00</td>\n",
       "      <td>0.33</td>\n",
       "      <td>0.25</td>\n",
       "    </tr>\n",
       "    <tr>\n",
       "      <th>0</th>\n",
       "      <td>00173018</td>\n",
       "      <td>1.00</td>\n",
       "      <td>0.00</td>\n",
       "      <td>0.20</td>\n",
       "      <td>0.08</td>\n",
       "    </tr>\n",
       "  </tbody>\n",
       "</table>\n",
       "<p>2576 rows × 5 columns</p>\n",
       "</div>"
      ],
      "text/plain": [
       "     TXN - Item ID  usage_mean  usage_std  leadtime_mean  leadtime_std\n",
       "326       02440210     3100.00    1775.14           1.18          1.05\n",
       "1902      04595020     2504.75     528.99           0.53          0.52\n",
       "248       02409106     1764.29     794.05           0.65          0.68\n",
       "496       02591563     1487.50     213.23           0.35          0.43\n",
       "2497      31452001     1250.00      50.00           0.33          0.30\n",
       "...            ...         ...        ...            ...           ...\n",
       "1845      04587026        1.00       0.00           0.17          0.14\n",
       "1846      04587029        1.00       0.00           0.16          0.15\n",
       "1847      04587048        1.00       0.00           0.22          0.49\n",
       "1850      04588017        1.00       0.00           0.33          0.25\n",
       "0         00173018        1.00       0.00           0.20          0.08\n",
       "\n",
       "[2576 rows x 5 columns]"
      ]
     },
     "execution_count": 475,
     "metadata": {},
     "output_type": "execute_result"
    }
   ],
   "source": [
    "# Pick a part with very high usage – likely to be shared among all bases. \n",
    "\n",
    "full_base_dict['BS018']['part_df'].sort_values('usage_mean', ascending=False)"
   ]
  },
  {
   "cell_type": "code",
   "execution_count": 477,
   "id": "574995a7",
   "metadata": {},
   "outputs": [],
   "source": [
    "import pickle\n",
    "pickle.dump(full_base_dict, open('Data/full_base_dict.pickle', 'wb'))"
   ]
  },
  {
   "cell_type": "code",
   "execution_count": null,
   "id": "2507b359",
   "metadata": {},
   "outputs": [],
   "source": [
    "example_part = '04595020'\n",
    "\n",
    "# Get that part's usage for all bases.\n",
    "# X axis: base, y axis: usage. bars with STD. (Boxplot)\n",
    "\n",
    "example_part_rows = []\n",
    "\n",
    "for base in active_bases: \n",
    "    part_row = full_base_dict"
   ]
  },
  {
   "cell_type": "markdown",
   "id": "37b1d052",
   "metadata": {},
   "source": [
    "#### Also need to bin SKU's by lead time"
   ]
  },
  {
   "cell_type": "code",
   "execution_count": null,
   "id": "537d81ea",
   "metadata": {},
   "outputs": [],
   "source": [
    "# The cutoff will be an extreme lead time is one that is greater than one quarter.   "
   ]
  },
  {
   "cell_type": "markdown",
   "id": "d219a239",
   "metadata": {},
   "source": [
    "#### Factor in Cost of purchases as well"
   ]
  },
  {
   "cell_type": "code",
   "execution_count": 8,
   "id": "fb71b887",
   "metadata": {},
   "outputs": [],
   "source": [
    "def transactions_to_quarters_central(original_dataframe, filter_unused = True):\n",
    "    # This dataframe must have Transaction Date, Transaction Type, Item ID, and Qty. \n",
    "    \n",
    "    time_df = original_dataframe.copy(deep=True)\n",
    "    \n",
    "    time_df['TXN - Transaction Date'] = pd.to_datetime(time_df['TXN - Transaction Date'])\n",
    "    \n",
    "    #out_codes = ('030')\n",
    "    today = datetime.date.today()\n",
    "    # Filter to only out codes\n",
    "    # IMPORTANT NOTE: OUT CODES FOR THIS ARE ONLY 030. \n",
    "\n",
    "    out_df = time_df.loc[time_df['TXN - Transaction Type'] == '030']\n",
    "\n",
    "    # Filter to at least 5 usages in the last 2 years. \n",
    "    last_2_years = out_df.copy(deep=True)\n",
    "\n",
    "    # This is not the right understanding – this eliminates all rows that are at least 2 years old. \n",
    "    # We want to remove all parts that haven't been used in 2 years. \n",
    "    last_2_years['Today'] = today\n",
    "    last_2_years['Today'] = pd.to_datetime(last_2_years['Today'])\n",
    "    last_2_years['Years Ago'] = (last_2_years['TXN - Transaction Date'] - last_2_years['Today']).astype('timedelta64[Y]').astype('int')\n",
    "    \n",
    "    # Need to find the usage in the past 2 years.\n",
    "    last_2_years_df = last_2_years.copy(deep=True)\n",
    "    \n",
    "    if filter_unused:\n",
    "        # Only filter out parts if the option is on.\n",
    "        last_2_years_df = last_2_years_df.loc[last_2_years_df['Years Ago'] >= -2]\n",
    "\n",
    "        print(last_2_years_df['Years Ago'].min())\n",
    "\n",
    "        part_usages = last_2_years_df.groupby('TXN - Item ID').size()\n",
    "        part_filter = part_usages > 5\n",
    "        in_parts = set(part_usages[part_filter].index)\n",
    "        print(len(in_parts))\n",
    "    \n",
    "        final_part_df = last_2_years.loc[last_2_years['TXN - Item ID'].isin(in_parts)]\n",
    "\n",
    "        months_df = final_part_df.copy(deep=True)\n",
    "    else:\n",
    "        months_df = last_2_years_df.copy(deep = True)\n",
    "\n",
    "    # Bin to 3 months\n",
    "    start_date = datetime.datetime(2004, 1, 1)\n",
    "\n",
    "    # Calculate quarters\n",
    "    months_df['Quarters'] = ((months_df['TXN - Transaction Date'] - start_date).astype('timedelta64[M]').astype('int') - 1) // 3\n",
    "    \n",
    "    # Group by quarters\n",
    "    quarter_group = months_df.groupby(['TXN - Item ID', 'Quarters'])\n",
    "    \n",
    "    summed_quarters_active_parts = quarter_group['TXN - Qty'].sum()\n",
    "    \n",
    "    summed_quarters_active_parts.to_frame()\n",
    "    summed_quarters_active_parts = summed_quarters_active_parts.reset_index()\n",
    "    \n",
    "    return summed_quarters_active_parts"
   ]
  },
  {
   "cell_type": "code",
   "execution_count": 9,
   "id": "3085eecb",
   "metadata": {},
   "outputs": [
    {
     "name": "stdout",
     "output_type": "stream",
     "text": [
      "-2\n",
      "5057\n",
      "       TXN - Item ID  Quarters  TXN - Qty\n",
      "0           00176001         1       6.00\n",
      "1           00176001         3       4.00\n",
      "2           00176001         5      17.00\n",
      "3           00176001         7       9.00\n",
      "4           00176001         8       7.00\n",
      "...              ...       ...        ...\n",
      "199779        598742        69       1.00\n",
      "199780        602692        66       5.00\n",
      "199781        602692        67       2.00\n",
      "199782        602692        68       6.00\n",
      "199783        602692        71       7.00\n",
      "\n",
      "[199784 rows x 3 columns]\n"
     ]
    }
   ],
   "source": [
    "central_store_df = transactions_to_quarters_central(txn_df)\n",
    "print(central_store_df)"
   ]
  },
  {
   "cell_type": "code",
   "execution_count": 22,
   "id": "1fbba29f",
   "metadata": {},
   "outputs": [],
   "source": [
    "central_parts_df = quarters_to_parts(central_store_df, lead_time_df)"
   ]
  },
  {
   "cell_type": "code",
   "execution_count": 23,
   "id": "030076d2",
   "metadata": {},
   "outputs": [
    {
     "data": {
      "text/html": [
       "<div>\n",
       "<style scoped>\n",
       "    .dataframe tbody tr th:only-of-type {\n",
       "        vertical-align: middle;\n",
       "    }\n",
       "\n",
       "    .dataframe tbody tr th {\n",
       "        vertical-align: top;\n",
       "    }\n",
       "\n",
       "    .dataframe thead th {\n",
       "        text-align: right;\n",
       "    }\n",
       "</style>\n",
       "<table border=\"1\" class=\"dataframe\">\n",
       "  <thead>\n",
       "    <tr style=\"text-align: right;\">\n",
       "      <th></th>\n",
       "      <th>TXN - Item ID</th>\n",
       "      <th>usage_mean</th>\n",
       "      <th>usage_std</th>\n",
       "      <th>leadtime_mean</th>\n",
       "      <th>leadtime_std</th>\n",
       "    </tr>\n",
       "  </thead>\n",
       "  <tbody>\n",
       "    <tr>\n",
       "      <th>0</th>\n",
       "      <td>00176001</td>\n",
       "      <td>15.75</td>\n",
       "      <td>14.02</td>\n",
       "      <td>0.08</td>\n",
       "      <td>0.18</td>\n",
       "    </tr>\n",
       "    <tr>\n",
       "      <th>1</th>\n",
       "      <td>00207001</td>\n",
       "      <td>18.58</td>\n",
       "      <td>14.94</td>\n",
       "      <td>0.28</td>\n",
       "      <td>0.38</td>\n",
       "    </tr>\n",
       "    <tr>\n",
       "      <th>2</th>\n",
       "      <td>00250113</td>\n",
       "      <td>675.57</td>\n",
       "      <td>741.02</td>\n",
       "      <td>0.47</td>\n",
       "      <td>0.44</td>\n",
       "    </tr>\n",
       "    <tr>\n",
       "      <th>3</th>\n",
       "      <td>00250125</td>\n",
       "      <td>852.67</td>\n",
       "      <td>614.12</td>\n",
       "      <td>0.19</td>\n",
       "      <td>0.12</td>\n",
       "    </tr>\n",
       "    <tr>\n",
       "      <th>4</th>\n",
       "      <td>00250126</td>\n",
       "      <td>1074.44</td>\n",
       "      <td>494.22</td>\n",
       "      <td>0.57</td>\n",
       "      <td>0.63</td>\n",
       "    </tr>\n",
       "    <tr>\n",
       "      <th>...</th>\n",
       "      <td>...</td>\n",
       "      <td>...</td>\n",
       "      <td>...</td>\n",
       "      <td>...</td>\n",
       "      <td>...</td>\n",
       "    </tr>\n",
       "    <tr>\n",
       "      <th>5052</th>\n",
       "      <td>45050130</td>\n",
       "      <td>7.75</td>\n",
       "      <td>3.83</td>\n",
       "      <td>1.04</td>\n",
       "      <td>0.42</td>\n",
       "    </tr>\n",
       "    <tr>\n",
       "      <th>5053</th>\n",
       "      <td>45050134</td>\n",
       "      <td>5.83</td>\n",
       "      <td>4.34</td>\n",
       "      <td>0.67</td>\n",
       "      <td>0.18</td>\n",
       "    </tr>\n",
       "    <tr>\n",
       "      <th>5054</th>\n",
       "      <td>45050135</td>\n",
       "      <td>7.83</td>\n",
       "      <td>6.09</td>\n",
       "      <td>0.51</td>\n",
       "      <td>0.25</td>\n",
       "    </tr>\n",
       "    <tr>\n",
       "      <th>5055</th>\n",
       "      <td>598742</td>\n",
       "      <td>5.38</td>\n",
       "      <td>4.00</td>\n",
       "      <td>NaN</td>\n",
       "      <td>NaN</td>\n",
       "    </tr>\n",
       "    <tr>\n",
       "      <th>5056</th>\n",
       "      <td>602692</td>\n",
       "      <td>5.00</td>\n",
       "      <td>1.87</td>\n",
       "      <td>NaN</td>\n",
       "      <td>NaN</td>\n",
       "    </tr>\n",
       "  </tbody>\n",
       "</table>\n",
       "<p>5057 rows × 5 columns</p>\n",
       "</div>"
      ],
      "text/plain": [
       "     TXN - Item ID  usage_mean  usage_std  leadtime_mean  leadtime_std\n",
       "0         00176001       15.75      14.02           0.08          0.18\n",
       "1         00207001       18.58      14.94           0.28          0.38\n",
       "2         00250113      675.57     741.02           0.47          0.44\n",
       "3         00250125      852.67     614.12           0.19          0.12\n",
       "4         00250126     1074.44     494.22           0.57          0.63\n",
       "...            ...         ...        ...            ...           ...\n",
       "5052      45050130        7.75       3.83           1.04          0.42\n",
       "5053      45050134        5.83       4.34           0.67          0.18\n",
       "5054      45050135        7.83       6.09           0.51          0.25\n",
       "5055        598742        5.38       4.00            NaN           NaN\n",
       "5056        602692        5.00       1.87            NaN           NaN\n",
       "\n",
       "[5057 rows x 5 columns]"
      ]
     },
     "execution_count": 23,
     "metadata": {},
     "output_type": "execute_result"
    }
   ],
   "source": [
    "central_parts_df"
   ]
  },
  {
   "cell_type": "code",
   "execution_count": 24,
   "id": "0ace506e",
   "metadata": {},
   "outputs": [],
   "source": [
    "central_store_df.to_csv('Data/central_store_quarters_df.csv')\n",
    "central_parts_df.to_csv('Data/central_store_parts_df.csv')"
   ]
  },
  {
   "cell_type": "code",
   "execution_count": 488,
   "id": "6697db63",
   "metadata": {},
   "outputs": [
    {
     "data": {
      "text/html": [
       "<div>\n",
       "<style scoped>\n",
       "    .dataframe tbody tr th:only-of-type {\n",
       "        vertical-align: middle;\n",
       "    }\n",
       "\n",
       "    .dataframe tbody tr th {\n",
       "        vertical-align: top;\n",
       "    }\n",
       "\n",
       "    .dataframe thead th {\n",
       "        text-align: right;\n",
       "    }\n",
       "</style>\n",
       "<table border=\"1\" class=\"dataframe\">\n",
       "  <thead>\n",
       "    <tr style=\"text-align: right;\">\n",
       "      <th></th>\n",
       "      <th>TXN - Sequence Nbr</th>\n",
       "      <th>TXN - Transaction Type</th>\n",
       "      <th>TXN - Unit</th>\n",
       "      <th>TXN - Destination Unit</th>\n",
       "      <th>TXN - Transaction Date</th>\n",
       "      <th>TXN - Time Stamp</th>\n",
       "      <th>TXN - Order No</th>\n",
       "      <th>TXN - Item ID</th>\n",
       "      <th>TXN - Item Description</th>\n",
       "      <th>TXN - Qty</th>\n",
       "      <th>...</th>\n",
       "      <th>TXN - Recpt Type</th>\n",
       "      <th>TXN - Cost Element</th>\n",
       "      <th>TXN - Last Adj</th>\n",
       "      <th>TXN - Last Order</th>\n",
       "      <th>TXN - Last Date</th>\n",
       "      <th>TXN - Last Ptwy</th>\n",
       "      <th>TXN - Qty Avail</th>\n",
       "      <th>TXN - Qty Reserved</th>\n",
       "      <th>TXN - Qty Owned</th>\n",
       "      <th>TXN - Qty On Hand</th>\n",
       "    </tr>\n",
       "  </thead>\n",
       "  <tbody>\n",
       "    <tr>\n",
       "      <th>0</th>\n",
       "      <td>1</td>\n",
       "      <td>041</td>\n",
       "      <td>BS011</td>\n",
       "      <td>NaN</td>\n",
       "      <td>2009/10/01</td>\n",
       "      <td>2009/10/01 15:45:28</td>\n",
       "      <td>NaN</td>\n",
       "      <td>05021408</td>\n",
       "      <td>FITTING, 3/8 AIR BRAKE NYLON</td>\n",
       "      <td>-7.00</td>\n",
       "      <td>...</td>\n",
       "      <td>NaN</td>\n",
       "      <td>100</td>\n",
       "      <td>NaN</td>\n",
       "      <td>NaN</td>\n",
       "      <td>NaN</td>\n",
       "      <td>NaN</td>\n",
       "      <td>NaN</td>\n",
       "      <td>NaN</td>\n",
       "      <td>NaN</td>\n",
       "      <td>NaN</td>\n",
       "    </tr>\n",
       "    <tr>\n",
       "      <th>1</th>\n",
       "      <td>1</td>\n",
       "      <td>041</td>\n",
       "      <td>BS014</td>\n",
       "      <td>NaN</td>\n",
       "      <td>2009/10/01</td>\n",
       "      <td>2009/10/01 15:31:02</td>\n",
       "      <td>NaN</td>\n",
       "      <td>02545876</td>\n",
       "      <td>USE 02592077 LAMP-HEAD, LOW BE</td>\n",
       "      <td>-16.00</td>\n",
       "      <td>...</td>\n",
       "      <td>NaN</td>\n",
       "      <td>100</td>\n",
       "      <td>NaN</td>\n",
       "      <td>NaN</td>\n",
       "      <td>NaN</td>\n",
       "      <td>NaN</td>\n",
       "      <td>NaN</td>\n",
       "      <td>NaN</td>\n",
       "      <td>NaN</td>\n",
       "      <td>NaN</td>\n",
       "    </tr>\n",
       "    <tr>\n",
       "      <th>2</th>\n",
       "      <td>1</td>\n",
       "      <td>041</td>\n",
       "      <td>BS011</td>\n",
       "      <td>NaN</td>\n",
       "      <td>2009/10/01</td>\n",
       "      <td>2009/10/01 15:44:30</td>\n",
       "      <td>NaN</td>\n",
       "      <td>00250066</td>\n",
       "      <td>CABLE-16 GAUGE BLACK AUTOMOTIV</td>\n",
       "      <td>-300.00</td>\n",
       "      <td>...</td>\n",
       "      <td>NaN</td>\n",
       "      <td>100</td>\n",
       "      <td>NaN</td>\n",
       "      <td>NaN</td>\n",
       "      <td>NaN</td>\n",
       "      <td>NaN</td>\n",
       "      <td>NaN</td>\n",
       "      <td>NaN</td>\n",
       "      <td>NaN</td>\n",
       "      <td>NaN</td>\n",
       "    </tr>\n",
       "    <tr>\n",
       "      <th>3</th>\n",
       "      <td>1</td>\n",
       "      <td>041</td>\n",
       "      <td>BS018</td>\n",
       "      <td>NaN</td>\n",
       "      <td>2009/10/01</td>\n",
       "      <td>2009/10/01 15:23:34</td>\n",
       "      <td>NaN</td>\n",
       "      <td>02063020</td>\n",
       "      <td>NUTS-NO 10-24 N.C.CO LD FORGED</td>\n",
       "      <td>-12.00</td>\n",
       "      <td>...</td>\n",
       "      <td>NaN</td>\n",
       "      <td>100</td>\n",
       "      <td>NaN</td>\n",
       "      <td>NaN</td>\n",
       "      <td>NaN</td>\n",
       "      <td>NaN</td>\n",
       "      <td>NaN</td>\n",
       "      <td>NaN</td>\n",
       "      <td>NaN</td>\n",
       "      <td>NaN</td>\n",
       "    </tr>\n",
       "    <tr>\n",
       "      <th>4</th>\n",
       "      <td>11</td>\n",
       "      <td>020</td>\n",
       "      <td>CS001</td>\n",
       "      <td>NaN</td>\n",
       "      <td>2009/10/01</td>\n",
       "      <td>2009/10/01 11:31:51</td>\n",
       "      <td>NaN</td>\n",
       "      <td>04390100</td>\n",
       "      <td>ADAPTER HOSE - HYDR PUMP</td>\n",
       "      <td>15.00</td>\n",
       "      <td>...</td>\n",
       "      <td>NaN</td>\n",
       "      <td>100</td>\n",
       "      <td>NaN</td>\n",
       "      <td>NaN</td>\n",
       "      <td>NaN</td>\n",
       "      <td>NaN</td>\n",
       "      <td>NaN</td>\n",
       "      <td>NaN</td>\n",
       "      <td>NaN</td>\n",
       "      <td>NaN</td>\n",
       "    </tr>\n",
       "    <tr>\n",
       "      <th>...</th>\n",
       "      <td>...</td>\n",
       "      <td>...</td>\n",
       "      <td>...</td>\n",
       "      <td>...</td>\n",
       "      <td>...</td>\n",
       "      <td>...</td>\n",
       "      <td>...</td>\n",
       "      <td>...</td>\n",
       "      <td>...</td>\n",
       "      <td>...</td>\n",
       "      <td>...</td>\n",
       "      <td>...</td>\n",
       "      <td>...</td>\n",
       "      <td>...</td>\n",
       "      <td>...</td>\n",
       "      <td>...</td>\n",
       "      <td>...</td>\n",
       "      <td>...</td>\n",
       "      <td>...</td>\n",
       "      <td>...</td>\n",
       "      <td>...</td>\n",
       "    </tr>\n",
       "    <tr>\n",
       "      <th>7266099</th>\n",
       "      <td>38</td>\n",
       "      <td>022</td>\n",
       "      <td>BS027</td>\n",
       "      <td>NaN</td>\n",
       "      <td>2020/06/30</td>\n",
       "      <td>2020/06/30 06:10:55</td>\n",
       "      <td>NaN</td>\n",
       "      <td>02440210</td>\n",
       "      <td>Oil and Water absorbent Pad, P</td>\n",
       "      <td>4200.00</td>\n",
       "      <td>...</td>\n",
       "      <td>IUT</td>\n",
       "      <td>100</td>\n",
       "      <td>NaN</td>\n",
       "      <td>NaN</td>\n",
       "      <td>NaN</td>\n",
       "      <td>NaN</td>\n",
       "      <td>NaN</td>\n",
       "      <td>NaN</td>\n",
       "      <td>NaN</td>\n",
       "      <td>NaN</td>\n",
       "    </tr>\n",
       "    <tr>\n",
       "      <th>7266100</th>\n",
       "      <td>41</td>\n",
       "      <td>022</td>\n",
       "      <td>BS027</td>\n",
       "      <td>NaN</td>\n",
       "      <td>2020/06/30</td>\n",
       "      <td>2020/06/30 06:10:55</td>\n",
       "      <td>NaN</td>\n",
       "      <td>02607063</td>\n",
       "      <td>BOTTLE - WASHER,WINDSHIELD  5G</td>\n",
       "      <td>5.00</td>\n",
       "      <td>...</td>\n",
       "      <td>IUT</td>\n",
       "      <td>100</td>\n",
       "      <td>NaN</td>\n",
       "      <td>NaN</td>\n",
       "      <td>NaN</td>\n",
       "      <td>NaN</td>\n",
       "      <td>NaN</td>\n",
       "      <td>NaN</td>\n",
       "      <td>NaN</td>\n",
       "      <td>NaN</td>\n",
       "    </tr>\n",
       "    <tr>\n",
       "      <th>7266101</th>\n",
       "      <td>4</td>\n",
       "      <td>022</td>\n",
       "      <td>BS017</td>\n",
       "      <td>NaN</td>\n",
       "      <td>2020/06/30</td>\n",
       "      <td>2020/06/30 06:20:58</td>\n",
       "      <td>NaN</td>\n",
       "      <td>02795068</td>\n",
       "      <td>WEBBING LOOP, BLUE, LENGTH 14-</td>\n",
       "      <td>37.00</td>\n",
       "      <td>...</td>\n",
       "      <td>IUT</td>\n",
       "      <td>100</td>\n",
       "      <td>NaN</td>\n",
       "      <td>NaN</td>\n",
       "      <td>NaN</td>\n",
       "      <td>NaN</td>\n",
       "      <td>NaN</td>\n",
       "      <td>NaN</td>\n",
       "      <td>NaN</td>\n",
       "      <td>NaN</td>\n",
       "    </tr>\n",
       "    <tr>\n",
       "      <th>7266102</th>\n",
       "      <td>11</td>\n",
       "      <td>022</td>\n",
       "      <td>BS016</td>\n",
       "      <td>NaN</td>\n",
       "      <td>2020/06/30</td>\n",
       "      <td>2020/06/30 06:30:18</td>\n",
       "      <td>NaN</td>\n",
       "      <td>03220638</td>\n",
       "      <td>TEE-1/4 GALV MALL IRON</td>\n",
       "      <td>10.00</td>\n",
       "      <td>...</td>\n",
       "      <td>IUT</td>\n",
       "      <td>100</td>\n",
       "      <td>NaN</td>\n",
       "      <td>NaN</td>\n",
       "      <td>NaN</td>\n",
       "      <td>NaN</td>\n",
       "      <td>NaN</td>\n",
       "      <td>NaN</td>\n",
       "      <td>NaN</td>\n",
       "      <td>NaN</td>\n",
       "    </tr>\n",
       "    <tr>\n",
       "      <th>7266103</th>\n",
       "      <td>23</td>\n",
       "      <td>022</td>\n",
       "      <td>BS019</td>\n",
       "      <td>NaN</td>\n",
       "      <td>2020/06/30</td>\n",
       "      <td>2020/06/30 06:10:54</td>\n",
       "      <td>NaN</td>\n",
       "      <td>04295174</td>\n",
       "      <td>BREATHER ELEMENT</td>\n",
       "      <td>30.00</td>\n",
       "      <td>...</td>\n",
       "      <td>IUT</td>\n",
       "      <td>100</td>\n",
       "      <td>NaN</td>\n",
       "      <td>NaN</td>\n",
       "      <td>NaN</td>\n",
       "      <td>NaN</td>\n",
       "      <td>NaN</td>\n",
       "      <td>NaN</td>\n",
       "      <td>NaN</td>\n",
       "      <td>NaN</td>\n",
       "    </tr>\n",
       "  </tbody>\n",
       "</table>\n",
       "<p>7266104 rows × 85 columns</p>\n",
       "</div>"
      ],
      "text/plain": [
       "         TXN - Sequence Nbr TXN - Transaction Type TXN - Unit  \\\n",
       "0                         1                    041      BS011   \n",
       "1                         1                    041      BS014   \n",
       "2                         1                    041      BS011   \n",
       "3                         1                    041      BS018   \n",
       "4                        11                    020      CS001   \n",
       "...                     ...                    ...        ...   \n",
       "7266099                  38                    022      BS027   \n",
       "7266100                  41                    022      BS027   \n",
       "7266101                   4                    022      BS017   \n",
       "7266102                  11                    022      BS016   \n",
       "7266103                  23                    022      BS019   \n",
       "\n",
       "        TXN - Destination Unit TXN - Transaction Date     TXN - Time Stamp  \\\n",
       "0                          NaN             2009/10/01  2009/10/01 15:45:28   \n",
       "1                          NaN             2009/10/01  2009/10/01 15:31:02   \n",
       "2                          NaN             2009/10/01  2009/10/01 15:44:30   \n",
       "3                          NaN             2009/10/01  2009/10/01 15:23:34   \n",
       "4                          NaN             2009/10/01  2009/10/01 11:31:51   \n",
       "...                        ...                    ...                  ...   \n",
       "7266099                    NaN             2020/06/30  2020/06/30 06:10:55   \n",
       "7266100                    NaN             2020/06/30  2020/06/30 06:10:55   \n",
       "7266101                    NaN             2020/06/30  2020/06/30 06:20:58   \n",
       "7266102                    NaN             2020/06/30  2020/06/30 06:30:18   \n",
       "7266103                    NaN             2020/06/30  2020/06/30 06:10:54   \n",
       "\n",
       "        TXN - Order No TXN - Item ID          TXN - Item Description  \\\n",
       "0                  NaN      05021408    FITTING, 3/8 AIR BRAKE NYLON   \n",
       "1                  NaN      02545876  USE 02592077 LAMP-HEAD, LOW BE   \n",
       "2                  NaN      00250066  CABLE-16 GAUGE BLACK AUTOMOTIV   \n",
       "3                  NaN      02063020  NUTS-NO 10-24 N.C.CO LD FORGED   \n",
       "4                  NaN      04390100        ADAPTER HOSE - HYDR PUMP   \n",
       "...                ...           ...                             ...   \n",
       "7266099            NaN      02440210  Oil and Water absorbent Pad, P   \n",
       "7266100            NaN      02607063  BOTTLE - WASHER,WINDSHIELD  5G   \n",
       "7266101            NaN      02795068  WEBBING LOOP, BLUE, LENGTH 14-   \n",
       "7266102            NaN      03220638          TEE-1/4 GALV MALL IRON   \n",
       "7266103            NaN      04295174                BREATHER ELEMENT   \n",
       "\n",
       "         TXN - Qty  ...  TXN - Recpt Type  TXN - Cost Element TXN - Last Adj  \\\n",
       "0            -7.00  ...               NaN                 100            NaN   \n",
       "1           -16.00  ...               NaN                 100            NaN   \n",
       "2          -300.00  ...               NaN                 100            NaN   \n",
       "3           -12.00  ...               NaN                 100            NaN   \n",
       "4            15.00  ...               NaN                 100            NaN   \n",
       "...            ...  ...               ...                 ...            ...   \n",
       "7266099    4200.00  ...               IUT                 100            NaN   \n",
       "7266100       5.00  ...               IUT                 100            NaN   \n",
       "7266101      37.00  ...               IUT                 100            NaN   \n",
       "7266102      10.00  ...               IUT                 100            NaN   \n",
       "7266103      30.00  ...               IUT                 100            NaN   \n",
       "\n",
       "        TXN - Last Order TXN - Last Date TXN - Last Ptwy TXN - Qty Avail  \\\n",
       "0                    NaN             NaN             NaN             NaN   \n",
       "1                    NaN             NaN             NaN             NaN   \n",
       "2                    NaN             NaN             NaN             NaN   \n",
       "3                    NaN             NaN             NaN             NaN   \n",
       "4                    NaN             NaN             NaN             NaN   \n",
       "...                  ...             ...             ...             ...   \n",
       "7266099              NaN             NaN             NaN             NaN   \n",
       "7266100              NaN             NaN             NaN             NaN   \n",
       "7266101              NaN             NaN             NaN             NaN   \n",
       "7266102              NaN             NaN             NaN             NaN   \n",
       "7266103              NaN             NaN             NaN             NaN   \n",
       "\n",
       "        TXN - Qty Reserved TXN - Qty Owned TXN - Qty On Hand  \n",
       "0                      NaN             NaN               NaN  \n",
       "1                      NaN             NaN               NaN  \n",
       "2                      NaN             NaN               NaN  \n",
       "3                      NaN             NaN               NaN  \n",
       "4                      NaN             NaN               NaN  \n",
       "...                    ...             ...               ...  \n",
       "7266099                NaN             NaN               NaN  \n",
       "7266100                NaN             NaN               NaN  \n",
       "7266101                NaN             NaN               NaN  \n",
       "7266102                NaN             NaN               NaN  \n",
       "7266103                NaN             NaN               NaN  \n",
       "\n",
       "[7266104 rows x 85 columns]"
      ]
     },
     "execution_count": 488,
     "metadata": {},
     "output_type": "execute_result"
    }
   ],
   "source": [
    "txn_df"
   ]
  },
  {
   "cell_type": "code",
   "execution_count": 489,
   "id": "31db45e7",
   "metadata": {},
   "outputs": [],
   "source": [
    "txn_df.to_csv('Data/full_transaction_df.csv')"
   ]
  },
  {
   "cell_type": "code",
   "execution_count": null,
   "id": "9575159d",
   "metadata": {},
   "outputs": [],
   "source": []
  }
 ],
 "metadata": {
  "kernelspec": {
   "display_name": "Python 3 (ipykernel)",
   "language": "python",
   "name": "python3"
  },
  "language_info": {
   "codemirror_mode": {
    "name": "ipython",
    "version": 3
   },
   "file_extension": ".py",
   "mimetype": "text/x-python",
   "name": "python",
   "nbconvert_exporter": "python",
   "pygments_lexer": "ipython3",
   "version": "3.9.7"
  }
 },
 "nbformat": 4,
 "nbformat_minor": 5
}
